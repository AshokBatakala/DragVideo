{
 "cells": [
  {
   "cell_type": "markdown",
   "metadata": {},
   "source": [
    "## basic config"
   ]
  },
  {
   "cell_type": "code",
   "execution_count": 1,
   "metadata": {},
   "outputs": [
    {
     "name": "stderr",
     "output_type": "stream",
     "text": [
      "/home/bean/.conda/envs/stylegan3/lib/python3.9/site-packages/torch/cuda/__init__.py:546: UserWarning: Can't initialize NVML\n",
      "  warnings.warn(\"Can't initialize NVML\")\n"
     ]
    },
    {
     "data": {
      "text/plain": [
       "0"
      ]
     },
     "execution_count": 1,
     "metadata": {},
     "output_type": "execute_result"
    }
   ],
   "source": [
    "import torch\n",
    "import os\n",
    "torch.cuda.device_count()"
   ]
  },
  {
   "cell_type": "code",
   "execution_count": 2,
   "metadata": {},
   "outputs": [],
   "source": [
    "\n",
    "def align_faces_2(root_path):\n",
    "    import os \n",
    "    current_path = os.getcwd()\n",
    "    temp_path = \"/home/bean/stylegan3-editing\"\n",
    "    os.chdir(temp_path)\n",
    "    command =f\"\"\"python prepare_data/preparing_faces_parallel.py \\\n",
    "                --mode align \\\n",
    "                --root_path  {root_path} \n",
    "                \"\"\"\n",
    "    import subprocess\n",
    "    subprocess.run(command, shell=True)\n",
    "    os.chdir(current_path)"
   ]
  },
  {
   "cell_type": "code",
   "execution_count": 3,
   "metadata": {},
   "outputs": [],
   "source": [
    "# DRAGVIDEO_ROOT_PATH = \"/Ext_4T_SSD/ASHOK/\"\n",
    "DRAGVIDEO_ROOT_PATH = \"/home/bean/\"\n",
    "\n",
    "# keep matching encoder,SG as pairt \n",
    "old = {\"encoder\":  f\"{DRAGVIDEO_ROOT_PATH}DragVideo/DragGAN/_PTI/pretrained_models/e4e_ffhq_encode.pt\",\n",
    "       \"SG\": f\"{DRAGVIDEO_ROOT_PATH}DragVideo/DragGAN/_PTI/pretrained_models/ffhq.pkl\",\n",
    "       \"model_name\":\"stylegan2\",\n",
    "       \"resolution\":1024,\n",
    "       }\n",
    "\n",
    "new = {\"encoder\": f\"{DRAGVIDEO_ROOT_PATH}DragVideo/Data_store/OLD/model_weights/restyle_e4e_ffhq.pt\",\n",
    "         \"SG\":  f\"{DRAGVIDEO_ROOT_PATH}DragVideo/Data_store/OLD/model_weights/stylegan3_3rdtime_weights/stylegan3-r-ffhq-1024_module.pkl\",\n",
    "         \"model_name\":\"stylegan3\",\n",
    "               \"resolution\":1024,\n",
    "         }\n",
    "\n",
    "new_256 = {\"encoder\": f\"{DRAGVIDEO_ROOT_PATH}DragVideo/Data_store/OLD/model_weights/restyle_e4e_ffhq.pt\",\n",
    "         \"SG\":  f\"{DRAGVIDEO_ROOT_PATH}DragVideo/Data_store/OLD/Stylegan3_1_files/stylegan3-r-ffhqu-256x256.pkl\",\n",
    "         \"model_name\":\"stylegan3\",\n",
    "         \"resolution\":256,\n",
    "         }\n",
    "\n",
    "videos = {\n",
    "       \"obama\": f\"{DRAGVIDEO_ROOT_PATH}DragVideo/Data_store/OLD/original_videos/obama.mp4\",\n",
    "       \"man_speaking\": f\"{DRAGVIDEO_ROOT_PATH}DragVideo/Data_store/OLD/original_videos/person_speaking_original.mp4\",\n",
    "       \"rahul\": f\"{DRAGVIDEO_ROOT_PATH}DragVideo/Data_store/OLD/original_videos/rahul.mp4\",\n",
    "       \"alien_girl\": f\"{DRAGVIDEO_ROOT_PATH}DragVideo/Data_store/OLD/original_videos/alien_girl.mp4\",\n",
    "       \"mirrAR\": f\"{DRAGVIDEO_ROOT_PATH}DragVideo/Data_store/OLD/original_videos/mirrAR.mp4\",\n",
    "       \"vsauce_frnd\":f\"{DRAGVIDEO_ROOT_PATH}DragVideo/Data_store/OLD/original_videos/micheal_friendzone.mp4\",\n",
    "       \n",
    "}"
   ]
  },
  {
   "cell_type": "code",
   "execution_count": 4,
   "metadata": {},
   "outputs": [],
   "source": [
    "EXPERIMENT_NAME_POSTFIX = \"vsauce_ffmpeg\"#\"aligned_sg3_&_new_e4e_reconstruction_invstep_200_pti_step_450\"\n",
    "models_set = old\n",
    "Testing =False\n",
    "# --------------------------------  \n",
    "\n",
    "\n",
    "import datetime\n",
    "lazy_config = {\n",
    "    \"EXP_NAME\": str(datetime.datetime.now().strftime(\"%Y-%m-%d_%H-%M-%S\"))+\"_\"+ EXPERIMENT_NAME_POSTFIX,\n",
    "    \"e4e\": models_set['encoder'],\n",
    "    \"stylegan2_ada_ffhq\": models_set['SG'],\n",
    "    \"video_path\":  videos[\"vsauce_frnd\"],\n",
    "    \"model_name\" : models_set['model_name'],\n",
    "    \"n_frames\" : 150,#120,#200,\n",
    "    \"IMAGE_SIZE\": models_set[\"resolution\"],\n",
    "    \"N_STEPS_in_draggan\":  \"150\",\n",
    "    \"editing_function_name\":\"smile\",#\"large_eyes\",#\"large_eyes\" # \"make_jaw_wider\" # \"mouth_wide\"\n",
    "    \"fps\": 24,\n",
    "    \n",
    "}\n",
    "\n",
    "env_config = {\n",
    "    \"DragGAN_dir\": f\"{DRAGVIDEO_ROOT_PATH}DragVideo/DragGAN\",\n",
    "    \"Experiment_base_path\":f\"{DRAGVIDEO_ROOT_PATH}DragVideo/Data_store/experiments/\" ,\n",
    "    \"init_exp_dir_shell_path\": f\"{DRAGVIDEO_ROOT_PATH}DragVideo/DragGAN/_PTI/init_datadirs.sh\",\n",
    "    \"dummy_config_path\" : f\"{DRAGVIDEO_ROOT_PATH}DragVideo/DragGAN/_PTI/configs/dummy\",\n",
    "    \n",
    "    \n",
    "}\n",
    "\n",
    "#hyper parameters in PTI\n",
    "\n",
    "hyper_config = {\n",
    "    \"max_pti_steps\": 350,\n",
    "    \"first_inv_steps\":450,\n",
    "    \"max_images_to_invert\": 200,\n",
    "}\n",
    "\n",
    "if Testing: \n",
    "    hyper_config[\"max_pti_steps\"] = 1\n",
    "    hyper_config[\"first_inv_steps\"] = 350\n",
    "    hyper_config[\"max_images_to_invert\"] = 5\n",
    "    lazy_config[\"N_STEPS_in_draggan\"] = '1'\n",
    "    \n",
    "\n",
    "\n",
    "# ----------------------------------------------------------------------------------------------\n",
    "\n",
    "\n",
    "# create experiment data folder structure\n",
    "Experiment_name = lazy_config[\"EXP_NAME\"]\n",
    "Experiment_base_path = env_config[\"Experiment_base_path\"]\n",
    "Experiment_path = os.path.join(Experiment_base_path, Experiment_name)\n",
    "\n",
    "# change path configs , hyperparameters \n",
    "paths_config_dict = {\n",
    "    #pretrained models\n",
    "    \"e4e\": lazy_config[\"e4e\"],\n",
    "    \"stylegan2_ada_ffhq\": lazy_config[\"stylegan2_ada_ffhq\"],\n",
    "    \n",
    "    # to store tuned stylegan weights\n",
    "    \"checkpoints_dir\": os.path.join(Experiment_path,'tuned_SG'),\n",
    "    # to store latents\n",
    "    \"embedding_base_dir\": os.path.join(Experiment_path,'latents'),\n",
    "    # aligned / processed images\n",
    "    \"input_data_path\": os.path.join(Experiment_path,'aligned'),\n",
    "     \"quad_values_path\": os.path.join(Experiment_path,'quad_values'),\n",
    "}\n",
    "\n"
   ]
  },
  {
   "cell_type": "code",
   "execution_count": 5,
   "metadata": {},
   "outputs": [],
   "source": [
    "from run_utils import *\n",
    "\n",
    "init_experiment_dir(Experiment_name,Experiment_base_path,shell_script_path=env_config[\"init_exp_dir_shell_path\"])\n",
    "\n",
    "# dummy paths_config overwrites the paths_config.py\n",
    "# dummy_config_path = f\"{DRAGVIDEO_ROOT_PATH}DragVideo/DragGAN/_PTI/configs/dummy'\n",
    "add_dummy_config_from_dict(\"hyperparameters.py\", hyper_config,ROOT_PATH=env_config[\"dummy_config_path\"])\n",
    "\n",
    "add_dummy_config_from_dict(\"paths_config.py\", paths_config_dict,ROOT_PATH=env_config[\"dummy_config_path\"])\n",
    "\n",
    "\n",
    "\n",
    "# add all these configs to log.txt\n",
    "# --------------------------------  \n",
    "with open(os.path.join(Experiment_path,'log.txt'), 'a') as f:\n",
    "    import json\n",
    "    f.write(f\"lazy_config: {json.dumps(lazy_config, indent=4)}\\n\")\n",
    "    f.write(f\"env_config: {json.dumps(env_config, indent=4)}\\n\")\n",
    "    f.write(f\"hyper_config: {json.dumps(hyper_config, indent=4)}\\n\")\n",
    "    \n",
    "    \n",
    "\n"
   ]
  },
  {
   "cell_type": "code",
   "execution_count": 6,
   "metadata": {},
   "outputs": [
    {
     "name": "stderr",
     "output_type": "stream",
     "text": [
      "ffmpeg version 4.0.2 Copyright (c) 2000-2018 the FFmpeg developers\n",
      "  built with gcc 4.8.2 (GCC) 20140120 (Red Hat 4.8.2-15)\n",
      "  configuration: --prefix=/home/conda/feedstock_root/build_artifacts/ffmpeg_1539667330082/_h_env_placehold_placehold_placehold_placehold_placehold_placehold_placehold_placehold_placehold_placehold_placehold_placehold_placehold_placehold_placehold_placehold_placehold_placehold_plac --disable-doc --disable-openssl --enable-shared --enable-static --extra-cflags='-Wall -g -m64 -pipe -O3 -march=x86-64 -fPIC' --extra-cxxflags='-Wall -g -m64 -pipe -O3 -march=x86-64 -fPIC' --extra-libs='-lpthread -lm -lz' --enable-zlib --enable-pic --enable-pthreads --enable-gpl --enable-version3 --enable-hardcoded-tables --enable-avresample --enable-libfreetype --enable-gnutls --enable-libx264 --enable-libopenh264\n",
      "  libavutil      56. 14.100 / 56. 14.100\n",
      "  libavcodec     58. 18.100 / 58. 18.100\n",
      "  libavformat    58. 12.100 / 58. 12.100\n",
      "  libavdevice    58.  3.100 / 58.  3.100\n",
      "  libavfilter     7. 16.100 /  7. 16.100\n",
      "  libavresample   4.  0.  0 /  4.  0.  0\n",
      "  libswscale      5.  1.100 /  5.  1.100\n",
      "  libswresample   3.  1.100 /  3.  1.100\n",
      "  libpostproc    55.  1.100 / 55.  1.100\n",
      "Input #0, mov,mp4,m4a,3gp,3g2,mj2, from '/home/bean/DragVideo/Data_store/OLD/original_videos/micheal_friendzone.mp4':\n",
      "  Metadata:\n",
      "    major_brand     : isom\n",
      "    minor_version   : 512\n",
      "    compatible_brands: isomiso2avc1mp41\n",
      "    encoder         : Lavf59.27.100\n",
      "  Duration: 00:00:13.08, start: 0.000000, bitrate: 1882 kb/s\n",
      "    Stream #0:0(und): Audio: aac (LC) (mp4a / 0x6134706D), 44100 Hz, stereo, fltp, 134 kb/s (default)\n",
      "    Metadata:\n",
      "      handler_name    : SoundHandler\n",
      "    Stream #0:1(und): Video: h264 (High) (avc1 / 0x31637661), yuv420p(tv, unknown/bt709/bt709), 1280x720 [SAR 1:1 DAR 16:9], 1740 kb/s, 25 fps, 25 tbr, 12800 tbn, 50 tbc (default)\n",
      "    Metadata:\n",
      "      handler_name    : VideoHandler\n",
      "      encoder         : Lavc59.37.100 libx264\n",
      "Stream mapping:\n",
      "  Stream #0:1 -> #0:0 (h264 (native) -> png (native))\n",
      "Press [q] to stop, [?] for help\n",
      "Output #0, image2, to '/home/bean/DragVideo/Data_store/experiments/2023-09-01_01-35-09_vsauce_ffmpeg/raw/%03d.png':\n",
      "  Metadata:\n",
      "    major_brand     : isom\n",
      "    minor_version   : 512\n",
      "    compatible_brands: isomiso2avc1mp41\n",
      "    encoder         : Lavf58.12.100\n",
      "    Stream #0:0(und): Video: png, rgb24, 1280x720 [SAR 1:1 DAR 16:9], q=2-31, 200 kb/s, 24 fps, 24 tbn, 24 tbc (default)\n",
      "    Metadata:\n",
      "      handler_name    : VideoHandler\n",
      "      encoder         : Lavc58.18.100 png\n"
     ]
    },
    {
     "name": "stderr",
     "output_type": "stream",
     "text": [
      "frame=  150 fps=125 q=-0.0 Lsize=N/A time=00:00:06.25 bitrate=N/A speed=5.22x    \n",
      "video:59472kB audio:0kB subtitle:0kB other streams:0kB global headers:0kB muxing overhead: unknown\n"
     ]
    }
   ],
   "source": [
    "# extract frames from video\n",
    "#==============================================================================\n",
    "\n",
    "from importlib.machinery import SourceFileLoader\n",
    "# imports the module from the given path\n",
    "# video_utils = SourceFileLoader(\"video_utils\",\"../utils_draggan/video_utils.py\").load_module()\n",
    "\n",
    "ffmpeg_utils = SourceFileLoader(\"video_utils\",\"../utils_draggan/ffmpeg_utils.py\").load_module()\n",
    "raw_path = os.path.join(Experiment_path, \"raw\")\n",
    "\n",
    "# # video_utils.extract_frames(lazy_config['video_path'], raw_path,n_frames=lazy_config['n_frames'])\n",
    "ffmpeg_utils.ffmpeg.extract_frames(video_path = lazy_config['video_path'],\n",
    "                                      output_frames_dir = raw_path,\n",
    "                                      fps = lazy_config['fps'],\n",
    "                                      first_n_frames = lazy_config['n_frames'],\n",
    ")"
   ]
  },
  {
   "cell_type": "markdown",
   "metadata": {},
   "source": [
    "# start"
   ]
  },
  {
   "cell_type": "code",
   "execution_count": 7,
   "metadata": {},
   "outputs": [],
   "source": [
    "# # # delete this cell \n",
    "# # \"/home/bean/DragVideo/Data_store/man_speaking/aligned\": input_data_path \n",
    "# # \"/home/bean/DragVideo/Data_store/man_speaking/quad_values\", quad_pkl_path\n",
    "\n",
    "# raw_path = \"/home/bean/DragVideo/Data_store/man_speaking/raw\"\n",
    "# pre_process_images(raw_path, IMAGE_SIZE=1024) # o/p: config.input_data_path ,quad pickle dir\n"
   ]
  },
  {
   "cell_type": "code",
   "execution_count": 8,
   "metadata": {},
   "outputs": [
    {
     "name": "stderr",
     "output_type": "stream",
     "text": [
      " 85%|████████▍ | 127/150 [01:41<00:18,  1.27it/s]"
     ]
    },
    {
     "name": "stdout",
     "output_type": "stream",
     "text": [
      "local variable 'shape' referenced before assignment\n"
     ]
    },
    {
     "name": "stderr",
     "output_type": "stream",
     "text": [
      " 85%|████████▌ | 128/150 [01:41<00:15,  1.39it/s]"
     ]
    },
    {
     "name": "stdout",
     "output_type": "stream",
     "text": [
      "local variable 'shape' referenced before assignment\n"
     ]
    },
    {
     "name": "stderr",
     "output_type": "stream",
     "text": [
      " 86%|████████▌ | 129/150 [01:42<00:14,  1.48it/s]"
     ]
    },
    {
     "name": "stdout",
     "output_type": "stream",
     "text": [
      "local variable 'shape' referenced before assignment\n"
     ]
    },
    {
     "name": "stderr",
     "output_type": "stream",
     "text": [
      " 87%|████████▋ | 130/150 [01:42<00:12,  1.55it/s]"
     ]
    },
    {
     "name": "stdout",
     "output_type": "stream",
     "text": [
      "local variable 'shape' referenced before assignment\n"
     ]
    },
    {
     "name": "stderr",
     "output_type": "stream",
     "text": [
      " 87%|████████▋ | 131/150 [01:43<00:11,  1.61it/s]"
     ]
    },
    {
     "name": "stdout",
     "output_type": "stream",
     "text": [
      "local variable 'shape' referenced before assignment\n"
     ]
    },
    {
     "name": "stderr",
     "output_type": "stream",
     "text": [
      " 88%|████████▊ | 132/150 [01:44<00:10,  1.65it/s]"
     ]
    },
    {
     "name": "stdout",
     "output_type": "stream",
     "text": [
      "local variable 'shape' referenced before assignment\n"
     ]
    },
    {
     "name": "stderr",
     "output_type": "stream",
     "text": [
      " 89%|████████▊ | 133/150 [01:44<00:10,  1.68it/s]"
     ]
    },
    {
     "name": "stdout",
     "output_type": "stream",
     "text": [
      "local variable 'shape' referenced before assignment\n"
     ]
    },
    {
     "name": "stderr",
     "output_type": "stream",
     "text": [
      " 89%|████████▉ | 134/150 [01:45<00:09,  1.67it/s]"
     ]
    },
    {
     "name": "stdout",
     "output_type": "stream",
     "text": [
      "local variable 'shape' referenced before assignment\n"
     ]
    },
    {
     "name": "stderr",
     "output_type": "stream",
     "text": [
      " 90%|█████████ | 135/150 [01:45<00:08,  1.69it/s]"
     ]
    },
    {
     "name": "stdout",
     "output_type": "stream",
     "text": [
      "local variable 'shape' referenced before assignment\n"
     ]
    },
    {
     "name": "stderr",
     "output_type": "stream",
     "text": [
      " 91%|█████████ | 136/150 [01:46<00:08,  1.70it/s]"
     ]
    },
    {
     "name": "stdout",
     "output_type": "stream",
     "text": [
      "local variable 'shape' referenced before assignment\n"
     ]
    },
    {
     "name": "stderr",
     "output_type": "stream",
     "text": [
      " 93%|█████████▎| 140/150 [01:48<00:05,  1.73it/s]"
     ]
    },
    {
     "name": "stdout",
     "output_type": "stream",
     "text": [
      "local variable 'shape' referenced before assignment\n"
     ]
    },
    {
     "name": "stderr",
     "output_type": "stream",
     "text": [
      " 94%|█████████▍| 141/150 [01:49<00:05,  1.73it/s]"
     ]
    },
    {
     "name": "stdout",
     "output_type": "stream",
     "text": [
      "local variable 'shape' referenced before assignment\n"
     ]
    },
    {
     "name": "stderr",
     "output_type": "stream",
     "text": [
      " 95%|█████████▍| 142/150 [01:49<00:04,  1.74it/s]"
     ]
    },
    {
     "name": "stdout",
     "output_type": "stream",
     "text": [
      "local variable 'shape' referenced before assignment\n"
     ]
    },
    {
     "name": "stderr",
     "output_type": "stream",
     "text": [
      " 95%|█████████▌| 143/150 [01:50<00:03,  1.76it/s]"
     ]
    },
    {
     "name": "stdout",
     "output_type": "stream",
     "text": [
      "local variable 'shape' referenced before assignment\n"
     ]
    },
    {
     "name": "stderr",
     "output_type": "stream",
     "text": [
      " 96%|█████████▌| 144/150 [01:51<00:03,  1.77it/s]"
     ]
    },
    {
     "name": "stdout",
     "output_type": "stream",
     "text": [
      "local variable 'shape' referenced before assignment\n"
     ]
    },
    {
     "name": "stderr",
     "output_type": "stream",
     "text": [
      " 97%|█████████▋| 145/150 [01:51<00:02,  1.78it/s]"
     ]
    },
    {
     "name": "stdout",
     "output_type": "stream",
     "text": [
      "local variable 'shape' referenced before assignment\n"
     ]
    },
    {
     "name": "stderr",
     "output_type": "stream",
     "text": [
      " 97%|█████████▋| 146/150 [01:52<00:02,  1.79it/s]"
     ]
    },
    {
     "name": "stdout",
     "output_type": "stream",
     "text": [
      "local variable 'shape' referenced before assignment\n"
     ]
    },
    {
     "name": "stderr",
     "output_type": "stream",
     "text": [
      " 98%|█████████▊| 147/150 [01:52<00:01,  1.79it/s]"
     ]
    },
    {
     "name": "stdout",
     "output_type": "stream",
     "text": [
      "local variable 'shape' referenced before assignment\n"
     ]
    },
    {
     "name": "stderr",
     "output_type": "stream",
     "text": [
      " 99%|█████████▊| 148/150 [01:53<00:01,  1.79it/s]"
     ]
    },
    {
     "name": "stdout",
     "output_type": "stream",
     "text": [
      "local variable 'shape' referenced before assignment\n"
     ]
    },
    {
     "name": "stderr",
     "output_type": "stream",
     "text": [
      " 99%|█████████▉| 149/150 [01:53<00:00,  1.80it/s]"
     ]
    },
    {
     "name": "stdout",
     "output_type": "stream",
     "text": [
      "local variable 'shape' referenced before assignment\n"
     ]
    },
    {
     "name": "stderr",
     "output_type": "stream",
     "text": [
      "100%|██████████| 150/150 [01:54<00:00,  1.31it/s]\n"
     ]
    },
    {
     "name": "stdout",
     "output_type": "stream",
     "text": [
      "saving aligned images...\n",
      "saving quad values...\n",
      "done!\n"
     ]
    }
   ],
   "source": [
    "from utils.align_data import pre_process_images\n",
    "pre_process_images(raw_path, IMAGE_SIZE=lazy_config['IMAGE_SIZE']) # o/p: config.input_data_path ,quad pickle dir\n",
    "#\n",
    "# align_faces_2(os.path.join(Experiment_path,'raw'))\n",
    "\n"
   ]
  },
  {
   "cell_type": "code",
   "execution_count": 9,
   "metadata": {},
   "outputs": [
    {
     "name": "stderr",
     "output_type": "stream",
     "text": [
      "/home/bean/.conda/envs/stylegan3/lib/python3.9/site-packages/torchvision/io/image.py:13: UserWarning: Failed to load image Python extension: '/home/bean/.conda/envs/stylegan3/lib/python3.9/site-packages/torchvision/image.so: undefined symbol: _ZN5torch3jit17parseSchemaOrNameERKNSt7__cxx1112basic_stringIcSt11char_traitsIcESaIcEEE'If you don't plan on using image functionality from `torchvision.io`, you can ignore this warning. Otherwise, there might be something wrong with your environment. Did you have `libjpeg` or `libpng` installed before building `torchvision` from source?\n",
      "  warn(\n"
     ]
    },
    {
     "name": "stdout",
     "output_type": "stream",
     "text": [
      "Setting up [LPIPS] perceptual loss: trunk [alex], v[0.1], spatial [off]\n"
     ]
    },
    {
     "name": "stderr",
     "output_type": "stream",
     "text": [
      "/home/bean/.conda/envs/stylegan3/lib/python3.9/site-packages/torchvision/models/_utils.py:208: UserWarning: The parameter 'pretrained' is deprecated since 0.13 and may be removed in the future, please use 'weights' instead.\n",
      "  warnings.warn(\n",
      "/home/bean/.conda/envs/stylegan3/lib/python3.9/site-packages/torchvision/models/_utils.py:223: UserWarning: Arguments other than a weight enum or `None` for 'weights' are deprecated since 0.13 and may be removed in the future. The current behavior is equivalent to passing `weights=AlexNet_Weights.IMAGENET1K_V1`. You can also use `weights=AlexNet_Weights.DEFAULT` to get the most up-to-date weights.\n",
      "  warnings.warn(msg)\n"
     ]
    },
    {
     "name": "stdout",
     "output_type": "stream",
     "text": [
      "Loading model from: /home/bean/.conda/envs/stylegan3/lib/python3.9/site-packages/lpips/weights/v0.1/alex.pth\n",
      "current_directory:  /home/bean/DragVideo/DragGAN/_PTI\n",
      "current_directory:  /home/bean/DragVideo/DragGAN/_PTI\n",
      "torch.Size([3, 1024, 1024]) 3 1024 1024\n",
      "Setting up PyTorch plugin \"bias_act_plugin\"... Done.\n"
     ]
    },
    {
     "name": "stderr",
     "output_type": "stream",
     "text": [
      "  0%|          | 0/450 [00:00<?, ?it/s]"
     ]
    },
    {
     "name": "stdout",
     "output_type": "stream",
     "text": [
      "Setting up PyTorch plugin \"upfirdn2d_plugin\"... Done.\n"
     ]
    },
    {
     "name": "stderr",
     "output_type": "stream",
     "text": [
      "/home/bean/.conda/envs/stylegan3/lib/python3.9/site-packages/torch/nn/modules/module.py:1501: UserWarning: operator() profile_node %106 : int = prim::profile_ivalue(%104)\n",
      " does not have profile information (Triggered internally at /opt/conda/conda-bld/pytorch_1682343964576/work/third_party/nvfuser/csrc/graph_fuser.cpp:104.)\n",
      "  return forward_call(*args, **kwargs)\n",
      "100%|██████████| 450/450 [00:35<00:00, 12.83it/s]\n"
     ]
    },
    {
     "name": "stdout",
     "output_type": "stream",
     "text": [
      "torch.Size([3, 1024, 1024]) 3 1024 1024\n"
     ]
    },
    {
     "name": "stderr",
     "output_type": "stream",
     "text": [
      "100%|██████████| 450/450 [00:33<00:00, 13.50it/s]\n"
     ]
    },
    {
     "name": "stdout",
     "output_type": "stream",
     "text": [
      "torch.Size([3, 1024, 1024]) 3 1024 1024\n"
     ]
    },
    {
     "name": "stderr",
     "output_type": "stream",
     "text": [
      "100%|██████████| 450/450 [00:33<00:00, 13.33it/s]\n"
     ]
    },
    {
     "name": "stdout",
     "output_type": "stream",
     "text": [
      "torch.Size([3, 1024, 1024]) 3 1024 1024\n"
     ]
    },
    {
     "name": "stderr",
     "output_type": "stream",
     "text": [
      "100%|██████████| 450/450 [00:33<00:00, 13.42it/s]\n"
     ]
    },
    {
     "name": "stdout",
     "output_type": "stream",
     "text": [
      "torch.Size([3, 1024, 1024]) 3 1024 1024\n"
     ]
    },
    {
     "name": "stderr",
     "output_type": "stream",
     "text": [
      "100%|██████████| 450/450 [00:33<00:00, 13.25it/s]\n"
     ]
    },
    {
     "name": "stdout",
     "output_type": "stream",
     "text": [
      "torch.Size([3, 1024, 1024]) 3 1024 1024\n"
     ]
    },
    {
     "name": "stderr",
     "output_type": "stream",
     "text": [
      "100%|██████████| 450/450 [00:33<00:00, 13.28it/s]\n"
     ]
    },
    {
     "name": "stdout",
     "output_type": "stream",
     "text": [
      "torch.Size([3, 1024, 1024]) 3 1024 1024\n"
     ]
    },
    {
     "name": "stderr",
     "output_type": "stream",
     "text": [
      "100%|██████████| 450/450 [00:33<00:00, 13.30it/s]\n"
     ]
    },
    {
     "name": "stdout",
     "output_type": "stream",
     "text": [
      "torch.Size([3, 1024, 1024]) 3 1024 1024\n"
     ]
    },
    {
     "name": "stderr",
     "output_type": "stream",
     "text": [
      "100%|██████████| 450/450 [00:33<00:00, 13.25it/s]\n"
     ]
    },
    {
     "name": "stdout",
     "output_type": "stream",
     "text": [
      "torch.Size([3, 1024, 1024]) 3 1024 1024\n"
     ]
    },
    {
     "name": "stderr",
     "output_type": "stream",
     "text": [
      "100%|██████████| 450/450 [00:33<00:00, 13.27it/s]\n"
     ]
    },
    {
     "name": "stdout",
     "output_type": "stream",
     "text": [
      "torch.Size([3, 1024, 1024]) 3 1024 1024\n"
     ]
    },
    {
     "name": "stderr",
     "output_type": "stream",
     "text": [
      "100%|██████████| 450/450 [00:33<00:00, 13.26it/s]\n"
     ]
    },
    {
     "name": "stdout",
     "output_type": "stream",
     "text": [
      "torch.Size([3, 1024, 1024]) 3 1024 1024\n"
     ]
    },
    {
     "name": "stderr",
     "output_type": "stream",
     "text": [
      "100%|██████████| 450/450 [00:34<00:00, 13.23it/s]\n"
     ]
    },
    {
     "name": "stdout",
     "output_type": "stream",
     "text": [
      "torch.Size([3, 1024, 1024]) 3 1024 1024\n"
     ]
    },
    {
     "name": "stderr",
     "output_type": "stream",
     "text": [
      "100%|██████████| 450/450 [00:33<00:00, 13.27it/s]\n"
     ]
    },
    {
     "name": "stdout",
     "output_type": "stream",
     "text": [
      "torch.Size([3, 1024, 1024]) 3 1024 1024\n"
     ]
    },
    {
     "name": "stderr",
     "output_type": "stream",
     "text": [
      "100%|██████████| 450/450 [00:33<00:00, 13.24it/s]\n"
     ]
    },
    {
     "name": "stdout",
     "output_type": "stream",
     "text": [
      "torch.Size([3, 1024, 1024]) 3 1024 1024\n"
     ]
    },
    {
     "name": "stderr",
     "output_type": "stream",
     "text": [
      "100%|██████████| 450/450 [00:33<00:00, 13.25it/s]\n"
     ]
    },
    {
     "name": "stdout",
     "output_type": "stream",
     "text": [
      "torch.Size([3, 1024, 1024]) 3 1024 1024\n"
     ]
    },
    {
     "name": "stderr",
     "output_type": "stream",
     "text": [
      "100%|██████████| 450/450 [00:33<00:00, 13.33it/s]\n"
     ]
    },
    {
     "name": "stdout",
     "output_type": "stream",
     "text": [
      "torch.Size([3, 1024, 1024]) 3 1024 1024\n"
     ]
    },
    {
     "name": "stderr",
     "output_type": "stream",
     "text": [
      "100%|██████████| 450/450 [00:33<00:00, 13.31it/s]\n"
     ]
    },
    {
     "name": "stdout",
     "output_type": "stream",
     "text": [
      "torch.Size([3, 1024, 1024]) 3 1024 1024\n"
     ]
    },
    {
     "name": "stderr",
     "output_type": "stream",
     "text": [
      "100%|██████████| 450/450 [00:33<00:00, 13.25it/s]\n"
     ]
    },
    {
     "name": "stdout",
     "output_type": "stream",
     "text": [
      "torch.Size([3, 1024, 1024]) 3 1024 1024\n"
     ]
    },
    {
     "name": "stderr",
     "output_type": "stream",
     "text": [
      "100%|██████████| 450/450 [00:33<00:00, 13.33it/s]\n"
     ]
    },
    {
     "name": "stdout",
     "output_type": "stream",
     "text": [
      "torch.Size([3, 1024, 1024]) 3 1024 1024\n"
     ]
    },
    {
     "name": "stderr",
     "output_type": "stream",
     "text": [
      "100%|██████████| 450/450 [00:33<00:00, 13.25it/s]\n"
     ]
    },
    {
     "name": "stdout",
     "output_type": "stream",
     "text": [
      "torch.Size([3, 1024, 1024]) 3 1024 1024\n"
     ]
    },
    {
     "name": "stderr",
     "output_type": "stream",
     "text": [
      "100%|██████████| 450/450 [00:34<00:00, 13.18it/s]\n"
     ]
    },
    {
     "name": "stdout",
     "output_type": "stream",
     "text": [
      "torch.Size([3, 1024, 1024]) 3 1024 1024\n"
     ]
    },
    {
     "name": "stderr",
     "output_type": "stream",
     "text": [
      "100%|██████████| 450/450 [00:34<00:00, 13.22it/s]\n"
     ]
    },
    {
     "name": "stdout",
     "output_type": "stream",
     "text": [
      "torch.Size([3, 1024, 1024]) 3 1024 1024\n"
     ]
    },
    {
     "name": "stderr",
     "output_type": "stream",
     "text": [
      "100%|██████████| 450/450 [00:33<00:00, 13.28it/s]\n"
     ]
    },
    {
     "name": "stdout",
     "output_type": "stream",
     "text": [
      "torch.Size([3, 1024, 1024]) 3 1024 1024\n"
     ]
    },
    {
     "name": "stderr",
     "output_type": "stream",
     "text": [
      "100%|██████████| 450/450 [00:33<00:00, 13.29it/s]\n"
     ]
    },
    {
     "name": "stdout",
     "output_type": "stream",
     "text": [
      "torch.Size([3, 1024, 1024]) 3 1024 1024\n"
     ]
    },
    {
     "name": "stderr",
     "output_type": "stream",
     "text": [
      "100%|██████████| 450/450 [00:33<00:00, 13.32it/s]\n"
     ]
    },
    {
     "name": "stdout",
     "output_type": "stream",
     "text": [
      "torch.Size([3, 1024, 1024]) 3 1024 1024\n"
     ]
    },
    {
     "name": "stderr",
     "output_type": "stream",
     "text": [
      "100%|██████████| 450/450 [00:33<00:00, 13.36it/s]\n"
     ]
    },
    {
     "name": "stdout",
     "output_type": "stream",
     "text": [
      "torch.Size([3, 1024, 1024]) 3 1024 1024\n"
     ]
    },
    {
     "name": "stderr",
     "output_type": "stream",
     "text": [
      "100%|██████████| 450/450 [00:33<00:00, 13.39it/s]\n"
     ]
    },
    {
     "name": "stdout",
     "output_type": "stream",
     "text": [
      "torch.Size([3, 1024, 1024]) 3 1024 1024\n"
     ]
    },
    {
     "name": "stderr",
     "output_type": "stream",
     "text": [
      "100%|██████████| 450/450 [00:33<00:00, 13.38it/s]\n"
     ]
    },
    {
     "name": "stdout",
     "output_type": "stream",
     "text": [
      "torch.Size([3, 1024, 1024]) 3 1024 1024\n"
     ]
    },
    {
     "name": "stderr",
     "output_type": "stream",
     "text": [
      "100%|██████████| 450/450 [00:33<00:00, 13.39it/s]\n"
     ]
    },
    {
     "name": "stdout",
     "output_type": "stream",
     "text": [
      "torch.Size([3, 1024, 1024]) 3 1024 1024\n"
     ]
    },
    {
     "name": "stderr",
     "output_type": "stream",
     "text": [
      "100%|██████████| 450/450 [00:33<00:00, 13.28it/s]\n"
     ]
    },
    {
     "name": "stdout",
     "output_type": "stream",
     "text": [
      "torch.Size([3, 1024, 1024]) 3 1024 1024\n"
     ]
    },
    {
     "name": "stderr",
     "output_type": "stream",
     "text": [
      "100%|██████████| 450/450 [00:33<00:00, 13.35it/s]\n"
     ]
    },
    {
     "name": "stdout",
     "output_type": "stream",
     "text": [
      "torch.Size([3, 1024, 1024]) 3 1024 1024\n"
     ]
    },
    {
     "name": "stderr",
     "output_type": "stream",
     "text": [
      "100%|██████████| 450/450 [00:33<00:00, 13.28it/s]\n"
     ]
    },
    {
     "name": "stdout",
     "output_type": "stream",
     "text": [
      "torch.Size([3, 1024, 1024]) 3 1024 1024\n"
     ]
    },
    {
     "name": "stderr",
     "output_type": "stream",
     "text": [
      "100%|██████████| 450/450 [00:33<00:00, 13.29it/s]\n"
     ]
    },
    {
     "name": "stdout",
     "output_type": "stream",
     "text": [
      "torch.Size([3, 1024, 1024]) 3 1024 1024\n"
     ]
    },
    {
     "name": "stderr",
     "output_type": "stream",
     "text": [
      "100%|██████████| 450/450 [00:34<00:00, 13.18it/s]\n"
     ]
    },
    {
     "name": "stdout",
     "output_type": "stream",
     "text": [
      "torch.Size([3, 1024, 1024]) 3 1024 1024\n"
     ]
    },
    {
     "name": "stderr",
     "output_type": "stream",
     "text": [
      "100%|██████████| 450/450 [00:33<00:00, 13.30it/s]\n"
     ]
    },
    {
     "name": "stdout",
     "output_type": "stream",
     "text": [
      "torch.Size([3, 1024, 1024]) 3 1024 1024\n"
     ]
    },
    {
     "name": "stderr",
     "output_type": "stream",
     "text": [
      "100%|██████████| 450/450 [00:33<00:00, 13.25it/s]\n"
     ]
    },
    {
     "name": "stdout",
     "output_type": "stream",
     "text": [
      "torch.Size([3, 1024, 1024]) 3 1024 1024\n"
     ]
    },
    {
     "name": "stderr",
     "output_type": "stream",
     "text": [
      "100%|██████████| 450/450 [00:33<00:00, 13.31it/s]\n"
     ]
    },
    {
     "name": "stdout",
     "output_type": "stream",
     "text": [
      "torch.Size([3, 1024, 1024]) 3 1024 1024\n"
     ]
    },
    {
     "name": "stderr",
     "output_type": "stream",
     "text": [
      "100%|██████████| 450/450 [00:33<00:00, 13.30it/s]\n"
     ]
    },
    {
     "name": "stdout",
     "output_type": "stream",
     "text": [
      "torch.Size([3, 1024, 1024]) 3 1024 1024\n"
     ]
    },
    {
     "name": "stderr",
     "output_type": "stream",
     "text": [
      "100%|██████████| 450/450 [00:33<00:00, 13.36it/s]\n"
     ]
    },
    {
     "name": "stdout",
     "output_type": "stream",
     "text": [
      "torch.Size([3, 1024, 1024]) 3 1024 1024\n"
     ]
    },
    {
     "name": "stderr",
     "output_type": "stream",
     "text": [
      "100%|██████████| 450/450 [00:33<00:00, 13.32it/s]\n"
     ]
    },
    {
     "name": "stdout",
     "output_type": "stream",
     "text": [
      "torch.Size([3, 1024, 1024]) 3 1024 1024\n"
     ]
    },
    {
     "name": "stderr",
     "output_type": "stream",
     "text": [
      "100%|██████████| 450/450 [00:33<00:00, 13.30it/s]\n"
     ]
    },
    {
     "name": "stdout",
     "output_type": "stream",
     "text": [
      "torch.Size([3, 1024, 1024]) 3 1024 1024\n"
     ]
    },
    {
     "name": "stderr",
     "output_type": "stream",
     "text": [
      "100%|██████████| 450/450 [00:33<00:00, 13.31it/s]\n"
     ]
    },
    {
     "name": "stdout",
     "output_type": "stream",
     "text": [
      "torch.Size([3, 1024, 1024]) 3 1024 1024\n"
     ]
    },
    {
     "name": "stderr",
     "output_type": "stream",
     "text": [
      "100%|██████████| 450/450 [00:34<00:00, 13.19it/s]\n"
     ]
    },
    {
     "name": "stdout",
     "output_type": "stream",
     "text": [
      "torch.Size([3, 1024, 1024]) 3 1024 1024\n"
     ]
    },
    {
     "name": "stderr",
     "output_type": "stream",
     "text": [
      "100%|██████████| 450/450 [00:33<00:00, 13.28it/s]\n"
     ]
    },
    {
     "name": "stdout",
     "output_type": "stream",
     "text": [
      "torch.Size([3, 1024, 1024]) 3 1024 1024\n"
     ]
    },
    {
     "name": "stderr",
     "output_type": "stream",
     "text": [
      "100%|██████████| 450/450 [00:33<00:00, 13.28it/s]\n"
     ]
    },
    {
     "name": "stdout",
     "output_type": "stream",
     "text": [
      "torch.Size([3, 1024, 1024]) 3 1024 1024\n"
     ]
    },
    {
     "name": "stderr",
     "output_type": "stream",
     "text": [
      "100%|██████████| 450/450 [00:33<00:00, 13.27it/s]\n"
     ]
    },
    {
     "name": "stdout",
     "output_type": "stream",
     "text": [
      "torch.Size([3, 1024, 1024]) 3 1024 1024\n"
     ]
    },
    {
     "name": "stderr",
     "output_type": "stream",
     "text": [
      "100%|██████████| 450/450 [00:33<00:00, 13.27it/s]\n"
     ]
    },
    {
     "name": "stdout",
     "output_type": "stream",
     "text": [
      "torch.Size([3, 1024, 1024]) 3 1024 1024\n"
     ]
    },
    {
     "name": "stderr",
     "output_type": "stream",
     "text": [
      "100%|██████████| 450/450 [00:34<00:00, 13.05it/s]\n"
     ]
    },
    {
     "name": "stdout",
     "output_type": "stream",
     "text": [
      "torch.Size([3, 1024, 1024]) 3 1024 1024\n"
     ]
    },
    {
     "name": "stderr",
     "output_type": "stream",
     "text": [
      "100%|██████████| 450/450 [00:33<00:00, 13.35it/s]\n"
     ]
    },
    {
     "name": "stdout",
     "output_type": "stream",
     "text": [
      "torch.Size([3, 1024, 1024]) 3 1024 1024\n"
     ]
    },
    {
     "name": "stderr",
     "output_type": "stream",
     "text": [
      "100%|██████████| 450/450 [00:33<00:00, 13.35it/s]\n"
     ]
    },
    {
     "name": "stdout",
     "output_type": "stream",
     "text": [
      "torch.Size([3, 1024, 1024]) 3 1024 1024\n"
     ]
    },
    {
     "name": "stderr",
     "output_type": "stream",
     "text": [
      "100%|██████████| 450/450 [00:34<00:00, 13.22it/s]\n"
     ]
    },
    {
     "name": "stdout",
     "output_type": "stream",
     "text": [
      "torch.Size([3, 1024, 1024]) 3 1024 1024\n"
     ]
    },
    {
     "name": "stderr",
     "output_type": "stream",
     "text": [
      "100%|██████████| 450/450 [00:33<00:00, 13.24it/s]\n"
     ]
    },
    {
     "name": "stdout",
     "output_type": "stream",
     "text": [
      "torch.Size([3, 1024, 1024]) 3 1024 1024\n"
     ]
    },
    {
     "name": "stderr",
     "output_type": "stream",
     "text": [
      "100%|██████████| 450/450 [00:33<00:00, 13.25it/s]\n"
     ]
    },
    {
     "name": "stdout",
     "output_type": "stream",
     "text": [
      "torch.Size([3, 1024, 1024]) 3 1024 1024\n"
     ]
    },
    {
     "name": "stderr",
     "output_type": "stream",
     "text": [
      "100%|██████████| 450/450 [00:34<00:00, 13.19it/s]\n"
     ]
    },
    {
     "name": "stdout",
     "output_type": "stream",
     "text": [
      "torch.Size([3, 1024, 1024]) 3 1024 1024\n"
     ]
    },
    {
     "name": "stderr",
     "output_type": "stream",
     "text": [
      "100%|██████████| 450/450 [00:33<00:00, 13.33it/s]\n"
     ]
    },
    {
     "name": "stdout",
     "output_type": "stream",
     "text": [
      "torch.Size([3, 1024, 1024]) 3 1024 1024\n"
     ]
    },
    {
     "name": "stderr",
     "output_type": "stream",
     "text": [
      "100%|██████████| 450/450 [00:34<00:00, 13.19it/s]\n"
     ]
    },
    {
     "name": "stdout",
     "output_type": "stream",
     "text": [
      "torch.Size([3, 1024, 1024]) 3 1024 1024\n"
     ]
    },
    {
     "name": "stderr",
     "output_type": "stream",
     "text": [
      "100%|██████████| 450/450 [00:33<00:00, 13.25it/s]\n"
     ]
    },
    {
     "name": "stdout",
     "output_type": "stream",
     "text": [
      "torch.Size([3, 1024, 1024]) 3 1024 1024\n"
     ]
    },
    {
     "name": "stderr",
     "output_type": "stream",
     "text": [
      "100%|██████████| 450/450 [00:33<00:00, 13.28it/s]\n"
     ]
    },
    {
     "name": "stdout",
     "output_type": "stream",
     "text": [
      "torch.Size([3, 1024, 1024]) 3 1024 1024\n"
     ]
    },
    {
     "name": "stderr",
     "output_type": "stream",
     "text": [
      "100%|██████████| 450/450 [00:33<00:00, 13.25it/s]\n"
     ]
    },
    {
     "name": "stdout",
     "output_type": "stream",
     "text": [
      "torch.Size([3, 1024, 1024]) 3 1024 1024\n"
     ]
    },
    {
     "name": "stderr",
     "output_type": "stream",
     "text": [
      "100%|██████████| 450/450 [00:33<00:00, 13.26it/s]\n"
     ]
    },
    {
     "name": "stdout",
     "output_type": "stream",
     "text": [
      "torch.Size([3, 1024, 1024]) 3 1024 1024\n"
     ]
    },
    {
     "name": "stderr",
     "output_type": "stream",
     "text": [
      "100%|██████████| 450/450 [00:33<00:00, 13.33it/s]\n"
     ]
    },
    {
     "name": "stdout",
     "output_type": "stream",
     "text": [
      "torch.Size([3, 1024, 1024]) 3 1024 1024\n"
     ]
    },
    {
     "name": "stderr",
     "output_type": "stream",
     "text": [
      "100%|██████████| 450/450 [00:33<00:00, 13.27it/s]\n"
     ]
    },
    {
     "name": "stdout",
     "output_type": "stream",
     "text": [
      "torch.Size([3, 1024, 1024]) 3 1024 1024\n"
     ]
    },
    {
     "name": "stderr",
     "output_type": "stream",
     "text": [
      "100%|██████████| 450/450 [00:33<00:00, 13.31it/s]\n"
     ]
    },
    {
     "name": "stdout",
     "output_type": "stream",
     "text": [
      "torch.Size([3, 1024, 1024]) 3 1024 1024\n"
     ]
    },
    {
     "name": "stderr",
     "output_type": "stream",
     "text": [
      "100%|██████████| 450/450 [00:33<00:00, 13.32it/s]\n"
     ]
    },
    {
     "name": "stdout",
     "output_type": "stream",
     "text": [
      "torch.Size([3, 1024, 1024]) 3 1024 1024\n"
     ]
    },
    {
     "name": "stderr",
     "output_type": "stream",
     "text": [
      "100%|██████████| 450/450 [00:34<00:00, 13.21it/s]\n"
     ]
    },
    {
     "name": "stdout",
     "output_type": "stream",
     "text": [
      "torch.Size([3, 1024, 1024]) 3 1024 1024\n"
     ]
    },
    {
     "name": "stderr",
     "output_type": "stream",
     "text": [
      "100%|██████████| 450/450 [00:33<00:00, 13.35it/s]\n"
     ]
    },
    {
     "name": "stdout",
     "output_type": "stream",
     "text": [
      "torch.Size([3, 1024, 1024]) 3 1024 1024\n"
     ]
    },
    {
     "name": "stderr",
     "output_type": "stream",
     "text": [
      "100%|██████████| 450/450 [00:33<00:00, 13.31it/s]\n"
     ]
    },
    {
     "name": "stdout",
     "output_type": "stream",
     "text": [
      "torch.Size([3, 1024, 1024]) 3 1024 1024\n"
     ]
    },
    {
     "name": "stderr",
     "output_type": "stream",
     "text": [
      "100%|██████████| 450/450 [00:33<00:00, 13.27it/s]\n"
     ]
    },
    {
     "name": "stdout",
     "output_type": "stream",
     "text": [
      "torch.Size([3, 1024, 1024]) 3 1024 1024\n"
     ]
    },
    {
     "name": "stderr",
     "output_type": "stream",
     "text": [
      "100%|██████████| 450/450 [00:33<00:00, 13.29it/s]\n"
     ]
    },
    {
     "name": "stdout",
     "output_type": "stream",
     "text": [
      "torch.Size([3, 1024, 1024]) 3 1024 1024\n"
     ]
    },
    {
     "name": "stderr",
     "output_type": "stream",
     "text": [
      "100%|██████████| 450/450 [00:33<00:00, 13.25it/s]\n"
     ]
    },
    {
     "name": "stdout",
     "output_type": "stream",
     "text": [
      "torch.Size([3, 1024, 1024]) 3 1024 1024\n"
     ]
    },
    {
     "name": "stderr",
     "output_type": "stream",
     "text": [
      "100%|██████████| 450/450 [00:33<00:00, 13.28it/s]\n"
     ]
    },
    {
     "name": "stdout",
     "output_type": "stream",
     "text": [
      "torch.Size([3, 1024, 1024]) 3 1024 1024\n"
     ]
    },
    {
     "name": "stderr",
     "output_type": "stream",
     "text": [
      "100%|██████████| 450/450 [00:33<00:00, 13.33it/s]\n"
     ]
    },
    {
     "name": "stdout",
     "output_type": "stream",
     "text": [
      "torch.Size([3, 1024, 1024]) 3 1024 1024\n"
     ]
    },
    {
     "name": "stderr",
     "output_type": "stream",
     "text": [
      "100%|██████████| 450/450 [00:33<00:00, 13.30it/s]\n"
     ]
    },
    {
     "name": "stdout",
     "output_type": "stream",
     "text": [
      "torch.Size([3, 1024, 1024]) 3 1024 1024\n"
     ]
    },
    {
     "name": "stderr",
     "output_type": "stream",
     "text": [
      "100%|██████████| 450/450 [00:33<00:00, 13.28it/s]\n"
     ]
    },
    {
     "name": "stdout",
     "output_type": "stream",
     "text": [
      "torch.Size([3, 1024, 1024]) 3 1024 1024\n"
     ]
    },
    {
     "name": "stderr",
     "output_type": "stream",
     "text": [
      "100%|██████████| 450/450 [00:33<00:00, 13.29it/s]\n"
     ]
    },
    {
     "name": "stdout",
     "output_type": "stream",
     "text": [
      "torch.Size([3, 1024, 1024]) 3 1024 1024\n"
     ]
    },
    {
     "name": "stderr",
     "output_type": "stream",
     "text": [
      "100%|██████████| 450/450 [00:33<00:00, 13.27it/s]\n"
     ]
    },
    {
     "name": "stdout",
     "output_type": "stream",
     "text": [
      "torch.Size([3, 1024, 1024]) 3 1024 1024\n"
     ]
    },
    {
     "name": "stderr",
     "output_type": "stream",
     "text": [
      "100%|██████████| 450/450 [00:33<00:00, 13.26it/s]\n"
     ]
    },
    {
     "name": "stdout",
     "output_type": "stream",
     "text": [
      "torch.Size([3, 1024, 1024]) 3 1024 1024\n"
     ]
    },
    {
     "name": "stderr",
     "output_type": "stream",
     "text": [
      "100%|██████████| 450/450 [00:33<00:00, 13.31it/s]\n"
     ]
    },
    {
     "name": "stdout",
     "output_type": "stream",
     "text": [
      "torch.Size([3, 1024, 1024]) 3 1024 1024\n"
     ]
    },
    {
     "name": "stderr",
     "output_type": "stream",
     "text": [
      "100%|██████████| 450/450 [00:33<00:00, 13.28it/s]\n"
     ]
    },
    {
     "name": "stdout",
     "output_type": "stream",
     "text": [
      "torch.Size([3, 1024, 1024]) 3 1024 1024\n"
     ]
    },
    {
     "name": "stderr",
     "output_type": "stream",
     "text": [
      "100%|██████████| 450/450 [00:33<00:00, 13.30it/s]\n"
     ]
    },
    {
     "name": "stdout",
     "output_type": "stream",
     "text": [
      "torch.Size([3, 1024, 1024]) 3 1024 1024\n"
     ]
    },
    {
     "name": "stderr",
     "output_type": "stream",
     "text": [
      "100%|██████████| 450/450 [00:33<00:00, 13.42it/s]\n"
     ]
    },
    {
     "name": "stdout",
     "output_type": "stream",
     "text": [
      "torch.Size([3, 1024, 1024]) 3 1024 1024\n"
     ]
    },
    {
     "name": "stderr",
     "output_type": "stream",
     "text": [
      "100%|██████████| 450/450 [00:33<00:00, 13.34it/s]\n"
     ]
    },
    {
     "name": "stdout",
     "output_type": "stream",
     "text": [
      "torch.Size([3, 1024, 1024]) 3 1024 1024\n"
     ]
    },
    {
     "name": "stderr",
     "output_type": "stream",
     "text": [
      "100%|██████████| 450/450 [00:33<00:00, 13.35it/s]\n"
     ]
    },
    {
     "name": "stdout",
     "output_type": "stream",
     "text": [
      "torch.Size([3, 1024, 1024]) 3 1024 1024\n"
     ]
    },
    {
     "name": "stderr",
     "output_type": "stream",
     "text": [
      "100%|██████████| 450/450 [00:33<00:00, 13.37it/s]\n"
     ]
    },
    {
     "name": "stdout",
     "output_type": "stream",
     "text": [
      "torch.Size([3, 1024, 1024]) 3 1024 1024\n"
     ]
    },
    {
     "name": "stderr",
     "output_type": "stream",
     "text": [
      "100%|██████████| 450/450 [00:33<00:00, 13.27it/s]\n"
     ]
    },
    {
     "name": "stdout",
     "output_type": "stream",
     "text": [
      "torch.Size([3, 1024, 1024]) 3 1024 1024\n"
     ]
    },
    {
     "name": "stderr",
     "output_type": "stream",
     "text": [
      "100%|██████████| 450/450 [00:33<00:00, 13.30it/s]\n"
     ]
    },
    {
     "name": "stdout",
     "output_type": "stream",
     "text": [
      "torch.Size([3, 1024, 1024]) 3 1024 1024\n"
     ]
    },
    {
     "name": "stderr",
     "output_type": "stream",
     "text": [
      "100%|██████████| 450/450 [00:33<00:00, 13.31it/s]\n"
     ]
    },
    {
     "name": "stdout",
     "output_type": "stream",
     "text": [
      "torch.Size([3, 1024, 1024]) 3 1024 1024\n"
     ]
    },
    {
     "name": "stderr",
     "output_type": "stream",
     "text": [
      "100%|██████████| 450/450 [00:34<00:00, 13.23it/s]\n"
     ]
    },
    {
     "name": "stdout",
     "output_type": "stream",
     "text": [
      "torch.Size([3, 1024, 1024]) 3 1024 1024\n"
     ]
    },
    {
     "name": "stderr",
     "output_type": "stream",
     "text": [
      "100%|██████████| 450/450 [00:33<00:00, 13.35it/s]\n"
     ]
    },
    {
     "name": "stdout",
     "output_type": "stream",
     "text": [
      "torch.Size([3, 1024, 1024]) 3 1024 1024\n"
     ]
    },
    {
     "name": "stderr",
     "output_type": "stream",
     "text": [
      "100%|██████████| 450/450 [00:33<00:00, 13.30it/s]\n"
     ]
    },
    {
     "name": "stdout",
     "output_type": "stream",
     "text": [
      "torch.Size([3, 1024, 1024]) 3 1024 1024\n"
     ]
    },
    {
     "name": "stderr",
     "output_type": "stream",
     "text": [
      "100%|██████████| 450/450 [00:33<00:00, 13.34it/s]\n"
     ]
    },
    {
     "name": "stdout",
     "output_type": "stream",
     "text": [
      "torch.Size([3, 1024, 1024]) 3 1024 1024\n"
     ]
    },
    {
     "name": "stderr",
     "output_type": "stream",
     "text": [
      "100%|██████████| 450/450 [00:33<00:00, 13.31it/s]\n"
     ]
    },
    {
     "name": "stdout",
     "output_type": "stream",
     "text": [
      "torch.Size([3, 1024, 1024]) 3 1024 1024\n"
     ]
    },
    {
     "name": "stderr",
     "output_type": "stream",
     "text": [
      "100%|██████████| 450/450 [00:33<00:00, 13.32it/s]\n"
     ]
    },
    {
     "name": "stdout",
     "output_type": "stream",
     "text": [
      "torch.Size([3, 1024, 1024]) 3 1024 1024\n"
     ]
    },
    {
     "name": "stderr",
     "output_type": "stream",
     "text": [
      "100%|██████████| 450/450 [00:33<00:00, 13.36it/s]\n"
     ]
    },
    {
     "name": "stdout",
     "output_type": "stream",
     "text": [
      "torch.Size([3, 1024, 1024]) 3 1024 1024\n"
     ]
    },
    {
     "name": "stderr",
     "output_type": "stream",
     "text": [
      "100%|██████████| 450/450 [00:33<00:00, 13.36it/s]\n"
     ]
    },
    {
     "name": "stdout",
     "output_type": "stream",
     "text": [
      "torch.Size([3, 1024, 1024]) 3 1024 1024\n"
     ]
    },
    {
     "name": "stderr",
     "output_type": "stream",
     "text": [
      "100%|██████████| 450/450 [00:33<00:00, 13.37it/s]\n"
     ]
    },
    {
     "name": "stdout",
     "output_type": "stream",
     "text": [
      "torch.Size([3, 1024, 1024]) 3 1024 1024\n"
     ]
    },
    {
     "name": "stderr",
     "output_type": "stream",
     "text": [
      "100%|██████████| 450/450 [00:33<00:00, 13.39it/s]\n"
     ]
    },
    {
     "name": "stdout",
     "output_type": "stream",
     "text": [
      "torch.Size([3, 1024, 1024]) 3 1024 1024\n"
     ]
    },
    {
     "name": "stderr",
     "output_type": "stream",
     "text": [
      "100%|██████████| 450/450 [00:33<00:00, 13.42it/s]\n"
     ]
    },
    {
     "name": "stdout",
     "output_type": "stream",
     "text": [
      "torch.Size([3, 1024, 1024]) 3 1024 1024\n"
     ]
    },
    {
     "name": "stderr",
     "output_type": "stream",
     "text": [
      "100%|██████████| 450/450 [00:33<00:00, 13.33it/s]\n"
     ]
    },
    {
     "name": "stdout",
     "output_type": "stream",
     "text": [
      "torch.Size([3, 1024, 1024]) 3 1024 1024\n"
     ]
    },
    {
     "name": "stderr",
     "output_type": "stream",
     "text": [
      "100%|██████████| 450/450 [00:33<00:00, 13.36it/s]\n"
     ]
    },
    {
     "name": "stdout",
     "output_type": "stream",
     "text": [
      "torch.Size([3, 1024, 1024]) 3 1024 1024\n"
     ]
    },
    {
     "name": "stderr",
     "output_type": "stream",
     "text": [
      "100%|██████████| 450/450 [00:33<00:00, 13.26it/s]\n"
     ]
    },
    {
     "name": "stdout",
     "output_type": "stream",
     "text": [
      "torch.Size([3, 1024, 1024]) 3 1024 1024\n"
     ]
    },
    {
     "name": "stderr",
     "output_type": "stream",
     "text": [
      "100%|██████████| 450/450 [00:33<00:00, 13.34it/s]\n"
     ]
    },
    {
     "name": "stdout",
     "output_type": "stream",
     "text": [
      "torch.Size([3, 1024, 1024]) 3 1024 1024\n"
     ]
    },
    {
     "name": "stderr",
     "output_type": "stream",
     "text": [
      "100%|██████████| 450/450 [00:33<00:00, 13.30it/s]\n"
     ]
    },
    {
     "name": "stdout",
     "output_type": "stream",
     "text": [
      "torch.Size([3, 1024, 1024]) 3 1024 1024\n"
     ]
    },
    {
     "name": "stderr",
     "output_type": "stream",
     "text": [
      "100%|██████████| 450/450 [00:33<00:00, 13.26it/s]\n"
     ]
    },
    {
     "name": "stdout",
     "output_type": "stream",
     "text": [
      "torch.Size([3, 1024, 1024]) 3 1024 1024\n"
     ]
    },
    {
     "name": "stderr",
     "output_type": "stream",
     "text": [
      "100%|██████████| 450/450 [00:33<00:00, 13.24it/s]\n"
     ]
    },
    {
     "name": "stdout",
     "output_type": "stream",
     "text": [
      "torch.Size([3, 1024, 1024]) 3 1024 1024\n"
     ]
    },
    {
     "name": "stderr",
     "output_type": "stream",
     "text": [
      "100%|██████████| 450/450 [00:34<00:00, 13.22it/s]\n"
     ]
    },
    {
     "name": "stdout",
     "output_type": "stream",
     "text": [
      "torch.Size([3, 1024, 1024]) 3 1024 1024\n"
     ]
    },
    {
     "name": "stderr",
     "output_type": "stream",
     "text": [
      "100%|██████████| 450/450 [00:34<00:00, 13.22it/s]\n"
     ]
    },
    {
     "name": "stdout",
     "output_type": "stream",
     "text": [
      "torch.Size([3, 1024, 1024]) 3 1024 1024\n"
     ]
    },
    {
     "name": "stderr",
     "output_type": "stream",
     "text": [
      "100%|██████████| 450/450 [00:33<00:00, 13.27it/s]\n"
     ]
    },
    {
     "name": "stdout",
     "output_type": "stream",
     "text": [
      "torch.Size([3, 1024, 1024]) 3 1024 1024\n"
     ]
    },
    {
     "name": "stderr",
     "output_type": "stream",
     "text": [
      "100%|██████████| 450/450 [00:33<00:00, 13.28it/s]\n"
     ]
    },
    {
     "name": "stdout",
     "output_type": "stream",
     "text": [
      "torch.Size([3, 1024, 1024]) 3 1024 1024\n"
     ]
    },
    {
     "name": "stderr",
     "output_type": "stream",
     "text": [
      "100%|██████████| 450/450 [00:33<00:00, 13.24it/s]\n"
     ]
    },
    {
     "name": "stdout",
     "output_type": "stream",
     "text": [
      "torch.Size([3, 1024, 1024]) 3 1024 1024\n"
     ]
    },
    {
     "name": "stderr",
     "output_type": "stream",
     "text": [
      "100%|██████████| 450/450 [00:34<00:00, 13.23it/s]\n"
     ]
    },
    {
     "name": "stdout",
     "output_type": "stream",
     "text": [
      "torch.Size([3, 1024, 1024]) 3 1024 1024\n"
     ]
    },
    {
     "name": "stderr",
     "output_type": "stream",
     "text": [
      "100%|██████████| 450/450 [00:33<00:00, 13.25it/s]\n"
     ]
    },
    {
     "name": "stdout",
     "output_type": "stream",
     "text": [
      "torch.Size([3, 1024, 1024]) 3 1024 1024\n"
     ]
    },
    {
     "name": "stderr",
     "output_type": "stream",
     "text": [
      "100%|██████████| 450/450 [00:34<00:00, 13.19it/s]\n"
     ]
    },
    {
     "name": "stdout",
     "output_type": "stream",
     "text": [
      "torch.Size([3, 1024, 1024]) 3 1024 1024\n"
     ]
    },
    {
     "name": "stderr",
     "output_type": "stream",
     "text": [
      "100%|██████████| 450/450 [00:33<00:00, 13.25it/s]\n"
     ]
    },
    {
     "name": "stdout",
     "output_type": "stream",
     "text": [
      "torch.Size([3, 1024, 1024]) 3 1024 1024\n"
     ]
    },
    {
     "name": "stderr",
     "output_type": "stream",
     "text": [
      "100%|██████████| 450/450 [00:33<00:00, 13.24it/s]\n"
     ]
    },
    {
     "name": "stdout",
     "output_type": "stream",
     "text": [
      "torch.Size([3, 1024, 1024]) 3 1024 1024\n"
     ]
    },
    {
     "name": "stderr",
     "output_type": "stream",
     "text": [
      "100%|██████████| 450/450 [00:34<00:00, 13.21it/s]\n"
     ]
    },
    {
     "name": "stdout",
     "output_type": "stream",
     "text": [
      "torch.Size([3, 1024, 1024]) 3 1024 1024\n"
     ]
    },
    {
     "name": "stderr",
     "output_type": "stream",
     "text": [
      "100%|██████████| 450/450 [00:34<00:00, 13.21it/s]\n"
     ]
    },
    {
     "name": "stdout",
     "output_type": "stream",
     "text": [
      "torch.Size([3, 1024, 1024]) 3 1024 1024\n"
     ]
    },
    {
     "name": "stderr",
     "output_type": "stream",
     "text": [
      "100%|██████████| 450/450 [00:34<00:00, 13.23it/s]\n"
     ]
    },
    {
     "name": "stdout",
     "output_type": "stream",
     "text": [
      "torch.Size([3, 1024, 1024]) 3 1024 1024\n"
     ]
    },
    {
     "name": "stderr",
     "output_type": "stream",
     "text": [
      "100%|██████████| 450/450 [00:33<00:00, 13.27it/s]\n"
     ]
    },
    {
     "name": "stdout",
     "output_type": "stream",
     "text": [
      "torch.Size([3, 1024, 1024]) 3 1024 1024\n"
     ]
    },
    {
     "name": "stderr",
     "output_type": "stream",
     "text": [
      "100%|██████████| 450/450 [00:34<00:00, 13.15it/s]\n"
     ]
    },
    {
     "name": "stdout",
     "output_type": "stream",
     "text": [
      "torch.Size([3, 1024, 1024]) 3 1024 1024\n"
     ]
    },
    {
     "name": "stderr",
     "output_type": "stream",
     "text": [
      "100%|██████████| 450/450 [00:34<00:00, 13.23it/s]\n"
     ]
    },
    {
     "name": "stdout",
     "output_type": "stream",
     "text": [
      "torch.Size([3, 1024, 1024]) 3 1024 1024\n"
     ]
    },
    {
     "name": "stderr",
     "output_type": "stream",
     "text": [
      "100%|██████████| 450/450 [00:33<00:00, 13.31it/s]\n"
     ]
    },
    {
     "name": "stdout",
     "output_type": "stream",
     "text": [
      "torch.Size([3, 1024, 1024]) 3 1024 1024\n"
     ]
    },
    {
     "name": "stderr",
     "output_type": "stream",
     "text": [
      "100%|██████████| 450/450 [00:33<00:00, 13.27it/s]\n"
     ]
    },
    {
     "name": "stdout",
     "output_type": "stream",
     "text": [
      "torch.Size([3, 1024, 1024]) 3 1024 1024\n"
     ]
    },
    {
     "name": "stderr",
     "output_type": "stream",
     "text": [
      "100%|██████████| 450/450 [00:34<00:00, 13.20it/s]\n"
     ]
    },
    {
     "name": "stdout",
     "output_type": "stream",
     "text": [
      "torch.Size([3, 1024, 1024]) 3 1024 1024\n"
     ]
    },
    {
     "name": "stderr",
     "output_type": "stream",
     "text": [
      "100%|██████████| 450/450 [00:33<00:00, 13.28it/s]\n"
     ]
    },
    {
     "name": "stdout",
     "output_type": "stream",
     "text": [
      "torch.Size([3, 1024, 1024]) 3 1024 1024\n"
     ]
    },
    {
     "name": "stderr",
     "output_type": "stream",
     "text": [
      "100%|██████████| 450/450 [00:33<00:00, 13.30it/s]\n"
     ]
    },
    {
     "name": "stdout",
     "output_type": "stream",
     "text": [
      "torch.Size([3, 1024, 1024]) 3 1024 1024\n"
     ]
    },
    {
     "name": "stderr",
     "output_type": "stream",
     "text": [
      "100%|██████████| 450/450 [00:33<00:00, 13.29it/s]\n"
     ]
    },
    {
     "name": "stdout",
     "output_type": "stream",
     "text": [
      "torch.Size([3, 1024, 1024]) 3 1024 1024\n"
     ]
    },
    {
     "name": "stderr",
     "output_type": "stream",
     "text": [
      "100%|██████████| 450/450 [00:33<00:00, 13.34it/s]\n"
     ]
    },
    {
     "name": "stdout",
     "output_type": "stream",
     "text": [
      "torch.Size([3, 1024, 1024]) 3 1024 1024\n"
     ]
    },
    {
     "name": "stderr",
     "output_type": "stream",
     "text": [
      "100%|██████████| 450/450 [00:33<00:00, 13.33it/s]\n"
     ]
    },
    {
     "name": "stdout",
     "output_type": "stream",
     "text": [
      "torch.Size([3, 1024, 1024]) 3 1024 1024\n"
     ]
    },
    {
     "name": "stderr",
     "output_type": "stream",
     "text": [
      "100%|██████████| 450/450 [00:33<00:00, 13.27it/s]\n"
     ]
    },
    {
     "name": "stdout",
     "output_type": "stream",
     "text": [
      "torch.Size([3, 1024, 1024]) 3 1024 1024\n"
     ]
    },
    {
     "name": "stderr",
     "output_type": "stream",
     "text": [
      "100%|██████████| 450/450 [00:33<00:00, 13.30it/s]\n",
      "100%|██████████| 350/350 [58:30<00:00, 10.03s/it]\n"
     ]
    },
    {
     "name": "stdout",
     "output_type": "stream",
     "text": [
      "Exporting large updated pickle based off new generator and ffhq.pkl\n",
      "pwd /home/bean/DragVideo/DragGAN/_facial-landmarks-recognition\n",
      "landmark_path:  /home/bean/DragVideo/Data_store/experiments/2023-09-01_01-35-09_vsauce_ffmpeg/landmarks/000.pkl\n",
      "landmark_path:  /home/bean/DragVideo/Data_store/experiments/2023-09-01_01-35-09_vsauce_ffmpeg/landmarks/001.pkl\n",
      "landmark_path:  /home/bean/DragVideo/Data_store/experiments/2023-09-01_01-35-09_vsauce_ffmpeg/landmarks/002.pkl\n",
      "landmark_path:  /home/bean/DragVideo/Data_store/experiments/2023-09-01_01-35-09_vsauce_ffmpeg/landmarks/003.pkl\n",
      "landmark_path:  /home/bean/DragVideo/Data_store/experiments/2023-09-01_01-35-09_vsauce_ffmpeg/landmarks/004.pkl\n",
      "landmark_path:  /home/bean/DragVideo/Data_store/experiments/2023-09-01_01-35-09_vsauce_ffmpeg/landmarks/005.pkl\n",
      "landmark_path:  /home/bean/DragVideo/Data_store/experiments/2023-09-01_01-35-09_vsauce_ffmpeg/landmarks/006.pkl\n",
      "landmark_path:  /home/bean/DragVideo/Data_store/experiments/2023-09-01_01-35-09_vsauce_ffmpeg/landmarks/007.pkl\n",
      "landmark_path:  /home/bean/DragVideo/Data_store/experiments/2023-09-01_01-35-09_vsauce_ffmpeg/landmarks/008.pkl\n",
      "landmark_path:  /home/bean/DragVideo/Data_store/experiments/2023-09-01_01-35-09_vsauce_ffmpeg/landmarks/009.pkl\n",
      "landmark_path:  /home/bean/DragVideo/Data_store/experiments/2023-09-01_01-35-09_vsauce_ffmpeg/landmarks/010.pkl\n",
      "landmark_path:  /home/bean/DragVideo/Data_store/experiments/2023-09-01_01-35-09_vsauce_ffmpeg/landmarks/011.pkl\n",
      "landmark_path:  /home/bean/DragVideo/Data_store/experiments/2023-09-01_01-35-09_vsauce_ffmpeg/landmarks/012.pkl\n",
      "landmark_path:  /home/bean/DragVideo/Data_store/experiments/2023-09-01_01-35-09_vsauce_ffmpeg/landmarks/013.pkl\n",
      "landmark_path:  /home/bean/DragVideo/Data_store/experiments/2023-09-01_01-35-09_vsauce_ffmpeg/landmarks/014.pkl\n",
      "landmark_path:  /home/bean/DragVideo/Data_store/experiments/2023-09-01_01-35-09_vsauce_ffmpeg/landmarks/015.pkl\n",
      "landmark_path:  /home/bean/DragVideo/Data_store/experiments/2023-09-01_01-35-09_vsauce_ffmpeg/landmarks/016.pkl\n",
      "landmark_path:  /home/bean/DragVideo/Data_store/experiments/2023-09-01_01-35-09_vsauce_ffmpeg/landmarks/017.pkl\n",
      "landmark_path:  /home/bean/DragVideo/Data_store/experiments/2023-09-01_01-35-09_vsauce_ffmpeg/landmarks/018.pkl\n",
      "landmark_path:  /home/bean/DragVideo/Data_store/experiments/2023-09-01_01-35-09_vsauce_ffmpeg/landmarks/019.pkl\n",
      "landmark_path:  /home/bean/DragVideo/Data_store/experiments/2023-09-01_01-35-09_vsauce_ffmpeg/landmarks/020.pkl\n",
      "landmark_path:  /home/bean/DragVideo/Data_store/experiments/2023-09-01_01-35-09_vsauce_ffmpeg/landmarks/022.pkl\n",
      "landmark_path:  /home/bean/DragVideo/Data_store/experiments/2023-09-01_01-35-09_vsauce_ffmpeg/landmarks/023.pkl\n",
      "landmark_path:  /home/bean/DragVideo/Data_store/experiments/2023-09-01_01-35-09_vsauce_ffmpeg/landmarks/024.pkl\n",
      "landmark_path:  /home/bean/DragVideo/Data_store/experiments/2023-09-01_01-35-09_vsauce_ffmpeg/landmarks/025.pkl\n",
      "landmark_path:  /home/bean/DragVideo/Data_store/experiments/2023-09-01_01-35-09_vsauce_ffmpeg/landmarks/026.pkl\n",
      "landmark_path:  /home/bean/DragVideo/Data_store/experiments/2023-09-01_01-35-09_vsauce_ffmpeg/landmarks/027.pkl\n",
      "landmark_path:  /home/bean/DragVideo/Data_store/experiments/2023-09-01_01-35-09_vsauce_ffmpeg/landmarks/028.pkl\n",
      "landmark_path:  /home/bean/DragVideo/Data_store/experiments/2023-09-01_01-35-09_vsauce_ffmpeg/landmarks/029.pkl\n",
      "landmark_path:  /home/bean/DragVideo/Data_store/experiments/2023-09-01_01-35-09_vsauce_ffmpeg/landmarks/030.pkl\n",
      "landmark_path:  /home/bean/DragVideo/Data_store/experiments/2023-09-01_01-35-09_vsauce_ffmpeg/landmarks/031.pkl\n",
      "landmark_path:  /home/bean/DragVideo/Data_store/experiments/2023-09-01_01-35-09_vsauce_ffmpeg/landmarks/032.pkl\n",
      "landmark_path:  /home/bean/DragVideo/Data_store/experiments/2023-09-01_01-35-09_vsauce_ffmpeg/landmarks/033.pkl\n",
      "landmark_path:  /home/bean/DragVideo/Data_store/experiments/2023-09-01_01-35-09_vsauce_ffmpeg/landmarks/034.pkl\n",
      "landmark_path:  /home/bean/DragVideo/Data_store/experiments/2023-09-01_01-35-09_vsauce_ffmpeg/landmarks/035.pkl\n",
      "landmark_path:  /home/bean/DragVideo/Data_store/experiments/2023-09-01_01-35-09_vsauce_ffmpeg/landmarks/036.pkl\n",
      "landmark_path:  /home/bean/DragVideo/Data_store/experiments/2023-09-01_01-35-09_vsauce_ffmpeg/landmarks/037.pkl\n",
      "landmark_path:  /home/bean/DragVideo/Data_store/experiments/2023-09-01_01-35-09_vsauce_ffmpeg/landmarks/038.pkl\n",
      "landmark_path:  /home/bean/DragVideo/Data_store/experiments/2023-09-01_01-35-09_vsauce_ffmpeg/landmarks/039.pkl\n",
      "landmark_path:  /home/bean/DragVideo/Data_store/experiments/2023-09-01_01-35-09_vsauce_ffmpeg/landmarks/040.pkl\n",
      "landmark_path:  /home/bean/DragVideo/Data_store/experiments/2023-09-01_01-35-09_vsauce_ffmpeg/landmarks/041.pkl\n",
      "landmark_path:  /home/bean/DragVideo/Data_store/experiments/2023-09-01_01-35-09_vsauce_ffmpeg/landmarks/042.pkl\n",
      "landmark_path:  /home/bean/DragVideo/Data_store/experiments/2023-09-01_01-35-09_vsauce_ffmpeg/landmarks/044.pkl\n",
      "landmark_path:  /home/bean/DragVideo/Data_store/experiments/2023-09-01_01-35-09_vsauce_ffmpeg/landmarks/045.pkl\n",
      "landmark_path:  /home/bean/DragVideo/Data_store/experiments/2023-09-01_01-35-09_vsauce_ffmpeg/landmarks/046.pkl\n",
      "landmark_path:  /home/bean/DragVideo/Data_store/experiments/2023-09-01_01-35-09_vsauce_ffmpeg/landmarks/047.pkl\n",
      "landmark_path:  /home/bean/DragVideo/Data_store/experiments/2023-09-01_01-35-09_vsauce_ffmpeg/landmarks/048.pkl\n",
      "landmark_path:  /home/bean/DragVideo/Data_store/experiments/2023-09-01_01-35-09_vsauce_ffmpeg/landmarks/049.pkl\n",
      "landmark_path:  /home/bean/DragVideo/Data_store/experiments/2023-09-01_01-35-09_vsauce_ffmpeg/landmarks/050.pkl\n",
      "landmark_path:  /home/bean/DragVideo/Data_store/experiments/2023-09-01_01-35-09_vsauce_ffmpeg/landmarks/051.pkl\n",
      "landmark_path:  /home/bean/DragVideo/Data_store/experiments/2023-09-01_01-35-09_vsauce_ffmpeg/landmarks/052.pkl\n",
      "landmark_path:  /home/bean/DragVideo/Data_store/experiments/2023-09-01_01-35-09_vsauce_ffmpeg/landmarks/053.pkl\n",
      "landmark_path:  /home/bean/DragVideo/Data_store/experiments/2023-09-01_01-35-09_vsauce_ffmpeg/landmarks/054.pkl\n",
      "landmark_path:  /home/bean/DragVideo/Data_store/experiments/2023-09-01_01-35-09_vsauce_ffmpeg/landmarks/055.pkl\n",
      "landmark_path:  /home/bean/DragVideo/Data_store/experiments/2023-09-01_01-35-09_vsauce_ffmpeg/landmarks/056.pkl\n",
      "landmark_path:  /home/bean/DragVideo/Data_store/experiments/2023-09-01_01-35-09_vsauce_ffmpeg/landmarks/057.pkl\n",
      "landmark_path:  /home/bean/DragVideo/Data_store/experiments/2023-09-01_01-35-09_vsauce_ffmpeg/landmarks/058.pkl\n",
      "landmark_path:  /home/bean/DragVideo/Data_store/experiments/2023-09-01_01-35-09_vsauce_ffmpeg/landmarks/059.pkl\n",
      "landmark_path:  /home/bean/DragVideo/Data_store/experiments/2023-09-01_01-35-09_vsauce_ffmpeg/landmarks/060.pkl\n",
      "landmark_path:  /home/bean/DragVideo/Data_store/experiments/2023-09-01_01-35-09_vsauce_ffmpeg/landmarks/061.pkl\n",
      "landmark_path:  /home/bean/DragVideo/Data_store/experiments/2023-09-01_01-35-09_vsauce_ffmpeg/landmarks/062.pkl\n",
      "landmark_path:  /home/bean/DragVideo/Data_store/experiments/2023-09-01_01-35-09_vsauce_ffmpeg/landmarks/063.pkl\n",
      "landmark_path:  /home/bean/DragVideo/Data_store/experiments/2023-09-01_01-35-09_vsauce_ffmpeg/landmarks/064.pkl\n",
      "landmark_path:  /home/bean/DragVideo/Data_store/experiments/2023-09-01_01-35-09_vsauce_ffmpeg/landmarks/066.pkl\n",
      "landmark_path:  /home/bean/DragVideo/Data_store/experiments/2023-09-01_01-35-09_vsauce_ffmpeg/landmarks/067.pkl\n",
      "landmark_path:  /home/bean/DragVideo/Data_store/experiments/2023-09-01_01-35-09_vsauce_ffmpeg/landmarks/068.pkl\n",
      "landmark_path:  /home/bean/DragVideo/Data_store/experiments/2023-09-01_01-35-09_vsauce_ffmpeg/landmarks/069.pkl\n",
      "landmark_path:  /home/bean/DragVideo/Data_store/experiments/2023-09-01_01-35-09_vsauce_ffmpeg/landmarks/070.pkl\n",
      "landmark_path:  /home/bean/DragVideo/Data_store/experiments/2023-09-01_01-35-09_vsauce_ffmpeg/landmarks/071.pkl\n",
      "landmark_path:  /home/bean/DragVideo/Data_store/experiments/2023-09-01_01-35-09_vsauce_ffmpeg/landmarks/072.pkl\n",
      "landmark_path:  /home/bean/DragVideo/Data_store/experiments/2023-09-01_01-35-09_vsauce_ffmpeg/landmarks/073.pkl\n",
      "landmark_path:  /home/bean/DragVideo/Data_store/experiments/2023-09-01_01-35-09_vsauce_ffmpeg/landmarks/074.pkl\n",
      "landmark_path:  /home/bean/DragVideo/Data_store/experiments/2023-09-01_01-35-09_vsauce_ffmpeg/landmarks/075.pkl\n",
      "landmark_path:  /home/bean/DragVideo/Data_store/experiments/2023-09-01_01-35-09_vsauce_ffmpeg/landmarks/076.pkl\n",
      "landmark_path:  /home/bean/DragVideo/Data_store/experiments/2023-09-01_01-35-09_vsauce_ffmpeg/landmarks/077.pkl\n",
      "landmark_path:  /home/bean/DragVideo/Data_store/experiments/2023-09-01_01-35-09_vsauce_ffmpeg/landmarks/078.pkl\n",
      "landmark_path:  /home/bean/DragVideo/Data_store/experiments/2023-09-01_01-35-09_vsauce_ffmpeg/landmarks/079.pkl\n",
      "landmark_path:  /home/bean/DragVideo/Data_store/experiments/2023-09-01_01-35-09_vsauce_ffmpeg/landmarks/080.pkl\n",
      "landmark_path:  /home/bean/DragVideo/Data_store/experiments/2023-09-01_01-35-09_vsauce_ffmpeg/landmarks/081.pkl\n",
      "landmark_path:  /home/bean/DragVideo/Data_store/experiments/2023-09-01_01-35-09_vsauce_ffmpeg/landmarks/082.pkl\n",
      "landmark_path:  /home/bean/DragVideo/Data_store/experiments/2023-09-01_01-35-09_vsauce_ffmpeg/landmarks/083.pkl\n",
      "landmark_path:  /home/bean/DragVideo/Data_store/experiments/2023-09-01_01-35-09_vsauce_ffmpeg/landmarks/084.pkl\n",
      "landmark_path:  /home/bean/DragVideo/Data_store/experiments/2023-09-01_01-35-09_vsauce_ffmpeg/landmarks/085.pkl\n",
      "landmark_path:  /home/bean/DragVideo/Data_store/experiments/2023-09-01_01-35-09_vsauce_ffmpeg/landmarks/087.pkl\n",
      "landmark_path:  /home/bean/DragVideo/Data_store/experiments/2023-09-01_01-35-09_vsauce_ffmpeg/landmarks/088.pkl\n",
      "landmark_path:  /home/bean/DragVideo/Data_store/experiments/2023-09-01_01-35-09_vsauce_ffmpeg/landmarks/089.pkl\n",
      "landmark_path:  /home/bean/DragVideo/Data_store/experiments/2023-09-01_01-35-09_vsauce_ffmpeg/landmarks/090.pkl\n",
      "landmark_path:  /home/bean/DragVideo/Data_store/experiments/2023-09-01_01-35-09_vsauce_ffmpeg/landmarks/091.pkl\n",
      "landmark_path:  /home/bean/DragVideo/Data_store/experiments/2023-09-01_01-35-09_vsauce_ffmpeg/landmarks/092.pkl\n",
      "landmark_path:  /home/bean/DragVideo/Data_store/experiments/2023-09-01_01-35-09_vsauce_ffmpeg/landmarks/093.pkl\n",
      "landmark_path:  /home/bean/DragVideo/Data_store/experiments/2023-09-01_01-35-09_vsauce_ffmpeg/landmarks/094.pkl\n",
      "landmark_path:  /home/bean/DragVideo/Data_store/experiments/2023-09-01_01-35-09_vsauce_ffmpeg/landmarks/095.pkl\n",
      "landmark_path:  /home/bean/DragVideo/Data_store/experiments/2023-09-01_01-35-09_vsauce_ffmpeg/landmarks/096.pkl\n",
      "landmark_path:  /home/bean/DragVideo/Data_store/experiments/2023-09-01_01-35-09_vsauce_ffmpeg/landmarks/097.pkl\n",
      "landmark_path:  /home/bean/DragVideo/Data_store/experiments/2023-09-01_01-35-09_vsauce_ffmpeg/landmarks/098.pkl\n",
      "landmark_path:  /home/bean/DragVideo/Data_store/experiments/2023-09-01_01-35-09_vsauce_ffmpeg/landmarks/099.pkl\n",
      "landmark_path:  /home/bean/DragVideo/Data_store/experiments/2023-09-01_01-35-09_vsauce_ffmpeg/landmarks/100.pkl\n",
      "landmark_path:  /home/bean/DragVideo/Data_store/experiments/2023-09-01_01-35-09_vsauce_ffmpeg/landmarks/101.pkl\n",
      "landmark_path:  /home/bean/DragVideo/Data_store/experiments/2023-09-01_01-35-09_vsauce_ffmpeg/landmarks/102.pkl\n",
      "landmark_path:  /home/bean/DragVideo/Data_store/experiments/2023-09-01_01-35-09_vsauce_ffmpeg/landmarks/103.pkl\n",
      "landmark_path:  /home/bean/DragVideo/Data_store/experiments/2023-09-01_01-35-09_vsauce_ffmpeg/landmarks/104.pkl\n",
      "landmark_path:  /home/bean/DragVideo/Data_store/experiments/2023-09-01_01-35-09_vsauce_ffmpeg/landmarks/105.pkl\n",
      "landmark_path:  /home/bean/DragVideo/Data_store/experiments/2023-09-01_01-35-09_vsauce_ffmpeg/landmarks/106.pkl\n",
      "landmark_path:  /home/bean/DragVideo/Data_store/experiments/2023-09-01_01-35-09_vsauce_ffmpeg/landmarks/021.pkl\n",
      "landmark_path:  /home/bean/DragVideo/Data_store/experiments/2023-09-01_01-35-09_vsauce_ffmpeg/landmarks/043.pkl\n",
      "landmark_path:  /home/bean/DragVideo/Data_store/experiments/2023-09-01_01-35-09_vsauce_ffmpeg/landmarks/065.pkl\n",
      "landmark_path:  /home/bean/DragVideo/Data_store/experiments/2023-09-01_01-35-09_vsauce_ffmpeg/landmarks/086.pkl\n",
      "landmark_path:  /home/bean/DragVideo/Data_store/experiments/2023-09-01_01-35-09_vsauce_ffmpeg/landmarks/107.pkl\n",
      "landmark_path:  /home/bean/DragVideo/Data_store/experiments/2023-09-01_01-35-09_vsauce_ffmpeg/landmarks/108.pkl\n",
      "landmark_path:  /home/bean/DragVideo/Data_store/experiments/2023-09-01_01-35-09_vsauce_ffmpeg/landmarks/109.pkl\n",
      "landmark_path:  /home/bean/DragVideo/Data_store/experiments/2023-09-01_01-35-09_vsauce_ffmpeg/landmarks/110.pkl\n",
      "landmark_path:  /home/bean/DragVideo/Data_store/experiments/2023-09-01_01-35-09_vsauce_ffmpeg/landmarks/111.pkl\n",
      "landmark_path:  /home/bean/DragVideo/Data_store/experiments/2023-09-01_01-35-09_vsauce_ffmpeg/landmarks/112.pkl\n",
      "landmark_path:  /home/bean/DragVideo/Data_store/experiments/2023-09-01_01-35-09_vsauce_ffmpeg/landmarks/113.pkl\n",
      "landmark_path:  /home/bean/DragVideo/Data_store/experiments/2023-09-01_01-35-09_vsauce_ffmpeg/landmarks/114.pkl\n",
      "landmark_path:  /home/bean/DragVideo/Data_store/experiments/2023-09-01_01-35-09_vsauce_ffmpeg/landmarks/115.pkl\n",
      "landmark_path:  /home/bean/DragVideo/Data_store/experiments/2023-09-01_01-35-09_vsauce_ffmpeg/landmarks/116.pkl\n",
      "landmark_path:  /home/bean/DragVideo/Data_store/experiments/2023-09-01_01-35-09_vsauce_ffmpeg/landmarks/117.pkl\n",
      "landmark_path:  /home/bean/DragVideo/Data_store/experiments/2023-09-01_01-35-09_vsauce_ffmpeg/landmarks/118.pkl\n",
      "landmark_path:  /home/bean/DragVideo/Data_store/experiments/2023-09-01_01-35-09_vsauce_ffmpeg/landmarks/119.pkl\n",
      "landmark_path:  /home/bean/DragVideo/Data_store/experiments/2023-09-01_01-35-09_vsauce_ffmpeg/landmarks/120.pkl\n",
      "landmark_path:  /home/bean/DragVideo/Data_store/experiments/2023-09-01_01-35-09_vsauce_ffmpeg/landmarks/121.pkl\n",
      "landmark_path:  /home/bean/DragVideo/Data_store/experiments/2023-09-01_01-35-09_vsauce_ffmpeg/landmarks/122.pkl\n",
      "landmark_path:  /home/bean/DragVideo/Data_store/experiments/2023-09-01_01-35-09_vsauce_ffmpeg/landmarks/123.pkl\n",
      "landmark_path:  /home/bean/DragVideo/Data_store/experiments/2023-09-01_01-35-09_vsauce_ffmpeg/landmarks/124.pkl\n",
      "landmark_path:  /home/bean/DragVideo/Data_store/experiments/2023-09-01_01-35-09_vsauce_ffmpeg/landmarks/125.pkl\n",
      "landmark_path:  /home/bean/DragVideo/Data_store/experiments/2023-09-01_01-35-09_vsauce_ffmpeg/landmarks/126.pkl\n",
      "landmark_path:  /home/bean/DragVideo/Data_store/experiments/2023-09-01_01-35-09_vsauce_ffmpeg/landmarks/127.pkl\n",
      "landmark_path:  /home/bean/DragVideo/Data_store/experiments/2023-09-01_01-35-09_vsauce_ffmpeg/landmarks/128.pkl\n",
      "landmark_path:  /home/bean/DragVideo/Data_store/experiments/2023-09-01_01-35-09_vsauce_ffmpeg/landmarks/129.pkl\n"
     ]
    }
   ],
   "source": [
    "from utils.align_data import pre_process_images\n",
    "from scripts.run_pti import run_PTI\n",
    "\n",
    "from run_utils_2 import load_generators,export_updated_pickle\n",
    "from configs import paths_config\n",
    "\n",
    "use_multi_id_training = True\n",
    "model_id = run_PTI(use_wandb=False, use_multi_id_training=use_multi_id_training)\n",
    "\n",
    "generator_type =paths_config.multi_id_model_type if use_multi_id_training else \"__\"\n",
    "old_G, new_G = load_generators(model_id, generator_type)\n",
    "sg_tuned_pkl = export_updated_pickle(new_G,model_id,name = lazy_config[\"model_name\"])\n",
    "\n",
    "# print(sg_tuned_pkl) # 'QBUXQCXZGWET'\n",
    "\n",
    "\n",
    "\n",
    "#get landmarks\n",
    "landmark_path = f\"{DRAGVIDEO_ROOT_PATH}DragVideo/DragGAN/_facial-landmarks-recognition\"\n",
    "os.chdir(landmark_path)\n",
    "print(\"pwd\",os.getcwd())\n",
    "import sys\n",
    "sys.path.append(landmark_path)\n",
    "\n",
    "from main import landmarks, dict_landmarks,show_landmarks,get_landmarks_dir\n",
    "\n",
    "# to store landmarks\n",
    "landmarks_dir =  os.path.join(Experiment_path,'landmarks')\n",
    "processed_images_dir =  os.path.join(Experiment_path,'aligned')\n",
    "\n",
    "# generate landmarks for all images in processed_images_dir\n",
    "get_landmarks_dir(processed_images_dir,landmarks_dir)\n"
   ]
  },
  {
   "cell_type": "markdown",
   "metadata": {},
   "source": [
    "# Runs draggan \n",
    "all the the below cells use only these config values"
   ]
  },
  {
   "cell_type": "code",
   "execution_count": 10,
   "metadata": {},
   "outputs": [],
   "source": [
    "# util function to copy an experiment dir\n",
    "def copy_exp_dir(exp_src):\n",
    "    import shutil\n",
    "    exp_dst = exp_src+\"_copy\"\n",
    "    shutil.copytree(exp_src, exp_dst)\n",
    "    return exp_dst\n",
    "    \n",
    "# copy_exp_dir(\"/home/bean/DragVideo/Data_store/experiments/_SAVE_vsauce_ffmpeg_untuned_sg\")"
   ]
  },
  {
   "cell_type": "code",
   "execution_count": 11,
   "metadata": {},
   "outputs": [],
   "source": [
    "# #Run first config cells, then run this\n",
    "# if True:\n",
    "#     # just to run draggan seperately\n",
    "#     import os \n",
    "#     a = \"/home/bean/DragVideo/Data_store/experiments/sept_1\"\n",
    "#     b = \"/home/bean/DragVideo/Data_store/experiments/sept_1/tuned_SG/stylegan3_NXHOAZADQKTA.pkl\"\n",
    "    \n",
    "#     Experiment_path = a# f\"/home/bean/DragVideo/Data_store/experiments/{lazy_config['EXP_NAME']}\"\t\n",
    "#     sg_tuned_pkl = b #new[\"SG\"]\n",
    "\n",
    "\n",
    "#     lazy_config[\"N_STEPS_in_draggan\"]=\"150\"\n",
    "#     lazy_config[\"editing_function_name\"]= \"smile\"#\"make_jaw_wider\"#smile\"\n",
    "#     lazy_config[\"IMAGE_SIZE\"]=\"1024\"\n",
    "\n",
    "# # /home/bean/DragVideo/Data_store/experiments/sept_1/latents/0.pt\n",
    "# # /home/bean/DragVideo/Data_store/experiments/_SAVE_vsauce_frnd_120_frames_wide_nose_with_border/latents/barcelona/PTI/000/0.pt"
   ]
  },
  {
   "cell_type": "code",
   "execution_count": 12,
   "metadata": {},
   "outputs": [],
   "source": [
    "lazy_config[\"N_STEPS_in_draggan\"]=\"150\"\n"
   ]
  },
  {
   "cell_type": "code",
   "execution_count": 13,
   "metadata": {},
   "outputs": [
    {
     "name": "stdout",
     "output_type": "stream",
     "text": [
      "sg_tuned_pkl: /home/bean/DragVideo/Data_store/experiments/2023-09-01_01-35-09_vsauce_ffmpeg/tuned_SG/stylegan2_FGPUAOCZJFFK.pkl\n"
     ]
    },
    {
     "name": "stdout",
     "output_type": "stream",
     "text": [
      "editing_function_name: smile\n",
      "Total 130 images to be processed\n",
      "intiating global state....\n",
      "calling init_images......\n",
      "Loading \"/home/bean/DragVideo/Data_store/experiments/2023-09-01_01-35-09_vsauce_ffmpeg/tuned_SG/stylegan2_FGPUAOCZJFFK.pkl\"... Done.\n",
      "()\n",
      "{'z_dim': 512, 'c_dim': 0, 'w_dim': 512, 'img_resolution': 1024, 'img_channels': 3, 'mapping_kwargs': {'num_layers': 8, 'embed_features': None, 'layer_features': None, 'activation': 'lrelu', 'lr_multiplier': 0.01, 'w_avg_beta': 0.995}, 'synthesis_kwargs': {'channel_base': 32768, 'channel_max': 512, 'num_fp16_res': 4, 'conv_clamp': 256, 'architecture': 'skip', 'resample_filter': [1, 3, 3, 1], 'use_noise': True, 'activation': 'lrelu'}}\n",
      "Setting up PyTorch plugin \"bias_act_plugin\"... Done.\n",
      "Setting up PyTorch plugin \"upfirdn2d_plugin\"... Done.\n"
     ]
    },
    {
     "name": "stderr",
     "output_type": "stream",
     "text": [
      "  0%|          | 0/150 [00:00<?, ?it/s]/home/bean/.conda/envs/stylegan3/lib/python3.9/site-packages/torch/functional.py:504: UserWarning: torch.meshgrid: in an upcoming release, it will be required to pass the indexing argument. (Triggered internally at /opt/conda/conda-bld/pytorch_1682343964576/work/aten/src/ATen/native/TensorShape.cpp:3483.)\n",
      "  return _VF.meshgrid(tensors, **kwargs)  # type: ignore[attr-defined]\n",
      "100%|██████████| 150/150 [00:34<00:00,  4.33it/s]\n"
     ]
    },
    {
     "name": "stdout",
     "output_type": "stream",
     "text": [
      "intiating global state....\n",
      "calling init_images......\n",
      "Loading \"/home/bean/DragVideo/Data_store/experiments/2023-09-01_01-35-09_vsauce_ffmpeg/tuned_SG/stylegan2_FGPUAOCZJFFK.pkl\"... Done.\n",
      "()\n",
      "{'z_dim': 512, 'c_dim': 0, 'w_dim': 512, 'img_resolution': 1024, 'img_channels': 3, 'mapping_kwargs': {'num_layers': 8, 'embed_features': None, 'layer_features': None, 'activation': 'lrelu', 'lr_multiplier': 0.01, 'w_avg_beta': 0.995}, 'synthesis_kwargs': {'channel_base': 32768, 'channel_max': 512, 'num_fp16_res': 4, 'conv_clamp': 256, 'architecture': 'skip', 'resample_filter': [1, 3, 3, 1], 'use_noise': True, 'activation': 'lrelu'}}\n"
     ]
    },
    {
     "name": "stderr",
     "output_type": "stream",
     "text": [
      "100%|██████████| 150/150 [00:34<00:00,  4.37it/s]\n"
     ]
    },
    {
     "name": "stdout",
     "output_type": "stream",
     "text": [
      "intiating global state....\n",
      "calling init_images......\n",
      "Loading \"/home/bean/DragVideo/Data_store/experiments/2023-09-01_01-35-09_vsauce_ffmpeg/tuned_SG/stylegan2_FGPUAOCZJFFK.pkl\"... Done.\n",
      "()\n",
      "{'z_dim': 512, 'c_dim': 0, 'w_dim': 512, 'img_resolution': 1024, 'img_channels': 3, 'mapping_kwargs': {'num_layers': 8, 'embed_features': None, 'layer_features': None, 'activation': 'lrelu', 'lr_multiplier': 0.01, 'w_avg_beta': 0.995}, 'synthesis_kwargs': {'channel_base': 32768, 'channel_max': 512, 'num_fp16_res': 4, 'conv_clamp': 256, 'architecture': 'skip', 'resample_filter': [1, 3, 3, 1], 'use_noise': True, 'activation': 'lrelu'}}\n"
     ]
    },
    {
     "name": "stderr",
     "output_type": "stream",
     "text": [
      "100%|██████████| 150/150 [00:34<00:00,  4.37it/s]\n"
     ]
    },
    {
     "name": "stdout",
     "output_type": "stream",
     "text": [
      "intiating global state....\n",
      "calling init_images......\n",
      "Loading \"/home/bean/DragVideo/Data_store/experiments/2023-09-01_01-35-09_vsauce_ffmpeg/tuned_SG/stylegan2_FGPUAOCZJFFK.pkl\"... Done.\n",
      "()\n",
      "{'z_dim': 512, 'c_dim': 0, 'w_dim': 512, 'img_resolution': 1024, 'img_channels': 3, 'mapping_kwargs': {'num_layers': 8, 'embed_features': None, 'layer_features': None, 'activation': 'lrelu', 'lr_multiplier': 0.01, 'w_avg_beta': 0.995}, 'synthesis_kwargs': {'channel_base': 32768, 'channel_max': 512, 'num_fp16_res': 4, 'conv_clamp': 256, 'architecture': 'skip', 'resample_filter': [1, 3, 3, 1], 'use_noise': True, 'activation': 'lrelu'}}\n"
     ]
    },
    {
     "name": "stderr",
     "output_type": "stream",
     "text": [
      "100%|██████████| 150/150 [00:34<00:00,  4.31it/s]\n"
     ]
    },
    {
     "name": "stdout",
     "output_type": "stream",
     "text": [
      "intiating global state....\n",
      "calling init_images......\n",
      "Loading \"/home/bean/DragVideo/Data_store/experiments/2023-09-01_01-35-09_vsauce_ffmpeg/tuned_SG/stylegan2_FGPUAOCZJFFK.pkl\"... Done.\n",
      "()\n",
      "{'z_dim': 512, 'c_dim': 0, 'w_dim': 512, 'img_resolution': 1024, 'img_channels': 3, 'mapping_kwargs': {'num_layers': 8, 'embed_features': None, 'layer_features': None, 'activation': 'lrelu', 'lr_multiplier': 0.01, 'w_avg_beta': 0.995}, 'synthesis_kwargs': {'channel_base': 32768, 'channel_max': 512, 'num_fp16_res': 4, 'conv_clamp': 256, 'architecture': 'skip', 'resample_filter': [1, 3, 3, 1], 'use_noise': True, 'activation': 'lrelu'}}\n"
     ]
    },
    {
     "name": "stderr",
     "output_type": "stream",
     "text": [
      "100%|██████████| 150/150 [00:36<00:00,  4.07it/s]\n"
     ]
    },
    {
     "name": "stdout",
     "output_type": "stream",
     "text": [
      "intiating global state....\n",
      "calling init_images......\n",
      "Loading \"/home/bean/DragVideo/Data_store/experiments/2023-09-01_01-35-09_vsauce_ffmpeg/tuned_SG/stylegan2_FGPUAOCZJFFK.pkl\"... Done.\n",
      "()\n",
      "{'z_dim': 512, 'c_dim': 0, 'w_dim': 512, 'img_resolution': 1024, 'img_channels': 3, 'mapping_kwargs': {'num_layers': 8, 'embed_features': None, 'layer_features': None, 'activation': 'lrelu', 'lr_multiplier': 0.01, 'w_avg_beta': 0.995}, 'synthesis_kwargs': {'channel_base': 32768, 'channel_max': 512, 'num_fp16_res': 4, 'conv_clamp': 256, 'architecture': 'skip', 'resample_filter': [1, 3, 3, 1], 'use_noise': True, 'activation': 'lrelu'}}\n"
     ]
    },
    {
     "name": "stderr",
     "output_type": "stream",
     "text": [
      "100%|██████████| 150/150 [00:36<00:00,  4.17it/s]\n"
     ]
    },
    {
     "name": "stdout",
     "output_type": "stream",
     "text": [
      "intiating global state....\n",
      "calling init_images......\n",
      "Loading \"/home/bean/DragVideo/Data_store/experiments/2023-09-01_01-35-09_vsauce_ffmpeg/tuned_SG/stylegan2_FGPUAOCZJFFK.pkl\"... Done.\n",
      "()\n",
      "{'z_dim': 512, 'c_dim': 0, 'w_dim': 512, 'img_resolution': 1024, 'img_channels': 3, 'mapping_kwargs': {'num_layers': 8, 'embed_features': None, 'layer_features': None, 'activation': 'lrelu', 'lr_multiplier': 0.01, 'w_avg_beta': 0.995}, 'synthesis_kwargs': {'channel_base': 32768, 'channel_max': 512, 'num_fp16_res': 4, 'conv_clamp': 256, 'architecture': 'skip', 'resample_filter': [1, 3, 3, 1], 'use_noise': True, 'activation': 'lrelu'}}\n"
     ]
    },
    {
     "name": "stderr",
     "output_type": "stream",
     "text": [
      "100%|██████████| 150/150 [00:34<00:00,  4.34it/s]\n"
     ]
    },
    {
     "name": "stdout",
     "output_type": "stream",
     "text": [
      "intiating global state....\n",
      "calling init_images......\n",
      "Loading \"/home/bean/DragVideo/Data_store/experiments/2023-09-01_01-35-09_vsauce_ffmpeg/tuned_SG/stylegan2_FGPUAOCZJFFK.pkl\"... Done.\n",
      "()\n",
      "{'z_dim': 512, 'c_dim': 0, 'w_dim': 512, 'img_resolution': 1024, 'img_channels': 3, 'mapping_kwargs': {'num_layers': 8, 'embed_features': None, 'layer_features': None, 'activation': 'lrelu', 'lr_multiplier': 0.01, 'w_avg_beta': 0.995}, 'synthesis_kwargs': {'channel_base': 32768, 'channel_max': 512, 'num_fp16_res': 4, 'conv_clamp': 256, 'architecture': 'skip', 'resample_filter': [1, 3, 3, 1], 'use_noise': True, 'activation': 'lrelu'}}\n"
     ]
    },
    {
     "name": "stderr",
     "output_type": "stream",
     "text": [
      "100%|██████████| 150/150 [00:34<00:00,  4.39it/s]\n"
     ]
    },
    {
     "name": "stdout",
     "output_type": "stream",
     "text": [
      "intiating global state....\n",
      "calling init_images......\n",
      "Loading \"/home/bean/DragVideo/Data_store/experiments/2023-09-01_01-35-09_vsauce_ffmpeg/tuned_SG/stylegan2_FGPUAOCZJFFK.pkl\"... Done.\n",
      "()\n",
      "{'z_dim': 512, 'c_dim': 0, 'w_dim': 512, 'img_resolution': 1024, 'img_channels': 3, 'mapping_kwargs': {'num_layers': 8, 'embed_features': None, 'layer_features': None, 'activation': 'lrelu', 'lr_multiplier': 0.01, 'w_avg_beta': 0.995}, 'synthesis_kwargs': {'channel_base': 32768, 'channel_max': 512, 'num_fp16_res': 4, 'conv_clamp': 256, 'architecture': 'skip', 'resample_filter': [1, 3, 3, 1], 'use_noise': True, 'activation': 'lrelu'}}\n"
     ]
    },
    {
     "name": "stderr",
     "output_type": "stream",
     "text": [
      "100%|██████████| 150/150 [00:35<00:00,  4.24it/s]\n"
     ]
    },
    {
     "name": "stdout",
     "output_type": "stream",
     "text": [
      "intiating global state....\n",
      "calling init_images......\n",
      "Loading \"/home/bean/DragVideo/Data_store/experiments/2023-09-01_01-35-09_vsauce_ffmpeg/tuned_SG/stylegan2_FGPUAOCZJFFK.pkl\"... Done.\n",
      "()\n",
      "{'z_dim': 512, 'c_dim': 0, 'w_dim': 512, 'img_resolution': 1024, 'img_channels': 3, 'mapping_kwargs': {'num_layers': 8, 'embed_features': None, 'layer_features': None, 'activation': 'lrelu', 'lr_multiplier': 0.01, 'w_avg_beta': 0.995}, 'synthesis_kwargs': {'channel_base': 32768, 'channel_max': 512, 'num_fp16_res': 4, 'conv_clamp': 256, 'architecture': 'skip', 'resample_filter': [1, 3, 3, 1], 'use_noise': True, 'activation': 'lrelu'}}\n"
     ]
    },
    {
     "name": "stderr",
     "output_type": "stream",
     "text": [
      "100%|██████████| 150/150 [00:34<00:00,  4.30it/s]\n"
     ]
    },
    {
     "name": "stdout",
     "output_type": "stream",
     "text": [
      "intiating global state....\n",
      "calling init_images......\n",
      "Loading \"/home/bean/DragVideo/Data_store/experiments/2023-09-01_01-35-09_vsauce_ffmpeg/tuned_SG/stylegan2_FGPUAOCZJFFK.pkl\"... Done.\n",
      "()\n",
      "{'z_dim': 512, 'c_dim': 0, 'w_dim': 512, 'img_resolution': 1024, 'img_channels': 3, 'mapping_kwargs': {'num_layers': 8, 'embed_features': None, 'layer_features': None, 'activation': 'lrelu', 'lr_multiplier': 0.01, 'w_avg_beta': 0.995}, 'synthesis_kwargs': {'channel_base': 32768, 'channel_max': 512, 'num_fp16_res': 4, 'conv_clamp': 256, 'architecture': 'skip', 'resample_filter': [1, 3, 3, 1], 'use_noise': True, 'activation': 'lrelu'}}\n"
     ]
    },
    {
     "name": "stderr",
     "output_type": "stream",
     "text": [
      "100%|██████████| 150/150 [00:34<00:00,  4.40it/s]\n"
     ]
    },
    {
     "name": "stdout",
     "output_type": "stream",
     "text": [
      "intiating global state....\n",
      "calling init_images......\n",
      "Loading \"/home/bean/DragVideo/Data_store/experiments/2023-09-01_01-35-09_vsauce_ffmpeg/tuned_SG/stylegan2_FGPUAOCZJFFK.pkl\"... Done.\n",
      "()\n",
      "{'z_dim': 512, 'c_dim': 0, 'w_dim': 512, 'img_resolution': 1024, 'img_channels': 3, 'mapping_kwargs': {'num_layers': 8, 'embed_features': None, 'layer_features': None, 'activation': 'lrelu', 'lr_multiplier': 0.01, 'w_avg_beta': 0.995}, 'synthesis_kwargs': {'channel_base': 32768, 'channel_max': 512, 'num_fp16_res': 4, 'conv_clamp': 256, 'architecture': 'skip', 'resample_filter': [1, 3, 3, 1], 'use_noise': True, 'activation': 'lrelu'}}\n"
     ]
    },
    {
     "name": "stderr",
     "output_type": "stream",
     "text": [
      "100%|██████████| 150/150 [00:33<00:00,  4.46it/s]\n"
     ]
    },
    {
     "name": "stdout",
     "output_type": "stream",
     "text": [
      "intiating global state....\n",
      "calling init_images......\n",
      "Loading \"/home/bean/DragVideo/Data_store/experiments/2023-09-01_01-35-09_vsauce_ffmpeg/tuned_SG/stylegan2_FGPUAOCZJFFK.pkl\"... Done.\n",
      "()\n",
      "{'z_dim': 512, 'c_dim': 0, 'w_dim': 512, 'img_resolution': 1024, 'img_channels': 3, 'mapping_kwargs': {'num_layers': 8, 'embed_features': None, 'layer_features': None, 'activation': 'lrelu', 'lr_multiplier': 0.01, 'w_avg_beta': 0.995}, 'synthesis_kwargs': {'channel_base': 32768, 'channel_max': 512, 'num_fp16_res': 4, 'conv_clamp': 256, 'architecture': 'skip', 'resample_filter': [1, 3, 3, 1], 'use_noise': True, 'activation': 'lrelu'}}\n"
     ]
    },
    {
     "name": "stderr",
     "output_type": "stream",
     "text": [
      "100%|██████████| 150/150 [00:33<00:00,  4.45it/s]\n"
     ]
    },
    {
     "name": "stdout",
     "output_type": "stream",
     "text": [
      "intiating global state....\n",
      "calling init_images......\n",
      "Loading \"/home/bean/DragVideo/Data_store/experiments/2023-09-01_01-35-09_vsauce_ffmpeg/tuned_SG/stylegan2_FGPUAOCZJFFK.pkl\"... Done.\n",
      "()\n",
      "{'z_dim': 512, 'c_dim': 0, 'w_dim': 512, 'img_resolution': 1024, 'img_channels': 3, 'mapping_kwargs': {'num_layers': 8, 'embed_features': None, 'layer_features': None, 'activation': 'lrelu', 'lr_multiplier': 0.01, 'w_avg_beta': 0.995}, 'synthesis_kwargs': {'channel_base': 32768, 'channel_max': 512, 'num_fp16_res': 4, 'conv_clamp': 256, 'architecture': 'skip', 'resample_filter': [1, 3, 3, 1], 'use_noise': True, 'activation': 'lrelu'}}\n"
     ]
    },
    {
     "name": "stderr",
     "output_type": "stream",
     "text": [
      "100%|██████████| 150/150 [00:34<00:00,  4.34it/s]\n"
     ]
    },
    {
     "name": "stdout",
     "output_type": "stream",
     "text": [
      "intiating global state....\n",
      "calling init_images......\n",
      "Loading \"/home/bean/DragVideo/Data_store/experiments/2023-09-01_01-35-09_vsauce_ffmpeg/tuned_SG/stylegan2_FGPUAOCZJFFK.pkl\"... Done.\n",
      "()\n",
      "{'z_dim': 512, 'c_dim': 0, 'w_dim': 512, 'img_resolution': 1024, 'img_channels': 3, 'mapping_kwargs': {'num_layers': 8, 'embed_features': None, 'layer_features': None, 'activation': 'lrelu', 'lr_multiplier': 0.01, 'w_avg_beta': 0.995}, 'synthesis_kwargs': {'channel_base': 32768, 'channel_max': 512, 'num_fp16_res': 4, 'conv_clamp': 256, 'architecture': 'skip', 'resample_filter': [1, 3, 3, 1], 'use_noise': True, 'activation': 'lrelu'}}\n"
     ]
    },
    {
     "name": "stderr",
     "output_type": "stream",
     "text": [
      "100%|██████████| 150/150 [00:34<00:00,  4.34it/s]\n"
     ]
    },
    {
     "name": "stdout",
     "output_type": "stream",
     "text": [
      "intiating global state....\n",
      "calling init_images......\n",
      "Loading \"/home/bean/DragVideo/Data_store/experiments/2023-09-01_01-35-09_vsauce_ffmpeg/tuned_SG/stylegan2_FGPUAOCZJFFK.pkl\"... Done.\n",
      "()\n",
      "{'z_dim': 512, 'c_dim': 0, 'w_dim': 512, 'img_resolution': 1024, 'img_channels': 3, 'mapping_kwargs': {'num_layers': 8, 'embed_features': None, 'layer_features': None, 'activation': 'lrelu', 'lr_multiplier': 0.01, 'w_avg_beta': 0.995}, 'synthesis_kwargs': {'channel_base': 32768, 'channel_max': 512, 'num_fp16_res': 4, 'conv_clamp': 256, 'architecture': 'skip', 'resample_filter': [1, 3, 3, 1], 'use_noise': True, 'activation': 'lrelu'}}\n"
     ]
    },
    {
     "name": "stderr",
     "output_type": "stream",
     "text": [
      "100%|██████████| 150/150 [00:34<00:00,  4.29it/s]\n"
     ]
    },
    {
     "name": "stdout",
     "output_type": "stream",
     "text": [
      "intiating global state....\n",
      "calling init_images......\n",
      "Loading \"/home/bean/DragVideo/Data_store/experiments/2023-09-01_01-35-09_vsauce_ffmpeg/tuned_SG/stylegan2_FGPUAOCZJFFK.pkl\"... Done.\n",
      "()\n",
      "{'z_dim': 512, 'c_dim': 0, 'w_dim': 512, 'img_resolution': 1024, 'img_channels': 3, 'mapping_kwargs': {'num_layers': 8, 'embed_features': None, 'layer_features': None, 'activation': 'lrelu', 'lr_multiplier': 0.01, 'w_avg_beta': 0.995}, 'synthesis_kwargs': {'channel_base': 32768, 'channel_max': 512, 'num_fp16_res': 4, 'conv_clamp': 256, 'architecture': 'skip', 'resample_filter': [1, 3, 3, 1], 'use_noise': True, 'activation': 'lrelu'}}\n"
     ]
    },
    {
     "name": "stderr",
     "output_type": "stream",
     "text": [
      "100%|██████████| 150/150 [00:30<00:00,  4.91it/s]\n"
     ]
    },
    {
     "name": "stdout",
     "output_type": "stream",
     "text": [
      "intiating global state....\n",
      "calling init_images......\n",
      "Loading \"/home/bean/DragVideo/Data_store/experiments/2023-09-01_01-35-09_vsauce_ffmpeg/tuned_SG/stylegan2_FGPUAOCZJFFK.pkl\"... Done.\n",
      "()\n",
      "{'z_dim': 512, 'c_dim': 0, 'w_dim': 512, 'img_resolution': 1024, 'img_channels': 3, 'mapping_kwargs': {'num_layers': 8, 'embed_features': None, 'layer_features': None, 'activation': 'lrelu', 'lr_multiplier': 0.01, 'w_avg_beta': 0.995}, 'synthesis_kwargs': {'channel_base': 32768, 'channel_max': 512, 'num_fp16_res': 4, 'conv_clamp': 256, 'architecture': 'skip', 'resample_filter': [1, 3, 3, 1], 'use_noise': True, 'activation': 'lrelu'}}\n"
     ]
    },
    {
     "name": "stderr",
     "output_type": "stream",
     "text": [
      "100%|██████████| 150/150 [00:24<00:00,  6.12it/s]\n"
     ]
    },
    {
     "name": "stdout",
     "output_type": "stream",
     "text": [
      "intiating global state....\n",
      "calling init_images......\n",
      "Loading \"/home/bean/DragVideo/Data_store/experiments/2023-09-01_01-35-09_vsauce_ffmpeg/tuned_SG/stylegan2_FGPUAOCZJFFK.pkl\"... Done.\n",
      "()\n",
      "{'z_dim': 512, 'c_dim': 0, 'w_dim': 512, 'img_resolution': 1024, 'img_channels': 3, 'mapping_kwargs': {'num_layers': 8, 'embed_features': None, 'layer_features': None, 'activation': 'lrelu', 'lr_multiplier': 0.01, 'w_avg_beta': 0.995}, 'synthesis_kwargs': {'channel_base': 32768, 'channel_max': 512, 'num_fp16_res': 4, 'conv_clamp': 256, 'architecture': 'skip', 'resample_filter': [1, 3, 3, 1], 'use_noise': True, 'activation': 'lrelu'}}\n"
     ]
    },
    {
     "name": "stderr",
     "output_type": "stream",
     "text": [
      "100%|██████████| 150/150 [00:33<00:00,  4.42it/s]\n"
     ]
    },
    {
     "name": "stdout",
     "output_type": "stream",
     "text": [
      "intiating global state....\n",
      "calling init_images......\n",
      "Loading \"/home/bean/DragVideo/Data_store/experiments/2023-09-01_01-35-09_vsauce_ffmpeg/tuned_SG/stylegan2_FGPUAOCZJFFK.pkl\"... Done.\n",
      "()\n",
      "{'z_dim': 512, 'c_dim': 0, 'w_dim': 512, 'img_resolution': 1024, 'img_channels': 3, 'mapping_kwargs': {'num_layers': 8, 'embed_features': None, 'layer_features': None, 'activation': 'lrelu', 'lr_multiplier': 0.01, 'w_avg_beta': 0.995}, 'synthesis_kwargs': {'channel_base': 32768, 'channel_max': 512, 'num_fp16_res': 4, 'conv_clamp': 256, 'architecture': 'skip', 'resample_filter': [1, 3, 3, 1], 'use_noise': True, 'activation': 'lrelu'}}\n"
     ]
    },
    {
     "name": "stderr",
     "output_type": "stream",
     "text": [
      "100%|██████████| 150/150 [00:33<00:00,  4.51it/s]\n"
     ]
    },
    {
     "name": "stdout",
     "output_type": "stream",
     "text": [
      "intiating global state....\n",
      "calling init_images......\n",
      "Loading \"/home/bean/DragVideo/Data_store/experiments/2023-09-01_01-35-09_vsauce_ffmpeg/tuned_SG/stylegan2_FGPUAOCZJFFK.pkl\"... Done.\n",
      "()\n",
      "{'z_dim': 512, 'c_dim': 0, 'w_dim': 512, 'img_resolution': 1024, 'img_channels': 3, 'mapping_kwargs': {'num_layers': 8, 'embed_features': None, 'layer_features': None, 'activation': 'lrelu', 'lr_multiplier': 0.01, 'w_avg_beta': 0.995}, 'synthesis_kwargs': {'channel_base': 32768, 'channel_max': 512, 'num_fp16_res': 4, 'conv_clamp': 256, 'architecture': 'skip', 'resample_filter': [1, 3, 3, 1], 'use_noise': True, 'activation': 'lrelu'}}\n"
     ]
    },
    {
     "name": "stderr",
     "output_type": "stream",
     "text": [
      "100%|██████████| 150/150 [00:34<00:00,  4.35it/s]\n"
     ]
    },
    {
     "name": "stdout",
     "output_type": "stream",
     "text": [
      "intiating global state....\n",
      "calling init_images......\n",
      "Loading \"/home/bean/DragVideo/Data_store/experiments/2023-09-01_01-35-09_vsauce_ffmpeg/tuned_SG/stylegan2_FGPUAOCZJFFK.pkl\"... Done.\n",
      "()\n",
      "{'z_dim': 512, 'c_dim': 0, 'w_dim': 512, 'img_resolution': 1024, 'img_channels': 3, 'mapping_kwargs': {'num_layers': 8, 'embed_features': None, 'layer_features': None, 'activation': 'lrelu', 'lr_multiplier': 0.01, 'w_avg_beta': 0.995}, 'synthesis_kwargs': {'channel_base': 32768, 'channel_max': 512, 'num_fp16_res': 4, 'conv_clamp': 256, 'architecture': 'skip', 'resample_filter': [1, 3, 3, 1], 'use_noise': True, 'activation': 'lrelu'}}\n"
     ]
    },
    {
     "name": "stderr",
     "output_type": "stream",
     "text": [
      "100%|██████████| 150/150 [00:34<00:00,  4.40it/s]\n"
     ]
    },
    {
     "name": "stdout",
     "output_type": "stream",
     "text": [
      "intiating global state....\n",
      "calling init_images......\n",
      "Loading \"/home/bean/DragVideo/Data_store/experiments/2023-09-01_01-35-09_vsauce_ffmpeg/tuned_SG/stylegan2_FGPUAOCZJFFK.pkl\"... Done.\n",
      "()\n",
      "{'z_dim': 512, 'c_dim': 0, 'w_dim': 512, 'img_resolution': 1024, 'img_channels': 3, 'mapping_kwargs': {'num_layers': 8, 'embed_features': None, 'layer_features': None, 'activation': 'lrelu', 'lr_multiplier': 0.01, 'w_avg_beta': 0.995}, 'synthesis_kwargs': {'channel_base': 32768, 'channel_max': 512, 'num_fp16_res': 4, 'conv_clamp': 256, 'architecture': 'skip', 'resample_filter': [1, 3, 3, 1], 'use_noise': True, 'activation': 'lrelu'}}\n"
     ]
    },
    {
     "name": "stderr",
     "output_type": "stream",
     "text": [
      "100%|██████████| 150/150 [00:34<00:00,  4.39it/s]\n"
     ]
    },
    {
     "name": "stdout",
     "output_type": "stream",
     "text": [
      "intiating global state....\n",
      "calling init_images......\n",
      "Loading \"/home/bean/DragVideo/Data_store/experiments/2023-09-01_01-35-09_vsauce_ffmpeg/tuned_SG/stylegan2_FGPUAOCZJFFK.pkl\"... Done.\n",
      "()\n",
      "{'z_dim': 512, 'c_dim': 0, 'w_dim': 512, 'img_resolution': 1024, 'img_channels': 3, 'mapping_kwargs': {'num_layers': 8, 'embed_features': None, 'layer_features': None, 'activation': 'lrelu', 'lr_multiplier': 0.01, 'w_avg_beta': 0.995}, 'synthesis_kwargs': {'channel_base': 32768, 'channel_max': 512, 'num_fp16_res': 4, 'conv_clamp': 256, 'architecture': 'skip', 'resample_filter': [1, 3, 3, 1], 'use_noise': True, 'activation': 'lrelu'}}\n"
     ]
    },
    {
     "name": "stderr",
     "output_type": "stream",
     "text": [
      "100%|██████████| 150/150 [00:34<00:00,  4.36it/s]\n"
     ]
    },
    {
     "name": "stdout",
     "output_type": "stream",
     "text": [
      "intiating global state....\n",
      "calling init_images......\n",
      "Loading \"/home/bean/DragVideo/Data_store/experiments/2023-09-01_01-35-09_vsauce_ffmpeg/tuned_SG/stylegan2_FGPUAOCZJFFK.pkl\"... Done.\n",
      "()\n",
      "{'z_dim': 512, 'c_dim': 0, 'w_dim': 512, 'img_resolution': 1024, 'img_channels': 3, 'mapping_kwargs': {'num_layers': 8, 'embed_features': None, 'layer_features': None, 'activation': 'lrelu', 'lr_multiplier': 0.01, 'w_avg_beta': 0.995}, 'synthesis_kwargs': {'channel_base': 32768, 'channel_max': 512, 'num_fp16_res': 4, 'conv_clamp': 256, 'architecture': 'skip', 'resample_filter': [1, 3, 3, 1], 'use_noise': True, 'activation': 'lrelu'}}\n"
     ]
    },
    {
     "name": "stderr",
     "output_type": "stream",
     "text": [
      "100%|██████████| 150/150 [00:35<00:00,  4.27it/s]\n"
     ]
    },
    {
     "name": "stdout",
     "output_type": "stream",
     "text": [
      "intiating global state....\n",
      "calling init_images......\n",
      "Loading \"/home/bean/DragVideo/Data_store/experiments/2023-09-01_01-35-09_vsauce_ffmpeg/tuned_SG/stylegan2_FGPUAOCZJFFK.pkl\"... Done.\n",
      "()\n",
      "{'z_dim': 512, 'c_dim': 0, 'w_dim': 512, 'img_resolution': 1024, 'img_channels': 3, 'mapping_kwargs': {'num_layers': 8, 'embed_features': None, 'layer_features': None, 'activation': 'lrelu', 'lr_multiplier': 0.01, 'w_avg_beta': 0.995}, 'synthesis_kwargs': {'channel_base': 32768, 'channel_max': 512, 'num_fp16_res': 4, 'conv_clamp': 256, 'architecture': 'skip', 'resample_filter': [1, 3, 3, 1], 'use_noise': True, 'activation': 'lrelu'}}\n"
     ]
    },
    {
     "name": "stderr",
     "output_type": "stream",
     "text": [
      "100%|██████████| 150/150 [00:34<00:00,  4.32it/s]\n"
     ]
    },
    {
     "name": "stdout",
     "output_type": "stream",
     "text": [
      "intiating global state....\n",
      "calling init_images......\n",
      "Loading \"/home/bean/DragVideo/Data_store/experiments/2023-09-01_01-35-09_vsauce_ffmpeg/tuned_SG/stylegan2_FGPUAOCZJFFK.pkl\"... Done.\n",
      "()\n",
      "{'z_dim': 512, 'c_dim': 0, 'w_dim': 512, 'img_resolution': 1024, 'img_channels': 3, 'mapping_kwargs': {'num_layers': 8, 'embed_features': None, 'layer_features': None, 'activation': 'lrelu', 'lr_multiplier': 0.01, 'w_avg_beta': 0.995}, 'synthesis_kwargs': {'channel_base': 32768, 'channel_max': 512, 'num_fp16_res': 4, 'conv_clamp': 256, 'architecture': 'skip', 'resample_filter': [1, 3, 3, 1], 'use_noise': True, 'activation': 'lrelu'}}\n"
     ]
    },
    {
     "name": "stderr",
     "output_type": "stream",
     "text": [
      "100%|██████████| 150/150 [00:34<00:00,  4.32it/s]\n"
     ]
    },
    {
     "name": "stdout",
     "output_type": "stream",
     "text": [
      "intiating global state....\n",
      "calling init_images......\n",
      "Loading \"/home/bean/DragVideo/Data_store/experiments/2023-09-01_01-35-09_vsauce_ffmpeg/tuned_SG/stylegan2_FGPUAOCZJFFK.pkl\"... Done.\n",
      "()\n",
      "{'z_dim': 512, 'c_dim': 0, 'w_dim': 512, 'img_resolution': 1024, 'img_channels': 3, 'mapping_kwargs': {'num_layers': 8, 'embed_features': None, 'layer_features': None, 'activation': 'lrelu', 'lr_multiplier': 0.01, 'w_avg_beta': 0.995}, 'synthesis_kwargs': {'channel_base': 32768, 'channel_max': 512, 'num_fp16_res': 4, 'conv_clamp': 256, 'architecture': 'skip', 'resample_filter': [1, 3, 3, 1], 'use_noise': True, 'activation': 'lrelu'}}\n"
     ]
    },
    {
     "name": "stderr",
     "output_type": "stream",
     "text": [
      "100%|██████████| 150/150 [00:33<00:00,  4.43it/s]\n"
     ]
    },
    {
     "name": "stdout",
     "output_type": "stream",
     "text": [
      "intiating global state....\n",
      "calling init_images......\n",
      "Loading \"/home/bean/DragVideo/Data_store/experiments/2023-09-01_01-35-09_vsauce_ffmpeg/tuned_SG/stylegan2_FGPUAOCZJFFK.pkl\"... Done.\n",
      "()\n",
      "{'z_dim': 512, 'c_dim': 0, 'w_dim': 512, 'img_resolution': 1024, 'img_channels': 3, 'mapping_kwargs': {'num_layers': 8, 'embed_features': None, 'layer_features': None, 'activation': 'lrelu', 'lr_multiplier': 0.01, 'w_avg_beta': 0.995}, 'synthesis_kwargs': {'channel_base': 32768, 'channel_max': 512, 'num_fp16_res': 4, 'conv_clamp': 256, 'architecture': 'skip', 'resample_filter': [1, 3, 3, 1], 'use_noise': True, 'activation': 'lrelu'}}\n"
     ]
    },
    {
     "name": "stderr",
     "output_type": "stream",
     "text": [
      "100%|██████████| 150/150 [00:34<00:00,  4.32it/s]\n"
     ]
    },
    {
     "name": "stdout",
     "output_type": "stream",
     "text": [
      "intiating global state....\n",
      "calling init_images......\n",
      "Loading \"/home/bean/DragVideo/Data_store/experiments/2023-09-01_01-35-09_vsauce_ffmpeg/tuned_SG/stylegan2_FGPUAOCZJFFK.pkl\"... Done.\n",
      "()\n",
      "{'z_dim': 512, 'c_dim': 0, 'w_dim': 512, 'img_resolution': 1024, 'img_channels': 3, 'mapping_kwargs': {'num_layers': 8, 'embed_features': None, 'layer_features': None, 'activation': 'lrelu', 'lr_multiplier': 0.01, 'w_avg_beta': 0.995}, 'synthesis_kwargs': {'channel_base': 32768, 'channel_max': 512, 'num_fp16_res': 4, 'conv_clamp': 256, 'architecture': 'skip', 'resample_filter': [1, 3, 3, 1], 'use_noise': True, 'activation': 'lrelu'}}\n"
     ]
    },
    {
     "name": "stderr",
     "output_type": "stream",
     "text": [
      "100%|██████████| 150/150 [00:34<00:00,  4.37it/s]\n"
     ]
    },
    {
     "name": "stdout",
     "output_type": "stream",
     "text": [
      "intiating global state....\n",
      "calling init_images......\n",
      "Loading \"/home/bean/DragVideo/Data_store/experiments/2023-09-01_01-35-09_vsauce_ffmpeg/tuned_SG/stylegan2_FGPUAOCZJFFK.pkl\"... Done.\n",
      "()\n",
      "{'z_dim': 512, 'c_dim': 0, 'w_dim': 512, 'img_resolution': 1024, 'img_channels': 3, 'mapping_kwargs': {'num_layers': 8, 'embed_features': None, 'layer_features': None, 'activation': 'lrelu', 'lr_multiplier': 0.01, 'w_avg_beta': 0.995}, 'synthesis_kwargs': {'channel_base': 32768, 'channel_max': 512, 'num_fp16_res': 4, 'conv_clamp': 256, 'architecture': 'skip', 'resample_filter': [1, 3, 3, 1], 'use_noise': True, 'activation': 'lrelu'}}\n"
     ]
    },
    {
     "name": "stderr",
     "output_type": "stream",
     "text": [
      "100%|██████████| 150/150 [00:33<00:00,  4.51it/s]\n"
     ]
    },
    {
     "name": "stdout",
     "output_type": "stream",
     "text": [
      "intiating global state....\n",
      "calling init_images......\n",
      "Loading \"/home/bean/DragVideo/Data_store/experiments/2023-09-01_01-35-09_vsauce_ffmpeg/tuned_SG/stylegan2_FGPUAOCZJFFK.pkl\"... Done.\n",
      "()\n",
      "{'z_dim': 512, 'c_dim': 0, 'w_dim': 512, 'img_resolution': 1024, 'img_channels': 3, 'mapping_kwargs': {'num_layers': 8, 'embed_features': None, 'layer_features': None, 'activation': 'lrelu', 'lr_multiplier': 0.01, 'w_avg_beta': 0.995}, 'synthesis_kwargs': {'channel_base': 32768, 'channel_max': 512, 'num_fp16_res': 4, 'conv_clamp': 256, 'architecture': 'skip', 'resample_filter': [1, 3, 3, 1], 'use_noise': True, 'activation': 'lrelu'}}\n"
     ]
    },
    {
     "name": "stderr",
     "output_type": "stream",
     "text": [
      "100%|██████████| 150/150 [00:35<00:00,  4.22it/s]\n"
     ]
    },
    {
     "name": "stdout",
     "output_type": "stream",
     "text": [
      "intiating global state....\n",
      "calling init_images......\n",
      "Loading \"/home/bean/DragVideo/Data_store/experiments/2023-09-01_01-35-09_vsauce_ffmpeg/tuned_SG/stylegan2_FGPUAOCZJFFK.pkl\"... Done.\n",
      "()\n",
      "{'z_dim': 512, 'c_dim': 0, 'w_dim': 512, 'img_resolution': 1024, 'img_channels': 3, 'mapping_kwargs': {'num_layers': 8, 'embed_features': None, 'layer_features': None, 'activation': 'lrelu', 'lr_multiplier': 0.01, 'w_avg_beta': 0.995}, 'synthesis_kwargs': {'channel_base': 32768, 'channel_max': 512, 'num_fp16_res': 4, 'conv_clamp': 256, 'architecture': 'skip', 'resample_filter': [1, 3, 3, 1], 'use_noise': True, 'activation': 'lrelu'}}\n"
     ]
    },
    {
     "name": "stderr",
     "output_type": "stream",
     "text": [
      "100%|██████████| 150/150 [00:33<00:00,  4.42it/s]\n"
     ]
    },
    {
     "name": "stdout",
     "output_type": "stream",
     "text": [
      "intiating global state....\n",
      "calling init_images......\n",
      "Loading \"/home/bean/DragVideo/Data_store/experiments/2023-09-01_01-35-09_vsauce_ffmpeg/tuned_SG/stylegan2_FGPUAOCZJFFK.pkl\"... Done.\n",
      "()\n",
      "{'z_dim': 512, 'c_dim': 0, 'w_dim': 512, 'img_resolution': 1024, 'img_channels': 3, 'mapping_kwargs': {'num_layers': 8, 'embed_features': None, 'layer_features': None, 'activation': 'lrelu', 'lr_multiplier': 0.01, 'w_avg_beta': 0.995}, 'synthesis_kwargs': {'channel_base': 32768, 'channel_max': 512, 'num_fp16_res': 4, 'conv_clamp': 256, 'architecture': 'skip', 'resample_filter': [1, 3, 3, 1], 'use_noise': True, 'activation': 'lrelu'}}\n"
     ]
    },
    {
     "name": "stderr",
     "output_type": "stream",
     "text": [
      "100%|██████████| 150/150 [00:36<00:00,  4.08it/s]\n"
     ]
    },
    {
     "name": "stdout",
     "output_type": "stream",
     "text": [
      "intiating global state....\n",
      "calling init_images......\n",
      "Loading \"/home/bean/DragVideo/Data_store/experiments/2023-09-01_01-35-09_vsauce_ffmpeg/tuned_SG/stylegan2_FGPUAOCZJFFK.pkl\"... Done.\n",
      "()\n",
      "{'z_dim': 512, 'c_dim': 0, 'w_dim': 512, 'img_resolution': 1024, 'img_channels': 3, 'mapping_kwargs': {'num_layers': 8, 'embed_features': None, 'layer_features': None, 'activation': 'lrelu', 'lr_multiplier': 0.01, 'w_avg_beta': 0.995}, 'synthesis_kwargs': {'channel_base': 32768, 'channel_max': 512, 'num_fp16_res': 4, 'conv_clamp': 256, 'architecture': 'skip', 'resample_filter': [1, 3, 3, 1], 'use_noise': True, 'activation': 'lrelu'}}\n"
     ]
    },
    {
     "name": "stderr",
     "output_type": "stream",
     "text": [
      "100%|██████████| 150/150 [00:35<00:00,  4.26it/s]\n"
     ]
    },
    {
     "name": "stdout",
     "output_type": "stream",
     "text": [
      "intiating global state....\n",
      "calling init_images......\n",
      "Loading \"/home/bean/DragVideo/Data_store/experiments/2023-09-01_01-35-09_vsauce_ffmpeg/tuned_SG/stylegan2_FGPUAOCZJFFK.pkl\"... Done.\n",
      "()\n",
      "{'z_dim': 512, 'c_dim': 0, 'w_dim': 512, 'img_resolution': 1024, 'img_channels': 3, 'mapping_kwargs': {'num_layers': 8, 'embed_features': None, 'layer_features': None, 'activation': 'lrelu', 'lr_multiplier': 0.01, 'w_avg_beta': 0.995}, 'synthesis_kwargs': {'channel_base': 32768, 'channel_max': 512, 'num_fp16_res': 4, 'conv_clamp': 256, 'architecture': 'skip', 'resample_filter': [1, 3, 3, 1], 'use_noise': True, 'activation': 'lrelu'}}\n"
     ]
    },
    {
     "name": "stderr",
     "output_type": "stream",
     "text": [
      "100%|██████████| 150/150 [00:36<00:00,  4.12it/s]\n"
     ]
    },
    {
     "name": "stdout",
     "output_type": "stream",
     "text": [
      "intiating global state....\n",
      "calling init_images......\n",
      "Loading \"/home/bean/DragVideo/Data_store/experiments/2023-09-01_01-35-09_vsauce_ffmpeg/tuned_SG/stylegan2_FGPUAOCZJFFK.pkl\"... Done.\n",
      "()\n",
      "{'z_dim': 512, 'c_dim': 0, 'w_dim': 512, 'img_resolution': 1024, 'img_channels': 3, 'mapping_kwargs': {'num_layers': 8, 'embed_features': None, 'layer_features': None, 'activation': 'lrelu', 'lr_multiplier': 0.01, 'w_avg_beta': 0.995}, 'synthesis_kwargs': {'channel_base': 32768, 'channel_max': 512, 'num_fp16_res': 4, 'conv_clamp': 256, 'architecture': 'skip', 'resample_filter': [1, 3, 3, 1], 'use_noise': True, 'activation': 'lrelu'}}\n"
     ]
    },
    {
     "name": "stderr",
     "output_type": "stream",
     "text": [
      "100%|██████████| 150/150 [00:35<00:00,  4.21it/s]\n"
     ]
    },
    {
     "name": "stdout",
     "output_type": "stream",
     "text": [
      "intiating global state....\n",
      "calling init_images......\n",
      "Loading \"/home/bean/DragVideo/Data_store/experiments/2023-09-01_01-35-09_vsauce_ffmpeg/tuned_SG/stylegan2_FGPUAOCZJFFK.pkl\"... Done.\n",
      "()\n",
      "{'z_dim': 512, 'c_dim': 0, 'w_dim': 512, 'img_resolution': 1024, 'img_channels': 3, 'mapping_kwargs': {'num_layers': 8, 'embed_features': None, 'layer_features': None, 'activation': 'lrelu', 'lr_multiplier': 0.01, 'w_avg_beta': 0.995}, 'synthesis_kwargs': {'channel_base': 32768, 'channel_max': 512, 'num_fp16_res': 4, 'conv_clamp': 256, 'architecture': 'skip', 'resample_filter': [1, 3, 3, 1], 'use_noise': True, 'activation': 'lrelu'}}\n"
     ]
    },
    {
     "name": "stderr",
     "output_type": "stream",
     "text": [
      "100%|██████████| 150/150 [00:36<00:00,  4.16it/s]\n"
     ]
    },
    {
     "name": "stdout",
     "output_type": "stream",
     "text": [
      "intiating global state....\n",
      "calling init_images......\n",
      "Loading \"/home/bean/DragVideo/Data_store/experiments/2023-09-01_01-35-09_vsauce_ffmpeg/tuned_SG/stylegan2_FGPUAOCZJFFK.pkl\"... Done.\n",
      "()\n",
      "{'z_dim': 512, 'c_dim': 0, 'w_dim': 512, 'img_resolution': 1024, 'img_channels': 3, 'mapping_kwargs': {'num_layers': 8, 'embed_features': None, 'layer_features': None, 'activation': 'lrelu', 'lr_multiplier': 0.01, 'w_avg_beta': 0.995}, 'synthesis_kwargs': {'channel_base': 32768, 'channel_max': 512, 'num_fp16_res': 4, 'conv_clamp': 256, 'architecture': 'skip', 'resample_filter': [1, 3, 3, 1], 'use_noise': True, 'activation': 'lrelu'}}\n"
     ]
    },
    {
     "name": "stderr",
     "output_type": "stream",
     "text": [
      "100%|██████████| 150/150 [00:35<00:00,  4.18it/s]\n"
     ]
    },
    {
     "name": "stdout",
     "output_type": "stream",
     "text": [
      "intiating global state....\n",
      "calling init_images......\n",
      "Loading \"/home/bean/DragVideo/Data_store/experiments/2023-09-01_01-35-09_vsauce_ffmpeg/tuned_SG/stylegan2_FGPUAOCZJFFK.pkl\"... Done.\n",
      "()\n",
      "{'z_dim': 512, 'c_dim': 0, 'w_dim': 512, 'img_resolution': 1024, 'img_channels': 3, 'mapping_kwargs': {'num_layers': 8, 'embed_features': None, 'layer_features': None, 'activation': 'lrelu', 'lr_multiplier': 0.01, 'w_avg_beta': 0.995}, 'synthesis_kwargs': {'channel_base': 32768, 'channel_max': 512, 'num_fp16_res': 4, 'conv_clamp': 256, 'architecture': 'skip', 'resample_filter': [1, 3, 3, 1], 'use_noise': True, 'activation': 'lrelu'}}\n"
     ]
    },
    {
     "name": "stderr",
     "output_type": "stream",
     "text": [
      "100%|██████████| 150/150 [00:31<00:00,  4.79it/s]\n"
     ]
    },
    {
     "name": "stdout",
     "output_type": "stream",
     "text": [
      "intiating global state....\n",
      "calling init_images......\n",
      "Loading \"/home/bean/DragVideo/Data_store/experiments/2023-09-01_01-35-09_vsauce_ffmpeg/tuned_SG/stylegan2_FGPUAOCZJFFK.pkl\"... Done.\n",
      "()\n",
      "{'z_dim': 512, 'c_dim': 0, 'w_dim': 512, 'img_resolution': 1024, 'img_channels': 3, 'mapping_kwargs': {'num_layers': 8, 'embed_features': None, 'layer_features': None, 'activation': 'lrelu', 'lr_multiplier': 0.01, 'w_avg_beta': 0.995}, 'synthesis_kwargs': {'channel_base': 32768, 'channel_max': 512, 'num_fp16_res': 4, 'conv_clamp': 256, 'architecture': 'skip', 'resample_filter': [1, 3, 3, 1], 'use_noise': True, 'activation': 'lrelu'}}\n"
     ]
    },
    {
     "name": "stderr",
     "output_type": "stream",
     "text": [
      "100%|██████████| 150/150 [00:35<00:00,  4.26it/s]\n"
     ]
    },
    {
     "name": "stdout",
     "output_type": "stream",
     "text": [
      "intiating global state....\n",
      "calling init_images......\n",
      "Loading \"/home/bean/DragVideo/Data_store/experiments/2023-09-01_01-35-09_vsauce_ffmpeg/tuned_SG/stylegan2_FGPUAOCZJFFK.pkl\"... Done.\n",
      "()\n",
      "{'z_dim': 512, 'c_dim': 0, 'w_dim': 512, 'img_resolution': 1024, 'img_channels': 3, 'mapping_kwargs': {'num_layers': 8, 'embed_features': None, 'layer_features': None, 'activation': 'lrelu', 'lr_multiplier': 0.01, 'w_avg_beta': 0.995}, 'synthesis_kwargs': {'channel_base': 32768, 'channel_max': 512, 'num_fp16_res': 4, 'conv_clamp': 256, 'architecture': 'skip', 'resample_filter': [1, 3, 3, 1], 'use_noise': True, 'activation': 'lrelu'}}\n"
     ]
    },
    {
     "name": "stderr",
     "output_type": "stream",
     "text": [
      "100%|██████████| 150/150 [00:36<00:00,  4.13it/s]\n"
     ]
    },
    {
     "name": "stdout",
     "output_type": "stream",
     "text": [
      "intiating global state....\n",
      "calling init_images......\n",
      "Loading \"/home/bean/DragVideo/Data_store/experiments/2023-09-01_01-35-09_vsauce_ffmpeg/tuned_SG/stylegan2_FGPUAOCZJFFK.pkl\"... Done.\n",
      "()\n",
      "{'z_dim': 512, 'c_dim': 0, 'w_dim': 512, 'img_resolution': 1024, 'img_channels': 3, 'mapping_kwargs': {'num_layers': 8, 'embed_features': None, 'layer_features': None, 'activation': 'lrelu', 'lr_multiplier': 0.01, 'w_avg_beta': 0.995}, 'synthesis_kwargs': {'channel_base': 32768, 'channel_max': 512, 'num_fp16_res': 4, 'conv_clamp': 256, 'architecture': 'skip', 'resample_filter': [1, 3, 3, 1], 'use_noise': True, 'activation': 'lrelu'}}\n"
     ]
    },
    {
     "name": "stderr",
     "output_type": "stream",
     "text": [
      "100%|██████████| 150/150 [00:35<00:00,  4.21it/s]\n"
     ]
    },
    {
     "name": "stdout",
     "output_type": "stream",
     "text": [
      "intiating global state....\n",
      "calling init_images......\n",
      "Loading \"/home/bean/DragVideo/Data_store/experiments/2023-09-01_01-35-09_vsauce_ffmpeg/tuned_SG/stylegan2_FGPUAOCZJFFK.pkl\"... Done.\n",
      "()\n",
      "{'z_dim': 512, 'c_dim': 0, 'w_dim': 512, 'img_resolution': 1024, 'img_channels': 3, 'mapping_kwargs': {'num_layers': 8, 'embed_features': None, 'layer_features': None, 'activation': 'lrelu', 'lr_multiplier': 0.01, 'w_avg_beta': 0.995}, 'synthesis_kwargs': {'channel_base': 32768, 'channel_max': 512, 'num_fp16_res': 4, 'conv_clamp': 256, 'architecture': 'skip', 'resample_filter': [1, 3, 3, 1], 'use_noise': True, 'activation': 'lrelu'}}\n"
     ]
    },
    {
     "name": "stderr",
     "output_type": "stream",
     "text": [
      "100%|██████████| 150/150 [00:36<00:00,  4.15it/s]\n"
     ]
    },
    {
     "name": "stdout",
     "output_type": "stream",
     "text": [
      "intiating global state....\n",
      "calling init_images......\n",
      "Loading \"/home/bean/DragVideo/Data_store/experiments/2023-09-01_01-35-09_vsauce_ffmpeg/tuned_SG/stylegan2_FGPUAOCZJFFK.pkl\"... Done.\n",
      "()\n",
      "{'z_dim': 512, 'c_dim': 0, 'w_dim': 512, 'img_resolution': 1024, 'img_channels': 3, 'mapping_kwargs': {'num_layers': 8, 'embed_features': None, 'layer_features': None, 'activation': 'lrelu', 'lr_multiplier': 0.01, 'w_avg_beta': 0.995}, 'synthesis_kwargs': {'channel_base': 32768, 'channel_max': 512, 'num_fp16_res': 4, 'conv_clamp': 256, 'architecture': 'skip', 'resample_filter': [1, 3, 3, 1], 'use_noise': True, 'activation': 'lrelu'}}\n"
     ]
    },
    {
     "name": "stderr",
     "output_type": "stream",
     "text": [
      "100%|██████████| 150/150 [00:35<00:00,  4.20it/s]\n"
     ]
    },
    {
     "name": "stdout",
     "output_type": "stream",
     "text": [
      "intiating global state....\n",
      "calling init_images......\n",
      "Loading \"/home/bean/DragVideo/Data_store/experiments/2023-09-01_01-35-09_vsauce_ffmpeg/tuned_SG/stylegan2_FGPUAOCZJFFK.pkl\"... Done.\n",
      "()\n",
      "{'z_dim': 512, 'c_dim': 0, 'w_dim': 512, 'img_resolution': 1024, 'img_channels': 3, 'mapping_kwargs': {'num_layers': 8, 'embed_features': None, 'layer_features': None, 'activation': 'lrelu', 'lr_multiplier': 0.01, 'w_avg_beta': 0.995}, 'synthesis_kwargs': {'channel_base': 32768, 'channel_max': 512, 'num_fp16_res': 4, 'conv_clamp': 256, 'architecture': 'skip', 'resample_filter': [1, 3, 3, 1], 'use_noise': True, 'activation': 'lrelu'}}\n"
     ]
    },
    {
     "name": "stderr",
     "output_type": "stream",
     "text": [
      "100%|██████████| 150/150 [00:36<00:00,  4.11it/s]\n"
     ]
    },
    {
     "name": "stdout",
     "output_type": "stream",
     "text": [
      "intiating global state....\n",
      "calling init_images......\n",
      "Loading \"/home/bean/DragVideo/Data_store/experiments/2023-09-01_01-35-09_vsauce_ffmpeg/tuned_SG/stylegan2_FGPUAOCZJFFK.pkl\"... Done.\n",
      "()\n",
      "{'z_dim': 512, 'c_dim': 0, 'w_dim': 512, 'img_resolution': 1024, 'img_channels': 3, 'mapping_kwargs': {'num_layers': 8, 'embed_features': None, 'layer_features': None, 'activation': 'lrelu', 'lr_multiplier': 0.01, 'w_avg_beta': 0.995}, 'synthesis_kwargs': {'channel_base': 32768, 'channel_max': 512, 'num_fp16_res': 4, 'conv_clamp': 256, 'architecture': 'skip', 'resample_filter': [1, 3, 3, 1], 'use_noise': True, 'activation': 'lrelu'}}\n"
     ]
    },
    {
     "name": "stderr",
     "output_type": "stream",
     "text": [
      "100%|██████████| 150/150 [00:36<00:00,  4.16it/s]\n"
     ]
    },
    {
     "name": "stdout",
     "output_type": "stream",
     "text": [
      "intiating global state....\n",
      "calling init_images......\n",
      "Loading \"/home/bean/DragVideo/Data_store/experiments/2023-09-01_01-35-09_vsauce_ffmpeg/tuned_SG/stylegan2_FGPUAOCZJFFK.pkl\"... Done.\n",
      "()\n",
      "{'z_dim': 512, 'c_dim': 0, 'w_dim': 512, 'img_resolution': 1024, 'img_channels': 3, 'mapping_kwargs': {'num_layers': 8, 'embed_features': None, 'layer_features': None, 'activation': 'lrelu', 'lr_multiplier': 0.01, 'w_avg_beta': 0.995}, 'synthesis_kwargs': {'channel_base': 32768, 'channel_max': 512, 'num_fp16_res': 4, 'conv_clamp': 256, 'architecture': 'skip', 'resample_filter': [1, 3, 3, 1], 'use_noise': True, 'activation': 'lrelu'}}\n"
     ]
    },
    {
     "name": "stderr",
     "output_type": "stream",
     "text": [
      "100%|██████████| 150/150 [00:34<00:00,  4.38it/s]\n"
     ]
    },
    {
     "name": "stdout",
     "output_type": "stream",
     "text": [
      "intiating global state....\n",
      "calling init_images......\n",
      "Loading \"/home/bean/DragVideo/Data_store/experiments/2023-09-01_01-35-09_vsauce_ffmpeg/tuned_SG/stylegan2_FGPUAOCZJFFK.pkl\"... Done.\n",
      "()\n",
      "{'z_dim': 512, 'c_dim': 0, 'w_dim': 512, 'img_resolution': 1024, 'img_channels': 3, 'mapping_kwargs': {'num_layers': 8, 'embed_features': None, 'layer_features': None, 'activation': 'lrelu', 'lr_multiplier': 0.01, 'w_avg_beta': 0.995}, 'synthesis_kwargs': {'channel_base': 32768, 'channel_max': 512, 'num_fp16_res': 4, 'conv_clamp': 256, 'architecture': 'skip', 'resample_filter': [1, 3, 3, 1], 'use_noise': True, 'activation': 'lrelu'}}\n"
     ]
    },
    {
     "name": "stderr",
     "output_type": "stream",
     "text": [
      "100%|██████████| 150/150 [00:29<00:00,  5.08it/s]\n"
     ]
    },
    {
     "name": "stdout",
     "output_type": "stream",
     "text": [
      "intiating global state....\n",
      "calling init_images......\n",
      "Loading \"/home/bean/DragVideo/Data_store/experiments/2023-09-01_01-35-09_vsauce_ffmpeg/tuned_SG/stylegan2_FGPUAOCZJFFK.pkl\"... Done.\n",
      "()\n",
      "{'z_dim': 512, 'c_dim': 0, 'w_dim': 512, 'img_resolution': 1024, 'img_channels': 3, 'mapping_kwargs': {'num_layers': 8, 'embed_features': None, 'layer_features': None, 'activation': 'lrelu', 'lr_multiplier': 0.01, 'w_avg_beta': 0.995}, 'synthesis_kwargs': {'channel_base': 32768, 'channel_max': 512, 'num_fp16_res': 4, 'conv_clamp': 256, 'architecture': 'skip', 'resample_filter': [1, 3, 3, 1], 'use_noise': True, 'activation': 'lrelu'}}\n"
     ]
    },
    {
     "name": "stderr",
     "output_type": "stream",
     "text": [
      "100%|██████████| 150/150 [00:34<00:00,  4.31it/s]\n"
     ]
    },
    {
     "name": "stdout",
     "output_type": "stream",
     "text": [
      "intiating global state....\n",
      "calling init_images......\n",
      "Loading \"/home/bean/DragVideo/Data_store/experiments/2023-09-01_01-35-09_vsauce_ffmpeg/tuned_SG/stylegan2_FGPUAOCZJFFK.pkl\"... Done.\n",
      "()\n",
      "{'z_dim': 512, 'c_dim': 0, 'w_dim': 512, 'img_resolution': 1024, 'img_channels': 3, 'mapping_kwargs': {'num_layers': 8, 'embed_features': None, 'layer_features': None, 'activation': 'lrelu', 'lr_multiplier': 0.01, 'w_avg_beta': 0.995}, 'synthesis_kwargs': {'channel_base': 32768, 'channel_max': 512, 'num_fp16_res': 4, 'conv_clamp': 256, 'architecture': 'skip', 'resample_filter': [1, 3, 3, 1], 'use_noise': True, 'activation': 'lrelu'}}\n"
     ]
    },
    {
     "name": "stderr",
     "output_type": "stream",
     "text": [
      "100%|██████████| 150/150 [00:34<00:00,  4.31it/s]\n"
     ]
    },
    {
     "name": "stdout",
     "output_type": "stream",
     "text": [
      "intiating global state....\n",
      "calling init_images......\n",
      "Loading \"/home/bean/DragVideo/Data_store/experiments/2023-09-01_01-35-09_vsauce_ffmpeg/tuned_SG/stylegan2_FGPUAOCZJFFK.pkl\"... Done.\n",
      "()\n",
      "{'z_dim': 512, 'c_dim': 0, 'w_dim': 512, 'img_resolution': 1024, 'img_channels': 3, 'mapping_kwargs': {'num_layers': 8, 'embed_features': None, 'layer_features': None, 'activation': 'lrelu', 'lr_multiplier': 0.01, 'w_avg_beta': 0.995}, 'synthesis_kwargs': {'channel_base': 32768, 'channel_max': 512, 'num_fp16_res': 4, 'conv_clamp': 256, 'architecture': 'skip', 'resample_filter': [1, 3, 3, 1], 'use_noise': True, 'activation': 'lrelu'}}\n"
     ]
    },
    {
     "name": "stderr",
     "output_type": "stream",
     "text": [
      "100%|██████████| 150/150 [00:35<00:00,  4.17it/s]\n"
     ]
    },
    {
     "name": "stdout",
     "output_type": "stream",
     "text": [
      "intiating global state....\n",
      "calling init_images......\n",
      "Loading \"/home/bean/DragVideo/Data_store/experiments/2023-09-01_01-35-09_vsauce_ffmpeg/tuned_SG/stylegan2_FGPUAOCZJFFK.pkl\"... Done.\n",
      "()\n",
      "{'z_dim': 512, 'c_dim': 0, 'w_dim': 512, 'img_resolution': 1024, 'img_channels': 3, 'mapping_kwargs': {'num_layers': 8, 'embed_features': None, 'layer_features': None, 'activation': 'lrelu', 'lr_multiplier': 0.01, 'w_avg_beta': 0.995}, 'synthesis_kwargs': {'channel_base': 32768, 'channel_max': 512, 'num_fp16_res': 4, 'conv_clamp': 256, 'architecture': 'skip', 'resample_filter': [1, 3, 3, 1], 'use_noise': True, 'activation': 'lrelu'}}\n"
     ]
    },
    {
     "name": "stderr",
     "output_type": "stream",
     "text": [
      "100%|██████████| 150/150 [00:36<00:00,  4.10it/s]\n"
     ]
    },
    {
     "name": "stdout",
     "output_type": "stream",
     "text": [
      "intiating global state....\n",
      "calling init_images......\n",
      "Loading \"/home/bean/DragVideo/Data_store/experiments/2023-09-01_01-35-09_vsauce_ffmpeg/tuned_SG/stylegan2_FGPUAOCZJFFK.pkl\"... Done.\n",
      "()\n",
      "{'z_dim': 512, 'c_dim': 0, 'w_dim': 512, 'img_resolution': 1024, 'img_channels': 3, 'mapping_kwargs': {'num_layers': 8, 'embed_features': None, 'layer_features': None, 'activation': 'lrelu', 'lr_multiplier': 0.01, 'w_avg_beta': 0.995}, 'synthesis_kwargs': {'channel_base': 32768, 'channel_max': 512, 'num_fp16_res': 4, 'conv_clamp': 256, 'architecture': 'skip', 'resample_filter': [1, 3, 3, 1], 'use_noise': True, 'activation': 'lrelu'}}\n"
     ]
    },
    {
     "name": "stderr",
     "output_type": "stream",
     "text": [
      "100%|██████████| 150/150 [00:36<00:00,  4.11it/s]\n"
     ]
    },
    {
     "name": "stdout",
     "output_type": "stream",
     "text": [
      "intiating global state....\n",
      "calling init_images......\n",
      "Loading \"/home/bean/DragVideo/Data_store/experiments/2023-09-01_01-35-09_vsauce_ffmpeg/tuned_SG/stylegan2_FGPUAOCZJFFK.pkl\"... Done.\n",
      "()\n",
      "{'z_dim': 512, 'c_dim': 0, 'w_dim': 512, 'img_resolution': 1024, 'img_channels': 3, 'mapping_kwargs': {'num_layers': 8, 'embed_features': None, 'layer_features': None, 'activation': 'lrelu', 'lr_multiplier': 0.01, 'w_avg_beta': 0.995}, 'synthesis_kwargs': {'channel_base': 32768, 'channel_max': 512, 'num_fp16_res': 4, 'conv_clamp': 256, 'architecture': 'skip', 'resample_filter': [1, 3, 3, 1], 'use_noise': True, 'activation': 'lrelu'}}\n"
     ]
    },
    {
     "name": "stderr",
     "output_type": "stream",
     "text": [
      "100%|██████████| 150/150 [00:35<00:00,  4.25it/s]\n"
     ]
    },
    {
     "name": "stdout",
     "output_type": "stream",
     "text": [
      "intiating global state....\n",
      "calling init_images......\n",
      "Loading \"/home/bean/DragVideo/Data_store/experiments/2023-09-01_01-35-09_vsauce_ffmpeg/tuned_SG/stylegan2_FGPUAOCZJFFK.pkl\"... Done.\n",
      "()\n",
      "{'z_dim': 512, 'c_dim': 0, 'w_dim': 512, 'img_resolution': 1024, 'img_channels': 3, 'mapping_kwargs': {'num_layers': 8, 'embed_features': None, 'layer_features': None, 'activation': 'lrelu', 'lr_multiplier': 0.01, 'w_avg_beta': 0.995}, 'synthesis_kwargs': {'channel_base': 32768, 'channel_max': 512, 'num_fp16_res': 4, 'conv_clamp': 256, 'architecture': 'skip', 'resample_filter': [1, 3, 3, 1], 'use_noise': True, 'activation': 'lrelu'}}\n"
     ]
    },
    {
     "name": "stderr",
     "output_type": "stream",
     "text": [
      "100%|██████████| 150/150 [00:36<00:00,  4.13it/s]\n"
     ]
    },
    {
     "name": "stdout",
     "output_type": "stream",
     "text": [
      "intiating global state....\n",
      "calling init_images......\n",
      "Loading \"/home/bean/DragVideo/Data_store/experiments/2023-09-01_01-35-09_vsauce_ffmpeg/tuned_SG/stylegan2_FGPUAOCZJFFK.pkl\"... Done.\n",
      "()\n",
      "{'z_dim': 512, 'c_dim': 0, 'w_dim': 512, 'img_resolution': 1024, 'img_channels': 3, 'mapping_kwargs': {'num_layers': 8, 'embed_features': None, 'layer_features': None, 'activation': 'lrelu', 'lr_multiplier': 0.01, 'w_avg_beta': 0.995}, 'synthesis_kwargs': {'channel_base': 32768, 'channel_max': 512, 'num_fp16_res': 4, 'conv_clamp': 256, 'architecture': 'skip', 'resample_filter': [1, 3, 3, 1], 'use_noise': True, 'activation': 'lrelu'}}\n"
     ]
    },
    {
     "name": "stderr",
     "output_type": "stream",
     "text": [
      "100%|██████████| 150/150 [00:36<00:00,  4.10it/s]\n"
     ]
    },
    {
     "name": "stdout",
     "output_type": "stream",
     "text": [
      "intiating global state....\n",
      "calling init_images......\n",
      "Loading \"/home/bean/DragVideo/Data_store/experiments/2023-09-01_01-35-09_vsauce_ffmpeg/tuned_SG/stylegan2_FGPUAOCZJFFK.pkl\"... Done.\n",
      "()\n",
      "{'z_dim': 512, 'c_dim': 0, 'w_dim': 512, 'img_resolution': 1024, 'img_channels': 3, 'mapping_kwargs': {'num_layers': 8, 'embed_features': None, 'layer_features': None, 'activation': 'lrelu', 'lr_multiplier': 0.01, 'w_avg_beta': 0.995}, 'synthesis_kwargs': {'channel_base': 32768, 'channel_max': 512, 'num_fp16_res': 4, 'conv_clamp': 256, 'architecture': 'skip', 'resample_filter': [1, 3, 3, 1], 'use_noise': True, 'activation': 'lrelu'}}\n"
     ]
    },
    {
     "name": "stderr",
     "output_type": "stream",
     "text": [
      "100%|██████████| 150/150 [00:37<00:00,  4.04it/s]\n"
     ]
    },
    {
     "name": "stdout",
     "output_type": "stream",
     "text": [
      "intiating global state....\n",
      "calling init_images......\n",
      "Loading \"/home/bean/DragVideo/Data_store/experiments/2023-09-01_01-35-09_vsauce_ffmpeg/tuned_SG/stylegan2_FGPUAOCZJFFK.pkl\"... Done.\n",
      "()\n",
      "{'z_dim': 512, 'c_dim': 0, 'w_dim': 512, 'img_resolution': 1024, 'img_channels': 3, 'mapping_kwargs': {'num_layers': 8, 'embed_features': None, 'layer_features': None, 'activation': 'lrelu', 'lr_multiplier': 0.01, 'w_avg_beta': 0.995}, 'synthesis_kwargs': {'channel_base': 32768, 'channel_max': 512, 'num_fp16_res': 4, 'conv_clamp': 256, 'architecture': 'skip', 'resample_filter': [1, 3, 3, 1], 'use_noise': True, 'activation': 'lrelu'}}\n"
     ]
    },
    {
     "name": "stderr",
     "output_type": "stream",
     "text": [
      "100%|██████████| 150/150 [00:35<00:00,  4.25it/s]\n"
     ]
    },
    {
     "name": "stdout",
     "output_type": "stream",
     "text": [
      "intiating global state....\n",
      "calling init_images......\n",
      "Loading \"/home/bean/DragVideo/Data_store/experiments/2023-09-01_01-35-09_vsauce_ffmpeg/tuned_SG/stylegan2_FGPUAOCZJFFK.pkl\"... Done.\n",
      "()\n",
      "{'z_dim': 512, 'c_dim': 0, 'w_dim': 512, 'img_resolution': 1024, 'img_channels': 3, 'mapping_kwargs': {'num_layers': 8, 'embed_features': None, 'layer_features': None, 'activation': 'lrelu', 'lr_multiplier': 0.01, 'w_avg_beta': 0.995}, 'synthesis_kwargs': {'channel_base': 32768, 'channel_max': 512, 'num_fp16_res': 4, 'conv_clamp': 256, 'architecture': 'skip', 'resample_filter': [1, 3, 3, 1], 'use_noise': True, 'activation': 'lrelu'}}\n"
     ]
    },
    {
     "name": "stderr",
     "output_type": "stream",
     "text": [
      "100%|██████████| 150/150 [00:36<00:00,  4.16it/s]\n"
     ]
    },
    {
     "name": "stdout",
     "output_type": "stream",
     "text": [
      "intiating global state....\n",
      "calling init_images......\n",
      "Loading \"/home/bean/DragVideo/Data_store/experiments/2023-09-01_01-35-09_vsauce_ffmpeg/tuned_SG/stylegan2_FGPUAOCZJFFK.pkl\"... Done.\n",
      "()\n",
      "{'z_dim': 512, 'c_dim': 0, 'w_dim': 512, 'img_resolution': 1024, 'img_channels': 3, 'mapping_kwargs': {'num_layers': 8, 'embed_features': None, 'layer_features': None, 'activation': 'lrelu', 'lr_multiplier': 0.01, 'w_avg_beta': 0.995}, 'synthesis_kwargs': {'channel_base': 32768, 'channel_max': 512, 'num_fp16_res': 4, 'conv_clamp': 256, 'architecture': 'skip', 'resample_filter': [1, 3, 3, 1], 'use_noise': True, 'activation': 'lrelu'}}\n"
     ]
    },
    {
     "name": "stderr",
     "output_type": "stream",
     "text": [
      "100%|██████████| 150/150 [00:35<00:00,  4.22it/s]\n"
     ]
    },
    {
     "name": "stdout",
     "output_type": "stream",
     "text": [
      "intiating global state....\n",
      "calling init_images......\n",
      "Loading \"/home/bean/DragVideo/Data_store/experiments/2023-09-01_01-35-09_vsauce_ffmpeg/tuned_SG/stylegan2_FGPUAOCZJFFK.pkl\"... Done.\n",
      "()\n",
      "{'z_dim': 512, 'c_dim': 0, 'w_dim': 512, 'img_resolution': 1024, 'img_channels': 3, 'mapping_kwargs': {'num_layers': 8, 'embed_features': None, 'layer_features': None, 'activation': 'lrelu', 'lr_multiplier': 0.01, 'w_avg_beta': 0.995}, 'synthesis_kwargs': {'channel_base': 32768, 'channel_max': 512, 'num_fp16_res': 4, 'conv_clamp': 256, 'architecture': 'skip', 'resample_filter': [1, 3, 3, 1], 'use_noise': True, 'activation': 'lrelu'}}\n"
     ]
    },
    {
     "name": "stderr",
     "output_type": "stream",
     "text": [
      "100%|██████████| 150/150 [00:36<00:00,  4.16it/s]\n"
     ]
    },
    {
     "name": "stdout",
     "output_type": "stream",
     "text": [
      "intiating global state....\n",
      "calling init_images......\n",
      "Loading \"/home/bean/DragVideo/Data_store/experiments/2023-09-01_01-35-09_vsauce_ffmpeg/tuned_SG/stylegan2_FGPUAOCZJFFK.pkl\"... Done.\n",
      "()\n",
      "{'z_dim': 512, 'c_dim': 0, 'w_dim': 512, 'img_resolution': 1024, 'img_channels': 3, 'mapping_kwargs': {'num_layers': 8, 'embed_features': None, 'layer_features': None, 'activation': 'lrelu', 'lr_multiplier': 0.01, 'w_avg_beta': 0.995}, 'synthesis_kwargs': {'channel_base': 32768, 'channel_max': 512, 'num_fp16_res': 4, 'conv_clamp': 256, 'architecture': 'skip', 'resample_filter': [1, 3, 3, 1], 'use_noise': True, 'activation': 'lrelu'}}\n"
     ]
    },
    {
     "name": "stderr",
     "output_type": "stream",
     "text": [
      "100%|██████████| 150/150 [00:35<00:00,  4.28it/s]\n"
     ]
    },
    {
     "name": "stdout",
     "output_type": "stream",
     "text": [
      "intiating global state....\n",
      "calling init_images......\n",
      "Loading \"/home/bean/DragVideo/Data_store/experiments/2023-09-01_01-35-09_vsauce_ffmpeg/tuned_SG/stylegan2_FGPUAOCZJFFK.pkl\"... Done.\n",
      "()\n",
      "{'z_dim': 512, 'c_dim': 0, 'w_dim': 512, 'img_resolution': 1024, 'img_channels': 3, 'mapping_kwargs': {'num_layers': 8, 'embed_features': None, 'layer_features': None, 'activation': 'lrelu', 'lr_multiplier': 0.01, 'w_avg_beta': 0.995}, 'synthesis_kwargs': {'channel_base': 32768, 'channel_max': 512, 'num_fp16_res': 4, 'conv_clamp': 256, 'architecture': 'skip', 'resample_filter': [1, 3, 3, 1], 'use_noise': True, 'activation': 'lrelu'}}\n"
     ]
    },
    {
     "name": "stderr",
     "output_type": "stream",
     "text": [
      "100%|██████████| 150/150 [00:35<00:00,  4.21it/s]\n"
     ]
    },
    {
     "name": "stdout",
     "output_type": "stream",
     "text": [
      "intiating global state....\n",
      "calling init_images......\n",
      "Loading \"/home/bean/DragVideo/Data_store/experiments/2023-09-01_01-35-09_vsauce_ffmpeg/tuned_SG/stylegan2_FGPUAOCZJFFK.pkl\"... Done.\n",
      "()\n",
      "{'z_dim': 512, 'c_dim': 0, 'w_dim': 512, 'img_resolution': 1024, 'img_channels': 3, 'mapping_kwargs': {'num_layers': 8, 'embed_features': None, 'layer_features': None, 'activation': 'lrelu', 'lr_multiplier': 0.01, 'w_avg_beta': 0.995}, 'synthesis_kwargs': {'channel_base': 32768, 'channel_max': 512, 'num_fp16_res': 4, 'conv_clamp': 256, 'architecture': 'skip', 'resample_filter': [1, 3, 3, 1], 'use_noise': True, 'activation': 'lrelu'}}\n"
     ]
    },
    {
     "name": "stderr",
     "output_type": "stream",
     "text": [
      "100%|██████████| 150/150 [00:37<00:00,  4.05it/s]\n"
     ]
    },
    {
     "name": "stdout",
     "output_type": "stream",
     "text": [
      "intiating global state....\n",
      "calling init_images......\n",
      "Loading \"/home/bean/DragVideo/Data_store/experiments/2023-09-01_01-35-09_vsauce_ffmpeg/tuned_SG/stylegan2_FGPUAOCZJFFK.pkl\"... Done.\n",
      "()\n",
      "{'z_dim': 512, 'c_dim': 0, 'w_dim': 512, 'img_resolution': 1024, 'img_channels': 3, 'mapping_kwargs': {'num_layers': 8, 'embed_features': None, 'layer_features': None, 'activation': 'lrelu', 'lr_multiplier': 0.01, 'w_avg_beta': 0.995}, 'synthesis_kwargs': {'channel_base': 32768, 'channel_max': 512, 'num_fp16_res': 4, 'conv_clamp': 256, 'architecture': 'skip', 'resample_filter': [1, 3, 3, 1], 'use_noise': True, 'activation': 'lrelu'}}\n"
     ]
    },
    {
     "name": "stderr",
     "output_type": "stream",
     "text": [
      "100%|██████████| 150/150 [00:36<00:00,  4.15it/s]\n"
     ]
    },
    {
     "name": "stdout",
     "output_type": "stream",
     "text": [
      "intiating global state....\n",
      "calling init_images......\n",
      "Loading \"/home/bean/DragVideo/Data_store/experiments/2023-09-01_01-35-09_vsauce_ffmpeg/tuned_SG/stylegan2_FGPUAOCZJFFK.pkl\"... Done.\n",
      "()\n",
      "{'z_dim': 512, 'c_dim': 0, 'w_dim': 512, 'img_resolution': 1024, 'img_channels': 3, 'mapping_kwargs': {'num_layers': 8, 'embed_features': None, 'layer_features': None, 'activation': 'lrelu', 'lr_multiplier': 0.01, 'w_avg_beta': 0.995}, 'synthesis_kwargs': {'channel_base': 32768, 'channel_max': 512, 'num_fp16_res': 4, 'conv_clamp': 256, 'architecture': 'skip', 'resample_filter': [1, 3, 3, 1], 'use_noise': True, 'activation': 'lrelu'}}\n"
     ]
    },
    {
     "name": "stderr",
     "output_type": "stream",
     "text": [
      "100%|██████████| 150/150 [00:36<00:00,  4.11it/s]\n"
     ]
    },
    {
     "name": "stdout",
     "output_type": "stream",
     "text": [
      "intiating global state....\n",
      "calling init_images......\n",
      "Loading \"/home/bean/DragVideo/Data_store/experiments/2023-09-01_01-35-09_vsauce_ffmpeg/tuned_SG/stylegan2_FGPUAOCZJFFK.pkl\"... Done.\n",
      "()\n",
      "{'z_dim': 512, 'c_dim': 0, 'w_dim': 512, 'img_resolution': 1024, 'img_channels': 3, 'mapping_kwargs': {'num_layers': 8, 'embed_features': None, 'layer_features': None, 'activation': 'lrelu', 'lr_multiplier': 0.01, 'w_avg_beta': 0.995}, 'synthesis_kwargs': {'channel_base': 32768, 'channel_max': 512, 'num_fp16_res': 4, 'conv_clamp': 256, 'architecture': 'skip', 'resample_filter': [1, 3, 3, 1], 'use_noise': True, 'activation': 'lrelu'}}\n"
     ]
    },
    {
     "name": "stderr",
     "output_type": "stream",
     "text": [
      "100%|██████████| 150/150 [00:37<00:00,  3.95it/s]\n"
     ]
    },
    {
     "name": "stdout",
     "output_type": "stream",
     "text": [
      "intiating global state....\n",
      "calling init_images......\n",
      "Loading \"/home/bean/DragVideo/Data_store/experiments/2023-09-01_01-35-09_vsauce_ffmpeg/tuned_SG/stylegan2_FGPUAOCZJFFK.pkl\"... Done.\n",
      "()\n",
      "{'z_dim': 512, 'c_dim': 0, 'w_dim': 512, 'img_resolution': 1024, 'img_channels': 3, 'mapping_kwargs': {'num_layers': 8, 'embed_features': None, 'layer_features': None, 'activation': 'lrelu', 'lr_multiplier': 0.01, 'w_avg_beta': 0.995}, 'synthesis_kwargs': {'channel_base': 32768, 'channel_max': 512, 'num_fp16_res': 4, 'conv_clamp': 256, 'architecture': 'skip', 'resample_filter': [1, 3, 3, 1], 'use_noise': True, 'activation': 'lrelu'}}\n"
     ]
    },
    {
     "name": "stderr",
     "output_type": "stream",
     "text": [
      "100%|██████████| 150/150 [00:35<00:00,  4.19it/s]\n"
     ]
    },
    {
     "name": "stdout",
     "output_type": "stream",
     "text": [
      "intiating global state....\n",
      "calling init_images......\n",
      "Loading \"/home/bean/DragVideo/Data_store/experiments/2023-09-01_01-35-09_vsauce_ffmpeg/tuned_SG/stylegan2_FGPUAOCZJFFK.pkl\"... Done.\n",
      "()\n",
      "{'z_dim': 512, 'c_dim': 0, 'w_dim': 512, 'img_resolution': 1024, 'img_channels': 3, 'mapping_kwargs': {'num_layers': 8, 'embed_features': None, 'layer_features': None, 'activation': 'lrelu', 'lr_multiplier': 0.01, 'w_avg_beta': 0.995}, 'synthesis_kwargs': {'channel_base': 32768, 'channel_max': 512, 'num_fp16_res': 4, 'conv_clamp': 256, 'architecture': 'skip', 'resample_filter': [1, 3, 3, 1], 'use_noise': True, 'activation': 'lrelu'}}\n"
     ]
    },
    {
     "name": "stderr",
     "output_type": "stream",
     "text": [
      "100%|██████████| 150/150 [00:35<00:00,  4.18it/s]\n"
     ]
    },
    {
     "name": "stdout",
     "output_type": "stream",
     "text": [
      "intiating global state....\n",
      "calling init_images......\n",
      "Loading \"/home/bean/DragVideo/Data_store/experiments/2023-09-01_01-35-09_vsauce_ffmpeg/tuned_SG/stylegan2_FGPUAOCZJFFK.pkl\"... Done.\n",
      "()\n",
      "{'z_dim': 512, 'c_dim': 0, 'w_dim': 512, 'img_resolution': 1024, 'img_channels': 3, 'mapping_kwargs': {'num_layers': 8, 'embed_features': None, 'layer_features': None, 'activation': 'lrelu', 'lr_multiplier': 0.01, 'w_avg_beta': 0.995}, 'synthesis_kwargs': {'channel_base': 32768, 'channel_max': 512, 'num_fp16_res': 4, 'conv_clamp': 256, 'architecture': 'skip', 'resample_filter': [1, 3, 3, 1], 'use_noise': True, 'activation': 'lrelu'}}\n"
     ]
    },
    {
     "name": "stderr",
     "output_type": "stream",
     "text": [
      "100%|██████████| 150/150 [00:36<00:00,  4.15it/s]\n"
     ]
    },
    {
     "name": "stdout",
     "output_type": "stream",
     "text": [
      "intiating global state....\n",
      "calling init_images......\n",
      "Loading \"/home/bean/DragVideo/Data_store/experiments/2023-09-01_01-35-09_vsauce_ffmpeg/tuned_SG/stylegan2_FGPUAOCZJFFK.pkl\"... Done.\n",
      "()\n",
      "{'z_dim': 512, 'c_dim': 0, 'w_dim': 512, 'img_resolution': 1024, 'img_channels': 3, 'mapping_kwargs': {'num_layers': 8, 'embed_features': None, 'layer_features': None, 'activation': 'lrelu', 'lr_multiplier': 0.01, 'w_avg_beta': 0.995}, 'synthesis_kwargs': {'channel_base': 32768, 'channel_max': 512, 'num_fp16_res': 4, 'conv_clamp': 256, 'architecture': 'skip', 'resample_filter': [1, 3, 3, 1], 'use_noise': True, 'activation': 'lrelu'}}\n"
     ]
    },
    {
     "name": "stderr",
     "output_type": "stream",
     "text": [
      "100%|██████████| 150/150 [00:35<00:00,  4.18it/s]\n"
     ]
    },
    {
     "name": "stdout",
     "output_type": "stream",
     "text": [
      "intiating global state....\n",
      "calling init_images......\n",
      "Loading \"/home/bean/DragVideo/Data_store/experiments/2023-09-01_01-35-09_vsauce_ffmpeg/tuned_SG/stylegan2_FGPUAOCZJFFK.pkl\"... Done.\n",
      "()\n",
      "{'z_dim': 512, 'c_dim': 0, 'w_dim': 512, 'img_resolution': 1024, 'img_channels': 3, 'mapping_kwargs': {'num_layers': 8, 'embed_features': None, 'layer_features': None, 'activation': 'lrelu', 'lr_multiplier': 0.01, 'w_avg_beta': 0.995}, 'synthesis_kwargs': {'channel_base': 32768, 'channel_max': 512, 'num_fp16_res': 4, 'conv_clamp': 256, 'architecture': 'skip', 'resample_filter': [1, 3, 3, 1], 'use_noise': True, 'activation': 'lrelu'}}\n"
     ]
    },
    {
     "name": "stderr",
     "output_type": "stream",
     "text": [
      "100%|██████████| 150/150 [00:35<00:00,  4.17it/s]\n"
     ]
    },
    {
     "name": "stdout",
     "output_type": "stream",
     "text": [
      "intiating global state....\n",
      "calling init_images......\n",
      "Loading \"/home/bean/DragVideo/Data_store/experiments/2023-09-01_01-35-09_vsauce_ffmpeg/tuned_SG/stylegan2_FGPUAOCZJFFK.pkl\"... Done.\n",
      "()\n",
      "{'z_dim': 512, 'c_dim': 0, 'w_dim': 512, 'img_resolution': 1024, 'img_channels': 3, 'mapping_kwargs': {'num_layers': 8, 'embed_features': None, 'layer_features': None, 'activation': 'lrelu', 'lr_multiplier': 0.01, 'w_avg_beta': 0.995}, 'synthesis_kwargs': {'channel_base': 32768, 'channel_max': 512, 'num_fp16_res': 4, 'conv_clamp': 256, 'architecture': 'skip', 'resample_filter': [1, 3, 3, 1], 'use_noise': True, 'activation': 'lrelu'}}\n"
     ]
    },
    {
     "name": "stderr",
     "output_type": "stream",
     "text": [
      "100%|██████████| 150/150 [00:36<00:00,  4.10it/s]\n"
     ]
    },
    {
     "name": "stdout",
     "output_type": "stream",
     "text": [
      "intiating global state....\n",
      "calling init_images......\n",
      "Loading \"/home/bean/DragVideo/Data_store/experiments/2023-09-01_01-35-09_vsauce_ffmpeg/tuned_SG/stylegan2_FGPUAOCZJFFK.pkl\"... Done.\n",
      "()\n",
      "{'z_dim': 512, 'c_dim': 0, 'w_dim': 512, 'img_resolution': 1024, 'img_channels': 3, 'mapping_kwargs': {'num_layers': 8, 'embed_features': None, 'layer_features': None, 'activation': 'lrelu', 'lr_multiplier': 0.01, 'w_avg_beta': 0.995}, 'synthesis_kwargs': {'channel_base': 32768, 'channel_max': 512, 'num_fp16_res': 4, 'conv_clamp': 256, 'architecture': 'skip', 'resample_filter': [1, 3, 3, 1], 'use_noise': True, 'activation': 'lrelu'}}\n"
     ]
    },
    {
     "name": "stderr",
     "output_type": "stream",
     "text": [
      "100%|██████████| 150/150 [00:35<00:00,  4.18it/s]\n"
     ]
    },
    {
     "name": "stdout",
     "output_type": "stream",
     "text": [
      "intiating global state....\n",
      "calling init_images......\n",
      "Loading \"/home/bean/DragVideo/Data_store/experiments/2023-09-01_01-35-09_vsauce_ffmpeg/tuned_SG/stylegan2_FGPUAOCZJFFK.pkl\"... Done.\n",
      "()\n",
      "{'z_dim': 512, 'c_dim': 0, 'w_dim': 512, 'img_resolution': 1024, 'img_channels': 3, 'mapping_kwargs': {'num_layers': 8, 'embed_features': None, 'layer_features': None, 'activation': 'lrelu', 'lr_multiplier': 0.01, 'w_avg_beta': 0.995}, 'synthesis_kwargs': {'channel_base': 32768, 'channel_max': 512, 'num_fp16_res': 4, 'conv_clamp': 256, 'architecture': 'skip', 'resample_filter': [1, 3, 3, 1], 'use_noise': True, 'activation': 'lrelu'}}\n"
     ]
    },
    {
     "name": "stderr",
     "output_type": "stream",
     "text": [
      "100%|██████████| 150/150 [00:37<00:00,  4.03it/s]\n"
     ]
    },
    {
     "name": "stdout",
     "output_type": "stream",
     "text": [
      "intiating global state....\n",
      "calling init_images......\n",
      "Loading \"/home/bean/DragVideo/Data_store/experiments/2023-09-01_01-35-09_vsauce_ffmpeg/tuned_SG/stylegan2_FGPUAOCZJFFK.pkl\"... Done.\n",
      "()\n",
      "{'z_dim': 512, 'c_dim': 0, 'w_dim': 512, 'img_resolution': 1024, 'img_channels': 3, 'mapping_kwargs': {'num_layers': 8, 'embed_features': None, 'layer_features': None, 'activation': 'lrelu', 'lr_multiplier': 0.01, 'w_avg_beta': 0.995}, 'synthesis_kwargs': {'channel_base': 32768, 'channel_max': 512, 'num_fp16_res': 4, 'conv_clamp': 256, 'architecture': 'skip', 'resample_filter': [1, 3, 3, 1], 'use_noise': True, 'activation': 'lrelu'}}\n"
     ]
    },
    {
     "name": "stderr",
     "output_type": "stream",
     "text": [
      "100%|██████████| 150/150 [00:35<00:00,  4.18it/s]\n"
     ]
    },
    {
     "name": "stdout",
     "output_type": "stream",
     "text": [
      "intiating global state....\n",
      "calling init_images......\n",
      "Loading \"/home/bean/DragVideo/Data_store/experiments/2023-09-01_01-35-09_vsauce_ffmpeg/tuned_SG/stylegan2_FGPUAOCZJFFK.pkl\"... Done.\n",
      "()\n",
      "{'z_dim': 512, 'c_dim': 0, 'w_dim': 512, 'img_resolution': 1024, 'img_channels': 3, 'mapping_kwargs': {'num_layers': 8, 'embed_features': None, 'layer_features': None, 'activation': 'lrelu', 'lr_multiplier': 0.01, 'w_avg_beta': 0.995}, 'synthesis_kwargs': {'channel_base': 32768, 'channel_max': 512, 'num_fp16_res': 4, 'conv_clamp': 256, 'architecture': 'skip', 'resample_filter': [1, 3, 3, 1], 'use_noise': True, 'activation': 'lrelu'}}\n"
     ]
    },
    {
     "name": "stderr",
     "output_type": "stream",
     "text": [
      "100%|██████████| 150/150 [00:36<00:00,  4.06it/s]\n"
     ]
    },
    {
     "name": "stdout",
     "output_type": "stream",
     "text": [
      "intiating global state....\n",
      "calling init_images......\n",
      "Loading \"/home/bean/DragVideo/Data_store/experiments/2023-09-01_01-35-09_vsauce_ffmpeg/tuned_SG/stylegan2_FGPUAOCZJFFK.pkl\"... Done.\n",
      "()\n",
      "{'z_dim': 512, 'c_dim': 0, 'w_dim': 512, 'img_resolution': 1024, 'img_channels': 3, 'mapping_kwargs': {'num_layers': 8, 'embed_features': None, 'layer_features': None, 'activation': 'lrelu', 'lr_multiplier': 0.01, 'w_avg_beta': 0.995}, 'synthesis_kwargs': {'channel_base': 32768, 'channel_max': 512, 'num_fp16_res': 4, 'conv_clamp': 256, 'architecture': 'skip', 'resample_filter': [1, 3, 3, 1], 'use_noise': True, 'activation': 'lrelu'}}\n"
     ]
    },
    {
     "name": "stderr",
     "output_type": "stream",
     "text": [
      "100%|██████████| 150/150 [00:35<00:00,  4.23it/s]\n"
     ]
    },
    {
     "name": "stdout",
     "output_type": "stream",
     "text": [
      "intiating global state....\n",
      "calling init_images......\n",
      "Loading \"/home/bean/DragVideo/Data_store/experiments/2023-09-01_01-35-09_vsauce_ffmpeg/tuned_SG/stylegan2_FGPUAOCZJFFK.pkl\"... Done.\n",
      "()\n",
      "{'z_dim': 512, 'c_dim': 0, 'w_dim': 512, 'img_resolution': 1024, 'img_channels': 3, 'mapping_kwargs': {'num_layers': 8, 'embed_features': None, 'layer_features': None, 'activation': 'lrelu', 'lr_multiplier': 0.01, 'w_avg_beta': 0.995}, 'synthesis_kwargs': {'channel_base': 32768, 'channel_max': 512, 'num_fp16_res': 4, 'conv_clamp': 256, 'architecture': 'skip', 'resample_filter': [1, 3, 3, 1], 'use_noise': True, 'activation': 'lrelu'}}\n"
     ]
    },
    {
     "name": "stderr",
     "output_type": "stream",
     "text": [
      "100%|██████████| 150/150 [00:36<00:00,  4.15it/s]\n"
     ]
    },
    {
     "name": "stdout",
     "output_type": "stream",
     "text": [
      "intiating global state....\n",
      "calling init_images......\n",
      "Loading \"/home/bean/DragVideo/Data_store/experiments/2023-09-01_01-35-09_vsauce_ffmpeg/tuned_SG/stylegan2_FGPUAOCZJFFK.pkl\"... Done.\n",
      "()\n",
      "{'z_dim': 512, 'c_dim': 0, 'w_dim': 512, 'img_resolution': 1024, 'img_channels': 3, 'mapping_kwargs': {'num_layers': 8, 'embed_features': None, 'layer_features': None, 'activation': 'lrelu', 'lr_multiplier': 0.01, 'w_avg_beta': 0.995}, 'synthesis_kwargs': {'channel_base': 32768, 'channel_max': 512, 'num_fp16_res': 4, 'conv_clamp': 256, 'architecture': 'skip', 'resample_filter': [1, 3, 3, 1], 'use_noise': True, 'activation': 'lrelu'}}\n"
     ]
    },
    {
     "name": "stderr",
     "output_type": "stream",
     "text": [
      "100%|██████████| 150/150 [00:37<00:00,  4.00it/s]\n"
     ]
    },
    {
     "name": "stdout",
     "output_type": "stream",
     "text": [
      "intiating global state....\n",
      "calling init_images......\n",
      "Loading \"/home/bean/DragVideo/Data_store/experiments/2023-09-01_01-35-09_vsauce_ffmpeg/tuned_SG/stylegan2_FGPUAOCZJFFK.pkl\"... Done.\n",
      "()\n",
      "{'z_dim': 512, 'c_dim': 0, 'w_dim': 512, 'img_resolution': 1024, 'img_channels': 3, 'mapping_kwargs': {'num_layers': 8, 'embed_features': None, 'layer_features': None, 'activation': 'lrelu', 'lr_multiplier': 0.01, 'w_avg_beta': 0.995}, 'synthesis_kwargs': {'channel_base': 32768, 'channel_max': 512, 'num_fp16_res': 4, 'conv_clamp': 256, 'architecture': 'skip', 'resample_filter': [1, 3, 3, 1], 'use_noise': True, 'activation': 'lrelu'}}\n"
     ]
    },
    {
     "name": "stderr",
     "output_type": "stream",
     "text": [
      "100%|██████████| 150/150 [00:37<00:00,  3.96it/s]\n"
     ]
    },
    {
     "name": "stdout",
     "output_type": "stream",
     "text": [
      "intiating global state....\n",
      "calling init_images......\n",
      "Loading \"/home/bean/DragVideo/Data_store/experiments/2023-09-01_01-35-09_vsauce_ffmpeg/tuned_SG/stylegan2_FGPUAOCZJFFK.pkl\"... Done.\n",
      "()\n",
      "{'z_dim': 512, 'c_dim': 0, 'w_dim': 512, 'img_resolution': 1024, 'img_channels': 3, 'mapping_kwargs': {'num_layers': 8, 'embed_features': None, 'layer_features': None, 'activation': 'lrelu', 'lr_multiplier': 0.01, 'w_avg_beta': 0.995}, 'synthesis_kwargs': {'channel_base': 32768, 'channel_max': 512, 'num_fp16_res': 4, 'conv_clamp': 256, 'architecture': 'skip', 'resample_filter': [1, 3, 3, 1], 'use_noise': True, 'activation': 'lrelu'}}\n"
     ]
    },
    {
     "name": "stderr",
     "output_type": "stream",
     "text": [
      "100%|██████████| 150/150 [00:35<00:00,  4.18it/s]\n"
     ]
    },
    {
     "name": "stdout",
     "output_type": "stream",
     "text": [
      "intiating global state....\n",
      "calling init_images......\n",
      "Loading \"/home/bean/DragVideo/Data_store/experiments/2023-09-01_01-35-09_vsauce_ffmpeg/tuned_SG/stylegan2_FGPUAOCZJFFK.pkl\"... Done.\n",
      "()\n",
      "{'z_dim': 512, 'c_dim': 0, 'w_dim': 512, 'img_resolution': 1024, 'img_channels': 3, 'mapping_kwargs': {'num_layers': 8, 'embed_features': None, 'layer_features': None, 'activation': 'lrelu', 'lr_multiplier': 0.01, 'w_avg_beta': 0.995}, 'synthesis_kwargs': {'channel_base': 32768, 'channel_max': 512, 'num_fp16_res': 4, 'conv_clamp': 256, 'architecture': 'skip', 'resample_filter': [1, 3, 3, 1], 'use_noise': True, 'activation': 'lrelu'}}\n"
     ]
    },
    {
     "name": "stderr",
     "output_type": "stream",
     "text": [
      "100%|██████████| 150/150 [00:36<00:00,  4.14it/s]\n"
     ]
    },
    {
     "name": "stdout",
     "output_type": "stream",
     "text": [
      "intiating global state....\n",
      "calling init_images......\n",
      "Loading \"/home/bean/DragVideo/Data_store/experiments/2023-09-01_01-35-09_vsauce_ffmpeg/tuned_SG/stylegan2_FGPUAOCZJFFK.pkl\"... Done.\n",
      "()\n",
      "{'z_dim': 512, 'c_dim': 0, 'w_dim': 512, 'img_resolution': 1024, 'img_channels': 3, 'mapping_kwargs': {'num_layers': 8, 'embed_features': None, 'layer_features': None, 'activation': 'lrelu', 'lr_multiplier': 0.01, 'w_avg_beta': 0.995}, 'synthesis_kwargs': {'channel_base': 32768, 'channel_max': 512, 'num_fp16_res': 4, 'conv_clamp': 256, 'architecture': 'skip', 'resample_filter': [1, 3, 3, 1], 'use_noise': True, 'activation': 'lrelu'}}\n"
     ]
    },
    {
     "name": "stderr",
     "output_type": "stream",
     "text": [
      "100%|██████████| 150/150 [00:36<00:00,  4.15it/s]\n"
     ]
    },
    {
     "name": "stdout",
     "output_type": "stream",
     "text": [
      "intiating global state....\n",
      "calling init_images......\n",
      "Loading \"/home/bean/DragVideo/Data_store/experiments/2023-09-01_01-35-09_vsauce_ffmpeg/tuned_SG/stylegan2_FGPUAOCZJFFK.pkl\"... Done.\n",
      "()\n",
      "{'z_dim': 512, 'c_dim': 0, 'w_dim': 512, 'img_resolution': 1024, 'img_channels': 3, 'mapping_kwargs': {'num_layers': 8, 'embed_features': None, 'layer_features': None, 'activation': 'lrelu', 'lr_multiplier': 0.01, 'w_avg_beta': 0.995}, 'synthesis_kwargs': {'channel_base': 32768, 'channel_max': 512, 'num_fp16_res': 4, 'conv_clamp': 256, 'architecture': 'skip', 'resample_filter': [1, 3, 3, 1], 'use_noise': True, 'activation': 'lrelu'}}\n"
     ]
    },
    {
     "name": "stderr",
     "output_type": "stream",
     "text": [
      "100%|██████████| 150/150 [00:36<00:00,  4.14it/s]\n"
     ]
    },
    {
     "name": "stdout",
     "output_type": "stream",
     "text": [
      "intiating global state....\n",
      "calling init_images......\n",
      "Loading \"/home/bean/DragVideo/Data_store/experiments/2023-09-01_01-35-09_vsauce_ffmpeg/tuned_SG/stylegan2_FGPUAOCZJFFK.pkl\"... Done.\n",
      "()\n",
      "{'z_dim': 512, 'c_dim': 0, 'w_dim': 512, 'img_resolution': 1024, 'img_channels': 3, 'mapping_kwargs': {'num_layers': 8, 'embed_features': None, 'layer_features': None, 'activation': 'lrelu', 'lr_multiplier': 0.01, 'w_avg_beta': 0.995}, 'synthesis_kwargs': {'channel_base': 32768, 'channel_max': 512, 'num_fp16_res': 4, 'conv_clamp': 256, 'architecture': 'skip', 'resample_filter': [1, 3, 3, 1], 'use_noise': True, 'activation': 'lrelu'}}\n"
     ]
    },
    {
     "name": "stderr",
     "output_type": "stream",
     "text": [
      "100%|██████████| 150/150 [00:36<00:00,  4.13it/s]\n"
     ]
    },
    {
     "name": "stdout",
     "output_type": "stream",
     "text": [
      "intiating global state....\n",
      "calling init_images......\n",
      "Loading \"/home/bean/DragVideo/Data_store/experiments/2023-09-01_01-35-09_vsauce_ffmpeg/tuned_SG/stylegan2_FGPUAOCZJFFK.pkl\"... Done.\n",
      "()\n",
      "{'z_dim': 512, 'c_dim': 0, 'w_dim': 512, 'img_resolution': 1024, 'img_channels': 3, 'mapping_kwargs': {'num_layers': 8, 'embed_features': None, 'layer_features': None, 'activation': 'lrelu', 'lr_multiplier': 0.01, 'w_avg_beta': 0.995}, 'synthesis_kwargs': {'channel_base': 32768, 'channel_max': 512, 'num_fp16_res': 4, 'conv_clamp': 256, 'architecture': 'skip', 'resample_filter': [1, 3, 3, 1], 'use_noise': True, 'activation': 'lrelu'}}\n"
     ]
    },
    {
     "name": "stderr",
     "output_type": "stream",
     "text": [
      "100%|██████████| 150/150 [00:35<00:00,  4.26it/s]\n"
     ]
    },
    {
     "name": "stdout",
     "output_type": "stream",
     "text": [
      "intiating global state....\n",
      "calling init_images......\n",
      "Loading \"/home/bean/DragVideo/Data_store/experiments/2023-09-01_01-35-09_vsauce_ffmpeg/tuned_SG/stylegan2_FGPUAOCZJFFK.pkl\"... Done.\n",
      "()\n",
      "{'z_dim': 512, 'c_dim': 0, 'w_dim': 512, 'img_resolution': 1024, 'img_channels': 3, 'mapping_kwargs': {'num_layers': 8, 'embed_features': None, 'layer_features': None, 'activation': 'lrelu', 'lr_multiplier': 0.01, 'w_avg_beta': 0.995}, 'synthesis_kwargs': {'channel_base': 32768, 'channel_max': 512, 'num_fp16_res': 4, 'conv_clamp': 256, 'architecture': 'skip', 'resample_filter': [1, 3, 3, 1], 'use_noise': True, 'activation': 'lrelu'}}\n"
     ]
    },
    {
     "name": "stderr",
     "output_type": "stream",
     "text": [
      "100%|██████████| 150/150 [00:36<00:00,  4.11it/s]\n"
     ]
    },
    {
     "name": "stdout",
     "output_type": "stream",
     "text": [
      "intiating global state....\n",
      "calling init_images......\n",
      "Loading \"/home/bean/DragVideo/Data_store/experiments/2023-09-01_01-35-09_vsauce_ffmpeg/tuned_SG/stylegan2_FGPUAOCZJFFK.pkl\"... Done.\n",
      "()\n",
      "{'z_dim': 512, 'c_dim': 0, 'w_dim': 512, 'img_resolution': 1024, 'img_channels': 3, 'mapping_kwargs': {'num_layers': 8, 'embed_features': None, 'layer_features': None, 'activation': 'lrelu', 'lr_multiplier': 0.01, 'w_avg_beta': 0.995}, 'synthesis_kwargs': {'channel_base': 32768, 'channel_max': 512, 'num_fp16_res': 4, 'conv_clamp': 256, 'architecture': 'skip', 'resample_filter': [1, 3, 3, 1], 'use_noise': True, 'activation': 'lrelu'}}\n"
     ]
    },
    {
     "name": "stderr",
     "output_type": "stream",
     "text": [
      "100%|██████████| 150/150 [00:36<00:00,  4.14it/s]\n"
     ]
    },
    {
     "name": "stdout",
     "output_type": "stream",
     "text": [
      "intiating global state....\n",
      "calling init_images......\n",
      "Loading \"/home/bean/DragVideo/Data_store/experiments/2023-09-01_01-35-09_vsauce_ffmpeg/tuned_SG/stylegan2_FGPUAOCZJFFK.pkl\"... Done.\n",
      "()\n",
      "{'z_dim': 512, 'c_dim': 0, 'w_dim': 512, 'img_resolution': 1024, 'img_channels': 3, 'mapping_kwargs': {'num_layers': 8, 'embed_features': None, 'layer_features': None, 'activation': 'lrelu', 'lr_multiplier': 0.01, 'w_avg_beta': 0.995}, 'synthesis_kwargs': {'channel_base': 32768, 'channel_max': 512, 'num_fp16_res': 4, 'conv_clamp': 256, 'architecture': 'skip', 'resample_filter': [1, 3, 3, 1], 'use_noise': True, 'activation': 'lrelu'}}\n"
     ]
    },
    {
     "name": "stderr",
     "output_type": "stream",
     "text": [
      "100%|██████████| 150/150 [00:36<00:00,  4.06it/s]\n"
     ]
    },
    {
     "name": "stdout",
     "output_type": "stream",
     "text": [
      "intiating global state....\n",
      "calling init_images......\n",
      "Loading \"/home/bean/DragVideo/Data_store/experiments/2023-09-01_01-35-09_vsauce_ffmpeg/tuned_SG/stylegan2_FGPUAOCZJFFK.pkl\"... Done.\n",
      "()\n",
      "{'z_dim': 512, 'c_dim': 0, 'w_dim': 512, 'img_resolution': 1024, 'img_channels': 3, 'mapping_kwargs': {'num_layers': 8, 'embed_features': None, 'layer_features': None, 'activation': 'lrelu', 'lr_multiplier': 0.01, 'w_avg_beta': 0.995}, 'synthesis_kwargs': {'channel_base': 32768, 'channel_max': 512, 'num_fp16_res': 4, 'conv_clamp': 256, 'architecture': 'skip', 'resample_filter': [1, 3, 3, 1], 'use_noise': True, 'activation': 'lrelu'}}\n"
     ]
    },
    {
     "name": "stderr",
     "output_type": "stream",
     "text": [
      "100%|██████████| 150/150 [00:35<00:00,  4.18it/s]\n"
     ]
    },
    {
     "name": "stdout",
     "output_type": "stream",
     "text": [
      "intiating global state....\n",
      "calling init_images......\n",
      "Loading \"/home/bean/DragVideo/Data_store/experiments/2023-09-01_01-35-09_vsauce_ffmpeg/tuned_SG/stylegan2_FGPUAOCZJFFK.pkl\"... Done.\n",
      "()\n",
      "{'z_dim': 512, 'c_dim': 0, 'w_dim': 512, 'img_resolution': 1024, 'img_channels': 3, 'mapping_kwargs': {'num_layers': 8, 'embed_features': None, 'layer_features': None, 'activation': 'lrelu', 'lr_multiplier': 0.01, 'w_avg_beta': 0.995}, 'synthesis_kwargs': {'channel_base': 32768, 'channel_max': 512, 'num_fp16_res': 4, 'conv_clamp': 256, 'architecture': 'skip', 'resample_filter': [1, 3, 3, 1], 'use_noise': True, 'activation': 'lrelu'}}\n"
     ]
    },
    {
     "name": "stderr",
     "output_type": "stream",
     "text": [
      "100%|██████████| 150/150 [00:35<00:00,  4.19it/s]\n"
     ]
    },
    {
     "name": "stdout",
     "output_type": "stream",
     "text": [
      "intiating global state....\n",
      "calling init_images......\n",
      "Loading \"/home/bean/DragVideo/Data_store/experiments/2023-09-01_01-35-09_vsauce_ffmpeg/tuned_SG/stylegan2_FGPUAOCZJFFK.pkl\"... Done.\n",
      "()\n",
      "{'z_dim': 512, 'c_dim': 0, 'w_dim': 512, 'img_resolution': 1024, 'img_channels': 3, 'mapping_kwargs': {'num_layers': 8, 'embed_features': None, 'layer_features': None, 'activation': 'lrelu', 'lr_multiplier': 0.01, 'w_avg_beta': 0.995}, 'synthesis_kwargs': {'channel_base': 32768, 'channel_max': 512, 'num_fp16_res': 4, 'conv_clamp': 256, 'architecture': 'skip', 'resample_filter': [1, 3, 3, 1], 'use_noise': True, 'activation': 'lrelu'}}\n"
     ]
    },
    {
     "name": "stderr",
     "output_type": "stream",
     "text": [
      "100%|██████████| 150/150 [00:34<00:00,  4.33it/s]\n"
     ]
    },
    {
     "name": "stdout",
     "output_type": "stream",
     "text": [
      "intiating global state....\n",
      "calling init_images......\n",
      "Loading \"/home/bean/DragVideo/Data_store/experiments/2023-09-01_01-35-09_vsauce_ffmpeg/tuned_SG/stylegan2_FGPUAOCZJFFK.pkl\"... Done.\n",
      "()\n",
      "{'z_dim': 512, 'c_dim': 0, 'w_dim': 512, 'img_resolution': 1024, 'img_channels': 3, 'mapping_kwargs': {'num_layers': 8, 'embed_features': None, 'layer_features': None, 'activation': 'lrelu', 'lr_multiplier': 0.01, 'w_avg_beta': 0.995}, 'synthesis_kwargs': {'channel_base': 32768, 'channel_max': 512, 'num_fp16_res': 4, 'conv_clamp': 256, 'architecture': 'skip', 'resample_filter': [1, 3, 3, 1], 'use_noise': True, 'activation': 'lrelu'}}\n"
     ]
    },
    {
     "name": "stderr",
     "output_type": "stream",
     "text": [
      "100%|██████████| 150/150 [00:34<00:00,  4.39it/s]\n"
     ]
    },
    {
     "name": "stdout",
     "output_type": "stream",
     "text": [
      "intiating global state....\n",
      "calling init_images......\n",
      "Loading \"/home/bean/DragVideo/Data_store/experiments/2023-09-01_01-35-09_vsauce_ffmpeg/tuned_SG/stylegan2_FGPUAOCZJFFK.pkl\"... Done.\n",
      "()\n",
      "{'z_dim': 512, 'c_dim': 0, 'w_dim': 512, 'img_resolution': 1024, 'img_channels': 3, 'mapping_kwargs': {'num_layers': 8, 'embed_features': None, 'layer_features': None, 'activation': 'lrelu', 'lr_multiplier': 0.01, 'w_avg_beta': 0.995}, 'synthesis_kwargs': {'channel_base': 32768, 'channel_max': 512, 'num_fp16_res': 4, 'conv_clamp': 256, 'architecture': 'skip', 'resample_filter': [1, 3, 3, 1], 'use_noise': True, 'activation': 'lrelu'}}\n"
     ]
    },
    {
     "name": "stderr",
     "output_type": "stream",
     "text": [
      "100%|██████████| 150/150 [00:35<00:00,  4.23it/s]\n"
     ]
    },
    {
     "name": "stdout",
     "output_type": "stream",
     "text": [
      "intiating global state....\n",
      "calling init_images......\n",
      "Loading \"/home/bean/DragVideo/Data_store/experiments/2023-09-01_01-35-09_vsauce_ffmpeg/tuned_SG/stylegan2_FGPUAOCZJFFK.pkl\"... Done.\n",
      "()\n",
      "{'z_dim': 512, 'c_dim': 0, 'w_dim': 512, 'img_resolution': 1024, 'img_channels': 3, 'mapping_kwargs': {'num_layers': 8, 'embed_features': None, 'layer_features': None, 'activation': 'lrelu', 'lr_multiplier': 0.01, 'w_avg_beta': 0.995}, 'synthesis_kwargs': {'channel_base': 32768, 'channel_max': 512, 'num_fp16_res': 4, 'conv_clamp': 256, 'architecture': 'skip', 'resample_filter': [1, 3, 3, 1], 'use_noise': True, 'activation': 'lrelu'}}\n"
     ]
    },
    {
     "name": "stderr",
     "output_type": "stream",
     "text": [
      "100%|██████████| 150/150 [00:36<00:00,  4.10it/s]\n"
     ]
    },
    {
     "name": "stdout",
     "output_type": "stream",
     "text": [
      "intiating global state....\n",
      "calling init_images......\n",
      "Loading \"/home/bean/DragVideo/Data_store/experiments/2023-09-01_01-35-09_vsauce_ffmpeg/tuned_SG/stylegan2_FGPUAOCZJFFK.pkl\"... Done.\n",
      "()\n",
      "{'z_dim': 512, 'c_dim': 0, 'w_dim': 512, 'img_resolution': 1024, 'img_channels': 3, 'mapping_kwargs': {'num_layers': 8, 'embed_features': None, 'layer_features': None, 'activation': 'lrelu', 'lr_multiplier': 0.01, 'w_avg_beta': 0.995}, 'synthesis_kwargs': {'channel_base': 32768, 'channel_max': 512, 'num_fp16_res': 4, 'conv_clamp': 256, 'architecture': 'skip', 'resample_filter': [1, 3, 3, 1], 'use_noise': True, 'activation': 'lrelu'}}\n"
     ]
    },
    {
     "name": "stderr",
     "output_type": "stream",
     "text": [
      "100%|██████████| 150/150 [00:37<00:00,  4.04it/s]\n"
     ]
    },
    {
     "name": "stdout",
     "output_type": "stream",
     "text": [
      "intiating global state....\n",
      "calling init_images......\n",
      "Loading \"/home/bean/DragVideo/Data_store/experiments/2023-09-01_01-35-09_vsauce_ffmpeg/tuned_SG/stylegan2_FGPUAOCZJFFK.pkl\"... Done.\n",
      "()\n",
      "{'z_dim': 512, 'c_dim': 0, 'w_dim': 512, 'img_resolution': 1024, 'img_channels': 3, 'mapping_kwargs': {'num_layers': 8, 'embed_features': None, 'layer_features': None, 'activation': 'lrelu', 'lr_multiplier': 0.01, 'w_avg_beta': 0.995}, 'synthesis_kwargs': {'channel_base': 32768, 'channel_max': 512, 'num_fp16_res': 4, 'conv_clamp': 256, 'architecture': 'skip', 'resample_filter': [1, 3, 3, 1], 'use_noise': True, 'activation': 'lrelu'}}\n"
     ]
    },
    {
     "name": "stderr",
     "output_type": "stream",
     "text": [
      "100%|██████████| 150/150 [00:37<00:00,  3.95it/s]\n"
     ]
    },
    {
     "name": "stdout",
     "output_type": "stream",
     "text": [
      "intiating global state....\n",
      "calling init_images......\n",
      "Loading \"/home/bean/DragVideo/Data_store/experiments/2023-09-01_01-35-09_vsauce_ffmpeg/tuned_SG/stylegan2_FGPUAOCZJFFK.pkl\"... Done.\n",
      "()\n",
      "{'z_dim': 512, 'c_dim': 0, 'w_dim': 512, 'img_resolution': 1024, 'img_channels': 3, 'mapping_kwargs': {'num_layers': 8, 'embed_features': None, 'layer_features': None, 'activation': 'lrelu', 'lr_multiplier': 0.01, 'w_avg_beta': 0.995}, 'synthesis_kwargs': {'channel_base': 32768, 'channel_max': 512, 'num_fp16_res': 4, 'conv_clamp': 256, 'architecture': 'skip', 'resample_filter': [1, 3, 3, 1], 'use_noise': True, 'activation': 'lrelu'}}\n"
     ]
    },
    {
     "name": "stderr",
     "output_type": "stream",
     "text": [
      "100%|██████████| 150/150 [00:37<00:00,  3.97it/s]\n"
     ]
    },
    {
     "name": "stdout",
     "output_type": "stream",
     "text": [
      "intiating global state....\n",
      "calling init_images......\n",
      "Loading \"/home/bean/DragVideo/Data_store/experiments/2023-09-01_01-35-09_vsauce_ffmpeg/tuned_SG/stylegan2_FGPUAOCZJFFK.pkl\"... Done.\n",
      "()\n",
      "{'z_dim': 512, 'c_dim': 0, 'w_dim': 512, 'img_resolution': 1024, 'img_channels': 3, 'mapping_kwargs': {'num_layers': 8, 'embed_features': None, 'layer_features': None, 'activation': 'lrelu', 'lr_multiplier': 0.01, 'w_avg_beta': 0.995}, 'synthesis_kwargs': {'channel_base': 32768, 'channel_max': 512, 'num_fp16_res': 4, 'conv_clamp': 256, 'architecture': 'skip', 'resample_filter': [1, 3, 3, 1], 'use_noise': True, 'activation': 'lrelu'}}\n"
     ]
    },
    {
     "name": "stderr",
     "output_type": "stream",
     "text": [
      "100%|██████████| 150/150 [00:35<00:00,  4.26it/s]\n"
     ]
    },
    {
     "name": "stdout",
     "output_type": "stream",
     "text": [
      "intiating global state....\n",
      "calling init_images......\n",
      "Loading \"/home/bean/DragVideo/Data_store/experiments/2023-09-01_01-35-09_vsauce_ffmpeg/tuned_SG/stylegan2_FGPUAOCZJFFK.pkl\"... Done.\n",
      "()\n",
      "{'z_dim': 512, 'c_dim': 0, 'w_dim': 512, 'img_resolution': 1024, 'img_channels': 3, 'mapping_kwargs': {'num_layers': 8, 'embed_features': None, 'layer_features': None, 'activation': 'lrelu', 'lr_multiplier': 0.01, 'w_avg_beta': 0.995}, 'synthesis_kwargs': {'channel_base': 32768, 'channel_max': 512, 'num_fp16_res': 4, 'conv_clamp': 256, 'architecture': 'skip', 'resample_filter': [1, 3, 3, 1], 'use_noise': True, 'activation': 'lrelu'}}\n"
     ]
    },
    {
     "name": "stderr",
     "output_type": "stream",
     "text": [
      "100%|██████████| 150/150 [00:34<00:00,  4.31it/s]\n"
     ]
    },
    {
     "name": "stdout",
     "output_type": "stream",
     "text": [
      "intiating global state....\n",
      "calling init_images......\n",
      "Loading \"/home/bean/DragVideo/Data_store/experiments/2023-09-01_01-35-09_vsauce_ffmpeg/tuned_SG/stylegan2_FGPUAOCZJFFK.pkl\"... Done.\n",
      "()\n",
      "{'z_dim': 512, 'c_dim': 0, 'w_dim': 512, 'img_resolution': 1024, 'img_channels': 3, 'mapping_kwargs': {'num_layers': 8, 'embed_features': None, 'layer_features': None, 'activation': 'lrelu', 'lr_multiplier': 0.01, 'w_avg_beta': 0.995}, 'synthesis_kwargs': {'channel_base': 32768, 'channel_max': 512, 'num_fp16_res': 4, 'conv_clamp': 256, 'architecture': 'skip', 'resample_filter': [1, 3, 3, 1], 'use_noise': True, 'activation': 'lrelu'}}\n"
     ]
    },
    {
     "name": "stderr",
     "output_type": "stream",
     "text": [
      "100%|██████████| 150/150 [00:36<00:00,  4.15it/s]\n"
     ]
    },
    {
     "name": "stdout",
     "output_type": "stream",
     "text": [
      "intiating global state....\n",
      "calling init_images......\n",
      "Loading \"/home/bean/DragVideo/Data_store/experiments/2023-09-01_01-35-09_vsauce_ffmpeg/tuned_SG/stylegan2_FGPUAOCZJFFK.pkl\"... Done.\n",
      "()\n",
      "{'z_dim': 512, 'c_dim': 0, 'w_dim': 512, 'img_resolution': 1024, 'img_channels': 3, 'mapping_kwargs': {'num_layers': 8, 'embed_features': None, 'layer_features': None, 'activation': 'lrelu', 'lr_multiplier': 0.01, 'w_avg_beta': 0.995}, 'synthesis_kwargs': {'channel_base': 32768, 'channel_max': 512, 'num_fp16_res': 4, 'conv_clamp': 256, 'architecture': 'skip', 'resample_filter': [1, 3, 3, 1], 'use_noise': True, 'activation': 'lrelu'}}\n"
     ]
    },
    {
     "name": "stderr",
     "output_type": "stream",
     "text": [
      "100%|██████████| 150/150 [00:37<00:00,  3.96it/s]\n"
     ]
    },
    {
     "name": "stdout",
     "output_type": "stream",
     "text": [
      "intiating global state....\n",
      "calling init_images......\n",
      "Loading \"/home/bean/DragVideo/Data_store/experiments/2023-09-01_01-35-09_vsauce_ffmpeg/tuned_SG/stylegan2_FGPUAOCZJFFK.pkl\"... Done.\n",
      "()\n",
      "{'z_dim': 512, 'c_dim': 0, 'w_dim': 512, 'img_resolution': 1024, 'img_channels': 3, 'mapping_kwargs': {'num_layers': 8, 'embed_features': None, 'layer_features': None, 'activation': 'lrelu', 'lr_multiplier': 0.01, 'w_avg_beta': 0.995}, 'synthesis_kwargs': {'channel_base': 32768, 'channel_max': 512, 'num_fp16_res': 4, 'conv_clamp': 256, 'architecture': 'skip', 'resample_filter': [1, 3, 3, 1], 'use_noise': True, 'activation': 'lrelu'}}\n"
     ]
    },
    {
     "name": "stderr",
     "output_type": "stream",
     "text": [
      "100%|██████████| 150/150 [00:37<00:00,  4.02it/s]\n"
     ]
    },
    {
     "name": "stdout",
     "output_type": "stream",
     "text": [
      "intiating global state....\n",
      "calling init_images......\n",
      "Loading \"/home/bean/DragVideo/Data_store/experiments/2023-09-01_01-35-09_vsauce_ffmpeg/tuned_SG/stylegan2_FGPUAOCZJFFK.pkl\"... Done.\n",
      "()\n",
      "{'z_dim': 512, 'c_dim': 0, 'w_dim': 512, 'img_resolution': 1024, 'img_channels': 3, 'mapping_kwargs': {'num_layers': 8, 'embed_features': None, 'layer_features': None, 'activation': 'lrelu', 'lr_multiplier': 0.01, 'w_avg_beta': 0.995}, 'synthesis_kwargs': {'channel_base': 32768, 'channel_max': 512, 'num_fp16_res': 4, 'conv_clamp': 256, 'architecture': 'skip', 'resample_filter': [1, 3, 3, 1], 'use_noise': True, 'activation': 'lrelu'}}\n"
     ]
    },
    {
     "name": "stderr",
     "output_type": "stream",
     "text": [
      "100%|██████████| 150/150 [00:35<00:00,  4.18it/s]\n"
     ]
    },
    {
     "name": "stdout",
     "output_type": "stream",
     "text": [
      "intiating global state....\n",
      "calling init_images......\n",
      "Loading \"/home/bean/DragVideo/Data_store/experiments/2023-09-01_01-35-09_vsauce_ffmpeg/tuned_SG/stylegan2_FGPUAOCZJFFK.pkl\"... Done.\n",
      "()\n",
      "{'z_dim': 512, 'c_dim': 0, 'w_dim': 512, 'img_resolution': 1024, 'img_channels': 3, 'mapping_kwargs': {'num_layers': 8, 'embed_features': None, 'layer_features': None, 'activation': 'lrelu', 'lr_multiplier': 0.01, 'w_avg_beta': 0.995}, 'synthesis_kwargs': {'channel_base': 32768, 'channel_max': 512, 'num_fp16_res': 4, 'conv_clamp': 256, 'architecture': 'skip', 'resample_filter': [1, 3, 3, 1], 'use_noise': True, 'activation': 'lrelu'}}\n"
     ]
    },
    {
     "name": "stderr",
     "output_type": "stream",
     "text": [
      "100%|██████████| 150/150 [00:35<00:00,  4.28it/s]\n"
     ]
    },
    {
     "name": "stdout",
     "output_type": "stream",
     "text": [
      "intiating global state....\n",
      "calling init_images......\n",
      "Loading \"/home/bean/DragVideo/Data_store/experiments/2023-09-01_01-35-09_vsauce_ffmpeg/tuned_SG/stylegan2_FGPUAOCZJFFK.pkl\"... Done.\n",
      "()\n",
      "{'z_dim': 512, 'c_dim': 0, 'w_dim': 512, 'img_resolution': 1024, 'img_channels': 3, 'mapping_kwargs': {'num_layers': 8, 'embed_features': None, 'layer_features': None, 'activation': 'lrelu', 'lr_multiplier': 0.01, 'w_avg_beta': 0.995}, 'synthesis_kwargs': {'channel_base': 32768, 'channel_max': 512, 'num_fp16_res': 4, 'conv_clamp': 256, 'architecture': 'skip', 'resample_filter': [1, 3, 3, 1], 'use_noise': True, 'activation': 'lrelu'}}\n"
     ]
    },
    {
     "name": "stderr",
     "output_type": "stream",
     "text": [
      "100%|██████████| 150/150 [00:35<00:00,  4.23it/s]\n"
     ]
    },
    {
     "name": "stdout",
     "output_type": "stream",
     "text": [
      "intiating global state....\n",
      "calling init_images......\n",
      "Loading \"/home/bean/DragVideo/Data_store/experiments/2023-09-01_01-35-09_vsauce_ffmpeg/tuned_SG/stylegan2_FGPUAOCZJFFK.pkl\"... Done.\n",
      "()\n",
      "{'z_dim': 512, 'c_dim': 0, 'w_dim': 512, 'img_resolution': 1024, 'img_channels': 3, 'mapping_kwargs': {'num_layers': 8, 'embed_features': None, 'layer_features': None, 'activation': 'lrelu', 'lr_multiplier': 0.01, 'w_avg_beta': 0.995}, 'synthesis_kwargs': {'channel_base': 32768, 'channel_max': 512, 'num_fp16_res': 4, 'conv_clamp': 256, 'architecture': 'skip', 'resample_filter': [1, 3, 3, 1], 'use_noise': True, 'activation': 'lrelu'}}\n"
     ]
    },
    {
     "name": "stderr",
     "output_type": "stream",
     "text": [
      "100%|██████████| 150/150 [00:35<00:00,  4.20it/s]\n"
     ]
    },
    {
     "name": "stdout",
     "output_type": "stream",
     "text": [
      "intiating global state....\n",
      "calling init_images......\n",
      "Loading \"/home/bean/DragVideo/Data_store/experiments/2023-09-01_01-35-09_vsauce_ffmpeg/tuned_SG/stylegan2_FGPUAOCZJFFK.pkl\"... Done.\n",
      "()\n",
      "{'z_dim': 512, 'c_dim': 0, 'w_dim': 512, 'img_resolution': 1024, 'img_channels': 3, 'mapping_kwargs': {'num_layers': 8, 'embed_features': None, 'layer_features': None, 'activation': 'lrelu', 'lr_multiplier': 0.01, 'w_avg_beta': 0.995}, 'synthesis_kwargs': {'channel_base': 32768, 'channel_max': 512, 'num_fp16_res': 4, 'conv_clamp': 256, 'architecture': 'skip', 'resample_filter': [1, 3, 3, 1], 'use_noise': True, 'activation': 'lrelu'}}\n"
     ]
    },
    {
     "name": "stderr",
     "output_type": "stream",
     "text": [
      "100%|██████████| 150/150 [00:34<00:00,  4.34it/s]\n"
     ]
    },
    {
     "name": "stdout",
     "output_type": "stream",
     "text": [
      "intiating global state....\n",
      "calling init_images......\n",
      "Loading \"/home/bean/DragVideo/Data_store/experiments/2023-09-01_01-35-09_vsauce_ffmpeg/tuned_SG/stylegan2_FGPUAOCZJFFK.pkl\"... Done.\n",
      "()\n",
      "{'z_dim': 512, 'c_dim': 0, 'w_dim': 512, 'img_resolution': 1024, 'img_channels': 3, 'mapping_kwargs': {'num_layers': 8, 'embed_features': None, 'layer_features': None, 'activation': 'lrelu', 'lr_multiplier': 0.01, 'w_avg_beta': 0.995}, 'synthesis_kwargs': {'channel_base': 32768, 'channel_max': 512, 'num_fp16_res': 4, 'conv_clamp': 256, 'architecture': 'skip', 'resample_filter': [1, 3, 3, 1], 'use_noise': True, 'activation': 'lrelu'}}\n"
     ]
    },
    {
     "name": "stderr",
     "output_type": "stream",
     "text": [
      "100%|██████████| 150/150 [00:33<00:00,  4.43it/s]\n"
     ]
    },
    {
     "name": "stdout",
     "output_type": "stream",
     "text": [
      "intiating global state....\n",
      "calling init_images......\n",
      "Loading \"/home/bean/DragVideo/Data_store/experiments/2023-09-01_01-35-09_vsauce_ffmpeg/tuned_SG/stylegan2_FGPUAOCZJFFK.pkl\"... Done.\n",
      "()\n",
      "{'z_dim': 512, 'c_dim': 0, 'w_dim': 512, 'img_resolution': 1024, 'img_channels': 3, 'mapping_kwargs': {'num_layers': 8, 'embed_features': None, 'layer_features': None, 'activation': 'lrelu', 'lr_multiplier': 0.01, 'w_avg_beta': 0.995}, 'synthesis_kwargs': {'channel_base': 32768, 'channel_max': 512, 'num_fp16_res': 4, 'conv_clamp': 256, 'architecture': 'skip', 'resample_filter': [1, 3, 3, 1], 'use_noise': True, 'activation': 'lrelu'}}\n"
     ]
    },
    {
     "name": "stderr",
     "output_type": "stream",
     "text": [
      "100%|██████████| 150/150 [00:34<00:00,  4.35it/s]\n"
     ]
    },
    {
     "name": "stdout",
     "output_type": "stream",
     "text": [
      "intiating global state....\n",
      "calling init_images......\n",
      "Loading \"/home/bean/DragVideo/Data_store/experiments/2023-09-01_01-35-09_vsauce_ffmpeg/tuned_SG/stylegan2_FGPUAOCZJFFK.pkl\"... Done.\n",
      "()\n",
      "{'z_dim': 512, 'c_dim': 0, 'w_dim': 512, 'img_resolution': 1024, 'img_channels': 3, 'mapping_kwargs': {'num_layers': 8, 'embed_features': None, 'layer_features': None, 'activation': 'lrelu', 'lr_multiplier': 0.01, 'w_avg_beta': 0.995}, 'synthesis_kwargs': {'channel_base': 32768, 'channel_max': 512, 'num_fp16_res': 4, 'conv_clamp': 256, 'architecture': 'skip', 'resample_filter': [1, 3, 3, 1], 'use_noise': True, 'activation': 'lrelu'}}\n"
     ]
    },
    {
     "name": "stderr",
     "output_type": "stream",
     "text": [
      "100%|██████████| 150/150 [00:34<00:00,  4.29it/s]\n"
     ]
    },
    {
     "name": "stdout",
     "output_type": "stream",
     "text": [
      "intiating global state....\n",
      "calling init_images......\n",
      "Loading \"/home/bean/DragVideo/Data_store/experiments/2023-09-01_01-35-09_vsauce_ffmpeg/tuned_SG/stylegan2_FGPUAOCZJFFK.pkl\"... Done.\n",
      "()\n",
      "{'z_dim': 512, 'c_dim': 0, 'w_dim': 512, 'img_resolution': 1024, 'img_channels': 3, 'mapping_kwargs': {'num_layers': 8, 'embed_features': None, 'layer_features': None, 'activation': 'lrelu', 'lr_multiplier': 0.01, 'w_avg_beta': 0.995}, 'synthesis_kwargs': {'channel_base': 32768, 'channel_max': 512, 'num_fp16_res': 4, 'conv_clamp': 256, 'architecture': 'skip', 'resample_filter': [1, 3, 3, 1], 'use_noise': True, 'activation': 'lrelu'}}\n"
     ]
    },
    {
     "name": "stderr",
     "output_type": "stream",
     "text": [
      "100%|██████████| 150/150 [00:32<00:00,  4.57it/s]\n"
     ]
    },
    {
     "name": "stdout",
     "output_type": "stream",
     "text": [
      "intiating global state....\n",
      "calling init_images......\n",
      "Loading \"/home/bean/DragVideo/Data_store/experiments/2023-09-01_01-35-09_vsauce_ffmpeg/tuned_SG/stylegan2_FGPUAOCZJFFK.pkl\"... Done.\n",
      "()\n",
      "{'z_dim': 512, 'c_dim': 0, 'w_dim': 512, 'img_resolution': 1024, 'img_channels': 3, 'mapping_kwargs': {'num_layers': 8, 'embed_features': None, 'layer_features': None, 'activation': 'lrelu', 'lr_multiplier': 0.01, 'w_avg_beta': 0.995}, 'synthesis_kwargs': {'channel_base': 32768, 'channel_max': 512, 'num_fp16_res': 4, 'conv_clamp': 256, 'architecture': 'skip', 'resample_filter': [1, 3, 3, 1], 'use_noise': True, 'activation': 'lrelu'}}\n"
     ]
    },
    {
     "name": "stderr",
     "output_type": "stream",
     "text": [
      "100%|██████████| 150/150 [00:33<00:00,  4.49it/s]\n"
     ]
    },
    {
     "name": "stdout",
     "output_type": "stream",
     "text": [
      "intiating global state....\n",
      "calling init_images......\n",
      "Loading \"/home/bean/DragVideo/Data_store/experiments/2023-09-01_01-35-09_vsauce_ffmpeg/tuned_SG/stylegan2_FGPUAOCZJFFK.pkl\"... Done.\n",
      "()\n",
      "{'z_dim': 512, 'c_dim': 0, 'w_dim': 512, 'img_resolution': 1024, 'img_channels': 3, 'mapping_kwargs': {'num_layers': 8, 'embed_features': None, 'layer_features': None, 'activation': 'lrelu', 'lr_multiplier': 0.01, 'w_avg_beta': 0.995}, 'synthesis_kwargs': {'channel_base': 32768, 'channel_max': 512, 'num_fp16_res': 4, 'conv_clamp': 256, 'architecture': 'skip', 'resample_filter': [1, 3, 3, 1], 'use_noise': True, 'activation': 'lrelu'}}\n"
     ]
    },
    {
     "name": "stderr",
     "output_type": "stream",
     "text": [
      "100%|██████████| 150/150 [00:34<00:00,  4.32it/s]\n"
     ]
    },
    {
     "name": "stdout",
     "output_type": "stream",
     "text": [
      "intiating global state....\n",
      "calling init_images......\n",
      "Loading \"/home/bean/DragVideo/Data_store/experiments/2023-09-01_01-35-09_vsauce_ffmpeg/tuned_SG/stylegan2_FGPUAOCZJFFK.pkl\"... Done.\n",
      "()\n",
      "{'z_dim': 512, 'c_dim': 0, 'w_dim': 512, 'img_resolution': 1024, 'img_channels': 3, 'mapping_kwargs': {'num_layers': 8, 'embed_features': None, 'layer_features': None, 'activation': 'lrelu', 'lr_multiplier': 0.01, 'w_avg_beta': 0.995}, 'synthesis_kwargs': {'channel_base': 32768, 'channel_max': 512, 'num_fp16_res': 4, 'conv_clamp': 256, 'architecture': 'skip', 'resample_filter': [1, 3, 3, 1], 'use_noise': True, 'activation': 'lrelu'}}\n"
     ]
    },
    {
     "name": "stderr",
     "output_type": "stream",
     "text": [
      "100%|██████████| 150/150 [00:33<00:00,  4.42it/s]\n"
     ]
    },
    {
     "name": "stdout",
     "output_type": "stream",
     "text": [
      "intiating global state....\n",
      "calling init_images......\n",
      "Loading \"/home/bean/DragVideo/Data_store/experiments/2023-09-01_01-35-09_vsauce_ffmpeg/tuned_SG/stylegan2_FGPUAOCZJFFK.pkl\"... Done.\n",
      "()\n",
      "{'z_dim': 512, 'c_dim': 0, 'w_dim': 512, 'img_resolution': 1024, 'img_channels': 3, 'mapping_kwargs': {'num_layers': 8, 'embed_features': None, 'layer_features': None, 'activation': 'lrelu', 'lr_multiplier': 0.01, 'w_avg_beta': 0.995}, 'synthesis_kwargs': {'channel_base': 32768, 'channel_max': 512, 'num_fp16_res': 4, 'conv_clamp': 256, 'architecture': 'skip', 'resample_filter': [1, 3, 3, 1], 'use_noise': True, 'activation': 'lrelu'}}\n"
     ]
    },
    {
     "name": "stderr",
     "output_type": "stream",
     "text": [
      "100%|██████████| 150/150 [00:35<00:00,  4.25it/s]\n"
     ]
    },
    {
     "name": "stdout",
     "output_type": "stream",
     "text": [
      "intiating global state....\n",
      "calling init_images......\n",
      "Loading \"/home/bean/DragVideo/Data_store/experiments/2023-09-01_01-35-09_vsauce_ffmpeg/tuned_SG/stylegan2_FGPUAOCZJFFK.pkl\"... Done.\n",
      "()\n",
      "{'z_dim': 512, 'c_dim': 0, 'w_dim': 512, 'img_resolution': 1024, 'img_channels': 3, 'mapping_kwargs': {'num_layers': 8, 'embed_features': None, 'layer_features': None, 'activation': 'lrelu', 'lr_multiplier': 0.01, 'w_avg_beta': 0.995}, 'synthesis_kwargs': {'channel_base': 32768, 'channel_max': 512, 'num_fp16_res': 4, 'conv_clamp': 256, 'architecture': 'skip', 'resample_filter': [1, 3, 3, 1], 'use_noise': True, 'activation': 'lrelu'}}\n"
     ]
    },
    {
     "name": "stderr",
     "output_type": "stream",
     "text": [
      "100%|██████████| 150/150 [00:35<00:00,  4.27it/s]\n"
     ]
    },
    {
     "name": "stdout",
     "output_type": "stream",
     "text": [
      "intiating global state....\n",
      "calling init_images......\n",
      "Loading \"/home/bean/DragVideo/Data_store/experiments/2023-09-01_01-35-09_vsauce_ffmpeg/tuned_SG/stylegan2_FGPUAOCZJFFK.pkl\"... Done.\n",
      "()\n",
      "{'z_dim': 512, 'c_dim': 0, 'w_dim': 512, 'img_resolution': 1024, 'img_channels': 3, 'mapping_kwargs': {'num_layers': 8, 'embed_features': None, 'layer_features': None, 'activation': 'lrelu', 'lr_multiplier': 0.01, 'w_avg_beta': 0.995}, 'synthesis_kwargs': {'channel_base': 32768, 'channel_max': 512, 'num_fp16_res': 4, 'conv_clamp': 256, 'architecture': 'skip', 'resample_filter': [1, 3, 3, 1], 'use_noise': True, 'activation': 'lrelu'}}\n"
     ]
    },
    {
     "name": "stderr",
     "output_type": "stream",
     "text": [
      "100%|██████████| 150/150 [00:35<00:00,  4.24it/s]\n"
     ]
    },
    {
     "name": "stdout",
     "output_type": "stream",
     "text": [
      "intiating global state....\n",
      "calling init_images......\n",
      "Loading \"/home/bean/DragVideo/Data_store/experiments/2023-09-01_01-35-09_vsauce_ffmpeg/tuned_SG/stylegan2_FGPUAOCZJFFK.pkl\"... Done.\n",
      "()\n",
      "{'z_dim': 512, 'c_dim': 0, 'w_dim': 512, 'img_resolution': 1024, 'img_channels': 3, 'mapping_kwargs': {'num_layers': 8, 'embed_features': None, 'layer_features': None, 'activation': 'lrelu', 'lr_multiplier': 0.01, 'w_avg_beta': 0.995}, 'synthesis_kwargs': {'channel_base': 32768, 'channel_max': 512, 'num_fp16_res': 4, 'conv_clamp': 256, 'architecture': 'skip', 'resample_filter': [1, 3, 3, 1], 'use_noise': True, 'activation': 'lrelu'}}\n"
     ]
    },
    {
     "name": "stderr",
     "output_type": "stream",
     "text": [
      "100%|██████████| 150/150 [00:35<00:00,  4.23it/s]\n"
     ]
    },
    {
     "name": "stdout",
     "output_type": "stream",
     "text": [
      "intiating global state....\n",
      "calling init_images......\n",
      "Loading \"/home/bean/DragVideo/Data_store/experiments/2023-09-01_01-35-09_vsauce_ffmpeg/tuned_SG/stylegan2_FGPUAOCZJFFK.pkl\"... Done.\n",
      "()\n",
      "{'z_dim': 512, 'c_dim': 0, 'w_dim': 512, 'img_resolution': 1024, 'img_channels': 3, 'mapping_kwargs': {'num_layers': 8, 'embed_features': None, 'layer_features': None, 'activation': 'lrelu', 'lr_multiplier': 0.01, 'w_avg_beta': 0.995}, 'synthesis_kwargs': {'channel_base': 32768, 'channel_max': 512, 'num_fp16_res': 4, 'conv_clamp': 256, 'architecture': 'skip', 'resample_filter': [1, 3, 3, 1], 'use_noise': True, 'activation': 'lrelu'}}\n"
     ]
    },
    {
     "name": "stderr",
     "output_type": "stream",
     "text": [
      "100%|██████████| 150/150 [00:35<00:00,  4.20it/s]\n"
     ]
    },
    {
     "name": "stdout",
     "output_type": "stream",
     "text": [
      "intiating global state....\n",
      "calling init_images......\n",
      "Loading \"/home/bean/DragVideo/Data_store/experiments/2023-09-01_01-35-09_vsauce_ffmpeg/tuned_SG/stylegan2_FGPUAOCZJFFK.pkl\"... Done.\n",
      "()\n",
      "{'z_dim': 512, 'c_dim': 0, 'w_dim': 512, 'img_resolution': 1024, 'img_channels': 3, 'mapping_kwargs': {'num_layers': 8, 'embed_features': None, 'layer_features': None, 'activation': 'lrelu', 'lr_multiplier': 0.01, 'w_avg_beta': 0.995}, 'synthesis_kwargs': {'channel_base': 32768, 'channel_max': 512, 'num_fp16_res': 4, 'conv_clamp': 256, 'architecture': 'skip', 'resample_filter': [1, 3, 3, 1], 'use_noise': True, 'activation': 'lrelu'}}\n"
     ]
    },
    {
     "name": "stderr",
     "output_type": "stream",
     "text": [
      "100%|██████████| 150/150 [00:35<00:00,  4.20it/s]\n"
     ]
    },
    {
     "name": "stdout",
     "output_type": "stream",
     "text": [
      "intiating global state....\n",
      "calling init_images......\n",
      "Loading \"/home/bean/DragVideo/Data_store/experiments/2023-09-01_01-35-09_vsauce_ffmpeg/tuned_SG/stylegan2_FGPUAOCZJFFK.pkl\"... Done.\n",
      "()\n",
      "{'z_dim': 512, 'c_dim': 0, 'w_dim': 512, 'img_resolution': 1024, 'img_channels': 3, 'mapping_kwargs': {'num_layers': 8, 'embed_features': None, 'layer_features': None, 'activation': 'lrelu', 'lr_multiplier': 0.01, 'w_avg_beta': 0.995}, 'synthesis_kwargs': {'channel_base': 32768, 'channel_max': 512, 'num_fp16_res': 4, 'conv_clamp': 256, 'architecture': 'skip', 'resample_filter': [1, 3, 3, 1], 'use_noise': True, 'activation': 'lrelu'}}\n"
     ]
    },
    {
     "name": "stderr",
     "output_type": "stream",
     "text": [
      "100%|██████████| 150/150 [00:35<00:00,  4.24it/s]\n"
     ]
    },
    {
     "name": "stdout",
     "output_type": "stream",
     "text": [
      "intiating global state....\n",
      "calling init_images......\n",
      "Loading \"/home/bean/DragVideo/Data_store/experiments/2023-09-01_01-35-09_vsauce_ffmpeg/tuned_SG/stylegan2_FGPUAOCZJFFK.pkl\"... Done.\n",
      "()\n",
      "{'z_dim': 512, 'c_dim': 0, 'w_dim': 512, 'img_resolution': 1024, 'img_channels': 3, 'mapping_kwargs': {'num_layers': 8, 'embed_features': None, 'layer_features': None, 'activation': 'lrelu', 'lr_multiplier': 0.01, 'w_avg_beta': 0.995}, 'synthesis_kwargs': {'channel_base': 32768, 'channel_max': 512, 'num_fp16_res': 4, 'conv_clamp': 256, 'architecture': 'skip', 'resample_filter': [1, 3, 3, 1], 'use_noise': True, 'activation': 'lrelu'}}\n"
     ]
    },
    {
     "name": "stderr",
     "output_type": "stream",
     "text": [
      "100%|██████████| 150/150 [00:36<00:00,  4.13it/s]\n"
     ]
    },
    {
     "name": "stdout",
     "output_type": "stream",
     "text": [
      "intiating global state....\n",
      "calling init_images......\n",
      "Loading \"/home/bean/DragVideo/Data_store/experiments/2023-09-01_01-35-09_vsauce_ffmpeg/tuned_SG/stylegan2_FGPUAOCZJFFK.pkl\"... Done.\n",
      "()\n",
      "{'z_dim': 512, 'c_dim': 0, 'w_dim': 512, 'img_resolution': 1024, 'img_channels': 3, 'mapping_kwargs': {'num_layers': 8, 'embed_features': None, 'layer_features': None, 'activation': 'lrelu', 'lr_multiplier': 0.01, 'w_avg_beta': 0.995}, 'synthesis_kwargs': {'channel_base': 32768, 'channel_max': 512, 'num_fp16_res': 4, 'conv_clamp': 256, 'architecture': 'skip', 'resample_filter': [1, 3, 3, 1], 'use_noise': True, 'activation': 'lrelu'}}\n"
     ]
    },
    {
     "name": "stderr",
     "output_type": "stream",
     "text": [
      "100%|██████████| 150/150 [00:35<00:00,  4.20it/s]\n"
     ]
    },
    {
     "name": "stdout",
     "output_type": "stream",
     "text": [
      "intiating global state....\n",
      "calling init_images......\n",
      "Loading \"/home/bean/DragVideo/Data_store/experiments/2023-09-01_01-35-09_vsauce_ffmpeg/tuned_SG/stylegan2_FGPUAOCZJFFK.pkl\"... Done.\n",
      "()\n",
      "{'z_dim': 512, 'c_dim': 0, 'w_dim': 512, 'img_resolution': 1024, 'img_channels': 3, 'mapping_kwargs': {'num_layers': 8, 'embed_features': None, 'layer_features': None, 'activation': 'lrelu', 'lr_multiplier': 0.01, 'w_avg_beta': 0.995}, 'synthesis_kwargs': {'channel_base': 32768, 'channel_max': 512, 'num_fp16_res': 4, 'conv_clamp': 256, 'architecture': 'skip', 'resample_filter': [1, 3, 3, 1], 'use_noise': True, 'activation': 'lrelu'}}\n"
     ]
    },
    {
     "name": "stderr",
     "output_type": "stream",
     "text": [
      "100%|██████████| 150/150 [00:09<00:00, 15.89it/s]\n"
     ]
    },
    {
     "name": "stdout",
     "output_type": "stream",
     "text": [
      "intiating global state....\n",
      "calling init_images......\n",
      "Loading \"/home/bean/DragVideo/Data_store/experiments/2023-09-01_01-35-09_vsauce_ffmpeg/tuned_SG/stylegan2_FGPUAOCZJFFK.pkl\"... Done.\n",
      "()\n",
      "{'z_dim': 512, 'c_dim': 0, 'w_dim': 512, 'img_resolution': 1024, 'img_channels': 3, 'mapping_kwargs': {'num_layers': 8, 'embed_features': None, 'layer_features': None, 'activation': 'lrelu', 'lr_multiplier': 0.01, 'w_avg_beta': 0.995}, 'synthesis_kwargs': {'channel_base': 32768, 'channel_max': 512, 'num_fp16_res': 4, 'conv_clamp': 256, 'architecture': 'skip', 'resample_filter': [1, 3, 3, 1], 'use_noise': True, 'activation': 'lrelu'}}\n"
     ]
    },
    {
     "name": "stderr",
     "output_type": "stream",
     "text": [
      "100%|██████████| 150/150 [00:09<00:00, 16.05it/s]\n"
     ]
    },
    {
     "name": "stdout",
     "output_type": "stream",
     "text": [
      "intiating global state....\n",
      "calling init_images......\n",
      "Loading \"/home/bean/DragVideo/Data_store/experiments/2023-09-01_01-35-09_vsauce_ffmpeg/tuned_SG/stylegan2_FGPUAOCZJFFK.pkl\"... Done.\n",
      "()\n",
      "{'z_dim': 512, 'c_dim': 0, 'w_dim': 512, 'img_resolution': 1024, 'img_channels': 3, 'mapping_kwargs': {'num_layers': 8, 'embed_features': None, 'layer_features': None, 'activation': 'lrelu', 'lr_multiplier': 0.01, 'w_avg_beta': 0.995}, 'synthesis_kwargs': {'channel_base': 32768, 'channel_max': 512, 'num_fp16_res': 4, 'conv_clamp': 256, 'architecture': 'skip', 'resample_filter': [1, 3, 3, 1], 'use_noise': True, 'activation': 'lrelu'}}\n"
     ]
    },
    {
     "name": "stderr",
     "output_type": "stream",
     "text": [
      "100%|██████████| 150/150 [00:09<00:00, 16.23it/s]\n"
     ]
    },
    {
     "name": "stdout",
     "output_type": "stream",
     "text": [
      "intiating global state....\n",
      "calling init_images......\n",
      "Loading \"/home/bean/DragVideo/Data_store/experiments/2023-09-01_01-35-09_vsauce_ffmpeg/tuned_SG/stylegan2_FGPUAOCZJFFK.pkl\"... Done.\n",
      "()\n",
      "{'z_dim': 512, 'c_dim': 0, 'w_dim': 512, 'img_resolution': 1024, 'img_channels': 3, 'mapping_kwargs': {'num_layers': 8, 'embed_features': None, 'layer_features': None, 'activation': 'lrelu', 'lr_multiplier': 0.01, 'w_avg_beta': 0.995}, 'synthesis_kwargs': {'channel_base': 32768, 'channel_max': 512, 'num_fp16_res': 4, 'conv_clamp': 256, 'architecture': 'skip', 'resample_filter': [1, 3, 3, 1], 'use_noise': True, 'activation': 'lrelu'}}\n"
     ]
    },
    {
     "name": "stderr",
     "output_type": "stream",
     "text": [
      "100%|██████████| 150/150 [00:09<00:00, 16.39it/s]\n"
     ]
    },
    {
     "name": "stdout",
     "output_type": "stream",
     "text": [
      "Done!\n"
     ]
    },
    {
     "data": {
      "text/plain": [
       "0"
      ]
     },
     "execution_count": 13,
     "metadata": {},
     "output_type": "execute_result"
    }
   ],
   "source": [
    "# clean all data from gpu\n",
    "import torch\n",
    "torch.cuda.empty_cache()\n",
    "\n",
    "os.chdir(env_config[\"DragGAN_dir\"])\n",
    "import subprocess\n",
    "\n",
    "print(f\"sg_tuned_pkl: {sg_tuned_pkl}\")\n",
    "\n",
    "subprocess.call(['python', '_run_dragvideo.py',\n",
    "                 '--Experiment_path', Experiment_path,\n",
    "                 '--N_STEPS',       lazy_config[\"N_STEPS_in_draggan\"],\n",
    "                 '--CHECKPOINT_PATH', sg_tuned_pkl,\n",
    "                 \"--MAX_SIZE\",      str(lazy_config[\"IMAGE_SIZE\"]),\n",
    "                 \"--editing_function_name\",lazy_config[\"editing_function_name\"],\n",
    "])\n",
    "                #  \"--verbose\",       \"False\"])\n"
   ]
  },
  {
   "cell_type": "code",
   "execution_count": 14,
   "metadata": {},
   "outputs": [],
   "source": [
    "# empty catched data\n",
    "import torch\n",
    "torch.cuda.empty_cache()"
   ]
  },
  {
   "cell_type": "markdown",
   "metadata": {},
   "source": [
    "# post processing"
   ]
  },
  {
   "cell_type": "code",
   "execution_count": 15,
   "metadata": {},
   "outputs": [
    {
     "data": {
      "text/plain": [
       "'/home/bean/DragVideo/DragGAN'"
      ]
     },
     "execution_count": 15,
     "metadata": {},
     "output_type": "execute_result"
    }
   ],
   "source": [
    "import os\n",
    "from tqdm import tqdm\n",
    "os.getcwd()\n",
    "# import importlib\n",
    "# importlib.reload(ffmpeg_utils)"
   ]
  },
  {
   "cell_type": "code",
   "execution_count": 16,
   "metadata": {},
   "outputs": [],
   "source": [
    "\n",
    "from utils import de_alignment \n",
    "put_back_the_edited_image = de_alignment.put_back_the_edited_image\n"
   ]
  },
  {
   "cell_type": "code",
   "execution_count": 17,
   "metadata": {},
   "outputs": [],
   "source": [
    "def paste_edited_faces_back(dir_path,edited_dir='after_drag',save_dir='after_drag_pasted'):\n",
    "    raw_dir = os.path.join(dir_path,'raw')\n",
    "    edited_dir = os.path.join(dir_path,edited_dir)\n",
    "    quad_dir = os.path.join(dir_path,'quad_values')\n",
    "    save_dir = os.path.join(dir_path,save_dir)\n",
    "    if not os.path.exists(save_dir):\n",
    "        os.makedirs(save_dir)\n",
    "\n",
    "    # get names from edited_dir\n",
    "    names = [name.split('.')[0] for name in os.listdir(edited_dir)]\n",
    "    for name in tqdm(names):\n",
    "        raw_image = os.path.join(raw_dir,name+'.png')\n",
    "        edited_image = os.path.join(edited_dir,name+'.png')\n",
    "        quad_path = os.path.join(quad_dir,name+'.pkl')\n",
    "        save_path = os.path.join(save_dir,name+'.png')\n",
    "        put_back_the_edited_image(raw_image,edited_image,quad_path,save_path=save_path)\n"
   ]
  },
  {
   "cell_type": "code",
   "execution_count": 18,
   "metadata": {},
   "outputs": [
    {
     "name": "stderr",
     "output_type": "stream",
     "text": [
      "100%|██████████| 130/130 [00:25<00:00,  5.05it/s]\n",
      "100%|██████████| 130/130 [00:25<00:00,  5.17it/s]\n"
     ]
    }
   ],
   "source": [
    "paste_edited_faces_back(Experiment_path,edited_dir=\"before_drag\",save_dir=\"before_drag_pasted\")\n",
    "paste_edited_faces_back(Experiment_path,edited_dir=\"after_drag\",save_dir=\"after_drag_pasted\")"
   ]
  },
  {
   "cell_type": "code",
   "execution_count": 19,
   "metadata": {},
   "outputs": [
    {
     "name": "stderr",
     "output_type": "stream",
     "text": [
      "ffmpeg version 4.0.2 Copyright (c) 2000-2018 the FFmpeg developers\n",
      "  built with gcc 4.8.2 (GCC) 20140120 (Red Hat 4.8.2-15)\n",
      "  configuration: --prefix=/home/conda/feedstock_root/build_artifacts/ffmpeg_1539667330082/_h_env_placehold_placehold_placehold_placehold_placehold_placehold_placehold_placehold_placehold_placehold_placehold_placehold_placehold_placehold_placehold_placehold_placehold_placehold_plac --disable-doc --disable-openssl --enable-shared --enable-static --extra-cflags='-Wall -g -m64 -pipe -O3 -march=x86-64 -fPIC' --extra-cxxflags='-Wall -g -m64 -pipe -O3 -march=x86-64 -fPIC' --extra-libs='-lpthread -lm -lz' --enable-zlib --enable-pic --enable-pthreads --enable-gpl --enable-version3 --enable-hardcoded-tables --enable-avresample --enable-libfreetype --enable-gnutls --enable-libx264 --enable-libopenh264\n",
      "  libavutil      56. 14.100 / 56. 14.100\n",
      "  libavcodec     58. 18.100 / 58. 18.100\n",
      "  libavformat    58. 12.100 / 58. 12.100\n",
      "  libavdevice    58.  3.100 / 58.  3.100\n",
      "  libavfilter     7. 16.100 /  7. 16.100\n",
      "  libavresample   4.  0.  0 /  4.  0.  0\n",
      "  libswscale      5.  1.100 /  5.  1.100\n",
      "  libswresample   3.  1.100 /  3.  1.100\n",
      "  libpostproc    55.  1.100 / 55.  1.100\n",
      "Input #0, image2, from './*.png':\n",
      "  Duration: 00:00:05.42, start: 0.000000, bitrate: N/A\n",
      "    Stream #0:0: Video: png, rgb24(pc), 1280x720, 24 fps, 24 tbr, 24 tbn, 24 tbc\n",
      "Stream mapping:\n",
      "  Stream #0:0 -> #0:0 (png (native) -> h264 (libx264))\n",
      "Press [q] to stop, [?] for help\n",
      "[libx264 @ 0xf06480] using cpu capabilities: MMX2 SSE2Fast SSSE3 SSE4.2 AVX FMA3 BMI2 AVX2\n",
      "[libx264 @ 0xf06480] profile High, level 3.1\n",
      "[libx264 @ 0xf06480] 264 - core 152 - H.264/MPEG-4 AVC codec - Copyleft 2003-2017 - http://www.videolan.org/x264.html - options: cabac=1 ref=3 deblock=1:0:0 analyse=0x3:0x113 me=hex subme=7 psy=1 psy_rd=1.00:0.00 mixed_ref=1 me_range=16 chroma_me=1 trellis=1 8x8dct=1 cqm=0 deadzone=21,11 fast_pskip=1 chroma_qp_offset=-2 threads=18 lookahead_threads=3 sliced_threads=0 nr=0 decimate=1 interlaced=0 bluray_compat=0 constrained_intra=0 bframes=3 b_pyramid=2 b_adapt=1 b_bias=0 direct=1 weightb=1 open_gop=0 weightp=2 keyint=250 keyint_min=24 scenecut=40 intra_refresh=0 rc_lookahead=40 rc=crf mbtree=1 crf=23.0 qcomp=0.60 qpmin=0 qpmax=69 qpstep=4 ip_ratio=1.40 aq=1:1.00\n",
      "Output #0, mp4, to '/home/bean/DragVideo/Data_store/experiments/2023-09-01_01-35-09_vsauce_ffmpeg/videos/pre_drag_full.mp4':\n",
      "  Metadata:\n",
      "    encoder         : Lavf58.12.100\n",
      "    Stream #0:0: Video: h264 (libx264) (avc1 / 0x31637661), yuv420p, 1280x720, q=-1--1, 24 fps, 12288 tbn, 24 tbc\n",
      "    Metadata:\n",
      "      encoder         : Lavc58.18.100 libx264\n",
      "    Side data:\n",
      "      cpb: bitrate max/min/avg: 0/0/0 buffer size: 0 vbv_delay: -1\n",
      "frame=  130 fps=0.0 q=-1.0 Lsize=     630kB time=00:00:05.29 bitrate= 975.5kbits/s speed=6.13x    \n",
      "video:628kB audio:0kB subtitle:0kB other streams:0kB global headers:0kB muxing overhead: 0.370835%\n",
      "[libx264 @ 0xf06480] frame I:2     Avg QP:18.45  size: 17880\n",
      "[libx264 @ 0xf06480] frame P:33    Avg QP:20.92  size:  7718\n",
      "[libx264 @ 0xf06480] frame B:95    Avg QP:25.65  size:  3703\n",
      "[libx264 @ 0xf06480] consecutive B-frames:  2.3%  0.0%  2.3% 95.4%\n",
      "[libx264 @ 0xf06480] mb I  I16..4: 21.1% 66.4% 12.6%\n",
      "[libx264 @ 0xf06480] mb P  I16..4:  3.6% 12.3%  1.0%  P16..4: 18.5%  6.1%  1.5%  0.0%  0.0%    skip:57.0%\n",
      "[libx264 @ 0xf06480] mb B  I16..4:  0.4%  0.9%  0.0%  B16..8: 27.5%  4.4%  0.3%  direct: 1.2%  skip:65.3%  L0:50.5% L1:46.7% BI: 2.8%\n",
      "[libx264 @ 0xf06480] 8x8 transform intra:70.9% inter:87.7%\n",
      "[libx264 @ 0xf06480] coded y,uvDC,uvAC intra: 30.9% 27.4% 4.9% inter: 6.9% 8.0% 0.0%\n",
      "[libx264 @ 0xf06480] i16 v,h,dc,p: 47% 28%  7% 18%\n",
      "[libx264 @ 0xf06480] i8 v,h,dc,ddl,ddr,vr,hd,vl,hu: 25% 13% 33%  4%  5%  6%  5%  4%  4%\n",
      "[libx264 @ 0xf06480] i4 v,h,dc,ddl,ddr,vr,hd,vl,hu: 39% 19% 12%  3%  8%  7%  6%  3%  2%\n",
      "[libx264 @ 0xf06480] i8c dc,h,v,p: 74% 11% 10%  6%\n",
      "[libx264 @ 0xf06480] Weighted P-Frames: Y:0.0% UV:0.0%\n",
      "[libx264 @ 0xf06480] ref P L0: 59.8% 11.6% 19.5%  9.1%\n",
      "[libx264 @ 0xf06480] ref B L0: 81.3% 15.1%  3.6%\n",
      "[libx264 @ 0xf06480] ref B L1: 91.5%  8.5%\n",
      "[libx264 @ 0xf06480] kb/s:948.48\n",
      "ffmpeg version 4.0.2 Copyright (c) 2000-2018 the FFmpeg developers\n",
      "  built with gcc 4.8.2 (GCC) 20140120 (Red Hat 4.8.2-15)\n",
      "  configuration: --prefix=/home/conda/feedstock_root/build_artifacts/ffmpeg_1539667330082/_h_env_placehold_placehold_placehold_placehold_placehold_placehold_placehold_placehold_placehold_placehold_placehold_placehold_placehold_placehold_placehold_placehold_placehold_placehold_plac --disable-doc --disable-openssl --enable-shared --enable-static --extra-cflags='-Wall -g -m64 -pipe -O3 -march=x86-64 -fPIC' --extra-cxxflags='-Wall -g -m64 -pipe -O3 -march=x86-64 -fPIC' --extra-libs='-lpthread -lm -lz' --enable-zlib --enable-pic --enable-pthreads --enable-gpl --enable-version3 --enable-hardcoded-tables --enable-avresample --enable-libfreetype --enable-gnutls --enable-libx264 --enable-libopenh264\n",
      "  libavutil      56. 14.100 / 56. 14.100\n",
      "  libavcodec     58. 18.100 / 58. 18.100\n",
      "  libavformat    58. 12.100 / 58. 12.100\n",
      "  libavdevice    58.  3.100 / 58.  3.100\n",
      "  libavfilter     7. 16.100 /  7. 16.100\n",
      "  libavresample   4.  0.  0 /  4.  0.  0\n",
      "  libswscale      5.  1.100 /  5.  1.100\n",
      "  libswresample   3.  1.100 /  3.  1.100\n",
      "  libpostproc    55.  1.100 / 55.  1.100\n",
      "Input #0, image2, from './*.png':\n",
      "  Duration: 00:00:05.42, start: 0.000000, bitrate: N/A\n",
      "    Stream #0:0: Video: png, rgb24(pc), 1280x720, 24 fps, 24 tbr, 24 tbn, 24 tbc\n",
      "Stream mapping:\n",
      "  Stream #0:0 -> #0:0 (png (native) -> h264 (libx264))\n",
      "Press [q] to stop, [?] for help\n",
      "[libx264 @ 0x1bae480] using cpu capabilities: MMX2 SSE2Fast SSSE3 SSE4.2 AVX FMA3 BMI2 AVX2\n",
      "[libx264 @ 0x1bae480] profile High, level 3.1\n",
      "[libx264 @ 0x1bae480] 264 - core 152 - H.264/MPEG-4 AVC codec - Copyleft 2003-2017 - http://www.videolan.org/x264.html - options: cabac=1 ref=3 deblock=1:0:0 analyse=0x3:0x113 me=hex subme=7 psy=1 psy_rd=1.00:0.00 mixed_ref=1 me_range=16 chroma_me=1 trellis=1 8x8dct=1 cqm=0 deadzone=21,11 fast_pskip=1 chroma_qp_offset=-2 threads=18 lookahead_threads=3 sliced_threads=0 nr=0 decimate=1 interlaced=0 bluray_compat=0 constrained_intra=0 bframes=3 b_pyramid=2 b_adapt=1 b_bias=0 direct=1 weightb=1 open_gop=0 weightp=2 keyint=250 keyint_min=24 scenecut=40 intra_refresh=0 rc_lookahead=40 rc=crf mbtree=1 crf=23.0 qcomp=0.60 qpmin=0 qpmax=69 qpstep=4 ip_ratio=1.40 aq=1:1.00\n",
      "Output #0, mp4, to '/home/bean/DragVideo/Data_store/experiments/2023-09-01_01-35-09_vsauce_ffmpeg/videos/post_drag_full.mp4':\n",
      "  Metadata:\n",
      "    encoder         : Lavf58.12.100\n",
      "    Stream #0:0: Video: h264 (libx264) (avc1 / 0x31637661), yuv420p, 1280x720, q=-1--1, 24 fps, 12288 tbn, 24 tbc\n",
      "    Metadata:\n",
      "      encoder         : Lavc58.18.100 libx264\n",
      "    Side data:\n",
      "      cpb: bitrate max/min/avg: 0/0/0 buffer size: 0 vbv_delay: -1\n",
      "frame=  130 fps=0.0 q=-1.0 Lsize=     664kB time=00:00:05.29 bitrate=1028.5kbits/s speed=6.02x    \n",
      "video:662kB audio:0kB subtitle:0kB other streams:0kB global headers:0kB muxing overhead: 0.351645%\n",
      "[libx264 @ 0x1bae480] frame I:2     Avg QP:18.57  size: 17524\n",
      "[libx264 @ 0x1bae480] frame P:33    Avg QP:20.88  size:  7704\n",
      "[libx264 @ 0x1bae480] frame B:95    Avg QP:25.69  size:  4084\n",
      "[libx264 @ 0x1bae480] consecutive B-frames:  2.3%  0.0%  2.3% 95.4%\n",
      "[libx264 @ 0x1bae480] mb I  I16..4: 20.4% 67.4% 12.2%\n",
      "[libx264 @ 0x1bae480] mb P  I16..4:  3.7% 13.5%  1.1%  P16..4: 17.7%  5.7%  1.2%  0.0%  0.0%    skip:57.1%\n",
      "[libx264 @ 0x1bae480] mb B  I16..4:  0.4%  1.3%  0.0%  B16..8: 26.9%  4.8%  0.4%  direct: 1.4%  skip:64.7%  L0:50.6% L1:46.6% BI: 2.8%\n",
      "[libx264 @ 0x1bae480] 8x8 transform intra:72.7% inter:88.0%\n",
      "[libx264 @ 0x1bae480] coded y,uvDC,uvAC intra: 33.9% 30.2% 4.5% inter: 7.2% 8.2% 0.0%\n",
      "[libx264 @ 0x1bae480] i16 v,h,dc,p: 47% 27%  7% 19%\n",
      "[libx264 @ 0x1bae480] i8 v,h,dc,ddl,ddr,vr,hd,vl,hu: 24% 14% 31%  4%  6%  6%  6%  5%  4%\n",
      "[libx264 @ 0x1bae480] i4 v,h,dc,ddl,ddr,vr,hd,vl,hu: 38% 20% 12%  3%  8%  7%  6%  3%  3%\n",
      "[libx264 @ 0x1bae480] i8c dc,h,v,p: 72% 12% 10%  7%\n",
      "[libx264 @ 0x1bae480] Weighted P-Frames: Y:0.0% UV:0.0%\n",
      "[libx264 @ 0x1bae480] ref P L0: 60.4% 10.7% 19.0%  9.9%\n",
      "[libx264 @ 0x1bae480] ref B L0: 80.3% 15.8%  3.9%\n",
      "[libx264 @ 0x1bae480] ref B L1: 90.8%  9.2%\n",
      "[libx264 @ 0x1bae480] kb/s:1000.29\n"
     ]
    }
   ],
   "source": [
    "# =============================================================================\n",
    "# using ffmpeg to make video\n",
    "# =============================================================================\n",
    "before_drag_pasted_dir = os.path.join(Experiment_path,'before_drag_pasted')\n",
    "after_drag_pasted_dir = os.path.join(Experiment_path,'after_drag_pasted')\n",
    "videos_dir = os.path.join(Experiment_path,'videos')\n",
    "\n",
    "ffmpeg_utils.ffmpeg.make_video(before_drag_pasted_dir,\n",
    "                               video_name=\"pre_drag_full\",\n",
    "                               video_dir=videos_dir,\n",
    "                               fps=lazy_config['fps'],\n",
    "                                 )\n",
    "ffmpeg_utils.ffmpeg.make_video(after_drag_pasted_dir,\n",
    "                                 video_name=\"post_drag_full\",\n",
    "                                    video_dir=videos_dir,\n",
    "                                    fps=lazy_config['fps'],\n",
    "                                    )\n"
   ]
  },
  {
   "cell_type": "code",
   "execution_count": 20,
   "metadata": {},
   "outputs": [
    {
     "name": "stderr",
     "output_type": "stream",
     "text": [
      "ffmpeg version 4.0.2 Copyright (c) 2000-2018 the FFmpeg developers\n",
      "  built with gcc 4.8.2 (GCC) 20140120 (Red Hat 4.8.2-15)\n",
      "  configuration: --prefix=/home/conda/feedstock_root/build_artifacts/ffmpeg_1539667330082/_h_env_placehold_placehold_placehold_placehold_placehold_placehold_placehold_placehold_placehold_placehold_placehold_placehold_placehold_placehold_placehold_placehold_placehold_placehold_plac --disable-doc --disable-openssl --enable-shared --enable-static --extra-cflags='-Wall -g -m64 -pipe -O3 -march=x86-64 -fPIC' --extra-cxxflags='-Wall -g -m64 -pipe -O3 -march=x86-64 -fPIC' --extra-libs='-lpthread -lm -lz' --enable-zlib --enable-pic --enable-pthreads --enable-gpl --enable-version3 --enable-hardcoded-tables --enable-avresample --enable-libfreetype --enable-gnutls --enable-libx264 --enable-libopenh264\n",
      "  libavutil      56. 14.100 / 56. 14.100\n",
      "  libavcodec     58. 18.100 / 58. 18.100\n",
      "  libavformat    58. 12.100 / 58. 12.100\n",
      "  libavdevice    58.  3.100 / 58.  3.100\n",
      "  libavfilter     7. 16.100 /  7. 16.100\n",
      "  libavresample   4.  0.  0 /  4.  0.  0\n",
      "  libswscale      5.  1.100 /  5.  1.100\n",
      "  libswresample   3.  1.100 /  3.  1.100\n",
      "  libpostproc    55.  1.100 / 55.  1.100\n",
      "Input #0, mov,mp4,m4a,3gp,3g2,mj2, from '/home/bean/DragVideo/Data_store/experiments/2023-09-01_01-35-09_vsauce_ffmpeg/videos/pre_drag_full.mp4':\n",
      "  Metadata:\n",
      "    major_brand     : isom\n",
      "    minor_version   : 512\n",
      "    compatible_brands: isomiso2avc1mp41\n",
      "    encoder         : Lavf58.12.100\n",
      "  Duration: 00:00:05.42, start: 0.000000, bitrate: 952 kb/s\n",
      "    Stream #0:0(und): Video: h264 (High) (avc1 / 0x31637661), yuv420p, 1280x720, 949 kb/s, 24 fps, 24 tbr, 12288 tbn, 48 tbc (default)\n",
      "    Metadata:\n",
      "      handler_name    : VideoHandler\n",
      "Input #1, mov,mp4,m4a,3gp,3g2,mj2, from '/home/bean/DragVideo/Data_store/experiments/2023-09-01_01-35-09_vsauce_ffmpeg/videos/post_drag_full.mp4':\n",
      "  Metadata:\n",
      "    major_brand     : isom\n",
      "    minor_version   : 512\n",
      "    compatible_brands: isomiso2avc1mp41\n",
      "    encoder         : Lavf58.12.100\n",
      "  Duration: 00:00:05.42, start: 0.000000, bitrate: 1004 kb/s\n",
      "    Stream #1:0(und): Video: h264 (High) (avc1 / 0x31637661), yuv420p, 1280x720, 1001 kb/s, 24 fps, 24 tbr, 12288 tbn, 48 tbc (default)\n",
      "    Metadata:\n",
      "      handler_name    : VideoHandler\n",
      "Stream mapping:\n",
      "  Stream #0:0 (h264) -> hstack:input0\n",
      "  Stream #1:0 (h264) -> hstack:input1\n",
      "  hstack -> Stream #0:0 (libx264)\n",
      "Press [q] to stop, [?] for help\n",
      "[libx264 @ 0x703540] using cpu capabilities: MMX2 SSE2Fast SSSE3 SSE4.2 AVX FMA3 BMI2 AVX2\n",
      "[libx264 @ 0x703540] profile High, level 4.0\n",
      "[libx264 @ 0x703540] 264 - core 152 - H.264/MPEG-4 AVC codec - Copyleft 2003-2017 - http://www.videolan.org/x264.html - options: cabac=1 ref=3 deblock=1:0:0 analyse=0x3:0x113 me=hex subme=7 psy=1 psy_rd=1.00:0.00 mixed_ref=1 me_range=16 chroma_me=1 trellis=1 8x8dct=1 cqm=0 deadzone=21,11 fast_pskip=1 chroma_qp_offset=-2 threads=18 lookahead_threads=3 sliced_threads=0 nr=0 decimate=1 interlaced=0 bluray_compat=0 constrained_intra=0 bframes=3 b_pyramid=2 b_adapt=1 b_bias=0 direct=1 weightb=1 open_gop=0 weightp=2 keyint=250 keyint_min=24 scenecut=40 intra_refresh=0 rc_lookahead=40 rc=crf mbtree=1 crf=23.0 qcomp=0.60 qpmin=0 qpmax=69 qpstep=4 ip_ratio=1.40 aq=1:1.00\n",
      "Output #0, mp4, to '/home/bean/DragVideo/Data_store/experiments/2023-09-01_01-35-09_vsauce_ffmpeg/videos/hstack_pre_post_drag_full.mp4':\n",
      "  Metadata:\n",
      "    major_brand     : isom\n",
      "    minor_version   : 512\n",
      "    compatible_brands: isomiso2avc1mp41\n",
      "    encoder         : Lavf58.12.100\n",
      "    Stream #0:0: Video: h264 (libx264) (avc1 / 0x31637661), yuv420p, 2560x720, q=-1--1, 24 fps, 12288 tbn, 24 tbc (default)\n",
      "    Metadata:\n",
      "      encoder         : Lavc58.18.100 libx264\n",
      "    Side data:\n",
      "      cpb: bitrate max/min/avg: 0/0/0 buffer size: 0 vbv_delay: -1\n"
     ]
    },
    {
     "name": "stdout",
     "output_type": "stream",
     "text": [
      "/home/bean/DragVideo/Data_store/experiments/2023-09-01_01-35-09_vsauce_ffmpeg/videos/hstack_pre_post_drag_full.mp4\n"
     ]
    },
    {
     "name": "stderr",
     "output_type": "stream",
     "text": [
      "frame=  130 fps= 93 q=-1.0 Lsize=    1176kB time=00:00:05.29 bitrate=1820.1kbits/s speed=3.77x    \n",
      "video:1173kB audio:0kB subtitle:0kB other streams:0kB global headers:0kB muxing overhead: 0.199741%\n",
      "[libx264 @ 0x703540] frame I:2     Avg QP:18.46  size: 34414\n",
      "[libx264 @ 0x703540] frame P:33    Avg QP:20.92  size: 14631\n",
      "[libx264 @ 0x703540] frame B:95    Avg QP:25.33  size:  6834\n",
      "[libx264 @ 0x703540] consecutive B-frames:  2.3%  0.0%  2.3% 95.4%\n",
      "[libx264 @ 0x703540] mb I  I16..4: 15.6% 73.6% 10.9%\n",
      "[libx264 @ 0x703540] mb P  I16..4:  3.0% 14.1%  0.8%  P16..4: 19.1%  5.4%  1.1%  0.0%  0.0%    skip:56.5%\n",
      "[libx264 @ 0x703540] mb B  I16..4:  0.3%  0.9%  0.0%  B16..8: 27.1%  3.9%  0.3%  direct: 1.0%  skip:66.5%  L0:49.8% L1:47.3% BI: 2.8%\n",
      "[libx264 @ 0x703540] 8x8 transform intra:77.4% inter:90.8%\n",
      "[libx264 @ 0x703540] coded y,uvDC,uvAC intra: 33.3% 31.9% 4.6% inter: 5.5% 7.1% 0.0%\n",
      "[libx264 @ 0x703540] i16 v,h,dc,p: 42% 28%  7% 23%\n",
      "[libx264 @ 0x703540] i8 v,h,dc,ddl,ddr,vr,hd,vl,hu: 29% 15% 28%  3%  6%  6%  5%  4%  4%\n",
      "[libx264 @ 0x703540] i4 v,h,dc,ddl,ddr,vr,hd,vl,hu: 41% 19% 11%  3%  8%  6%  6%  3%  2%\n",
      "[libx264 @ 0x703540] i8c dc,h,v,p: 71% 13% 11%  6%\n",
      "[libx264 @ 0x703540] Weighted P-Frames: Y:0.0% UV:0.0%\n",
      "[libx264 @ 0x703540] ref P L0: 62.6% 10.6% 17.9%  8.9%\n",
      "[libx264 @ 0x703540] ref B L0: 82.9% 14.3%  2.8%\n",
      "[libx264 @ 0x703540] ref B L1: 93.2%  6.8%\n",
      "[libx264 @ 0x703540] kb/s:1773.60\n",
      "ffmpeg version 4.0.2 Copyright (c) 2000-2018 the FFmpeg developers\n",
      "  built with gcc 4.8.2 (GCC) 20140120 (Red Hat 4.8.2-15)\n",
      "  configuration: --prefix=/home/conda/feedstock_root/build_artifacts/ffmpeg_1539667330082/_h_env_placehold_placehold_placehold_placehold_placehold_placehold_placehold_placehold_placehold_placehold_placehold_placehold_placehold_placehold_placehold_placehold_placehold_placehold_plac --disable-doc --disable-openssl --enable-shared --enable-static --extra-cflags='-Wall -g -m64 -pipe -O3 -march=x86-64 -fPIC' --extra-cxxflags='-Wall -g -m64 -pipe -O3 -march=x86-64 -fPIC' --extra-libs='-lpthread -lm -lz' --enable-zlib --enable-pic --enable-pthreads --enable-gpl --enable-version3 --enable-hardcoded-tables --enable-avresample --enable-libfreetype --enable-gnutls --enable-libx264 --enable-libopenh264\n",
      "  libavutil      56. 14.100 / 56. 14.100\n",
      "  libavcodec     58. 18.100 / 58. 18.100\n",
      "  libavformat    58. 12.100 / 58. 12.100\n",
      "  libavdevice    58.  3.100 / 58.  3.100\n",
      "  libavfilter     7. 16.100 /  7. 16.100\n",
      "  libavresample   4.  0.  0 /  4.  0.  0\n",
      "  libswscale      5.  1.100 /  5.  1.100\n",
      "  libswresample   3.  1.100 /  3.  1.100\n",
      "  libpostproc    55.  1.100 / 55.  1.100\n"
     ]
    },
    {
     "name": "stdout",
     "output_type": "stream",
     "text": [
      "/home/bean/DragVideo/Data_store/experiments/2023-09-01_01-35-09_vsauce_ffmpeg/videos/hstack_original_post_drag_full.mp4\n"
     ]
    },
    {
     "name": "stderr",
     "output_type": "stream",
     "text": [
      "Input #0, mov,mp4,m4a,3gp,3g2,mj2, from '/home/bean/DragVideo/Data_store/OLD/original_videos/micheal_friendzone.mp4':\n",
      "  Metadata:\n",
      "    major_brand     : isom\n",
      "    minor_version   : 512\n",
      "    compatible_brands: isomiso2avc1mp41\n",
      "    encoder         : Lavf59.27.100\n",
      "  Duration: 00:00:13.08, start: 0.000000, bitrate: 1882 kb/s\n",
      "    Stream #0:0(und): Audio: aac (LC) (mp4a / 0x6134706D), 44100 Hz, stereo, fltp, 134 kb/s (default)\n",
      "    Metadata:\n",
      "      handler_name    : SoundHandler\n",
      "    Stream #0:1(und): Video: h264 (High) (avc1 / 0x31637661), yuv420p(tv, unknown/bt709/bt709), 1280x720 [SAR 1:1 DAR 16:9], 1740 kb/s, 25 fps, 25 tbr, 12800 tbn, 50 tbc (default)\n",
      "    Metadata:\n",
      "      handler_name    : VideoHandler\n",
      "      encoder         : Lavc59.37.100 libx264\n",
      "Input #1, mov,mp4,m4a,3gp,3g2,mj2, from '/home/bean/DragVideo/Data_store/experiments/2023-09-01_01-35-09_vsauce_ffmpeg/videos/post_drag_full.mp4':\n",
      "  Metadata:\n",
      "    major_brand     : isom\n",
      "    minor_version   : 512\n",
      "    compatible_brands: isomiso2avc1mp41\n",
      "    encoder         : Lavf58.12.100\n",
      "  Duration: 00:00:05.42, start: 0.000000, bitrate: 1004 kb/s\n",
      "    Stream #1:0(und): Video: h264 (High) (avc1 / 0x31637661), yuv420p, 1280x720, 1001 kb/s, 24 fps, 24 tbr, 12288 tbn, 48 tbc (default)\n",
      "    Metadata:\n",
      "      handler_name    : VideoHandler\n",
      "Stream mapping:\n",
      "  Stream #0:1 (h264) -> hstack:input0 (graph 0)\n",
      "  Stream #1:0 (h264) -> hstack:input1 (graph 0)\n",
      "  hstack (graph 0) -> Stream #0:0 (libx264)\n",
      "  Stream #0:0 -> #0:1 (aac (native) -> aac (native))\n",
      "Press [q] to stop, [?] for help\n",
      "[libx264 @ 0x2655940] using SAR=1/1\n",
      "[libx264 @ 0x2655940] using cpu capabilities: MMX2 SSE2Fast SSSE3 SSE4.2 AVX FMA3 BMI2 AVX2\n",
      "[libx264 @ 0x2655940] profile High, level 4.0\n",
      "[libx264 @ 0x2655940] 264 - core 152 - H.264/MPEG-4 AVC codec - Copyleft 2003-2017 - http://www.videolan.org/x264.html - options: cabac=1 ref=3 deblock=1:0:0 analyse=0x3:0x113 me=hex subme=7 psy=1 psy_rd=1.00:0.00 mixed_ref=1 me_range=16 chroma_me=1 trellis=1 8x8dct=1 cqm=0 deadzone=21,11 fast_pskip=1 chroma_qp_offset=-2 threads=18 lookahead_threads=3 sliced_threads=0 nr=0 decimate=1 interlaced=0 bluray_compat=0 constrained_intra=0 bframes=3 b_pyramid=2 b_adapt=1 b_bias=0 direct=1 weightb=1 open_gop=0 weightp=2 keyint=250 keyint_min=25 scenecut=40 intra_refresh=0 rc_lookahead=40 rc=crf mbtree=1 crf=23.0 qcomp=0.60 qpmin=0 qpmax=69 qpstep=4 ip_ratio=1.40 aq=1:1.00\n",
      "Output #0, mp4, to '/home/bean/DragVideo/Data_store/experiments/2023-09-01_01-35-09_vsauce_ffmpeg/videos/hstack_original_post_drag_full.mp4':\n",
      "  Metadata:\n",
      "    major_brand     : isom\n",
      "    minor_version   : 512\n",
      "    compatible_brands: isomiso2avc1mp41\n",
      "    encoder         : Lavf58.12.100\n",
      "    Stream #0:0: Video: h264 (libx264) (avc1 / 0x31637661), yuv420p, 2560x720 [SAR 1:1 DAR 32:9], q=-1--1, 25 fps, 12800 tbn, 25 tbc (default)\n",
      "    Metadata:\n",
      "      encoder         : Lavc58.18.100 libx264\n",
      "    Side data:\n",
      "      cpb: bitrate max/min/avg: 0/0/0 buffer size: 0 vbv_delay: -1\n",
      "    Stream #0:1(und): Audio: aac (LC) (mp4a / 0x6134706D), 44100 Hz, stereo, fltp, 128 kb/s (default)\n",
      "    Metadata:\n",
      "      handler_name    : SoundHandler\n",
      "      encoder         : Lavc58.18.100 aac\n",
      "Past duration 0.958977 too large\n",
      "Past duration 0.999992 too large\n",
      "frame=  137 fps= 85 q=-1.0 Lsize=    1231kB time=00:00:05.89 bitrate=1709.8kbits/s dup=0 drop=122 speed=3.68x    \n",
      "video:1132kB audio:93kB subtitle:0kB other streams:0kB global headers:0kB muxing overhead: 0.480999%\n",
      "[libx264 @ 0x2655940] frame I:1     Avg QP:17.48  size: 24345\n",
      "[libx264 @ 0x2655940] frame P:36    Avg QP:21.09  size: 14969\n",
      "[libx264 @ 0x2655940] frame B:100   Avg QP:25.44  size:  5957\n",
      "[libx264 @ 0x2655940] consecutive B-frames:  0.7%  4.4%  4.4% 90.5%\n",
      "[libx264 @ 0x2655940] mb I  I16..4: 18.4% 76.6%  5.1%\n",
      "[libx264 @ 0x2655940] mb P  I16..4:  3.1% 12.9%  1.3%  P16..4: 18.2%  5.3%  1.2%  0.0%  0.0%    skip:57.9%\n",
      "[libx264 @ 0x2655940] mb B  I16..4:  0.3%  1.1%  0.0%  B16..8: 26.0%  3.3%  0.2%  direct: 0.7%  skip:68.4%  L0:52.0% L1:45.6% BI: 2.4%\n",
      "[libx264 @ 0x2655940] 8x8 transform intra:74.6% inter:88.1%\n",
      "[libx264 @ 0x2655940] coded y,uvDC,uvAC intra: 33.8% 33.2% 5.8% inter: 4.6% 5.1% 0.0%\n",
      "[libx264 @ 0x2655940] i16 v,h,dc,p: 42% 28%  8% 22%\n",
      "[libx264 @ 0x2655940] i8 v,h,dc,ddl,ddr,vr,hd,vl,hu: 26% 16% 30%  4%  6%  6%  5%  4%  4%\n",
      "[libx264 @ 0x2655940] i4 v,h,dc,ddl,ddr,vr,hd,vl,hu: 33% 20% 13%  3%  9%  7%  7%  4%  3%\n",
      "[libx264 @ 0x2655940] i8c dc,h,v,p: 70% 13% 11%  6%\n",
      "[libx264 @ 0x2655940] Weighted P-Frames: Y:0.0% UV:0.0%\n",
      "[libx264 @ 0x2655940] ref P L0: 64.1% 10.5% 17.3%  8.1%\n",
      "[libx264 @ 0x2655940] ref B L0: 80.3% 15.6%  4.0%\n",
      "[libx264 @ 0x2655940] ref B L1: 93.8%  6.2%\n",
      "[libx264 @ 0x2655940] kb/s:1691.81\n",
      "[aac @ 0x269a480] Qavg: 200.362\n"
     ]
    }
   ],
   "source": [
    "# =============================================================================\n",
    "# hstack videos\n",
    "# =============================================================================\n",
    "\n",
    "video1= os.path.join(videos_dir,\"pre_drag_full.mp4\")\n",
    "video2= os.path.join(videos_dir,\"post_drag_full.mp4\")\n",
    "\n",
    "# pre_post_drag_full\n",
    "ffmpeg_utils.ffmpeg.hstack_videos(video1,\n",
    "                                  video2,\n",
    "                                  output_dir=videos_dir,\n",
    "                                  output_name=\"hstack_pre_post_drag_full\",\n",
    ")\n",
    "\n",
    "# original_post_drag_full\n",
    "ffmpeg_utils.ffmpeg.hstack_videos(lazy_config['video_path'],\n",
    "                                  video2,\n",
    "                                  output_dir=videos_dir,\n",
    "                                  output_name=\"hstack_original_post_drag_full\",\n",
    ")"
   ]
  }
 ],
 "metadata": {
  "kernelspec": {
   "display_name": "stylegan3",
   "language": "python",
   "name": "python3"
  },
  "language_info": {
   "codemirror_mode": {
    "name": "ipython",
    "version": 3
   },
   "file_extension": ".py",
   "mimetype": "text/x-python",
   "name": "python",
   "nbconvert_exporter": "python",
   "pygments_lexer": "ipython3",
   "version": "3.9.17"
  },
  "orig_nbformat": 4
 },
 "nbformat": 4,
 "nbformat_minor": 2
}
