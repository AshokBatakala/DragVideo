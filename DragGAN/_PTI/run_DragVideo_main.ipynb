{
 "cells": [
  {
   "cell_type": "markdown",
   "metadata": {},
   "source": [
    "## basic config"
   ]
  },
  {
   "cell_type": "code",
   "execution_count": 1,
   "metadata": {},
   "outputs": [
    {
     "data": {
      "text/plain": [
       "1"
      ]
     },
     "execution_count": 1,
     "metadata": {},
     "output_type": "execute_result"
    }
   ],
   "source": [
    "import torch\n",
    "torch.cuda.device_count()"
   ]
  },
  {
   "cell_type": "code",
   "execution_count": 2,
   "metadata": {},
   "outputs": [],
   "source": [
    "\n",
    "def align_faces_2(root_path):\n",
    "    import os \n",
    "    current_path = os.getcwd()\n",
    "    temp_path = \"/home/bean/DragVideo/stylegan3-editing\"\n",
    "    os.chdir(temp_path)\n",
    "    command =f\"\"\"python prepare_data/preparing_faces_parallel.py \\\n",
    "                --mode align \\\n",
    "                --root_path  {root_path} \n",
    "                \"\"\"\n",
    "    import subprocess\n",
    "    subprocess.run(command, shell=True)\n",
    "    os.chdir(current_path)"
   ]
  },
  {
   "cell_type": "code",
   "execution_count": 3,
   "metadata": {},
   "outputs": [],
   "source": [
    "# DRAGVIDEO_ROOT_PATH = \"/Ext_4T_SSD/ASHOK/\"\n",
    "DRAGVIDEO_ROOT_PATH = \"/home/bean/\"\n",
    "\n",
    "# keep matching encoder,SG as pairt \n",
    "old = {\"encoder\":  f\"{DRAGVIDEO_ROOT_PATH}DragVideo/DragGAN/_PTI/pretrained_models/e4e_ffhq_encode.pt\",\n",
    "       \"SG\": f\"{DRAGVIDEO_ROOT_PATH}DragVideo/DragGAN/_PTI/pretrained_models/ffhq.pkl\",\n",
    "       \"model_name\":\"stylegan2\",\n",
    "       \"resolution\":1024,\n",
    "       }\n",
    "\n",
    "new = {\"encoder\": f\"{DRAGVIDEO_ROOT_PATH}DragVideo/Data_store/OLD/model_weights/restyle_e4e_ffhq.pt\",\n",
    "         \"SG\":  f\"{DRAGVIDEO_ROOT_PATH}DragVideo/Data_store/OLD/model_weights/stylegan3_3rdtime_weights/stylegan3-r-ffhq-1024_module.pkl\",\n",
    "         \"model_name\":\"stylegan3\",\n",
    "               \"resolution\":1024,\n",
    "         }\n",
    "\n",
    "new_256 = {\"encoder\": f\"{DRAGVIDEO_ROOT_PATH}DragVideo/Data_store/OLD/model_weights/restyle_e4e_ffhq.pt\",\n",
    "         \"SG\":  f\"{DRAGVIDEO_ROOT_PATH}DragVideo/Data_store/OLD/Stylegan3_1_files/stylegan3-r-ffhqu-256x256.pkl\",\n",
    "         \"model_name\":\"stylegan3\",\n",
    "         \"resolution\":256,\n",
    "         }\n",
    "\n",
    "videos = {\n",
    "       \"obama\": f\"{DRAGVIDEO_ROOT_PATH}DragVideo/Data_store/OLD/original_videos/obama.mp4\",\n",
    "       \"man_speaking\": f\"{DRAGVIDEO_ROOT_PATH}DragVideo/Data_store/OLD/original_videos/person_speaking_original.mp4\",\n",
    "       \"rahul\": f\"{DRAGVIDEO_ROOT_PATH}DragVideo/Data_store/OLD/original_videos/rahul.mp4\",\n",
    "       \"alien_girl\": f\"{DRAGVIDEO_ROOT_PATH}DragVideo/Data_store/OLD/original_videos/alien_girl.mp4\",\n",
    "       \"mirrAR\": f\"{DRAGVIDEO_ROOT_PATH}DragVideo/Data_store/OLD/original_videos/mirrAR.mp4\",\n",
    "       \"vsauce_frnd\":f\"{DRAGVIDEO_ROOT_PATH}DragVideo/Data_store/OLD/original_videos/micheal_friendzone.mp4\",\n",
    "       \n",
    "}"
   ]
  },
  {
   "cell_type": "code",
   "execution_count": 4,
   "metadata": {},
   "outputs": [],
   "source": [
    "EXPERIMENT_NAME_POSTFIX = \"256_sg3_testing\"#\"aligned_sg3_&_new_e4e_reconstruction_invstep_200_pti_step_450\"\n",
    "models_set = new_256\n",
    "Testing =False\n",
    "# --------------------------------  \n",
    "\n",
    "\n",
    "import datetime\n",
    "lazy_config = {\n",
    "    \"EXP_NAME\": str(datetime.datetime.now().strftime(\"%Y-%m-%d_%H-%M-%S\"))+\"_\"+ EXPERIMENT_NAME_POSTFIX,\n",
    "    # \"EXP_NAME\": \"/home/bean/DragVideo/Data_store/experiments/_SAVE_mirrAR_200_frames_2\",\n",
    "    \"e4e\": models_set['encoder'],\n",
    "    \"stylegan2_ada_ffhq\": models_set['SG'],\n",
    "    \"video_path\":  videos[\"vsauce_frnd\"],\n",
    "    \"model_name\" : models_set['model_name'],\n",
    "    \"n_frames\" : 50,#200,\n",
    "    \"IMAGE_SIZE\": models_set[\"resolution\"],\n",
    "    \"N_STEPS_in_draggan\":  \"100\",\n",
    "    \"editing_function_name\":\"large_nose\"#\"large_eyes\" # \"make_jaw_wider\" # \"mouth_wide\"\n",
    "    \n",
    "}\n",
    "\n",
    "env_config = {\n",
    "    \"DragGAN_dir\": f\"{DRAGVIDEO_ROOT_PATH}DragVideo/DragGAN\",\n",
    "    \"Experiment_base_path\":f\"{DRAGVIDEO_ROOT_PATH}DragVideo/Data_store/experiments/\" ,\n",
    "    \"init_exp_dir_shell_path\": f\"{DRAGVIDEO_ROOT_PATH}DragVideo/DragGAN/_PTI/init_datadirs.sh\",\n",
    "    \"dummy_config_path\" : f\"{DRAGVIDEO_ROOT_PATH}DragVideo/DragGAN/_PTI/configs/dummy\",\n",
    "    \n",
    "    \n",
    "}\n",
    "\n",
    "#hyper parameters in PTI\n",
    "\n",
    "hyper_config = {\n",
    "    \"max_pti_steps\": 450,\n",
    "    \"first_inv_steps\":200,\n",
    "    \"max_images_to_invert\": 200,\n",
    "}\n",
    "\n",
    "if Testing: \n",
    "    hyper_config[\"max_pti_steps\"] = 1\n",
    "    hyper_config[\"first_inv_steps\"] = 1\n",
    "    hyper_config[\"max_images_to_invert\"] = 5\n",
    "    lazy_config[\"N_STEPS_in_draggan\"] = '1'\n",
    "    \n",
    "\n",
    "\n",
    "# ----------------------------------------------------------------------------------------------\n",
    "\n",
    "from run_utils import *\n",
    "\n",
    "# create experiment data folder structure\n",
    "Experiment_name = lazy_config[\"EXP_NAME\"]\n",
    "Experiment_base_path = env_config[\"Experiment_base_path\"]\n",
    "Experiment_path = os.path.join(Experiment_base_path, Experiment_name)\n",
    "\n",
    "init_experiment_dir(Experiment_name,Experiment_base_path,shell_script_path=env_config[\"init_exp_dir_shell_path\"])\n",
    "\n",
    "\n",
    "\n",
    "# dummy paths_config overwrites the paths_config.py\n",
    "# dummy_config_path = f\"{DRAGVIDEO_ROOT_PATH}DragVideo/DragGAN/_PTI/configs/dummy'\n",
    "add_dummy_config_from_dict(\"hyperparameters.py\", hyper_config,ROOT_PATH=env_config[\"dummy_config_path\"])\n",
    "\n",
    "# change path configs , hyperparameters \n",
    "paths_config_dict = {\n",
    "    #pretrained models\n",
    "    \"e4e\": lazy_config[\"e4e\"],\n",
    "    \"stylegan2_ada_ffhq\": lazy_config[\"stylegan2_ada_ffhq\"],\n",
    "    \n",
    "    # to store tuned stylegan weights\n",
    "    \"checkpoints_dir\": os.path.join(Experiment_path,'tuned_SG'),\n",
    "    # to store latents\n",
    "    \"embedding_base_dir\": os.path.join(Experiment_path,'latents'),\n",
    "    # aligned / processed images\n",
    "    \"input_data_path\": os.path.join(Experiment_path,'aligned'),\n",
    "     \"quad_values_path\": os.path.join(Experiment_path,'quad_values'),\n",
    "}\n",
    "\n",
    "add_dummy_config_from_dict(\"paths_config.py\", paths_config_dict,ROOT_PATH=env_config[\"dummy_config_path\"])\n",
    "\n",
    "\n",
    "\n",
    "# add all these configs to log.txt\n",
    "# --------------------------------  \n",
    "with open(os.path.join(Experiment_path,'log.txt'), 'a') as f:\n",
    "    import json\n",
    "    f.write(f\"lazy_config: {json.dumps(lazy_config, indent=4)}\\n\")\n",
    "    f.write(f\"env_config: {json.dumps(env_config, indent=4)}\\n\")\n",
    "    f.write(f\"hyper_config: {json.dumps(hyper_config, indent=4)}\\n\")\n",
    "    \n",
    "    \n",
    "\n"
   ]
  },
  {
   "cell_type": "code",
   "execution_count": 5,
   "metadata": {},
   "outputs": [
    {
     "name": "stdout",
     "output_type": "stream",
     "text": [
      " int(cam.get(cv2.CAP_PROP_FRAME_COUNT))= 327 ,n_frames=50 \n",
      "Creating.../home/bean/DragVideo/Data_store/experiments/2023-08-22_19-02-28_256_sg3_testing/raw/000.jpg\n",
      "Creating.../home/bean/DragVideo/Data_store/experiments/2023-08-22_19-02-28_256_sg3_testing/raw/001.jpg\n",
      "Creating.../home/bean/DragVideo/Data_store/experiments/2023-08-22_19-02-28_256_sg3_testing/raw/002.jpg\n",
      "Creating.../home/bean/DragVideo/Data_store/experiments/2023-08-22_19-02-28_256_sg3_testing/raw/003.jpg\n",
      "Creating.../home/bean/DragVideo/Data_store/experiments/2023-08-22_19-02-28_256_sg3_testing/raw/004.jpg\n",
      "Creating.../home/bean/DragVideo/Data_store/experiments/2023-08-22_19-02-28_256_sg3_testing/raw/005.jpg\n",
      "Creating.../home/bean/DragVideo/Data_store/experiments/2023-08-22_19-02-28_256_sg3_testing/raw/006.jpg\n",
      "Creating.../home/bean/DragVideo/Data_store/experiments/2023-08-22_19-02-28_256_sg3_testing/raw/007.jpg\n",
      "Creating.../home/bean/DragVideo/Data_store/experiments/2023-08-22_19-02-28_256_sg3_testing/raw/008.jpg\n",
      "Creating.../home/bean/DragVideo/Data_store/experiments/2023-08-22_19-02-28_256_sg3_testing/raw/009.jpg\n",
      "Creating.../home/bean/DragVideo/Data_store/experiments/2023-08-22_19-02-28_256_sg3_testing/raw/010.jpg\n",
      "Creating.../home/bean/DragVideo/Data_store/experiments/2023-08-22_19-02-28_256_sg3_testing/raw/011.jpg\n",
      "Creating.../home/bean/DragVideo/Data_store/experiments/2023-08-22_19-02-28_256_sg3_testing/raw/012.jpg\n",
      "Creating.../home/bean/DragVideo/Data_store/experiments/2023-08-22_19-02-28_256_sg3_testing/raw/013.jpg\n",
      "Creating.../home/bean/DragVideo/Data_store/experiments/2023-08-22_19-02-28_256_sg3_testing/raw/014.jpg\n",
      "Creating.../home/bean/DragVideo/Data_store/experiments/2023-08-22_19-02-28_256_sg3_testing/raw/015.jpg\n",
      "Creating.../home/bean/DragVideo/Data_store/experiments/2023-08-22_19-02-28_256_sg3_testing/raw/016.jpg\n",
      "Creating.../home/bean/DragVideo/Data_store/experiments/2023-08-22_19-02-28_256_sg3_testing/raw/017.jpg\n",
      "Creating.../home/bean/DragVideo/Data_store/experiments/2023-08-22_19-02-28_256_sg3_testing/raw/018.jpg\n",
      "Creating.../home/bean/DragVideo/Data_store/experiments/2023-08-22_19-02-28_256_sg3_testing/raw/019.jpg\n",
      "Creating.../home/bean/DragVideo/Data_store/experiments/2023-08-22_19-02-28_256_sg3_testing/raw/020.jpg\n",
      "Creating.../home/bean/DragVideo/Data_store/experiments/2023-08-22_19-02-28_256_sg3_testing/raw/021.jpg\n",
      "Creating.../home/bean/DragVideo/Data_store/experiments/2023-08-22_19-02-28_256_sg3_testing/raw/022.jpg\n",
      "Creating.../home/bean/DragVideo/Data_store/experiments/2023-08-22_19-02-28_256_sg3_testing/raw/023.jpg\n",
      "Creating.../home/bean/DragVideo/Data_store/experiments/2023-08-22_19-02-28_256_sg3_testing/raw/024.jpg\n",
      "Creating.../home/bean/DragVideo/Data_store/experiments/2023-08-22_19-02-28_256_sg3_testing/raw/025.jpg\n",
      "Creating.../home/bean/DragVideo/Data_store/experiments/2023-08-22_19-02-28_256_sg3_testing/raw/026.jpg\n",
      "Creating.../home/bean/DragVideo/Data_store/experiments/2023-08-22_19-02-28_256_sg3_testing/raw/027.jpg\n",
      "Creating.../home/bean/DragVideo/Data_store/experiments/2023-08-22_19-02-28_256_sg3_testing/raw/028.jpg\n",
      "Creating.../home/bean/DragVideo/Data_store/experiments/2023-08-22_19-02-28_256_sg3_testing/raw/029.jpg\n",
      "Creating.../home/bean/DragVideo/Data_store/experiments/2023-08-22_19-02-28_256_sg3_testing/raw/030.jpg\n",
      "Creating.../home/bean/DragVideo/Data_store/experiments/2023-08-22_19-02-28_256_sg3_testing/raw/031.jpg\n",
      "Creating.../home/bean/DragVideo/Data_store/experiments/2023-08-22_19-02-28_256_sg3_testing/raw/032.jpg\n",
      "Creating.../home/bean/DragVideo/Data_store/experiments/2023-08-22_19-02-28_256_sg3_testing/raw/033.jpg\n",
      "Creating.../home/bean/DragVideo/Data_store/experiments/2023-08-22_19-02-28_256_sg3_testing/raw/034.jpg\n",
      "Creating.../home/bean/DragVideo/Data_store/experiments/2023-08-22_19-02-28_256_sg3_testing/raw/035.jpg\n",
      "Creating.../home/bean/DragVideo/Data_store/experiments/2023-08-22_19-02-28_256_sg3_testing/raw/036.jpg\n",
      "Creating.../home/bean/DragVideo/Data_store/experiments/2023-08-22_19-02-28_256_sg3_testing/raw/037.jpg\n",
      "Creating.../home/bean/DragVideo/Data_store/experiments/2023-08-22_19-02-28_256_sg3_testing/raw/038.jpg\n",
      "Creating.../home/bean/DragVideo/Data_store/experiments/2023-08-22_19-02-28_256_sg3_testing/raw/039.jpg\n",
      "Creating.../home/bean/DragVideo/Data_store/experiments/2023-08-22_19-02-28_256_sg3_testing/raw/040.jpg\n",
      "Creating.../home/bean/DragVideo/Data_store/experiments/2023-08-22_19-02-28_256_sg3_testing/raw/041.jpg\n",
      "Creating.../home/bean/DragVideo/Data_store/experiments/2023-08-22_19-02-28_256_sg3_testing/raw/042.jpg\n",
      "Creating.../home/bean/DragVideo/Data_store/experiments/2023-08-22_19-02-28_256_sg3_testing/raw/043.jpg\n",
      "Creating.../home/bean/DragVideo/Data_store/experiments/2023-08-22_19-02-28_256_sg3_testing/raw/044.jpg\n",
      "Creating.../home/bean/DragVideo/Data_store/experiments/2023-08-22_19-02-28_256_sg3_testing/raw/045.jpg\n",
      "Creating.../home/bean/DragVideo/Data_store/experiments/2023-08-22_19-02-28_256_sg3_testing/raw/046.jpg\n",
      "Creating.../home/bean/DragVideo/Data_store/experiments/2023-08-22_19-02-28_256_sg3_testing/raw/047.jpg\n",
      "Creating.../home/bean/DragVideo/Data_store/experiments/2023-08-22_19-02-28_256_sg3_testing/raw/048.jpg\n",
      "Creating.../home/bean/DragVideo/Data_store/experiments/2023-08-22_19-02-28_256_sg3_testing/raw/049.jpg\n"
     ]
    }
   ],
   "source": [
    "# extract frames from video\n",
    "#==============================================================================\n",
    "\n",
    "from importlib.machinery import SourceFileLoader\n",
    "# imports the module from the given path\n",
    "video_utils = SourceFileLoader(\"video_utils\",\"../utils_draggan/video_utils.py\").load_module()\n",
    "raw_path = os.path.join(Experiment_path, \"raw\")\n",
    "\n",
    "video_utils.extract_frames(lazy_config['video_path'], raw_path,n_frames=lazy_config['n_frames'])"
   ]
  },
  {
   "cell_type": "markdown",
   "metadata": {},
   "source": [
    "# start"
   ]
  },
  {
   "cell_type": "code",
   "execution_count": 6,
   "metadata": {},
   "outputs": [],
   "source": [
    "# from utils.align_data import pre_process_images\n"
   ]
  },
  {
   "cell_type": "code",
   "execution_count": 7,
   "metadata": {},
   "outputs": [],
   "source": [
    "# # # delete this cell \n",
    "# # \"/home/bean/DragVideo/Data_store/man_speaking/aligned\": input_data_path \n",
    "# # \"/home/bean/DragVideo/Data_store/man_speaking/quad_values\", quad_pkl_path\n",
    "\n",
    "# raw_path = \"/home/bean/DragVideo/Data_store/man_speaking/raw\"\n",
    "# pre_process_images(raw_path, IMAGE_SIZE=1024) # o/p: config.input_data_path ,quad pickle dir\n"
   ]
  },
  {
   "cell_type": "code",
   "execution_count": 8,
   "metadata": {},
   "outputs": [
    {
     "name": "stderr",
     "output_type": "stream",
     "text": [
      "100%|██████████| 50/50 [00:38<00:00,  1.30it/s]"
     ]
    },
    {
     "name": "stdout",
     "output_type": "stream",
     "text": [
      "saving aligned images...\n",
      "saving quad values...\n",
      "done!\n"
     ]
    },
    {
     "name": "stderr",
     "output_type": "stream",
     "text": [
      "\n"
     ]
    }
   ],
   "source": [
    "from utils.align_data import pre_process_images\n",
    "pre_process_images(raw_path, IMAGE_SIZE=lazy_config['IMAGE_SIZE']) # o/p: config.input_data_path ,quad pickle dir\n",
    "#\n",
    "# align_faces_2(os.path.join(Experiment_path,'raw'))\n",
    "\n"
   ]
  },
  {
   "cell_type": "code",
   "execution_count": 9,
   "metadata": {},
   "outputs": [
    {
     "name": "stdout",
     "output_type": "stream",
     "text": [
      "Setting up [LPIPS] perceptual loss: trunk [alex], v[0.1], spatial [off]\n"
     ]
    },
    {
     "name": "stderr",
     "output_type": "stream",
     "text": [
      "/home/bean/.conda/envs/stylegan3/lib/python3.9/site-packages/torchvision/models/_utils.py:208: UserWarning: The parameter 'pretrained' is deprecated since 0.13 and may be removed in the future, please use 'weights' instead.\n",
      "  warnings.warn(\n",
      "/home/bean/.conda/envs/stylegan3/lib/python3.9/site-packages/torchvision/models/_utils.py:223: UserWarning: Arguments other than a weight enum or `None` for 'weights' are deprecated since 0.13 and may be removed in the future. The current behavior is equivalent to passing `weights=AlexNet_Weights.IMAGENET1K_V1`. You can also use `weights=AlexNet_Weights.DEFAULT` to get the most up-to-date weights.\n",
      "  warnings.warn(msg)\n"
     ]
    },
    {
     "name": "stdout",
     "output_type": "stream",
     "text": [
      "Loading model from: /home/bean/.conda/envs/stylegan3/lib/python3.9/site-packages/lpips/weights/v0.1/alex.pth\n",
      "current_directory:  /home/bean/DragVideo/DragGAN/_PTI\n",
      "current_directory:  /home/bean/DragVideo/DragGAN/_PTI\n",
      "torch.Size([3, 256, 256]) 3 256 256\n",
      "Setting up PyTorch plugin \"bias_act_plugin\"... Done.\n"
     ]
    },
    {
     "name": "stderr",
     "output_type": "stream",
     "text": [
      "  0%|          | 0/200 [00:00<?, ?it/s]"
     ]
    },
    {
     "name": "stdout",
     "output_type": "stream",
     "text": [
      "Setting up PyTorch plugin \"filtered_lrelu_plugin\"... Done.\n"
     ]
    },
    {
     "name": "stderr",
     "output_type": "stream",
     "text": [
      "/home/bean/.conda/envs/stylegan3/lib/python3.9/site-packages/torch/nn/modules/module.py:1501: UserWarning: operator() profile_node %106 : int = prim::profile_ivalue(%104)\n",
      " does not have profile information (Triggered internally at /opt/conda/conda-bld/pytorch_1682343964576/work/third_party/nvfuser/csrc/graph_fuser.cpp:104.)\n",
      "  return forward_call(*args, **kwargs)\n",
      "100%|██████████| 200/200 [00:11<00:00, 18.14it/s]\n"
     ]
    },
    {
     "name": "stdout",
     "output_type": "stream",
     "text": [
      "torch.Size([3, 256, 256]) 3 256 256\n"
     ]
    },
    {
     "name": "stderr",
     "output_type": "stream",
     "text": [
      "100%|██████████| 200/200 [00:09<00:00, 22.02it/s]\n"
     ]
    },
    {
     "name": "stdout",
     "output_type": "stream",
     "text": [
      "torch.Size([3, 256, 256]) 3 256 256\n"
     ]
    },
    {
     "name": "stderr",
     "output_type": "stream",
     "text": [
      "100%|██████████| 200/200 [00:09<00:00, 21.76it/s]\n"
     ]
    },
    {
     "name": "stdout",
     "output_type": "stream",
     "text": [
      "torch.Size([3, 256, 256]) 3 256 256\n"
     ]
    },
    {
     "name": "stderr",
     "output_type": "stream",
     "text": [
      "100%|██████████| 200/200 [00:09<00:00, 21.74it/s]\n"
     ]
    },
    {
     "name": "stdout",
     "output_type": "stream",
     "text": [
      "torch.Size([3, 256, 256]) 3 256 256\n"
     ]
    },
    {
     "name": "stderr",
     "output_type": "stream",
     "text": [
      "100%|██████████| 200/200 [00:09<00:00, 21.64it/s]\n"
     ]
    },
    {
     "name": "stdout",
     "output_type": "stream",
     "text": [
      "torch.Size([3, 256, 256]) 3 256 256\n"
     ]
    },
    {
     "name": "stderr",
     "output_type": "stream",
     "text": [
      "100%|██████████| 200/200 [00:09<00:00, 21.47it/s]\n"
     ]
    },
    {
     "name": "stdout",
     "output_type": "stream",
     "text": [
      "torch.Size([3, 256, 256]) 3 256 256\n"
     ]
    },
    {
     "name": "stderr",
     "output_type": "stream",
     "text": [
      "100%|██████████| 200/200 [00:09<00:00, 21.42it/s]\n"
     ]
    },
    {
     "name": "stdout",
     "output_type": "stream",
     "text": [
      "torch.Size([3, 256, 256]) 3 256 256\n"
     ]
    },
    {
     "name": "stderr",
     "output_type": "stream",
     "text": [
      "100%|██████████| 200/200 [00:09<00:00, 21.36it/s]\n"
     ]
    },
    {
     "name": "stdout",
     "output_type": "stream",
     "text": [
      "torch.Size([3, 256, 256]) 3 256 256\n"
     ]
    },
    {
     "name": "stderr",
     "output_type": "stream",
     "text": [
      "100%|██████████| 200/200 [00:09<00:00, 21.35it/s]\n"
     ]
    },
    {
     "name": "stdout",
     "output_type": "stream",
     "text": [
      "torch.Size([3, 256, 256]) 3 256 256\n"
     ]
    },
    {
     "name": "stderr",
     "output_type": "stream",
     "text": [
      "100%|██████████| 200/200 [00:09<00:00, 21.30it/s]\n"
     ]
    },
    {
     "name": "stdout",
     "output_type": "stream",
     "text": [
      "torch.Size([3, 256, 256]) 3 256 256\n"
     ]
    },
    {
     "name": "stderr",
     "output_type": "stream",
     "text": [
      "100%|██████████| 200/200 [00:09<00:00, 21.33it/s]\n"
     ]
    },
    {
     "name": "stdout",
     "output_type": "stream",
     "text": [
      "torch.Size([3, 256, 256]) 3 256 256\n"
     ]
    },
    {
     "name": "stderr",
     "output_type": "stream",
     "text": [
      "100%|██████████| 200/200 [00:09<00:00, 21.27it/s]\n"
     ]
    },
    {
     "name": "stdout",
     "output_type": "stream",
     "text": [
      "torch.Size([3, 256, 256]) 3 256 256\n"
     ]
    },
    {
     "name": "stderr",
     "output_type": "stream",
     "text": [
      "100%|██████████| 200/200 [00:09<00:00, 21.30it/s]\n"
     ]
    },
    {
     "name": "stdout",
     "output_type": "stream",
     "text": [
      "torch.Size([3, 256, 256]) 3 256 256\n"
     ]
    },
    {
     "name": "stderr",
     "output_type": "stream",
     "text": [
      "100%|██████████| 200/200 [00:09<00:00, 21.14it/s]\n"
     ]
    },
    {
     "name": "stdout",
     "output_type": "stream",
     "text": [
      "torch.Size([3, 256, 256]) 3 256 256\n"
     ]
    },
    {
     "name": "stderr",
     "output_type": "stream",
     "text": [
      "100%|██████████| 200/200 [00:09<00:00, 21.15it/s]\n"
     ]
    },
    {
     "name": "stdout",
     "output_type": "stream",
     "text": [
      "torch.Size([3, 256, 256]) 3 256 256\n"
     ]
    },
    {
     "name": "stderr",
     "output_type": "stream",
     "text": [
      "100%|██████████| 200/200 [00:09<00:00, 21.15it/s]\n"
     ]
    },
    {
     "name": "stdout",
     "output_type": "stream",
     "text": [
      "torch.Size([3, 256, 256]) 3 256 256\n"
     ]
    },
    {
     "name": "stderr",
     "output_type": "stream",
     "text": [
      "100%|██████████| 200/200 [00:09<00:00, 21.11it/s]\n"
     ]
    },
    {
     "name": "stdout",
     "output_type": "stream",
     "text": [
      "torch.Size([3, 256, 256]) 3 256 256\n"
     ]
    },
    {
     "name": "stderr",
     "output_type": "stream",
     "text": [
      "100%|██████████| 200/200 [00:09<00:00, 21.14it/s]\n"
     ]
    },
    {
     "name": "stdout",
     "output_type": "stream",
     "text": [
      "torch.Size([3, 256, 256]) 3 256 256\n"
     ]
    },
    {
     "name": "stderr",
     "output_type": "stream",
     "text": [
      "100%|██████████| 200/200 [00:09<00:00, 21.14it/s]\n"
     ]
    },
    {
     "name": "stdout",
     "output_type": "stream",
     "text": [
      "torch.Size([3, 256, 256]) 3 256 256\n"
     ]
    },
    {
     "name": "stderr",
     "output_type": "stream",
     "text": [
      "100%|██████████| 200/200 [00:09<00:00, 21.13it/s]\n"
     ]
    },
    {
     "name": "stdout",
     "output_type": "stream",
     "text": [
      "torch.Size([3, 256, 256]) 3 256 256\n"
     ]
    },
    {
     "name": "stderr",
     "output_type": "stream",
     "text": [
      "100%|██████████| 200/200 [00:09<00:00, 21.12it/s]\n"
     ]
    },
    {
     "name": "stdout",
     "output_type": "stream",
     "text": [
      "torch.Size([3, 256, 256]) 3 256 256\n"
     ]
    },
    {
     "name": "stderr",
     "output_type": "stream",
     "text": [
      "100%|██████████| 200/200 [00:09<00:00, 21.21it/s]\n"
     ]
    },
    {
     "name": "stdout",
     "output_type": "stream",
     "text": [
      "torch.Size([3, 256, 256]) 3 256 256\n"
     ]
    },
    {
     "name": "stderr",
     "output_type": "stream",
     "text": [
      "100%|██████████| 200/200 [00:09<00:00, 21.25it/s]\n"
     ]
    },
    {
     "name": "stdout",
     "output_type": "stream",
     "text": [
      "torch.Size([3, 256, 256]) 3 256 256\n"
     ]
    },
    {
     "name": "stderr",
     "output_type": "stream",
     "text": [
      "100%|██████████| 200/200 [00:09<00:00, 21.13it/s]\n"
     ]
    },
    {
     "name": "stdout",
     "output_type": "stream",
     "text": [
      "torch.Size([3, 256, 256]) 3 256 256\n"
     ]
    },
    {
     "name": "stderr",
     "output_type": "stream",
     "text": [
      "100%|██████████| 200/200 [00:09<00:00, 21.25it/s]\n"
     ]
    },
    {
     "name": "stdout",
     "output_type": "stream",
     "text": [
      "torch.Size([3, 256, 256]) 3 256 256\n"
     ]
    },
    {
     "name": "stderr",
     "output_type": "stream",
     "text": [
      "100%|██████████| 200/200 [00:09<00:00, 21.13it/s]\n"
     ]
    },
    {
     "name": "stdout",
     "output_type": "stream",
     "text": [
      "torch.Size([3, 256, 256]) 3 256 256\n"
     ]
    },
    {
     "name": "stderr",
     "output_type": "stream",
     "text": [
      "100%|██████████| 200/200 [00:09<00:00, 21.11it/s]\n"
     ]
    },
    {
     "name": "stdout",
     "output_type": "stream",
     "text": [
      "torch.Size([3, 256, 256]) 3 256 256\n"
     ]
    },
    {
     "name": "stderr",
     "output_type": "stream",
     "text": [
      "100%|██████████| 200/200 [00:09<00:00, 21.13it/s]\n"
     ]
    },
    {
     "name": "stdout",
     "output_type": "stream",
     "text": [
      "torch.Size([3, 256, 256]) 3 256 256\n"
     ]
    },
    {
     "name": "stderr",
     "output_type": "stream",
     "text": [
      "100%|██████████| 200/200 [00:09<00:00, 21.12it/s]\n"
     ]
    },
    {
     "name": "stdout",
     "output_type": "stream",
     "text": [
      "torch.Size([3, 256, 256]) 3 256 256\n"
     ]
    },
    {
     "name": "stderr",
     "output_type": "stream",
     "text": [
      "100%|██████████| 200/200 [00:09<00:00, 21.11it/s]\n"
     ]
    },
    {
     "name": "stdout",
     "output_type": "stream",
     "text": [
      "torch.Size([3, 256, 256]) 3 256 256\n"
     ]
    },
    {
     "name": "stderr",
     "output_type": "stream",
     "text": [
      "100%|██████████| 200/200 [00:09<00:00, 21.19it/s]\n"
     ]
    },
    {
     "name": "stdout",
     "output_type": "stream",
     "text": [
      "torch.Size([3, 256, 256]) 3 256 256\n"
     ]
    },
    {
     "name": "stderr",
     "output_type": "stream",
     "text": [
      "100%|██████████| 200/200 [00:09<00:00, 21.11it/s]\n"
     ]
    },
    {
     "name": "stdout",
     "output_type": "stream",
     "text": [
      "torch.Size([3, 256, 256]) 3 256 256\n"
     ]
    },
    {
     "name": "stderr",
     "output_type": "stream",
     "text": [
      "100%|██████████| 200/200 [00:09<00:00, 21.20it/s]\n"
     ]
    },
    {
     "name": "stdout",
     "output_type": "stream",
     "text": [
      "torch.Size([3, 256, 256]) 3 256 256\n"
     ]
    },
    {
     "name": "stderr",
     "output_type": "stream",
     "text": [
      "100%|██████████| 200/200 [00:09<00:00, 21.22it/s]\n"
     ]
    },
    {
     "name": "stdout",
     "output_type": "stream",
     "text": [
      "torch.Size([3, 256, 256]) 3 256 256\n"
     ]
    },
    {
     "name": "stderr",
     "output_type": "stream",
     "text": [
      "100%|██████████| 200/200 [00:09<00:00, 21.11it/s]\n"
     ]
    },
    {
     "name": "stdout",
     "output_type": "stream",
     "text": [
      "torch.Size([3, 256, 256]) 3 256 256\n"
     ]
    },
    {
     "name": "stderr",
     "output_type": "stream",
     "text": [
      "100%|██████████| 200/200 [00:09<00:00, 21.19it/s]\n"
     ]
    },
    {
     "name": "stdout",
     "output_type": "stream",
     "text": [
      "torch.Size([3, 256, 256]) 3 256 256\n"
     ]
    },
    {
     "name": "stderr",
     "output_type": "stream",
     "text": [
      "100%|██████████| 200/200 [00:09<00:00, 21.17it/s]\n"
     ]
    },
    {
     "name": "stdout",
     "output_type": "stream",
     "text": [
      "torch.Size([3, 256, 256]) 3 256 256\n"
     ]
    },
    {
     "name": "stderr",
     "output_type": "stream",
     "text": [
      "100%|██████████| 200/200 [00:09<00:00, 21.12it/s]\n"
     ]
    },
    {
     "name": "stdout",
     "output_type": "stream",
     "text": [
      "torch.Size([3, 256, 256]) 3 256 256\n"
     ]
    },
    {
     "name": "stderr",
     "output_type": "stream",
     "text": [
      "100%|██████████| 200/200 [00:09<00:00, 21.06it/s]\n"
     ]
    },
    {
     "name": "stdout",
     "output_type": "stream",
     "text": [
      "torch.Size([3, 256, 256]) 3 256 256\n"
     ]
    },
    {
     "name": "stderr",
     "output_type": "stream",
     "text": [
      "100%|██████████| 200/200 [00:09<00:00, 21.12it/s]\n"
     ]
    },
    {
     "name": "stdout",
     "output_type": "stream",
     "text": [
      "torch.Size([3, 256, 256]) 3 256 256\n"
     ]
    },
    {
     "name": "stderr",
     "output_type": "stream",
     "text": [
      "100%|██████████| 200/200 [00:09<00:00, 21.09it/s]\n"
     ]
    },
    {
     "name": "stdout",
     "output_type": "stream",
     "text": [
      "torch.Size([3, 256, 256]) 3 256 256\n"
     ]
    },
    {
     "name": "stderr",
     "output_type": "stream",
     "text": [
      "100%|██████████| 200/200 [00:09<00:00, 21.11it/s]\n"
     ]
    },
    {
     "name": "stdout",
     "output_type": "stream",
     "text": [
      "torch.Size([3, 256, 256]) 3 256 256\n"
     ]
    },
    {
     "name": "stderr",
     "output_type": "stream",
     "text": [
      "100%|██████████| 200/200 [00:09<00:00, 21.13it/s]\n"
     ]
    },
    {
     "name": "stdout",
     "output_type": "stream",
     "text": [
      "torch.Size([3, 256, 256]) 3 256 256\n"
     ]
    },
    {
     "name": "stderr",
     "output_type": "stream",
     "text": [
      "100%|██████████| 200/200 [00:09<00:00, 21.14it/s]\n"
     ]
    },
    {
     "name": "stdout",
     "output_type": "stream",
     "text": [
      "torch.Size([3, 256, 256]) 3 256 256\n"
     ]
    },
    {
     "name": "stderr",
     "output_type": "stream",
     "text": [
      "100%|██████████| 200/200 [00:09<00:00, 21.11it/s]\n"
     ]
    },
    {
     "name": "stdout",
     "output_type": "stream",
     "text": [
      "torch.Size([3, 256, 256]) 3 256 256\n"
     ]
    },
    {
     "name": "stderr",
     "output_type": "stream",
     "text": [
      "100%|██████████| 200/200 [00:09<00:00, 21.12it/s]\n"
     ]
    },
    {
     "name": "stdout",
     "output_type": "stream",
     "text": [
      "torch.Size([3, 256, 256]) 3 256 256\n"
     ]
    },
    {
     "name": "stderr",
     "output_type": "stream",
     "text": [
      "100%|██████████| 200/200 [00:09<00:00, 21.24it/s]\n"
     ]
    },
    {
     "name": "stdout",
     "output_type": "stream",
     "text": [
      "torch.Size([3, 256, 256]) 3 256 256\n"
     ]
    },
    {
     "name": "stderr",
     "output_type": "stream",
     "text": [
      "100%|██████████| 200/200 [00:09<00:00, 21.22it/s]\n"
     ]
    },
    {
     "name": "stdout",
     "output_type": "stream",
     "text": [
      "torch.Size([3, 256, 256]) 3 256 256\n"
     ]
    },
    {
     "name": "stderr",
     "output_type": "stream",
     "text": [
      "100%|██████████| 200/200 [00:09<00:00, 21.14it/s]\n"
     ]
    },
    {
     "name": "stdout",
     "output_type": "stream",
     "text": [
      "torch.Size([3, 256, 256]) 3 256 256\n"
     ]
    },
    {
     "name": "stderr",
     "output_type": "stream",
     "text": [
      "100%|██████████| 200/200 [00:09<00:00, 21.12it/s]\n",
      "100%|██████████| 450/450 [17:01<00:00,  2.27s/it]\n"
     ]
    },
    {
     "name": "stdout",
     "output_type": "stream",
     "text": [
      "Exporting large updated pickle based off new generator and ffhq.pkl\n",
      "pwd /home/bean/DragVideo/DragGAN/_facial-landmarks-recognition\n",
      "landmark_path:  /home/bean/DragVideo/Data_store/experiments/2023-08-22_19-02-28_256_sg3_testing/landmarks/020.pkl\n",
      "landmark_path:  /home/bean/DragVideo/Data_store/experiments/2023-08-22_19-02-28_256_sg3_testing/landmarks/000.pkl\n",
      "landmark_path:  /home/bean/DragVideo/Data_store/experiments/2023-08-22_19-02-28_256_sg3_testing/landmarks/001.pkl\n",
      "landmark_path:  /home/bean/DragVideo/Data_store/experiments/2023-08-22_19-02-28_256_sg3_testing/landmarks/002.pkl\n",
      "landmark_path:  /home/bean/DragVideo/Data_store/experiments/2023-08-22_19-02-28_256_sg3_testing/landmarks/003.pkl\n",
      "landmark_path:  /home/bean/DragVideo/Data_store/experiments/2023-08-22_19-02-28_256_sg3_testing/landmarks/004.pkl\n",
      "landmark_path:  /home/bean/DragVideo/Data_store/experiments/2023-08-22_19-02-28_256_sg3_testing/landmarks/005.pkl\n",
      "landmark_path:  /home/bean/DragVideo/Data_store/experiments/2023-08-22_19-02-28_256_sg3_testing/landmarks/006.pkl\n",
      "landmark_path:  /home/bean/DragVideo/Data_store/experiments/2023-08-22_19-02-28_256_sg3_testing/landmarks/007.pkl\n",
      "landmark_path:  /home/bean/DragVideo/Data_store/experiments/2023-08-22_19-02-28_256_sg3_testing/landmarks/008.pkl\n",
      "landmark_path:  /home/bean/DragVideo/Data_store/experiments/2023-08-22_19-02-28_256_sg3_testing/landmarks/009.pkl\n",
      "landmark_path:  /home/bean/DragVideo/Data_store/experiments/2023-08-22_19-02-28_256_sg3_testing/landmarks/010.pkl\n",
      "landmark_path:  /home/bean/DragVideo/Data_store/experiments/2023-08-22_19-02-28_256_sg3_testing/landmarks/011.pkl\n",
      "landmark_path:  /home/bean/DragVideo/Data_store/experiments/2023-08-22_19-02-28_256_sg3_testing/landmarks/012.pkl\n",
      "landmark_path:  /home/bean/DragVideo/Data_store/experiments/2023-08-22_19-02-28_256_sg3_testing/landmarks/013.pkl\n",
      "landmark_path:  /home/bean/DragVideo/Data_store/experiments/2023-08-22_19-02-28_256_sg3_testing/landmarks/014.pkl\n",
      "landmark_path:  /home/bean/DragVideo/Data_store/experiments/2023-08-22_19-02-28_256_sg3_testing/landmarks/015.pkl\n",
      "landmark_path:  /home/bean/DragVideo/Data_store/experiments/2023-08-22_19-02-28_256_sg3_testing/landmarks/016.pkl\n",
      "landmark_path:  /home/bean/DragVideo/Data_store/experiments/2023-08-22_19-02-28_256_sg3_testing/landmarks/017.pkl\n",
      "landmark_path:  /home/bean/DragVideo/Data_store/experiments/2023-08-22_19-02-28_256_sg3_testing/landmarks/018.pkl\n",
      "landmark_path:  /home/bean/DragVideo/Data_store/experiments/2023-08-22_19-02-28_256_sg3_testing/landmarks/019.pkl\n",
      "landmark_path:  /home/bean/DragVideo/Data_store/experiments/2023-08-22_19-02-28_256_sg3_testing/landmarks/021.pkl\n",
      "landmark_path:  /home/bean/DragVideo/Data_store/experiments/2023-08-22_19-02-28_256_sg3_testing/landmarks/022.pkl\n",
      "landmark_path:  /home/bean/DragVideo/Data_store/experiments/2023-08-22_19-02-28_256_sg3_testing/landmarks/023.pkl\n",
      "landmark_path:  /home/bean/DragVideo/Data_store/experiments/2023-08-22_19-02-28_256_sg3_testing/landmarks/024.pkl\n",
      "landmark_path:  /home/bean/DragVideo/Data_store/experiments/2023-08-22_19-02-28_256_sg3_testing/landmarks/025.pkl\n",
      "landmark_path:  /home/bean/DragVideo/Data_store/experiments/2023-08-22_19-02-28_256_sg3_testing/landmarks/026.pkl\n",
      "landmark_path:  /home/bean/DragVideo/Data_store/experiments/2023-08-22_19-02-28_256_sg3_testing/landmarks/027.pkl\n",
      "landmark_path:  /home/bean/DragVideo/Data_store/experiments/2023-08-22_19-02-28_256_sg3_testing/landmarks/028.pkl\n",
      "landmark_path:  /home/bean/DragVideo/Data_store/experiments/2023-08-22_19-02-28_256_sg3_testing/landmarks/029.pkl\n",
      "landmark_path:  /home/bean/DragVideo/Data_store/experiments/2023-08-22_19-02-28_256_sg3_testing/landmarks/030.pkl\n",
      "landmark_path:  /home/bean/DragVideo/Data_store/experiments/2023-08-22_19-02-28_256_sg3_testing/landmarks/031.pkl\n",
      "landmark_path:  /home/bean/DragVideo/Data_store/experiments/2023-08-22_19-02-28_256_sg3_testing/landmarks/032.pkl\n",
      "landmark_path:  /home/bean/DragVideo/Data_store/experiments/2023-08-22_19-02-28_256_sg3_testing/landmarks/033.pkl\n",
      "landmark_path:  /home/bean/DragVideo/Data_store/experiments/2023-08-22_19-02-28_256_sg3_testing/landmarks/034.pkl\n",
      "landmark_path:  /home/bean/DragVideo/Data_store/experiments/2023-08-22_19-02-28_256_sg3_testing/landmarks/035.pkl\n",
      "landmark_path:  /home/bean/DragVideo/Data_store/experiments/2023-08-22_19-02-28_256_sg3_testing/landmarks/036.pkl\n",
      "landmark_path:  /home/bean/DragVideo/Data_store/experiments/2023-08-22_19-02-28_256_sg3_testing/landmarks/037.pkl\n",
      "landmark_path:  /home/bean/DragVideo/Data_store/experiments/2023-08-22_19-02-28_256_sg3_testing/landmarks/038.pkl\n",
      "landmark_path:  /home/bean/DragVideo/Data_store/experiments/2023-08-22_19-02-28_256_sg3_testing/landmarks/039.pkl\n",
      "landmark_path:  /home/bean/DragVideo/Data_store/experiments/2023-08-22_19-02-28_256_sg3_testing/landmarks/040.pkl\n",
      "landmark_path:  /home/bean/DragVideo/Data_store/experiments/2023-08-22_19-02-28_256_sg3_testing/landmarks/041.pkl\n",
      "landmark_path:  /home/bean/DragVideo/Data_store/experiments/2023-08-22_19-02-28_256_sg3_testing/landmarks/042.pkl\n",
      "landmark_path:  /home/bean/DragVideo/Data_store/experiments/2023-08-22_19-02-28_256_sg3_testing/landmarks/043.pkl\n",
      "landmark_path:  /home/bean/DragVideo/Data_store/experiments/2023-08-22_19-02-28_256_sg3_testing/landmarks/044.pkl\n",
      "landmark_path:  /home/bean/DragVideo/Data_store/experiments/2023-08-22_19-02-28_256_sg3_testing/landmarks/045.pkl\n",
      "landmark_path:  /home/bean/DragVideo/Data_store/experiments/2023-08-22_19-02-28_256_sg3_testing/landmarks/046.pkl\n",
      "landmark_path:  /home/bean/DragVideo/Data_store/experiments/2023-08-22_19-02-28_256_sg3_testing/landmarks/047.pkl\n",
      "landmark_path:  /home/bean/DragVideo/Data_store/experiments/2023-08-22_19-02-28_256_sg3_testing/landmarks/048.pkl\n",
      "landmark_path:  /home/bean/DragVideo/Data_store/experiments/2023-08-22_19-02-28_256_sg3_testing/landmarks/049.pkl\n"
     ]
    }
   ],
   "source": [
    "from utils.align_data import pre_process_images\n",
    "from scripts.run_pti import run_PTI\n",
    "\n",
    "from run_utils_2 import load_generators,export_updated_pickle\n",
    "from configs import paths_config\n",
    "\n",
    "use_multi_id_training = True\n",
    "model_id = run_PTI(use_wandb=False, use_multi_id_training=use_multi_id_training)\n",
    "\n",
    "generator_type =paths_config.multi_id_model_type if use_multi_id_training else \"__\"\n",
    "old_G, new_G = load_generators(model_id, generator_type)\n",
    "sg_tuned_pkl = export_updated_pickle(new_G,model_id,name = lazy_config[\"model_name\"])\n",
    "\n",
    "# print(sg_tuned_pkl) # 'QBUXQCXZGWET'\n",
    "\n",
    "\n",
    "\n",
    "#get landmarks\n",
    "landmark_path = f\"{DRAGVIDEO_ROOT_PATH}DragVideo/DragGAN/_facial-landmarks-recognition\"\n",
    "os.chdir(landmark_path)\n",
    "print(\"pwd\",os.getcwd())\n",
    "import sys\n",
    "sys.path.append(landmark_path)\n",
    "\n",
    "from main import landmarks, dict_landmarks,show_landmarks,get_landmarks_dir\n",
    "\n",
    "# to store landmarks\n",
    "landmarks_dir =  os.path.join(Experiment_path,'landmarks')\n",
    "processed_images_dir =  os.path.join(Experiment_path,'aligned')\n",
    "\n",
    "# generate landmarks for all images in processed_images_dir\n",
    "get_landmarks_dir(processed_images_dir,landmarks_dir)\n"
   ]
  },
  {
   "cell_type": "markdown",
   "metadata": {},
   "source": [
    "Runs draggan part"
   ]
  },
  {
   "cell_type": "code",
   "execution_count": 10,
   "metadata": {},
   "outputs": [],
   "source": [
    "\n",
    "# # just to run this part seperately\n",
    "# import os \n",
    "# Experiment_path = \"/home/bean/DragVideo/Data_store/experiments/_SAVE_vsauce_frnd_120_frames_wide_nose_with_border\"\n",
    "# sg_tuned_pkl = \"/home/bean/DragVideo/Data_store/experiments/_SAVE_vsauce_frnd_120_frames_wide_nose_with_border/tuned_SG/stylegan3_NXHOAZADQKTA.pkl\"\n",
    "# lazy_config[\"N_STEPS_in_draggan\"]=\"160\"\n",
    "# lazy_config[\"editing_function_name\"]=\"large_nose\"\n",
    "# lazy_config[\"IMAGE_SIZE\"]=\"1024\"\n"
   ]
  },
  {
   "cell_type": "code",
   "execution_count": 11,
   "metadata": {},
   "outputs": [
    {
     "name": "stdout",
     "output_type": "stream",
     "text": [
      "sg_tuned_pkl: /home/bean/DragVideo/Data_store/experiments/2023-08-22_19-02-28_256_sg3_testing/tuned_SG/stylegan3_DXJXUMNORDAY.pkl\n"
     ]
    },
    {
     "name": "stdout",
     "output_type": "stream",
     "text": [
      "editing_function_name: large_nose\n",
      "intiating global state....\n",
      "calling init_images......\n",
      "Loading \"/home/bean/DragVideo/Data_store/experiments/2023-08-22_19-02-28_256_sg3_testing/tuned_SG/stylegan3_DXJXUMNORDAY.pkl\"... Done.\n",
      "()\n",
      "{'z_dim': 512, 'w_dim': 512, 'channel_base': 32768, 'channel_max': 1024, 'mapping_kwargs': {}, 'conv_kernel': 1, 'filter_size': 6, 'magnitude_ema_beta': 0.9977843871238888, 'output_scale': 0.25, 'c_dim': 0, 'img_resolution': 256, 'img_channels': 3, 'use_radial_filters': True}\n",
      "Setting up PyTorch plugin \"filtered_lrelu_plugin\"... Done.\n"
     ]
    },
    {
     "name": "stderr",
     "output_type": "stream",
     "text": [
      "  0%|          | 0/100 [00:00<?, ?it/s]/home/bean/.conda/envs/stylegan3/lib/python3.9/site-packages/torch/functional.py:504: UserWarning: torch.meshgrid: in an upcoming release, it will be required to pass the indexing argument. (Triggered internally at /opt/conda/conda-bld/pytorch_1682343964576/work/aten/src/ATen/native/TensorShape.cpp:3483.)\n",
      "  return _VF.meshgrid(tensors, **kwargs)  # type: ignore[attr-defined]\n",
      "100%|██████████| 100/100 [00:05<00:00, 18.82it/s]\n"
     ]
    },
    {
     "name": "stdout",
     "output_type": "stream",
     "text": [
      "intiating global state....\n",
      "calling init_images......\n",
      "Loading \"/home/bean/DragVideo/Data_store/experiments/2023-08-22_19-02-28_256_sg3_testing/tuned_SG/stylegan3_DXJXUMNORDAY.pkl\"... Done.\n",
      "()\n",
      "{'z_dim': 512, 'w_dim': 512, 'channel_base': 32768, 'channel_max': 1024, 'mapping_kwargs': {}, 'conv_kernel': 1, 'filter_size': 6, 'magnitude_ema_beta': 0.9977843871238888, 'output_scale': 0.25, 'c_dim': 0, 'img_resolution': 256, 'img_channels': 3, 'use_radial_filters': True}\n"
     ]
    },
    {
     "name": "stderr",
     "output_type": "stream",
     "text": [
      "100%|██████████| 100/100 [00:05<00:00, 18.94it/s]\n"
     ]
    },
    {
     "name": "stdout",
     "output_type": "stream",
     "text": [
      "intiating global state....\n",
      "calling init_images......\n",
      "Loading \"/home/bean/DragVideo/Data_store/experiments/2023-08-22_19-02-28_256_sg3_testing/tuned_SG/stylegan3_DXJXUMNORDAY.pkl\"... Done.\n",
      "()\n",
      "{'z_dim': 512, 'w_dim': 512, 'channel_base': 32768, 'channel_max': 1024, 'mapping_kwargs': {}, 'conv_kernel': 1, 'filter_size': 6, 'magnitude_ema_beta': 0.9977843871238888, 'output_scale': 0.25, 'c_dim': 0, 'img_resolution': 256, 'img_channels': 3, 'use_radial_filters': True}\n"
     ]
    },
    {
     "name": "stderr",
     "output_type": "stream",
     "text": [
      "100%|██████████| 100/100 [00:05<00:00, 18.96it/s]\n"
     ]
    },
    {
     "name": "stdout",
     "output_type": "stream",
     "text": [
      "intiating global state....\n",
      "calling init_images......\n",
      "Loading \"/home/bean/DragVideo/Data_store/experiments/2023-08-22_19-02-28_256_sg3_testing/tuned_SG/stylegan3_DXJXUMNORDAY.pkl\"... Done.\n",
      "()\n",
      "{'z_dim': 512, 'w_dim': 512, 'channel_base': 32768, 'channel_max': 1024, 'mapping_kwargs': {}, 'conv_kernel': 1, 'filter_size': 6, 'magnitude_ema_beta': 0.9977843871238888, 'output_scale': 0.25, 'c_dim': 0, 'img_resolution': 256, 'img_channels': 3, 'use_radial_filters': True}\n"
     ]
    },
    {
     "name": "stderr",
     "output_type": "stream",
     "text": [
      "100%|██████████| 100/100 [00:05<00:00, 19.08it/s]\n"
     ]
    },
    {
     "name": "stdout",
     "output_type": "stream",
     "text": [
      "intiating global state....\n",
      "calling init_images......\n",
      "Loading \"/home/bean/DragVideo/Data_store/experiments/2023-08-22_19-02-28_256_sg3_testing/tuned_SG/stylegan3_DXJXUMNORDAY.pkl\"... Done.\n",
      "()\n",
      "{'z_dim': 512, 'w_dim': 512, 'channel_base': 32768, 'channel_max': 1024, 'mapping_kwargs': {}, 'conv_kernel': 1, 'filter_size': 6, 'magnitude_ema_beta': 0.9977843871238888, 'output_scale': 0.25, 'c_dim': 0, 'img_resolution': 256, 'img_channels': 3, 'use_radial_filters': True}\n"
     ]
    },
    {
     "name": "stderr",
     "output_type": "stream",
     "text": [
      "100%|██████████| 100/100 [00:05<00:00, 19.10it/s]\n"
     ]
    },
    {
     "name": "stdout",
     "output_type": "stream",
     "text": [
      "intiating global state....\n",
      "calling init_images......\n",
      "Loading \"/home/bean/DragVideo/Data_store/experiments/2023-08-22_19-02-28_256_sg3_testing/tuned_SG/stylegan3_DXJXUMNORDAY.pkl\"... Done.\n",
      "()\n",
      "{'z_dim': 512, 'w_dim': 512, 'channel_base': 32768, 'channel_max': 1024, 'mapping_kwargs': {}, 'conv_kernel': 1, 'filter_size': 6, 'magnitude_ema_beta': 0.9977843871238888, 'output_scale': 0.25, 'c_dim': 0, 'img_resolution': 256, 'img_channels': 3, 'use_radial_filters': True}\n"
     ]
    },
    {
     "name": "stderr",
     "output_type": "stream",
     "text": [
      "100%|██████████| 100/100 [00:05<00:00, 19.08it/s]\n"
     ]
    },
    {
     "name": "stdout",
     "output_type": "stream",
     "text": [
      "intiating global state....\n",
      "calling init_images......\n",
      "Loading \"/home/bean/DragVideo/Data_store/experiments/2023-08-22_19-02-28_256_sg3_testing/tuned_SG/stylegan3_DXJXUMNORDAY.pkl\"... Done.\n",
      "()\n",
      "{'z_dim': 512, 'w_dim': 512, 'channel_base': 32768, 'channel_max': 1024, 'mapping_kwargs': {}, 'conv_kernel': 1, 'filter_size': 6, 'magnitude_ema_beta': 0.9977843871238888, 'output_scale': 0.25, 'c_dim': 0, 'img_resolution': 256, 'img_channels': 3, 'use_radial_filters': True}\n"
     ]
    },
    {
     "name": "stderr",
     "output_type": "stream",
     "text": [
      "100%|██████████| 100/100 [00:05<00:00, 19.38it/s]\n"
     ]
    },
    {
     "name": "stdout",
     "output_type": "stream",
     "text": [
      "intiating global state....\n",
      "calling init_images......\n",
      "Loading \"/home/bean/DragVideo/Data_store/experiments/2023-08-22_19-02-28_256_sg3_testing/tuned_SG/stylegan3_DXJXUMNORDAY.pkl\"... Done.\n",
      "()\n",
      "{'z_dim': 512, 'w_dim': 512, 'channel_base': 32768, 'channel_max': 1024, 'mapping_kwargs': {}, 'conv_kernel': 1, 'filter_size': 6, 'magnitude_ema_beta': 0.9977843871238888, 'output_scale': 0.25, 'c_dim': 0, 'img_resolution': 256, 'img_channels': 3, 'use_radial_filters': True}\n"
     ]
    },
    {
     "name": "stderr",
     "output_type": "stream",
     "text": [
      "100%|██████████| 100/100 [00:05<00:00, 19.37it/s]\n"
     ]
    },
    {
     "name": "stdout",
     "output_type": "stream",
     "text": [
      "intiating global state....\n",
      "calling init_images......\n",
      "Loading \"/home/bean/DragVideo/Data_store/experiments/2023-08-22_19-02-28_256_sg3_testing/tuned_SG/stylegan3_DXJXUMNORDAY.pkl\"... Done.\n",
      "()\n",
      "{'z_dim': 512, 'w_dim': 512, 'channel_base': 32768, 'channel_max': 1024, 'mapping_kwargs': {}, 'conv_kernel': 1, 'filter_size': 6, 'magnitude_ema_beta': 0.9977843871238888, 'output_scale': 0.25, 'c_dim': 0, 'img_resolution': 256, 'img_channels': 3, 'use_radial_filters': True}\n"
     ]
    },
    {
     "name": "stderr",
     "output_type": "stream",
     "text": [
      "100%|██████████| 100/100 [00:05<00:00, 18.87it/s]\n"
     ]
    },
    {
     "name": "stdout",
     "output_type": "stream",
     "text": [
      "intiating global state....\n",
      "calling init_images......\n",
      "Loading \"/home/bean/DragVideo/Data_store/experiments/2023-08-22_19-02-28_256_sg3_testing/tuned_SG/stylegan3_DXJXUMNORDAY.pkl\"... Done.\n",
      "()\n",
      "{'z_dim': 512, 'w_dim': 512, 'channel_base': 32768, 'channel_max': 1024, 'mapping_kwargs': {}, 'conv_kernel': 1, 'filter_size': 6, 'magnitude_ema_beta': 0.9977843871238888, 'output_scale': 0.25, 'c_dim': 0, 'img_resolution': 256, 'img_channels': 3, 'use_radial_filters': True}\n"
     ]
    },
    {
     "name": "stderr",
     "output_type": "stream",
     "text": [
      "100%|██████████| 100/100 [00:05<00:00, 19.13it/s]\n"
     ]
    },
    {
     "name": "stdout",
     "output_type": "stream",
     "text": [
      "intiating global state....\n",
      "calling init_images......\n",
      "Loading \"/home/bean/DragVideo/Data_store/experiments/2023-08-22_19-02-28_256_sg3_testing/tuned_SG/stylegan3_DXJXUMNORDAY.pkl\"... Done.\n",
      "()\n",
      "{'z_dim': 512, 'w_dim': 512, 'channel_base': 32768, 'channel_max': 1024, 'mapping_kwargs': {}, 'conv_kernel': 1, 'filter_size': 6, 'magnitude_ema_beta': 0.9977843871238888, 'output_scale': 0.25, 'c_dim': 0, 'img_resolution': 256, 'img_channels': 3, 'use_radial_filters': True}\n"
     ]
    },
    {
     "name": "stderr",
     "output_type": "stream",
     "text": [
      "100%|██████████| 100/100 [00:05<00:00, 19.15it/s]\n"
     ]
    },
    {
     "name": "stdout",
     "output_type": "stream",
     "text": [
      "intiating global state....\n",
      "calling init_images......\n",
      "Loading \"/home/bean/DragVideo/Data_store/experiments/2023-08-22_19-02-28_256_sg3_testing/tuned_SG/stylegan3_DXJXUMNORDAY.pkl\"... Done.\n",
      "()\n",
      "{'z_dim': 512, 'w_dim': 512, 'channel_base': 32768, 'channel_max': 1024, 'mapping_kwargs': {}, 'conv_kernel': 1, 'filter_size': 6, 'magnitude_ema_beta': 0.9977843871238888, 'output_scale': 0.25, 'c_dim': 0, 'img_resolution': 256, 'img_channels': 3, 'use_radial_filters': True}\n"
     ]
    },
    {
     "name": "stderr",
     "output_type": "stream",
     "text": [
      "100%|██████████| 100/100 [00:05<00:00, 18.98it/s]\n"
     ]
    },
    {
     "name": "stdout",
     "output_type": "stream",
     "text": [
      "intiating global state....\n",
      "calling init_images......\n",
      "Loading \"/home/bean/DragVideo/Data_store/experiments/2023-08-22_19-02-28_256_sg3_testing/tuned_SG/stylegan3_DXJXUMNORDAY.pkl\"... Done.\n",
      "()\n",
      "{'z_dim': 512, 'w_dim': 512, 'channel_base': 32768, 'channel_max': 1024, 'mapping_kwargs': {}, 'conv_kernel': 1, 'filter_size': 6, 'magnitude_ema_beta': 0.9977843871238888, 'output_scale': 0.25, 'c_dim': 0, 'img_resolution': 256, 'img_channels': 3, 'use_radial_filters': True}\n"
     ]
    },
    {
     "name": "stderr",
     "output_type": "stream",
     "text": [
      "100%|██████████| 100/100 [00:05<00:00, 18.95it/s]\n"
     ]
    },
    {
     "name": "stdout",
     "output_type": "stream",
     "text": [
      "intiating global state....\n",
      "calling init_images......\n",
      "Loading \"/home/bean/DragVideo/Data_store/experiments/2023-08-22_19-02-28_256_sg3_testing/tuned_SG/stylegan3_DXJXUMNORDAY.pkl\"... Done.\n",
      "()\n",
      "{'z_dim': 512, 'w_dim': 512, 'channel_base': 32768, 'channel_max': 1024, 'mapping_kwargs': {}, 'conv_kernel': 1, 'filter_size': 6, 'magnitude_ema_beta': 0.9977843871238888, 'output_scale': 0.25, 'c_dim': 0, 'img_resolution': 256, 'img_channels': 3, 'use_radial_filters': True}\n"
     ]
    },
    {
     "name": "stderr",
     "output_type": "stream",
     "text": [
      "100%|██████████| 100/100 [00:05<00:00, 19.27it/s]\n"
     ]
    },
    {
     "name": "stdout",
     "output_type": "stream",
     "text": [
      "intiating global state....\n",
      "calling init_images......\n",
      "Loading \"/home/bean/DragVideo/Data_store/experiments/2023-08-22_19-02-28_256_sg3_testing/tuned_SG/stylegan3_DXJXUMNORDAY.pkl\"... Done.\n",
      "()\n",
      "{'z_dim': 512, 'w_dim': 512, 'channel_base': 32768, 'channel_max': 1024, 'mapping_kwargs': {}, 'conv_kernel': 1, 'filter_size': 6, 'magnitude_ema_beta': 0.9977843871238888, 'output_scale': 0.25, 'c_dim': 0, 'img_resolution': 256, 'img_channels': 3, 'use_radial_filters': True}\n"
     ]
    },
    {
     "name": "stderr",
     "output_type": "stream",
     "text": [
      "100%|██████████| 100/100 [00:05<00:00, 19.19it/s]\n"
     ]
    },
    {
     "name": "stdout",
     "output_type": "stream",
     "text": [
      "intiating global state....\n",
      "calling init_images......\n",
      "Loading \"/home/bean/DragVideo/Data_store/experiments/2023-08-22_19-02-28_256_sg3_testing/tuned_SG/stylegan3_DXJXUMNORDAY.pkl\"... Done.\n",
      "()\n",
      "{'z_dim': 512, 'w_dim': 512, 'channel_base': 32768, 'channel_max': 1024, 'mapping_kwargs': {}, 'conv_kernel': 1, 'filter_size': 6, 'magnitude_ema_beta': 0.9977843871238888, 'output_scale': 0.25, 'c_dim': 0, 'img_resolution': 256, 'img_channels': 3, 'use_radial_filters': True}\n"
     ]
    },
    {
     "name": "stderr",
     "output_type": "stream",
     "text": [
      "100%|██████████| 100/100 [00:05<00:00, 19.12it/s]\n"
     ]
    },
    {
     "name": "stdout",
     "output_type": "stream",
     "text": [
      "intiating global state....\n",
      "calling init_images......\n",
      "Loading \"/home/bean/DragVideo/Data_store/experiments/2023-08-22_19-02-28_256_sg3_testing/tuned_SG/stylegan3_DXJXUMNORDAY.pkl\"... Done.\n",
      "()\n",
      "{'z_dim': 512, 'w_dim': 512, 'channel_base': 32768, 'channel_max': 1024, 'mapping_kwargs': {}, 'conv_kernel': 1, 'filter_size': 6, 'magnitude_ema_beta': 0.9977843871238888, 'output_scale': 0.25, 'c_dim': 0, 'img_resolution': 256, 'img_channels': 3, 'use_radial_filters': True}\n"
     ]
    },
    {
     "name": "stderr",
     "output_type": "stream",
     "text": [
      "100%|██████████| 100/100 [00:05<00:00, 19.03it/s]\n"
     ]
    },
    {
     "name": "stdout",
     "output_type": "stream",
     "text": [
      "intiating global state....\n",
      "calling init_images......\n",
      "Loading \"/home/bean/DragVideo/Data_store/experiments/2023-08-22_19-02-28_256_sg3_testing/tuned_SG/stylegan3_DXJXUMNORDAY.pkl\"... Done.\n",
      "()\n",
      "{'z_dim': 512, 'w_dim': 512, 'channel_base': 32768, 'channel_max': 1024, 'mapping_kwargs': {}, 'conv_kernel': 1, 'filter_size': 6, 'magnitude_ema_beta': 0.9977843871238888, 'output_scale': 0.25, 'c_dim': 0, 'img_resolution': 256, 'img_channels': 3, 'use_radial_filters': True}\n"
     ]
    },
    {
     "name": "stderr",
     "output_type": "stream",
     "text": [
      "100%|██████████| 100/100 [00:05<00:00, 19.21it/s]\n"
     ]
    },
    {
     "name": "stdout",
     "output_type": "stream",
     "text": [
      "intiating global state....\n",
      "calling init_images......\n",
      "Loading \"/home/bean/DragVideo/Data_store/experiments/2023-08-22_19-02-28_256_sg3_testing/tuned_SG/stylegan3_DXJXUMNORDAY.pkl\"... Done.\n",
      "()\n",
      "{'z_dim': 512, 'w_dim': 512, 'channel_base': 32768, 'channel_max': 1024, 'mapping_kwargs': {}, 'conv_kernel': 1, 'filter_size': 6, 'magnitude_ema_beta': 0.9977843871238888, 'output_scale': 0.25, 'c_dim': 0, 'img_resolution': 256, 'img_channels': 3, 'use_radial_filters': True}\n"
     ]
    },
    {
     "name": "stderr",
     "output_type": "stream",
     "text": [
      "100%|██████████| 100/100 [00:05<00:00, 18.86it/s]\n"
     ]
    },
    {
     "name": "stdout",
     "output_type": "stream",
     "text": [
      "intiating global state....\n",
      "calling init_images......\n",
      "Loading \"/home/bean/DragVideo/Data_store/experiments/2023-08-22_19-02-28_256_sg3_testing/tuned_SG/stylegan3_DXJXUMNORDAY.pkl\"... Done.\n",
      "()\n",
      "{'z_dim': 512, 'w_dim': 512, 'channel_base': 32768, 'channel_max': 1024, 'mapping_kwargs': {}, 'conv_kernel': 1, 'filter_size': 6, 'magnitude_ema_beta': 0.9977843871238888, 'output_scale': 0.25, 'c_dim': 0, 'img_resolution': 256, 'img_channels': 3, 'use_radial_filters': True}\n"
     ]
    },
    {
     "name": "stderr",
     "output_type": "stream",
     "text": [
      "100%|██████████| 100/100 [00:05<00:00, 19.07it/s]\n"
     ]
    },
    {
     "name": "stdout",
     "output_type": "stream",
     "text": [
      "intiating global state....\n",
      "calling init_images......\n",
      "Loading \"/home/bean/DragVideo/Data_store/experiments/2023-08-22_19-02-28_256_sg3_testing/tuned_SG/stylegan3_DXJXUMNORDAY.pkl\"... Done.\n",
      "()\n",
      "{'z_dim': 512, 'w_dim': 512, 'channel_base': 32768, 'channel_max': 1024, 'mapping_kwargs': {}, 'conv_kernel': 1, 'filter_size': 6, 'magnitude_ema_beta': 0.9977843871238888, 'output_scale': 0.25, 'c_dim': 0, 'img_resolution': 256, 'img_channels': 3, 'use_radial_filters': True}\n"
     ]
    },
    {
     "name": "stderr",
     "output_type": "stream",
     "text": [
      "100%|██████████| 100/100 [00:05<00:00, 19.20it/s]\n"
     ]
    },
    {
     "name": "stdout",
     "output_type": "stream",
     "text": [
      "intiating global state....\n",
      "calling init_images......\n",
      "Loading \"/home/bean/DragVideo/Data_store/experiments/2023-08-22_19-02-28_256_sg3_testing/tuned_SG/stylegan3_DXJXUMNORDAY.pkl\"... Done.\n",
      "()\n",
      "{'z_dim': 512, 'w_dim': 512, 'channel_base': 32768, 'channel_max': 1024, 'mapping_kwargs': {}, 'conv_kernel': 1, 'filter_size': 6, 'magnitude_ema_beta': 0.9977843871238888, 'output_scale': 0.25, 'c_dim': 0, 'img_resolution': 256, 'img_channels': 3, 'use_radial_filters': True}\n"
     ]
    },
    {
     "name": "stderr",
     "output_type": "stream",
     "text": [
      "100%|██████████| 100/100 [00:05<00:00, 19.06it/s]\n"
     ]
    },
    {
     "name": "stdout",
     "output_type": "stream",
     "text": [
      "intiating global state....\n",
      "calling init_images......\n",
      "Loading \"/home/bean/DragVideo/Data_store/experiments/2023-08-22_19-02-28_256_sg3_testing/tuned_SG/stylegan3_DXJXUMNORDAY.pkl\"... Done.\n",
      "()\n",
      "{'z_dim': 512, 'w_dim': 512, 'channel_base': 32768, 'channel_max': 1024, 'mapping_kwargs': {}, 'conv_kernel': 1, 'filter_size': 6, 'magnitude_ema_beta': 0.9977843871238888, 'output_scale': 0.25, 'c_dim': 0, 'img_resolution': 256, 'img_channels': 3, 'use_radial_filters': True}\n"
     ]
    },
    {
     "name": "stderr",
     "output_type": "stream",
     "text": [
      "100%|██████████| 100/100 [00:05<00:00, 19.08it/s]\n"
     ]
    },
    {
     "name": "stdout",
     "output_type": "stream",
     "text": [
      "intiating global state....\n",
      "calling init_images......\n",
      "Loading \"/home/bean/DragVideo/Data_store/experiments/2023-08-22_19-02-28_256_sg3_testing/tuned_SG/stylegan3_DXJXUMNORDAY.pkl\"... Done.\n",
      "()\n",
      "{'z_dim': 512, 'w_dim': 512, 'channel_base': 32768, 'channel_max': 1024, 'mapping_kwargs': {}, 'conv_kernel': 1, 'filter_size': 6, 'magnitude_ema_beta': 0.9977843871238888, 'output_scale': 0.25, 'c_dim': 0, 'img_resolution': 256, 'img_channels': 3, 'use_radial_filters': True}\n"
     ]
    },
    {
     "name": "stderr",
     "output_type": "stream",
     "text": [
      "100%|██████████| 100/100 [00:05<00:00, 18.98it/s]\n"
     ]
    },
    {
     "name": "stdout",
     "output_type": "stream",
     "text": [
      "intiating global state....\n",
      "calling init_images......\n",
      "Loading \"/home/bean/DragVideo/Data_store/experiments/2023-08-22_19-02-28_256_sg3_testing/tuned_SG/stylegan3_DXJXUMNORDAY.pkl\"... Done.\n",
      "()\n",
      "{'z_dim': 512, 'w_dim': 512, 'channel_base': 32768, 'channel_max': 1024, 'mapping_kwargs': {}, 'conv_kernel': 1, 'filter_size': 6, 'magnitude_ema_beta': 0.9977843871238888, 'output_scale': 0.25, 'c_dim': 0, 'img_resolution': 256, 'img_channels': 3, 'use_radial_filters': True}\n"
     ]
    },
    {
     "name": "stderr",
     "output_type": "stream",
     "text": [
      "100%|██████████| 100/100 [00:05<00:00, 18.91it/s]\n"
     ]
    },
    {
     "name": "stdout",
     "output_type": "stream",
     "text": [
      "intiating global state....\n",
      "calling init_images......\n",
      "Loading \"/home/bean/DragVideo/Data_store/experiments/2023-08-22_19-02-28_256_sg3_testing/tuned_SG/stylegan3_DXJXUMNORDAY.pkl\"... Done.\n",
      "()\n",
      "{'z_dim': 512, 'w_dim': 512, 'channel_base': 32768, 'channel_max': 1024, 'mapping_kwargs': {}, 'conv_kernel': 1, 'filter_size': 6, 'magnitude_ema_beta': 0.9977843871238888, 'output_scale': 0.25, 'c_dim': 0, 'img_resolution': 256, 'img_channels': 3, 'use_radial_filters': True}\n"
     ]
    },
    {
     "name": "stderr",
     "output_type": "stream",
     "text": [
      "100%|██████████| 100/100 [00:05<00:00, 18.98it/s]\n"
     ]
    },
    {
     "name": "stdout",
     "output_type": "stream",
     "text": [
      "intiating global state....\n",
      "calling init_images......\n",
      "Loading \"/home/bean/DragVideo/Data_store/experiments/2023-08-22_19-02-28_256_sg3_testing/tuned_SG/stylegan3_DXJXUMNORDAY.pkl\"... Done.\n",
      "()\n",
      "{'z_dim': 512, 'w_dim': 512, 'channel_base': 32768, 'channel_max': 1024, 'mapping_kwargs': {}, 'conv_kernel': 1, 'filter_size': 6, 'magnitude_ema_beta': 0.9977843871238888, 'output_scale': 0.25, 'c_dim': 0, 'img_resolution': 256, 'img_channels': 3, 'use_radial_filters': True}\n"
     ]
    },
    {
     "name": "stderr",
     "output_type": "stream",
     "text": [
      "100%|██████████| 100/100 [00:05<00:00, 19.00it/s]\n"
     ]
    },
    {
     "name": "stdout",
     "output_type": "stream",
     "text": [
      "intiating global state....\n",
      "calling init_images......\n",
      "Loading \"/home/bean/DragVideo/Data_store/experiments/2023-08-22_19-02-28_256_sg3_testing/tuned_SG/stylegan3_DXJXUMNORDAY.pkl\"... Done.\n",
      "()\n",
      "{'z_dim': 512, 'w_dim': 512, 'channel_base': 32768, 'channel_max': 1024, 'mapping_kwargs': {}, 'conv_kernel': 1, 'filter_size': 6, 'magnitude_ema_beta': 0.9977843871238888, 'output_scale': 0.25, 'c_dim': 0, 'img_resolution': 256, 'img_channels': 3, 'use_radial_filters': True}\n"
     ]
    },
    {
     "name": "stderr",
     "output_type": "stream",
     "text": [
      "100%|██████████| 100/100 [00:05<00:00, 18.90it/s]\n"
     ]
    },
    {
     "name": "stdout",
     "output_type": "stream",
     "text": [
      "intiating global state....\n",
      "calling init_images......\n",
      "Loading \"/home/bean/DragVideo/Data_store/experiments/2023-08-22_19-02-28_256_sg3_testing/tuned_SG/stylegan3_DXJXUMNORDAY.pkl\"... Done.\n",
      "()\n",
      "{'z_dim': 512, 'w_dim': 512, 'channel_base': 32768, 'channel_max': 1024, 'mapping_kwargs': {}, 'conv_kernel': 1, 'filter_size': 6, 'magnitude_ema_beta': 0.9977843871238888, 'output_scale': 0.25, 'c_dim': 0, 'img_resolution': 256, 'img_channels': 3, 'use_radial_filters': True}\n"
     ]
    },
    {
     "name": "stderr",
     "output_type": "stream",
     "text": [
      "100%|██████████| 100/100 [00:05<00:00, 18.99it/s]\n"
     ]
    },
    {
     "name": "stdout",
     "output_type": "stream",
     "text": [
      "intiating global state....\n",
      "calling init_images......\n",
      "Loading \"/home/bean/DragVideo/Data_store/experiments/2023-08-22_19-02-28_256_sg3_testing/tuned_SG/stylegan3_DXJXUMNORDAY.pkl\"... Done.\n",
      "()\n",
      "{'z_dim': 512, 'w_dim': 512, 'channel_base': 32768, 'channel_max': 1024, 'mapping_kwargs': {}, 'conv_kernel': 1, 'filter_size': 6, 'magnitude_ema_beta': 0.9977843871238888, 'output_scale': 0.25, 'c_dim': 0, 'img_resolution': 256, 'img_channels': 3, 'use_radial_filters': True}\n"
     ]
    },
    {
     "name": "stderr",
     "output_type": "stream",
     "text": [
      "100%|██████████| 100/100 [00:05<00:00, 19.02it/s]\n"
     ]
    },
    {
     "name": "stdout",
     "output_type": "stream",
     "text": [
      "intiating global state....\n",
      "calling init_images......\n",
      "Loading \"/home/bean/DragVideo/Data_store/experiments/2023-08-22_19-02-28_256_sg3_testing/tuned_SG/stylegan3_DXJXUMNORDAY.pkl\"... Done.\n",
      "()\n",
      "{'z_dim': 512, 'w_dim': 512, 'channel_base': 32768, 'channel_max': 1024, 'mapping_kwargs': {}, 'conv_kernel': 1, 'filter_size': 6, 'magnitude_ema_beta': 0.9977843871238888, 'output_scale': 0.25, 'c_dim': 0, 'img_resolution': 256, 'img_channels': 3, 'use_radial_filters': True}\n"
     ]
    },
    {
     "name": "stderr",
     "output_type": "stream",
     "text": [
      "100%|██████████| 100/100 [00:05<00:00, 18.98it/s]\n"
     ]
    },
    {
     "name": "stdout",
     "output_type": "stream",
     "text": [
      "intiating global state....\n",
      "calling init_images......\n",
      "Loading \"/home/bean/DragVideo/Data_store/experiments/2023-08-22_19-02-28_256_sg3_testing/tuned_SG/stylegan3_DXJXUMNORDAY.pkl\"... Done.\n",
      "()\n",
      "{'z_dim': 512, 'w_dim': 512, 'channel_base': 32768, 'channel_max': 1024, 'mapping_kwargs': {}, 'conv_kernel': 1, 'filter_size': 6, 'magnitude_ema_beta': 0.9977843871238888, 'output_scale': 0.25, 'c_dim': 0, 'img_resolution': 256, 'img_channels': 3, 'use_radial_filters': True}\n"
     ]
    },
    {
     "name": "stderr",
     "output_type": "stream",
     "text": [
      "100%|██████████| 100/100 [00:05<00:00, 18.87it/s]\n"
     ]
    },
    {
     "name": "stdout",
     "output_type": "stream",
     "text": [
      "intiating global state....\n",
      "calling init_images......\n",
      "Loading \"/home/bean/DragVideo/Data_store/experiments/2023-08-22_19-02-28_256_sg3_testing/tuned_SG/stylegan3_DXJXUMNORDAY.pkl\"... Done.\n",
      "()\n",
      "{'z_dim': 512, 'w_dim': 512, 'channel_base': 32768, 'channel_max': 1024, 'mapping_kwargs': {}, 'conv_kernel': 1, 'filter_size': 6, 'magnitude_ema_beta': 0.9977843871238888, 'output_scale': 0.25, 'c_dim': 0, 'img_resolution': 256, 'img_channels': 3, 'use_radial_filters': True}\n"
     ]
    },
    {
     "name": "stderr",
     "output_type": "stream",
     "text": [
      "100%|██████████| 100/100 [00:05<00:00, 18.72it/s]\n"
     ]
    },
    {
     "name": "stdout",
     "output_type": "stream",
     "text": [
      "intiating global state....\n",
      "calling init_images......\n",
      "Loading \"/home/bean/DragVideo/Data_store/experiments/2023-08-22_19-02-28_256_sg3_testing/tuned_SG/stylegan3_DXJXUMNORDAY.pkl\"... Done.\n",
      "()\n",
      "{'z_dim': 512, 'w_dim': 512, 'channel_base': 32768, 'channel_max': 1024, 'mapping_kwargs': {}, 'conv_kernel': 1, 'filter_size': 6, 'magnitude_ema_beta': 0.9977843871238888, 'output_scale': 0.25, 'c_dim': 0, 'img_resolution': 256, 'img_channels': 3, 'use_radial_filters': True}\n"
     ]
    },
    {
     "name": "stderr",
     "output_type": "stream",
     "text": [
      "100%|██████████| 100/100 [00:05<00:00, 17.86it/s]\n"
     ]
    },
    {
     "name": "stdout",
     "output_type": "stream",
     "text": [
      "intiating global state....\n",
      "calling init_images......\n",
      "Loading \"/home/bean/DragVideo/Data_store/experiments/2023-08-22_19-02-28_256_sg3_testing/tuned_SG/stylegan3_DXJXUMNORDAY.pkl\"... Done.\n",
      "()\n",
      "{'z_dim': 512, 'w_dim': 512, 'channel_base': 32768, 'channel_max': 1024, 'mapping_kwargs': {}, 'conv_kernel': 1, 'filter_size': 6, 'magnitude_ema_beta': 0.9977843871238888, 'output_scale': 0.25, 'c_dim': 0, 'img_resolution': 256, 'img_channels': 3, 'use_radial_filters': True}\n"
     ]
    },
    {
     "name": "stderr",
     "output_type": "stream",
     "text": [
      "100%|██████████| 100/100 [00:05<00:00, 17.69it/s]\n"
     ]
    },
    {
     "name": "stdout",
     "output_type": "stream",
     "text": [
      "intiating global state....\n",
      "calling init_images......\n",
      "Loading \"/home/bean/DragVideo/Data_store/experiments/2023-08-22_19-02-28_256_sg3_testing/tuned_SG/stylegan3_DXJXUMNORDAY.pkl\"... Done.\n",
      "()\n",
      "{'z_dim': 512, 'w_dim': 512, 'channel_base': 32768, 'channel_max': 1024, 'mapping_kwargs': {}, 'conv_kernel': 1, 'filter_size': 6, 'magnitude_ema_beta': 0.9977843871238888, 'output_scale': 0.25, 'c_dim': 0, 'img_resolution': 256, 'img_channels': 3, 'use_radial_filters': True}\n"
     ]
    },
    {
     "name": "stderr",
     "output_type": "stream",
     "text": [
      "100%|██████████| 100/100 [00:05<00:00, 17.71it/s]\n"
     ]
    },
    {
     "name": "stdout",
     "output_type": "stream",
     "text": [
      "intiating global state....\n",
      "calling init_images......\n",
      "Loading \"/home/bean/DragVideo/Data_store/experiments/2023-08-22_19-02-28_256_sg3_testing/tuned_SG/stylegan3_DXJXUMNORDAY.pkl\"... Done.\n",
      "()\n",
      "{'z_dim': 512, 'w_dim': 512, 'channel_base': 32768, 'channel_max': 1024, 'mapping_kwargs': {}, 'conv_kernel': 1, 'filter_size': 6, 'magnitude_ema_beta': 0.9977843871238888, 'output_scale': 0.25, 'c_dim': 0, 'img_resolution': 256, 'img_channels': 3, 'use_radial_filters': True}\n"
     ]
    },
    {
     "name": "stderr",
     "output_type": "stream",
     "text": [
      "100%|██████████| 100/100 [00:05<00:00, 17.16it/s]\n"
     ]
    },
    {
     "name": "stdout",
     "output_type": "stream",
     "text": [
      "intiating global state....\n",
      "calling init_images......\n",
      "Loading \"/home/bean/DragVideo/Data_store/experiments/2023-08-22_19-02-28_256_sg3_testing/tuned_SG/stylegan3_DXJXUMNORDAY.pkl\"... Done.\n",
      "()\n",
      "{'z_dim': 512, 'w_dim': 512, 'channel_base': 32768, 'channel_max': 1024, 'mapping_kwargs': {}, 'conv_kernel': 1, 'filter_size': 6, 'magnitude_ema_beta': 0.9977843871238888, 'output_scale': 0.25, 'c_dim': 0, 'img_resolution': 256, 'img_channels': 3, 'use_radial_filters': True}\n"
     ]
    },
    {
     "name": "stderr",
     "output_type": "stream",
     "text": [
      "100%|██████████| 100/100 [00:05<00:00, 16.71it/s]\n"
     ]
    },
    {
     "name": "stdout",
     "output_type": "stream",
     "text": [
      "intiating global state....\n",
      "calling init_images......\n",
      "Loading \"/home/bean/DragVideo/Data_store/experiments/2023-08-22_19-02-28_256_sg3_testing/tuned_SG/stylegan3_DXJXUMNORDAY.pkl\"... Done.\n",
      "()\n",
      "{'z_dim': 512, 'w_dim': 512, 'channel_base': 32768, 'channel_max': 1024, 'mapping_kwargs': {}, 'conv_kernel': 1, 'filter_size': 6, 'magnitude_ema_beta': 0.9977843871238888, 'output_scale': 0.25, 'c_dim': 0, 'img_resolution': 256, 'img_channels': 3, 'use_radial_filters': True}\n"
     ]
    },
    {
     "name": "stderr",
     "output_type": "stream",
     "text": [
      "100%|██████████| 100/100 [00:05<00:00, 17.46it/s]\n"
     ]
    },
    {
     "name": "stdout",
     "output_type": "stream",
     "text": [
      "intiating global state....\n",
      "calling init_images......\n",
      "Loading \"/home/bean/DragVideo/Data_store/experiments/2023-08-22_19-02-28_256_sg3_testing/tuned_SG/stylegan3_DXJXUMNORDAY.pkl\"... Done.\n",
      "()\n",
      "{'z_dim': 512, 'w_dim': 512, 'channel_base': 32768, 'channel_max': 1024, 'mapping_kwargs': {}, 'conv_kernel': 1, 'filter_size': 6, 'magnitude_ema_beta': 0.9977843871238888, 'output_scale': 0.25, 'c_dim': 0, 'img_resolution': 256, 'img_channels': 3, 'use_radial_filters': True}\n"
     ]
    },
    {
     "name": "stderr",
     "output_type": "stream",
     "text": [
      "100%|██████████| 100/100 [00:05<00:00, 17.77it/s]\n"
     ]
    },
    {
     "name": "stdout",
     "output_type": "stream",
     "text": [
      "intiating global state....\n",
      "calling init_images......\n",
      "Loading \"/home/bean/DragVideo/Data_store/experiments/2023-08-22_19-02-28_256_sg3_testing/tuned_SG/stylegan3_DXJXUMNORDAY.pkl\"... Done.\n",
      "()\n",
      "{'z_dim': 512, 'w_dim': 512, 'channel_base': 32768, 'channel_max': 1024, 'mapping_kwargs': {}, 'conv_kernel': 1, 'filter_size': 6, 'magnitude_ema_beta': 0.9977843871238888, 'output_scale': 0.25, 'c_dim': 0, 'img_resolution': 256, 'img_channels': 3, 'use_radial_filters': True}\n"
     ]
    },
    {
     "name": "stderr",
     "output_type": "stream",
     "text": [
      "100%|██████████| 100/100 [00:05<00:00, 18.18it/s]\n"
     ]
    },
    {
     "name": "stdout",
     "output_type": "stream",
     "text": [
      "intiating global state....\n",
      "calling init_images......\n",
      "Loading \"/home/bean/DragVideo/Data_store/experiments/2023-08-22_19-02-28_256_sg3_testing/tuned_SG/stylegan3_DXJXUMNORDAY.pkl\"... Done.\n",
      "()\n",
      "{'z_dim': 512, 'w_dim': 512, 'channel_base': 32768, 'channel_max': 1024, 'mapping_kwargs': {}, 'conv_kernel': 1, 'filter_size': 6, 'magnitude_ema_beta': 0.9977843871238888, 'output_scale': 0.25, 'c_dim': 0, 'img_resolution': 256, 'img_channels': 3, 'use_radial_filters': True}\n"
     ]
    },
    {
     "name": "stderr",
     "output_type": "stream",
     "text": [
      "100%|██████████| 100/100 [00:05<00:00, 18.22it/s]\n"
     ]
    },
    {
     "name": "stdout",
     "output_type": "stream",
     "text": [
      "intiating global state....\n",
      "calling init_images......\n",
      "Loading \"/home/bean/DragVideo/Data_store/experiments/2023-08-22_19-02-28_256_sg3_testing/tuned_SG/stylegan3_DXJXUMNORDAY.pkl\"... Done.\n",
      "()\n",
      "{'z_dim': 512, 'w_dim': 512, 'channel_base': 32768, 'channel_max': 1024, 'mapping_kwargs': {}, 'conv_kernel': 1, 'filter_size': 6, 'magnitude_ema_beta': 0.9977843871238888, 'output_scale': 0.25, 'c_dim': 0, 'img_resolution': 256, 'img_channels': 3, 'use_radial_filters': True}\n"
     ]
    },
    {
     "name": "stderr",
     "output_type": "stream",
     "text": [
      "100%|██████████| 100/100 [00:05<00:00, 17.76it/s]\n"
     ]
    },
    {
     "name": "stdout",
     "output_type": "stream",
     "text": [
      "intiating global state....\n",
      "calling init_images......\n",
      "Loading \"/home/bean/DragVideo/Data_store/experiments/2023-08-22_19-02-28_256_sg3_testing/tuned_SG/stylegan3_DXJXUMNORDAY.pkl\"... Done.\n",
      "()\n",
      "{'z_dim': 512, 'w_dim': 512, 'channel_base': 32768, 'channel_max': 1024, 'mapping_kwargs': {}, 'conv_kernel': 1, 'filter_size': 6, 'magnitude_ema_beta': 0.9977843871238888, 'output_scale': 0.25, 'c_dim': 0, 'img_resolution': 256, 'img_channels': 3, 'use_radial_filters': True}\n"
     ]
    },
    {
     "name": "stderr",
     "output_type": "stream",
     "text": [
      "100%|██████████| 100/100 [00:05<00:00, 18.16it/s]\n"
     ]
    },
    {
     "name": "stdout",
     "output_type": "stream",
     "text": [
      "intiating global state....\n",
      "calling init_images......\n",
      "Loading \"/home/bean/DragVideo/Data_store/experiments/2023-08-22_19-02-28_256_sg3_testing/tuned_SG/stylegan3_DXJXUMNORDAY.pkl\"... Done.\n",
      "()\n",
      "{'z_dim': 512, 'w_dim': 512, 'channel_base': 32768, 'channel_max': 1024, 'mapping_kwargs': {}, 'conv_kernel': 1, 'filter_size': 6, 'magnitude_ema_beta': 0.9977843871238888, 'output_scale': 0.25, 'c_dim': 0, 'img_resolution': 256, 'img_channels': 3, 'use_radial_filters': True}\n"
     ]
    },
    {
     "name": "stderr",
     "output_type": "stream",
     "text": [
      "100%|██████████| 100/100 [00:05<00:00, 18.25it/s]\n"
     ]
    },
    {
     "name": "stdout",
     "output_type": "stream",
     "text": [
      "intiating global state....\n",
      "calling init_images......\n",
      "Loading \"/home/bean/DragVideo/Data_store/experiments/2023-08-22_19-02-28_256_sg3_testing/tuned_SG/stylegan3_DXJXUMNORDAY.pkl\"... Done.\n",
      "()\n",
      "{'z_dim': 512, 'w_dim': 512, 'channel_base': 32768, 'channel_max': 1024, 'mapping_kwargs': {}, 'conv_kernel': 1, 'filter_size': 6, 'magnitude_ema_beta': 0.9977843871238888, 'output_scale': 0.25, 'c_dim': 0, 'img_resolution': 256, 'img_channels': 3, 'use_radial_filters': True}\n"
     ]
    },
    {
     "name": "stderr",
     "output_type": "stream",
     "text": [
      "100%|██████████| 100/100 [00:05<00:00, 18.15it/s]\n"
     ]
    },
    {
     "name": "stdout",
     "output_type": "stream",
     "text": [
      "intiating global state....\n",
      "calling init_images......\n",
      "Loading \"/home/bean/DragVideo/Data_store/experiments/2023-08-22_19-02-28_256_sg3_testing/tuned_SG/stylegan3_DXJXUMNORDAY.pkl\"... Done.\n",
      "()\n",
      "{'z_dim': 512, 'w_dim': 512, 'channel_base': 32768, 'channel_max': 1024, 'mapping_kwargs': {}, 'conv_kernel': 1, 'filter_size': 6, 'magnitude_ema_beta': 0.9977843871238888, 'output_scale': 0.25, 'c_dim': 0, 'img_resolution': 256, 'img_channels': 3, 'use_radial_filters': True}\n"
     ]
    },
    {
     "name": "stderr",
     "output_type": "stream",
     "text": [
      "100%|██████████| 100/100 [00:05<00:00, 17.85it/s]\n"
     ]
    },
    {
     "name": "stdout",
     "output_type": "stream",
     "text": [
      "intiating global state....\n",
      "calling init_images......\n",
      "Loading \"/home/bean/DragVideo/Data_store/experiments/2023-08-22_19-02-28_256_sg3_testing/tuned_SG/stylegan3_DXJXUMNORDAY.pkl\"... Done.\n",
      "()\n",
      "{'z_dim': 512, 'w_dim': 512, 'channel_base': 32768, 'channel_max': 1024, 'mapping_kwargs': {}, 'conv_kernel': 1, 'filter_size': 6, 'magnitude_ema_beta': 0.9977843871238888, 'output_scale': 0.25, 'c_dim': 0, 'img_resolution': 256, 'img_channels': 3, 'use_radial_filters': True}\n"
     ]
    },
    {
     "name": "stderr",
     "output_type": "stream",
     "text": [
      "100%|██████████| 100/100 [00:05<00:00, 18.10it/s]\n"
     ]
    },
    {
     "name": "stdout",
     "output_type": "stream",
     "text": [
      "intiating global state....\n",
      "calling init_images......\n",
      "Loading \"/home/bean/DragVideo/Data_store/experiments/2023-08-22_19-02-28_256_sg3_testing/tuned_SG/stylegan3_DXJXUMNORDAY.pkl\"... Done.\n",
      "()\n",
      "{'z_dim': 512, 'w_dim': 512, 'channel_base': 32768, 'channel_max': 1024, 'mapping_kwargs': {}, 'conv_kernel': 1, 'filter_size': 6, 'magnitude_ema_beta': 0.9977843871238888, 'output_scale': 0.25, 'c_dim': 0, 'img_resolution': 256, 'img_channels': 3, 'use_radial_filters': True}\n"
     ]
    },
    {
     "name": "stderr",
     "output_type": "stream",
     "text": [
      "100%|██████████| 100/100 [00:05<00:00, 18.08it/s]\n"
     ]
    },
    {
     "name": "stdout",
     "output_type": "stream",
     "text": [
      "intiating global state....\n",
      "calling init_images......\n",
      "Loading \"/home/bean/DragVideo/Data_store/experiments/2023-08-22_19-02-28_256_sg3_testing/tuned_SG/stylegan3_DXJXUMNORDAY.pkl\"... Done.\n",
      "()\n",
      "{'z_dim': 512, 'w_dim': 512, 'channel_base': 32768, 'channel_max': 1024, 'mapping_kwargs': {}, 'conv_kernel': 1, 'filter_size': 6, 'magnitude_ema_beta': 0.9977843871238888, 'output_scale': 0.25, 'c_dim': 0, 'img_resolution': 256, 'img_channels': 3, 'use_radial_filters': True}\n"
     ]
    },
    {
     "name": "stderr",
     "output_type": "stream",
     "text": [
      "100%|██████████| 100/100 [00:05<00:00, 18.19it/s]\n"
     ]
    },
    {
     "name": "stdout",
     "output_type": "stream",
     "text": [
      "Done!\n"
     ]
    },
    {
     "data": {
      "text/plain": [
       "0"
      ]
     },
     "execution_count": 11,
     "metadata": {},
     "output_type": "execute_result"
    }
   ],
   "source": [
    "# clean all data from gpu\n",
    "import torch\n",
    "torch.cuda.empty_cache()\n",
    "\n",
    "\n",
    "\n",
    "\n",
    "os.chdir(env_config[\"DragGAN_dir\"])\n",
    "import subprocess\n",
    "\n",
    "print(f\"sg_tuned_pkl: {sg_tuned_pkl}\")\n",
    "\n",
    "subprocess.call(['python', 'run_dragvideo.py',\n",
    "                 '--Experiment_path', Experiment_path,\n",
    "                 '--N_STEPS',       lazy_config[\"N_STEPS_in_draggan\"],\n",
    "                 '--CHECKPOINT_PATH', sg_tuned_pkl,\n",
    "                 \"--MAX_SIZE\",      str(lazy_config[\"IMAGE_SIZE\"]),\n",
    "                 \"--editing_function_name\",lazy_config[\"editing_function_name\"],\n",
    "])\n",
    "                #  \"--verbose\",       \"False\"])\n"
   ]
  },
  {
   "cell_type": "markdown",
   "metadata": {},
   "source": [
    "# post processing"
   ]
  },
  {
   "cell_type": "code",
   "execution_count": 12,
   "metadata": {},
   "outputs": [
    {
     "data": {
      "text/plain": [
       "'/home/bean/DragVideo/DragGAN'"
      ]
     },
     "execution_count": 12,
     "metadata": {},
     "output_type": "execute_result"
    }
   ],
   "source": [
    "import os\n",
    "from tqdm import tqdm\n",
    "os.getcwd()"
   ]
  },
  {
   "cell_type": "code",
   "execution_count": 13,
   "metadata": {},
   "outputs": [
    {
     "data": {
      "text/plain": [
       "<module 'utils.de_alignment' from '/home/bean/DragVideo/DragGAN/_PTI/utils/de_alignment.py'>"
      ]
     },
     "execution_count": 13,
     "metadata": {},
     "output_type": "execute_result"
    }
   ],
   "source": [
    "\n",
    "from utils import de_alignment \n",
    "put_back_the_edited_image = de_alignment.put_back_the_edited_image\n",
    "import importlib\n",
    "importlib.reload(de_alignment)"
   ]
  },
  {
   "cell_type": "code",
   "execution_count": 14,
   "metadata": {},
   "outputs": [],
   "source": [
    "# raw_image_path = \"/home/bean/DragVideo/Data_store/experiments/2023-08-18_03-45-37MAN_SPEAKING_QUAD_VALUES/raw/082.jpg\"\n",
    "# # aligned_image_path = \"/home/bean/DragVideo/Data_store/experiments/2023-08-18_03-45-37MAN_SPEAKING_QUAD_VALUES/aligned/000.jpg\"\n",
    "# aligned_image_path2 = \"/home/bean/DragVideo/Data_store/experiments/2023-08-18_03-45-37MAN_SPEAKING_QUAD_VALUES/aligned/082.jpg\"\n",
    "# quad = \"/home/bean/DragVideo/Data_store/experiments/2023-08-18_03-45-37MAN_SPEAKING_QUAD_VALUES/quad_values/082.pkl\""
   ]
  },
  {
   "cell_type": "code",
   "execution_count": 15,
   "metadata": {},
   "outputs": [],
   "source": [
    "# img = put_back_the_edited_image(raw_image_path,aligned_image_path2,quad,save_path='del.jpg',show=True)\n"
   ]
  },
  {
   "cell_type": "code",
   "execution_count": 16,
   "metadata": {},
   "outputs": [],
   "source": [
    "# to paste_edited faces back for a folder of images:\n",
    "\n",
    "# dir_path = \"/home/bean/DragVideo/Data_store/experiments/2023-08-16_02-03-44obama_60_frames_SAVE_____________\"\n",
    "\n",
    "\n",
    "def paste_edited_faces_back(dir_path,edited_dir='after_drag',save_dir='edit_pasted'):\n",
    "    raw_dir = os.path.join(dir_path,'raw')\n",
    "    edited_dir = os.path.join(dir_path,edited_dir)\n",
    "    quad_dir = os.path.join(dir_path,'quad_values')\n",
    "    save_dir = os.path.join(dir_path,save_dir)\n",
    "    if not os.path.exists(save_dir):\n",
    "        os.makedirs(save_dir)\n",
    "\n",
    "    # get names from edited_dir\n",
    "    names = [name.split('.')[0] for name in os.listdir(edited_dir)]\n",
    "    for name in tqdm(names):\n",
    "        raw_image = os.path.join(raw_dir,name+'.jpg')\n",
    "        edited_image = os.path.join(edited_dir,name+'.png')\n",
    "        quad_path = os.path.join(quad_dir,name+'.pkl')\n",
    "        save_path = os.path.join(save_dir,name+'.png')\n",
    "        put_back_the_edited_image(raw_image,edited_image,quad_path,save_path=save_path)\n"
   ]
  },
  {
   "cell_type": "code",
   "execution_count": 17,
   "metadata": {},
   "outputs": [
    {
     "name": "stderr",
     "output_type": "stream",
     "text": [
      "100%|██████████| 50/50 [00:07<00:00,  6.59it/s]\n"
     ]
    }
   ],
   "source": [
    "paste_edited_faces_back(Experiment_path,edited_dir=\"before_drag\",save_dir=\"before_drag_pasted\")"
   ]
  },
  {
   "cell_type": "code",
   "execution_count": 18,
   "metadata": {},
   "outputs": [
    {
     "name": "stderr",
     "output_type": "stream",
     "text": [
      "100%|██████████| 50/50 [00:07<00:00,  6.63it/s]\n"
     ]
    }
   ],
   "source": [
    "# dir_path = \"/home/bean/DragVideo/Data_store/man_speaking\"\n",
    "paste_edited_faces_back(Experiment_path)"
   ]
  },
  {
   "cell_type": "code",
   "execution_count": 19,
   "metadata": {},
   "outputs": [],
   "source": [
    "\n",
    "# temp_dir = os.path.join(Experiment_path,'before_drag_pasted')\n",
    "# video_utils.make_video(temp_dir,video_name=\"before_pasted_back\")"
   ]
  },
  {
   "cell_type": "code",
   "execution_count": 20,
   "metadata": {},
   "outputs": [],
   "source": [
    "\n",
    "\n",
    "# from importlib.machinery import SourceFileLoader\n",
    "# # imports the module from the given path\n",
    "# video_utils = SourceFileLoader(\"video_utils\",\"../utils_draggan/video_utils.py\").load_module()"
   ]
  },
  {
   "cell_type": "code",
   "execution_count": 21,
   "metadata": {},
   "outputs": [
    {
     "name": "stdout",
     "output_type": "stream",
     "text": [
      "avi file deleted\n",
      "avi file deleted\n"
     ]
    },
    {
     "name": "stderr",
     "output_type": "stream",
     "text": [
      "ffmpeg version 4.3 Copyright (c) 2000-2020 the FFmpeg developers\n",
      "  built with gcc 7.3.0 (crosstool-NG 1.23.0.449-a04d0)\n",
      "  configuration: --prefix=/opt/conda/conda-bld/ffmpeg_1597178665428/_h_env_placehold_placehold_placehold_placehold_placehold_placehold_placehold_placehold_placehold_placehold_placehold_placehold_placehold_placehold_placehold_placehold_placehold_placehold_placehold_placehold_placeh --cc=/opt/conda/conda-bld/ffmpeg_1597178665428/_build_env/bin/x86_64-conda_cos6-linux-gnu-cc --disable-doc --disable-openssl --enable-avresample --enable-gnutls --enable-hardcoded-tables --enable-libfreetype --enable-libopenh264 --enable-pic --enable-pthreads --enable-shared --disable-static --enable-version3 --enable-zlib --enable-libmp3lame\n",
      "  libavutil      56. 51.100 / 56. 51.100\n",
      "  libavcodec     58. 91.100 / 58. 91.100\n",
      "  libavformat    58. 45.100 / 58. 45.100\n",
      "  libavdevice    58. 10.100 / 58. 10.100\n",
      "  libavfilter     7. 85.100 /  7. 85.100\n",
      "  libavresample   4.  0.  0 /  4.  0.  0\n",
      "  libswscale      5.  7.100 /  5.  7.100\n",
      "  libswresample   3.  7.100 /  3.  7.100\n",
      "Input #0, avi, from '/home/bean/DragVideo/Data_store/experiments/2023-08-22_19-02-28_256_sg3_testing/edit_pasted/pasted_back.avi':\n",
      "  Metadata:\n",
      "    encoder         : Lavf59.27.100\n",
      "  Duration: 00:00:02.08, start: 0.000000, bitrate: 2479 kb/s\n",
      "    Stream #0:0: Video: mpeg4 (Simple Profile) (DIVX / 0x58564944), yuv420p, 1280x720 [SAR 1:1 DAR 16:9], 2502 kb/s, 24 fps, 24 tbr, 24 tbn, 24 tbc\n",
      "Stream mapping:\n",
      "  Stream #0:0 -> #0:0 (mpeg4 (native) -> mpeg4 (native))\n",
      "Press [q] to stop, [?] for help\n",
      "Output #0, mp4, to '/home/bean/DragVideo/Data_store/experiments/2023-08-22_19-02-28_256_sg3_testing/edit_pasted/pasted_back.mp4':\n",
      "  Metadata:\n",
      "    encoder         : Lavf58.45.100\n",
      "    Stream #0:0: Video: mpeg4 (mp4v / 0x7634706D), yuv420p, 1280x720 [SAR 1:1 DAR 16:9], q=2-31, 200 kb/s, 24 fps, 12288 tbn, 24 tbc\n",
      "    Metadata:\n",
      "      encoder         : Lavc58.91.100 mpeg4\n",
      "    Side data:\n",
      "      cpb: bitrate max/min/avg: 0/0/200000 buffer size: 0 vbv_delay: N/A\n",
      "frame=   50 fps=0.0 q=31.0 Lsize=     265kB time=00:00:02.04 bitrate=1063.9kbits/s speed=24.7x    \n",
      "video:264kB audio:0kB subtitle:0kB other streams:0kB global headers:0kB muxing overhead: 0.404165%\n"
     ]
    }
   ],
   "source": [
    "# dir_path = \"/home/bean/DragVideo/Data_store/experiments/2023-08-16_02-03-44obama_60_frames_SAVE_____________/edit_pasted\"\n",
    "# dir_path=\"/home/bean/DragVideo/Data_store/man_speaking/edit_pasted\"\n",
    "\n",
    "temp_dir = os.path.join(Experiment_path,'edit_pasted')\n",
    "video_utils.make_video(temp_dir,video_name=\"pasted_back\")"
   ]
  },
  {
   "cell_type": "code",
   "execution_count": 22,
   "metadata": {},
   "outputs": [],
   "source": [
    "# video_utils.video_side_by_side(\"/home/bean/DragVideo/Data_store/OLD/original_videos/obama.mp4\",\n",
    "# '/home/bean/DragVideo/Data_store/experiments/2023-08-16_02-03-44obama_60_frames_SAVE_____________/edit_pasted/pasted_back.mp4',\n",
    "# '/home/bean/DragVideo/Data_store/experiments/2023-08-16_02-03-44obama_60_frames_SAVE_____________/edit_pasted/obama_side_by_side')"
   ]
  },
  {
   "cell_type": "code",
   "execution_count": 23,
   "metadata": {},
   "outputs": [
    {
     "name": "stdout",
     "output_type": "stream",
     "text": [
      "Creating.../home/bean/DragVideo/Data_store/experiments/2023-08-22_19-02-28_256_sg3_testing/videos/000.jpg\n",
      "Creating.../home/bean/DragVideo/Data_store/experiments/2023-08-22_19-02-28_256_sg3_testing/videos/001.jpg\n",
      "Creating.../home/bean/DragVideo/Data_store/experiments/2023-08-22_19-02-28_256_sg3_testing/videos/002.jpg\n",
      "Creating.../home/bean/DragVideo/Data_store/experiments/2023-08-22_19-02-28_256_sg3_testing/videos/003.jpg\n",
      "Creating.../home/bean/DragVideo/Data_store/experiments/2023-08-22_19-02-28_256_sg3_testing/videos/004.jpg\n",
      "Creating.../home/bean/DragVideo/Data_store/experiments/2023-08-22_19-02-28_256_sg3_testing/videos/005.jpg\n"
     ]
    },
    {
     "name": "stdout",
     "output_type": "stream",
     "text": [
      "Creating.../home/bean/DragVideo/Data_store/experiments/2023-08-22_19-02-28_256_sg3_testing/videos/006.jpg\n",
      "Creating.../home/bean/DragVideo/Data_store/experiments/2023-08-22_19-02-28_256_sg3_testing/videos/007.jpg\n",
      "Creating.../home/bean/DragVideo/Data_store/experiments/2023-08-22_19-02-28_256_sg3_testing/videos/008.jpg\n",
      "Creating.../home/bean/DragVideo/Data_store/experiments/2023-08-22_19-02-28_256_sg3_testing/videos/009.jpg\n",
      "Creating.../home/bean/DragVideo/Data_store/experiments/2023-08-22_19-02-28_256_sg3_testing/videos/010.jpg\n",
      "Creating.../home/bean/DragVideo/Data_store/experiments/2023-08-22_19-02-28_256_sg3_testing/videos/011.jpg\n",
      "Creating.../home/bean/DragVideo/Data_store/experiments/2023-08-22_19-02-28_256_sg3_testing/videos/012.jpg\n",
      "Creating.../home/bean/DragVideo/Data_store/experiments/2023-08-22_19-02-28_256_sg3_testing/videos/013.jpg\n",
      "Creating.../home/bean/DragVideo/Data_store/experiments/2023-08-22_19-02-28_256_sg3_testing/videos/014.jpg\n",
      "Creating.../home/bean/DragVideo/Data_store/experiments/2023-08-22_19-02-28_256_sg3_testing/videos/015.jpg\n",
      "Creating.../home/bean/DragVideo/Data_store/experiments/2023-08-22_19-02-28_256_sg3_testing/videos/016.jpg\n",
      "Creating.../home/bean/DragVideo/Data_store/experiments/2023-08-22_19-02-28_256_sg3_testing/videos/017.jpg\n",
      "Creating.../home/bean/DragVideo/Data_store/experiments/2023-08-22_19-02-28_256_sg3_testing/videos/018.jpg\n",
      "Creating.../home/bean/DragVideo/Data_store/experiments/2023-08-22_19-02-28_256_sg3_testing/videos/019.jpg\n",
      "Creating.../home/bean/DragVideo/Data_store/experiments/2023-08-22_19-02-28_256_sg3_testing/videos/020.jpg\n",
      "Creating.../home/bean/DragVideo/Data_store/experiments/2023-08-22_19-02-28_256_sg3_testing/videos/021.jpg\n",
      "Creating.../home/bean/DragVideo/Data_store/experiments/2023-08-22_19-02-28_256_sg3_testing/videos/022.jpg\n",
      "Creating.../home/bean/DragVideo/Data_store/experiments/2023-08-22_19-02-28_256_sg3_testing/videos/023.jpg\n",
      "Creating.../home/bean/DragVideo/Data_store/experiments/2023-08-22_19-02-28_256_sg3_testing/videos/024.jpg\n",
      "Creating.../home/bean/DragVideo/Data_store/experiments/2023-08-22_19-02-28_256_sg3_testing/videos/025.jpg\n",
      "Creating.../home/bean/DragVideo/Data_store/experiments/2023-08-22_19-02-28_256_sg3_testing/videos/026.jpg\n",
      "Creating.../home/bean/DragVideo/Data_store/experiments/2023-08-22_19-02-28_256_sg3_testing/videos/027.jpg\n",
      "Creating.../home/bean/DragVideo/Data_store/experiments/2023-08-22_19-02-28_256_sg3_testing/videos/028.jpg\n",
      "Creating.../home/bean/DragVideo/Data_store/experiments/2023-08-22_19-02-28_256_sg3_testing/videos/029.jpg\n",
      "Creating.../home/bean/DragVideo/Data_store/experiments/2023-08-22_19-02-28_256_sg3_testing/videos/030.jpg\n",
      "Creating.../home/bean/DragVideo/Data_store/experiments/2023-08-22_19-02-28_256_sg3_testing/videos/031.jpg\n",
      "Creating.../home/bean/DragVideo/Data_store/experiments/2023-08-22_19-02-28_256_sg3_testing/videos/032.jpg\n",
      "Creating.../home/bean/DragVideo/Data_store/experiments/2023-08-22_19-02-28_256_sg3_testing/videos/033.jpg\n",
      "Creating.../home/bean/DragVideo/Data_store/experiments/2023-08-22_19-02-28_256_sg3_testing/videos/034.jpg\n",
      "Creating.../home/bean/DragVideo/Data_store/experiments/2023-08-22_19-02-28_256_sg3_testing/videos/035.jpg\n",
      "Creating.../home/bean/DragVideo/Data_store/experiments/2023-08-22_19-02-28_256_sg3_testing/videos/036.jpg\n",
      "Creating.../home/bean/DragVideo/Data_store/experiments/2023-08-22_19-02-28_256_sg3_testing/videos/037.jpg\n",
      "Creating.../home/bean/DragVideo/Data_store/experiments/2023-08-22_19-02-28_256_sg3_testing/videos/038.jpg\n",
      "Creating.../home/bean/DragVideo/Data_store/experiments/2023-08-22_19-02-28_256_sg3_testing/videos/039.jpg\n",
      "Creating.../home/bean/DragVideo/Data_store/experiments/2023-08-22_19-02-28_256_sg3_testing/videos/040.jpg\n",
      "Creating.../home/bean/DragVideo/Data_store/experiments/2023-08-22_19-02-28_256_sg3_testing/videos/041.jpg\n",
      "Creating.../home/bean/DragVideo/Data_store/experiments/2023-08-22_19-02-28_256_sg3_testing/videos/042.jpg\n",
      "Creating.../home/bean/DragVideo/Data_store/experiments/2023-08-22_19-02-28_256_sg3_testing/videos/043.jpg\n",
      "Creating.../home/bean/DragVideo/Data_store/experiments/2023-08-22_19-02-28_256_sg3_testing/videos/044.jpg\n",
      "Creating.../home/bean/DragVideo/Data_store/experiments/2023-08-22_19-02-28_256_sg3_testing/videos/045.jpg\n",
      "Creating.../home/bean/DragVideo/Data_store/experiments/2023-08-22_19-02-28_256_sg3_testing/videos/046.jpg\n",
      "Creating.../home/bean/DragVideo/Data_store/experiments/2023-08-22_19-02-28_256_sg3_testing/videos/047.jpg\n",
      "Creating.../home/bean/DragVideo/Data_store/experiments/2023-08-22_19-02-28_256_sg3_testing/videos/048.jpg\n",
      "Creating.../home/bean/DragVideo/Data_store/experiments/2023-08-22_19-02-28_256_sg3_testing/videos/049.jpg\n",
      "avi file deleted\n",
      "avi file deleted\n",
      "frames deleted\n"
     ]
    },
    {
     "name": "stderr",
     "output_type": "stream",
     "text": [
      "ffmpeg version 4.3 Copyright (c) 2000-2020 the FFmpeg developers\n",
      "  built with gcc 7.3.0 (crosstool-NG 1.23.0.449-a04d0)\n",
      "  configuration: --prefix=/opt/conda/conda-bld/ffmpeg_1597178665428/_h_env_placehold_placehold_placehold_placehold_placehold_placehold_placehold_placehold_placehold_placehold_placehold_placehold_placehold_placehold_placehold_placehold_placehold_placehold_placehold_placehold_placeh --cc=/opt/conda/conda-bld/ffmpeg_1597178665428/_build_env/bin/x86_64-conda_cos6-linux-gnu-cc --disable-doc --disable-openssl --enable-avresample --enable-gnutls --enable-hardcoded-tables --enable-libfreetype --enable-libopenh264 --enable-pic --enable-pthreads --enable-shared --disable-static --enable-version3 --enable-zlib --enable-libmp3lame\n",
      "  libavutil      56. 51.100 / 56. 51.100\n",
      "  libavcodec     58. 91.100 / 58. 91.100\n",
      "  libavformat    58. 45.100 / 58. 45.100\n",
      "  libavdevice    58. 10.100 / 58. 10.100\n",
      "  libavfilter     7. 85.100 /  7. 85.100\n",
      "  libavresample   4.  0.  0 /  4.  0.  0\n",
      "  libswscale      5.  7.100 /  5.  7.100\n",
      "  libswresample   3.  7.100 /  3.  7.100\n",
      "Input #0, avi, from '/home/bean/DragVideo/Data_store/experiments/2023-08-22_19-02-28_256_sg3_testing/videos/micheal_friendzone_pasted_back_s2s.avi':\n",
      "  Metadata:\n",
      "    encoder         : Lavf59.27.100\n",
      "  Duration: 00:00:02.08, start: 0.000000, bitrate: 3108 kb/s\n",
      "    Stream #0:0: Video: mpeg4 (Simple Profile) (DIVX / 0x58564944), yuv420p, 2560x720 [SAR 1:1 DAR 32:9], 3135 kb/s, 24 fps, 24 tbr, 24 tbn, 24 tbc\n",
      "Stream mapping:\n",
      "  Stream #0:0 -> #0:0 (mpeg4 (native) -> mpeg4 (native))\n",
      "Press [q] to stop, [?] for help\n",
      "Output #0, mp4, to '/home/bean/DragVideo/Data_store/experiments/2023-08-22_19-02-28_256_sg3_testing/videos/micheal_friendzone_pasted_back_s2s.mp4':\n",
      "  Metadata:\n",
      "    encoder         : Lavf58.45.100\n",
      "    Stream #0:0: Video: mpeg4 (mp4v / 0x7634706D), yuv420p, 2560x720 [SAR 1:1 DAR 32:9], q=2-31, 200 kb/s, 24 fps, 12288 tbn, 24 tbc\n",
      "    Metadata:\n",
      "      encoder         : Lavc58.91.100 mpeg4\n",
      "    Side data:\n",
      "      cpb: bitrate max/min/avg: 0/0/200000 buffer size: 0 vbv_delay: N/A\n",
      "frame=   50 fps=0.0 q=31.0 Lsize=     615kB time=00:00:02.04 bitrate=2469.2kbits/s speed=12.4x    \n",
      "video:614kB audio:0kB subtitle:0kB other streams:0kB global headers:0kB muxing overhead: 0.173742%\n"
     ]
    }
   ],
   "source": [
    "v2 = os.path.join(Experiment_path,\"edit_pasted\",\"pasted_back.mp4\")\n",
    "v1 = lazy_config['video_path']\n",
    "v3 = os.path.join(Experiment_path,\"videos\")#\"/home/bean/DragVideo/Data_store/experiments/2023-08-20_00-49-31mirrAR_200_frames/videos\"\n",
    "video_utils.video_side_by_side(v1,v2,v3)"
   ]
  },
  {
   "cell_type": "code",
   "execution_count": 24,
   "metadata": {},
   "outputs": [],
   "source": [
    "# video_path=\"/home/bean/DragVideo/Data_store/OLD/original_videos/man_results/man_124_edited.mp4\" # need 124 frames \n",
    "# output_path=\"/home/bean/DragVideo/Data_store/man_speaking/after_drag\""
   ]
  },
  {
   "cell_type": "code",
   "execution_count": 25,
   "metadata": {},
   "outputs": [],
   "source": [
    "# video_utils.extract_frames(video_path, output_path)# n_frames=1000, n_digits_in_name=5)"
   ]
  },
  {
   "cell_type": "markdown",
   "metadata": {},
   "source": [
    "# extras\n"
   ]
  },
  {
   "cell_type": "code",
   "execution_count": 26,
   "metadata": {},
   "outputs": [],
   "source": [
    "# path = \"/home/bean/DragVideo/Data_store/experiments/_SAVE_vsauce_frnd_120_frames_wide_nose/edit_pasted/000.png\"\n",
    "\n",
    "# from PIL import Image\n",
    "# import numpy as np\n",
    "# # open this image as it is. and check if it has a alpha channel\n",
    "# img = Image.open(path)\n",
    "# # img = img.convert(\"RGBA\")\n",
    "# img = np.array(img)\n",
    "# print(img.shape)\n"
   ]
  },
  {
   "cell_type": "code",
   "execution_count": null,
   "metadata": {},
   "outputs": [],
   "source": []
  }
 ],
 "metadata": {
  "kernelspec": {
   "display_name": "stylegan3",
   "language": "python",
   "name": "python3"
  },
  "language_info": {
   "codemirror_mode": {
    "name": "ipython",
    "version": 3
   },
   "file_extension": ".py",
   "mimetype": "text/x-python",
   "name": "python",
   "nbconvert_exporter": "python",
   "pygments_lexer": "ipython3",
   "version": "3.9.17"
  },
  "orig_nbformat": 4
 },
 "nbformat": 4,
 "nbformat_minor": 2
}
