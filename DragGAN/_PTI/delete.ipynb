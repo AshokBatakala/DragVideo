{
 "cells": [
  {
   "cell_type": "code",
   "execution_count": 1,
   "metadata": {},
   "outputs": [],
   "source": [
    "# ==================================================================================================\n",
    "#                   instructions to run \n",
    "# ==================================================================================================\n",
    "\n",
    "# INSTRUCTIONS TO RUN :\n",
    "\n",
    "# Use “bold ganguly” container  then use conda env pti_env  for all the code.\n",
    "# Tested; working with sg2 and sg3 also. \n",
    "\n",
    "# conda activate /home/bean/DragVideo/env/pti_env\n",
    "\n",
    "\n",
    "# ==================================================================================================\n",
    "# run on gpu:1\n",
    "# import os\n",
    "# os.environ[\"CUDA_DEVICE_ORDER\"] = \"PCI_BUS_ID\"\n",
    "# os.environ[\"CUDA_VISIBLE_DEVICES\"] = \"0\"\n",
    "\n",
    "# ==== IMP ==================================================================\n",
    "#  this import is must to avoid the error\n",
    "# RuntimeError: GET was unable to find an engine to execute this computation\n",
    "import torch \n",
    "# ============================================================================\n",
    "\n",
    "# # torch.cuda.is_available()\n",
    "# print(torch.cuda.device_count())\n",
    "# print(torch.__version__)\n",
    "\n",
    "\n",
    "# why this is not working\n",
    "# os.environ[\"CUDA_VISIBLE_DEVICES\"] = \"0,1\"\n",
    "# --------------------------------  configs   ------------------------------------------------\n",
    "\n",
    "# DRAGVIDEO_ROOT_PATH = \"/Ext_4T_SSD/ASHOK/\"\n",
    "DRAGVIDEO_ROOT_PATH = \"/home/bean/\"\n",
    "EXPERIMENT_NAME_POSTFIX = \"test\"#\"aligned_sg3_&_new_e4e_reconstruction_invstep_200_pti_step_450\"\n",
    "\n",
    "# keep temp paths here\n",
    "#---------------------------------\n",
    "sg3_path = f\"{DRAGVIDEO_ROOT_PATH}DragVideo/Data_store/OLD/model_weights/stylegan3_3rdtime_weights/stylegan3-r-ffhqu-1024_module.pkl\"\n",
    "#defualt path ::  \"stylegan2_ada_ffhq\":  f\"{DRAGVIDEO_ROOT_PATH}DragVideo/DragGAN/_PTI/pretrained_models/ffhq.pkl\",\n",
    "\n",
    "# sg3_path = f\"{DRAGVIDEO_ROOT_PATH}DragVideo/DragGAN/_PTI/pretrained_models/ffhq.pkl\"\n",
    "sg3_aligned = f\"{DRAGVIDEO_ROOT_PATH}DragVideo/Data_store/OLD/model_weights/stylegan3_3rdtime_weights/stylegan3-r-ffhq-1024_module.pkl\"\n",
    "\n",
    "\n",
    "new_e4e = f\"{DRAGVIDEO_ROOT_PATH}DragVideo/Data_store/OLD/model_weights/restyle_e4e_ffhq.pt\"\n",
    "old_e4e_with_pti = f\"{DRAGVIDEO_ROOT_PATH}DragVideo/DragGAN/_PTI/pretrained_models/e4e_ffhq_encode.pt\",\n",
    "\n",
    "# --------------------------------  \n",
    "\n",
    "import datetime\n",
    "lazy_config = {\n",
    "    \"EXP_NAME\": str(datetime.datetime.now().strftime(\"%Y-%m-%d_%H-%M-%S\"))+EXPERIMENT_NAME_POSTFIX,\n",
    "    \"e4e\": new_e4e,\n",
    "    \"stylegan2_ada_ffhq\":  sg3_aligned,\n",
    "    \"video_path\":  f\"{DRAGVIDEO_ROOT_PATH}DragVideo/Data_store/OLD/original_videos/person_speaking_original.mp4\",\n",
    "    \"model_name\" : \"stylegan3\", # stylegan2 or stylegan3\n",
    "    \"n_frames\" : 10,\n",
    "    \"IMAGE_SIZE\": 1024,\n",
    "    \"N_STEPS_in_draggan\": \"1\",\n",
    "    \n",
    "}\n",
    "\n",
    "env_config = {\n",
    "    \"DragGAN_dir\": f\"{DRAGVIDEO_ROOT_PATH}DragVideo/DragGAN\",\n",
    "    \"Experiment_base_path\":f\"{DRAGVIDEO_ROOT_PATH}DragVideo/Data_store/experiments/\" ,\n",
    "    \"init_exp_dir_shell_path\": f\"{DRAGVIDEO_ROOT_PATH}DragVideo/DragGAN/_PTI/init_datadirs.sh\",\n",
    "    \"dummy_config_path\" : f\"{DRAGVIDEO_ROOT_PATH}DragVideo/DragGAN/_PTI/configs/dummy\",\n",
    "    \n",
    "    \n",
    "}\n",
    "\n",
    "#hyper parameters in PTI\n",
    "hyper_config = {\n",
    "    \"max_pti_steps\": 450,\n",
    "    \"first_inv_steps\": 200,\n",
    "    \"max_images_to_invert\": 200,\n",
    "}\n",
    "\n",
    "\n",
    "# ----------------------------------------------------------------------------------------------\n",
    "\n",
    "from run_utils import *\n",
    "\n",
    "# create experiment data folder structure\n",
    "Experiment_name = lazy_config[\"EXP_NAME\"]\n",
    "Experiment_base_path = env_config[\"Experiment_base_path\"]\n",
    "Experiment_path = os.path.join(Experiment_base_path, Experiment_name)\n",
    "\n",
    "init_experiment_dir(Experiment_name,Experiment_base_path,shell_script_path=env_config[\"init_exp_dir_shell_path\"])\n",
    "\n",
    "\n",
    "\n",
    "# dummy paths_config overwrites the paths_config.py\n",
    "# dummy_config_path = f\"{DRAGVIDEO_ROOT_PATH}DragVideo/DragGAN/_PTI/configs/dummy'\n",
    "add_dummy_config_from_dict(\"hyperparameters.py\", hyper_config,ROOT_PATH=env_config[\"dummy_config_path\"])\n",
    "\n",
    "# change path configs , hyperparameters \n",
    "paths_config_dict = {\n",
    "    #pretrained models\n",
    "    \"e4e\": lazy_config[\"e4e\"],\n",
    "    \"stylegan2_ada_ffhq\": lazy_config[\"stylegan2_ada_ffhq\"],\n",
    "    \n",
    "    # to store tuned stylegan weights\n",
    "    \"checkpoints_dir\": os.path.join(Experiment_path,'tuned_SG'),\n",
    "    # to store latents\n",
    "    \"embedding_base_dir\": os.path.join(Experiment_path,'latents'),\n",
    "    # aligned / processed images\n",
    "    \"input_data_path\": os.path.join(Experiment_path,'aligned'),\n",
    "}\n",
    "\n",
    "add_dummy_config_from_dict(\"paths_config.py\", paths_config_dict,ROOT_PATH=env_config[\"dummy_config_path\"])\n",
    "\n",
    "\n",
    "\n",
    "# add all these configs to log.txt\n",
    "# --------------------------------  \n",
    "with open(os.path.join(Experiment_path,'log.txt'), 'a') as f:\n",
    "    import json\n",
    "    f.write(f\"lazy_config: {json.dumps(lazy_config, indent=4)}\\n\")\n",
    "    f.write(f\"env_config: {json.dumps(env_config, indent=4)}\\n\")\n",
    "    f.write(f\"hyper_config: {json.dumps(hyper_config, indent=4)}\\n\")\n",
    "    \n",
    "    \n"
   ]
  },
  {
   "cell_type": "code",
   "execution_count": 2,
   "metadata": {},
   "outputs": [
    {
     "ename": "AttributeError",
     "evalue": "module 'cv2.dnn' has no attribute 'DictValue'",
     "output_type": "error",
     "traceback": [
      "\u001b[0;31m---------------------------------------------------------------------------\u001b[0m",
      "\u001b[0;31mAttributeError\u001b[0m                            Traceback (most recent call last)",
      "Cell \u001b[0;32mIn[2], line 4\u001b[0m\n\u001b[1;32m      2\u001b[0m \u001b[39m# imports the module from the given \u001b[39;00m\n\u001b[1;32m      3\u001b[0m video_util_path \u001b[39m=\u001b[39m \u001b[39mf\u001b[39m\u001b[39m\"\u001b[39m\u001b[39m{\u001b[39;00mDRAGVIDEO_ROOT_PATH\u001b[39m}\u001b[39;00m\u001b[39mDragVideo/DragGAN/utils_draggan/video_utils.py\u001b[39m\u001b[39m\"\u001b[39m\n\u001b[0;32m----> 4\u001b[0m video_utils \u001b[39m=\u001b[39m SourceFileLoader(\u001b[39m\"\u001b[39;49m\u001b[39mvideo_utils\u001b[39;49m\u001b[39m\"\u001b[39;49m,video_util_path)\u001b[39m.\u001b[39;49mload_module()\n\u001b[1;32m      5\u001b[0m raw_path \u001b[39m=\u001b[39m os\u001b[39m.\u001b[39mpath\u001b[39m.\u001b[39mjoin(Experiment_path, \u001b[39m\"\u001b[39m\u001b[39mraw\u001b[39m\u001b[39m\"\u001b[39m)\n\u001b[1;32m      6\u001b[0m \u001b[39mfrom\u001b[39;00m \u001b[39mutils\u001b[39;00m\u001b[39m.\u001b[39;00m\u001b[39malign_data\u001b[39;00m \u001b[39mimport\u001b[39;00m pre_process_images\n",
      "File \u001b[0;32m<frozen importlib._bootstrap_external>:548\u001b[0m, in \u001b[0;36m_check_name_wrapper\u001b[0;34m(self, name, *args, **kwargs)\u001b[0m\n",
      "File \u001b[0;32m<frozen importlib._bootstrap_external>:1063\u001b[0m, in \u001b[0;36mload_module\u001b[0;34m(self, fullname)\u001b[0m\n",
      "File \u001b[0;32m<frozen importlib._bootstrap_external>:888\u001b[0m, in \u001b[0;36mload_module\u001b[0;34m(self, fullname)\u001b[0m\n",
      "File \u001b[0;32m<frozen importlib._bootstrap>:290\u001b[0m, in \u001b[0;36m_load_module_shim\u001b[0;34m(self, fullname)\u001b[0m\n",
      "File \u001b[0;32m<frozen importlib._bootstrap>:719\u001b[0m, in \u001b[0;36m_load\u001b[0;34m(spec)\u001b[0m\n",
      "File \u001b[0;32m<frozen importlib._bootstrap>:688\u001b[0m, in \u001b[0;36m_load_unlocked\u001b[0;34m(spec)\u001b[0m\n",
      "File \u001b[0;32m<frozen importlib._bootstrap_external>:883\u001b[0m, in \u001b[0;36mexec_module\u001b[0;34m(self, module)\u001b[0m\n",
      "File \u001b[0;32m<frozen importlib._bootstrap>:241\u001b[0m, in \u001b[0;36m_call_with_frames_removed\u001b[0;34m(f, *args, **kwds)\u001b[0m\n",
      "File \u001b[0;32m/home/bean/DragVideo/DragGAN/utils_draggan/video_utils.py:6\u001b[0m\n\u001b[1;32m      4\u001b[0m \u001b[39mfrom\u001b[39;00m \u001b[39mPIL\u001b[39;00m \u001b[39mimport\u001b[39;00m Image\n\u001b[1;32m      5\u001b[0m \u001b[39mimport\u001b[39;00m \u001b[39mos\u001b[39;00m\n\u001b[0;32m----> 6\u001b[0m \u001b[39mimport\u001b[39;00m \u001b[39mcv2\u001b[39;00m\n\u001b[1;32m      7\u001b[0m \u001b[39mimport\u001b[39;00m \u001b[39mmatplotlib\u001b[39;00m\u001b[39m.\u001b[39;00m\u001b[39mpyplot\u001b[39;00m \u001b[39mas\u001b[39;00m \u001b[39mplt\u001b[39;00m\n\u001b[1;32m     10\u001b[0m \u001b[39m#===============================================\u001b[39;00m\n\u001b[1;32m     11\u001b[0m \u001b[39m# make GIF \u001b[39;00m\n\u001b[1;32m     12\u001b[0m \u001b[39m#===============================================\u001b[39;00m\n",
      "File \u001b[0;32m/usr/local/lib/python3.10/dist-packages/cv2/__init__.py:181\u001b[0m\n\u001b[1;32m    176\u001b[0m             \u001b[39mif\u001b[39;00m DEBUG: \u001b[39mprint\u001b[39m(\u001b[39m\"\u001b[39m\u001b[39mExtra Python code for\u001b[39m\u001b[39m\"\u001b[39m, submodule, \u001b[39m\"\u001b[39m\u001b[39mis loaded\u001b[39m\u001b[39m\"\u001b[39m)\n\u001b[1;32m    178\u001b[0m     \u001b[39mif\u001b[39;00m DEBUG: \u001b[39mprint\u001b[39m(\u001b[39m'\u001b[39m\u001b[39mOpenCV loader: DONE\u001b[39m\u001b[39m'\u001b[39m)\n\u001b[0;32m--> 181\u001b[0m bootstrap()\n",
      "File \u001b[0;32m/usr/local/lib/python3.10/dist-packages/cv2/__init__.py:175\u001b[0m, in \u001b[0;36mbootstrap\u001b[0;34m()\u001b[0m\n\u001b[1;32m    172\u001b[0m \u001b[39mif\u001b[39;00m DEBUG: \u001b[39mprint\u001b[39m(\u001b[39m'\u001b[39m\u001b[39mOpenCV loader: binary extension... OK\u001b[39m\u001b[39m'\u001b[39m)\n\u001b[1;32m    174\u001b[0m \u001b[39mfor\u001b[39;00m submodule \u001b[39min\u001b[39;00m __collect_extra_submodules(DEBUG):\n\u001b[0;32m--> 175\u001b[0m     \u001b[39mif\u001b[39;00m __load_extra_py_code_for_module(\u001b[39m\"\u001b[39;49m\u001b[39mcv2\u001b[39;49m\u001b[39m\"\u001b[39;49m, submodule, DEBUG):\n\u001b[1;32m    176\u001b[0m         \u001b[39mif\u001b[39;00m DEBUG: \u001b[39mprint\u001b[39m(\u001b[39m\"\u001b[39m\u001b[39mExtra Python code for\u001b[39m\u001b[39m\"\u001b[39m, submodule, \u001b[39m\"\u001b[39m\u001b[39mis loaded\u001b[39m\u001b[39m\"\u001b[39m)\n\u001b[1;32m    178\u001b[0m \u001b[39mif\u001b[39;00m DEBUG: \u001b[39mprint\u001b[39m(\u001b[39m'\u001b[39m\u001b[39mOpenCV loader: DONE\u001b[39m\u001b[39m'\u001b[39m)\n",
      "File \u001b[0;32m/usr/local/lib/python3.10/dist-packages/cv2/__init__.py:28\u001b[0m, in \u001b[0;36m__load_extra_py_code_for_module\u001b[0;34m(base, name, enable_debug_print)\u001b[0m\n\u001b[1;32m     26\u001b[0m native_module \u001b[39m=\u001b[39m sys\u001b[39m.\u001b[39mmodules\u001b[39m.\u001b[39mpop(module_name, \u001b[39mNone\u001b[39;00m)\n\u001b[1;32m     27\u001b[0m \u001b[39mtry\u001b[39;00m:\n\u001b[0;32m---> 28\u001b[0m     py_module \u001b[39m=\u001b[39m importlib\u001b[39m.\u001b[39;49mimport_module(module_name)\n\u001b[1;32m     29\u001b[0m \u001b[39mexcept\u001b[39;00m \u001b[39mImportError\u001b[39;00m \u001b[39mas\u001b[39;00m err:\n\u001b[1;32m     30\u001b[0m     \u001b[39mif\u001b[39;00m enable_debug_print:\n",
      "File \u001b[0;32m/usr/lib/python3.10/importlib/__init__.py:126\u001b[0m, in \u001b[0;36mimport_module\u001b[0;34m(name, package)\u001b[0m\n\u001b[1;32m    124\u001b[0m             \u001b[39mbreak\u001b[39;00m\n\u001b[1;32m    125\u001b[0m         level \u001b[39m+\u001b[39m\u001b[39m=\u001b[39m \u001b[39m1\u001b[39m\n\u001b[0;32m--> 126\u001b[0m \u001b[39mreturn\u001b[39;00m _bootstrap\u001b[39m.\u001b[39;49m_gcd_import(name[level:], package, level)\n",
      "File \u001b[0;32m/usr/local/lib/python3.10/dist-packages/cv2/typing/__init__.py:169\u001b[0m\n\u001b[1;32m    167\u001b[0m ExtractArgsCallback \u001b[39m=\u001b[39m typing\u001b[39m.\u001b[39mCallable[[typing\u001b[39m.\u001b[39mSequence[GTypeInfo]], typing\u001b[39m.\u001b[39mSequence[GRunArg]]\n\u001b[1;32m    168\u001b[0m ExtractMetaCallback \u001b[39m=\u001b[39m typing\u001b[39m.\u001b[39mCallable[[typing\u001b[39m.\u001b[39mSequence[GTypeInfo]], typing\u001b[39m.\u001b[39mSequence[GMetaArg]]\n\u001b[0;32m--> 169\u001b[0m LayerId \u001b[39m=\u001b[39m cv2\u001b[39m.\u001b[39;49mdnn\u001b[39m.\u001b[39;49mDictValue\n\u001b[1;32m    170\u001b[0m IndexParams \u001b[39m=\u001b[39m typing\u001b[39m.\u001b[39mDict[\u001b[39mstr\u001b[39m, typing\u001b[39m.\u001b[39mUnion[\u001b[39mbool\u001b[39m, \u001b[39mint\u001b[39m, \u001b[39mfloat\u001b[39m, \u001b[39mstr\u001b[39m]]\n\u001b[1;32m    171\u001b[0m SearchParams \u001b[39m=\u001b[39m typing\u001b[39m.\u001b[39mDict[\u001b[39mstr\u001b[39m, typing\u001b[39m.\u001b[39mUnion[\u001b[39mbool\u001b[39m, \u001b[39mint\u001b[39m, \u001b[39mfloat\u001b[39m, \u001b[39mstr\u001b[39m]]\n",
      "\u001b[0;31mAttributeError\u001b[0m: module 'cv2.dnn' has no attribute 'DictValue'"
     ]
    }
   ],
   "source": [
    "\n",
    "\n",
    "\n",
    "from importlib.machinery import SourceFileLoader\n",
    "# imports the module from the given \n",
    "video_util_path = f\"{DRAGVIDEO_ROOT_PATH}DragVideo/DragGAN/utils_draggan/video_utils.py\"\n",
    "video_utils = SourceFileLoader(\"video_utils\",video_util_path).load_module()\n",
    "raw_path = os.path.join(Experiment_path, \"raw\")\n",
    "from utils.align_data import pre_process_images\n",
    "\n",
    "video_utils.extract_frames(lazy_config['video_path'], raw_path,n_frames=lazy_config['n_frames'])\n",
    "\n",
    "pre_process_images(raw_path, IMAGE_SIZE=lazy_config['IMAGE_SIZE']) # o/p: config.input_data_path \n",
    "\n",
    "\n"
   ]
  },
  {
   "cell_type": "code",
   "execution_count": null,
   "metadata": {},
   "outputs": [],
   "source": [
    "import cv2\n",
    "video_path = lazy_config['video_path']\n",
    "cam = cv2.VideoCapture(video_path)\n"
   ]
  },
  {
   "cell_type": "code",
   "execution_count": null,
   "metadata": {},
   "outputs": [
    {
     "data": {
      "text/plain": [
       "'/home/bean/DragVideo/Data_store/OLD/original_videos/person_speaking_original.mp4'"
      ]
     },
     "execution_count": 9,
     "metadata": {},
     "output_type": "execute_result"
    }
   ],
   "source": [
    "# n frames in the video\n",
    "n_frames = int(cam.get(cv2.CAP_PROP_FRAME_COUNT))\n",
    "n_frames # giving 0 why? #a: because the video is not opened yet\n",
    "video_path"
   ]
  },
  {
   "cell_type": "code",
   "execution_count": null,
   "metadata": {},
   "outputs": [
    {
     "ename": "AttributeError",
     "evalue": "module 'cv2.dnn' has no attribute 'DictValue'",
     "output_type": "error",
     "traceback": [
      "\u001b[0;31m---------------------------------------------------------------------------\u001b[0m",
      "\u001b[0;31mAttributeError\u001b[0m                            Traceback (most recent call last)",
      "Cell \u001b[0;32mIn[1], line 3\u001b[0m\n\u001b[1;32m      1\u001b[0m \u001b[39m# extract frames in video \u001b[39;00m\n\u001b[1;32m      2\u001b[0m path \u001b[39m=\u001b[39m \u001b[39m\"\u001b[39m\u001b[39m/home/bean/DragVideo/Data_store/OLD/original_videos/person_speaking_original.mp4\u001b[39m\u001b[39m\"\u001b[39m\n\u001b[0;32m----> 3\u001b[0m \u001b[39mimport\u001b[39;00m \u001b[39mcv2\u001b[39;00m\n\u001b[1;32m      4\u001b[0m \u001b[39mimport\u001b[39;00m \u001b[39mos\u001b[39;00m\n\u001b[1;32m      5\u001b[0m cam \u001b[39m=\u001b[39m cv2\u001b[39m.\u001b[39mVideoCapture(path)\n",
      "File \u001b[0;32m/usr/local/lib/python3.10/dist-packages/cv2/__init__.py:181\u001b[0m\n\u001b[1;32m    176\u001b[0m             \u001b[39mif\u001b[39;00m DEBUG: \u001b[39mprint\u001b[39m(\u001b[39m\"\u001b[39m\u001b[39mExtra Python code for\u001b[39m\u001b[39m\"\u001b[39m, submodule, \u001b[39m\"\u001b[39m\u001b[39mis loaded\u001b[39m\u001b[39m\"\u001b[39m)\n\u001b[1;32m    178\u001b[0m     \u001b[39mif\u001b[39;00m DEBUG: \u001b[39mprint\u001b[39m(\u001b[39m'\u001b[39m\u001b[39mOpenCV loader: DONE\u001b[39m\u001b[39m'\u001b[39m)\n\u001b[0;32m--> 181\u001b[0m bootstrap()\n",
      "File \u001b[0;32m/usr/local/lib/python3.10/dist-packages/cv2/__init__.py:175\u001b[0m, in \u001b[0;36mbootstrap\u001b[0;34m()\u001b[0m\n\u001b[1;32m    172\u001b[0m \u001b[39mif\u001b[39;00m DEBUG: \u001b[39mprint\u001b[39m(\u001b[39m'\u001b[39m\u001b[39mOpenCV loader: binary extension... OK\u001b[39m\u001b[39m'\u001b[39m)\n\u001b[1;32m    174\u001b[0m \u001b[39mfor\u001b[39;00m submodule \u001b[39min\u001b[39;00m __collect_extra_submodules(DEBUG):\n\u001b[0;32m--> 175\u001b[0m     \u001b[39mif\u001b[39;00m __load_extra_py_code_for_module(\u001b[39m\"\u001b[39;49m\u001b[39mcv2\u001b[39;49m\u001b[39m\"\u001b[39;49m, submodule, DEBUG):\n\u001b[1;32m    176\u001b[0m         \u001b[39mif\u001b[39;00m DEBUG: \u001b[39mprint\u001b[39m(\u001b[39m\"\u001b[39m\u001b[39mExtra Python code for\u001b[39m\u001b[39m\"\u001b[39m, submodule, \u001b[39m\"\u001b[39m\u001b[39mis loaded\u001b[39m\u001b[39m\"\u001b[39m)\n\u001b[1;32m    178\u001b[0m \u001b[39mif\u001b[39;00m DEBUG: \u001b[39mprint\u001b[39m(\u001b[39m'\u001b[39m\u001b[39mOpenCV loader: DONE\u001b[39m\u001b[39m'\u001b[39m)\n",
      "File \u001b[0;32m/usr/local/lib/python3.10/dist-packages/cv2/__init__.py:28\u001b[0m, in \u001b[0;36m__load_extra_py_code_for_module\u001b[0;34m(base, name, enable_debug_print)\u001b[0m\n\u001b[1;32m     26\u001b[0m native_module \u001b[39m=\u001b[39m sys\u001b[39m.\u001b[39mmodules\u001b[39m.\u001b[39mpop(module_name, \u001b[39mNone\u001b[39;00m)\n\u001b[1;32m     27\u001b[0m \u001b[39mtry\u001b[39;00m:\n\u001b[0;32m---> 28\u001b[0m     py_module \u001b[39m=\u001b[39m importlib\u001b[39m.\u001b[39;49mimport_module(module_name)\n\u001b[1;32m     29\u001b[0m \u001b[39mexcept\u001b[39;00m \u001b[39mImportError\u001b[39;00m \u001b[39mas\u001b[39;00m err:\n\u001b[1;32m     30\u001b[0m     \u001b[39mif\u001b[39;00m enable_debug_print:\n",
      "File \u001b[0;32m/usr/lib/python3.10/importlib/__init__.py:126\u001b[0m, in \u001b[0;36mimport_module\u001b[0;34m(name, package)\u001b[0m\n\u001b[1;32m    124\u001b[0m             \u001b[39mbreak\u001b[39;00m\n\u001b[1;32m    125\u001b[0m         level \u001b[39m+\u001b[39m\u001b[39m=\u001b[39m \u001b[39m1\u001b[39m\n\u001b[0;32m--> 126\u001b[0m \u001b[39mreturn\u001b[39;00m _bootstrap\u001b[39m.\u001b[39;49m_gcd_import(name[level:], package, level)\n",
      "File \u001b[0;32m/usr/local/lib/python3.10/dist-packages/cv2/typing/__init__.py:169\u001b[0m\n\u001b[1;32m    167\u001b[0m ExtractArgsCallback \u001b[39m=\u001b[39m typing\u001b[39m.\u001b[39mCallable[[typing\u001b[39m.\u001b[39mSequence[GTypeInfo]], typing\u001b[39m.\u001b[39mSequence[GRunArg]]\n\u001b[1;32m    168\u001b[0m ExtractMetaCallback \u001b[39m=\u001b[39m typing\u001b[39m.\u001b[39mCallable[[typing\u001b[39m.\u001b[39mSequence[GTypeInfo]], typing\u001b[39m.\u001b[39mSequence[GMetaArg]]\n\u001b[0;32m--> 169\u001b[0m LayerId \u001b[39m=\u001b[39m cv2\u001b[39m.\u001b[39;49mdnn\u001b[39m.\u001b[39;49mDictValue\n\u001b[1;32m    170\u001b[0m IndexParams \u001b[39m=\u001b[39m typing\u001b[39m.\u001b[39mDict[\u001b[39mstr\u001b[39m, typing\u001b[39m.\u001b[39mUnion[\u001b[39mbool\u001b[39m, \u001b[39mint\u001b[39m, \u001b[39mfloat\u001b[39m, \u001b[39mstr\u001b[39m]]\n\u001b[1;32m    171\u001b[0m SearchParams \u001b[39m=\u001b[39m typing\u001b[39m.\u001b[39mDict[\u001b[39mstr\u001b[39m, typing\u001b[39m.\u001b[39mUnion[\u001b[39mbool\u001b[39m, \u001b[39mint\u001b[39m, \u001b[39mfloat\u001b[39m, \u001b[39mstr\u001b[39m]]\n",
      "\u001b[0;31mAttributeError\u001b[0m: module 'cv2.dnn' has no attribute 'DictValue'"
     ]
    }
   ],
   "source": [
    "# extract frames in video \n",
    "path = \"/home/bean/DragVideo/Data_store/OLD/original_videos/person_speaking_original.mp4\"\n",
    "import cv2\n",
    "import os\n",
    "cam = cv2.VideoCapture(path)\n",
    "try:\n",
    "    # creating a folder named data\n",
    "    if not os.path.exists('data'):\n",
    "        os.makedirs('data')\n",
    "# if not created then raise error\n",
    "except OSError:\n",
    "    print ('Error: Creating directory of data')\n",
    "# frame\n",
    "currentframe = 0\n",
    "while(True):\n",
    "    # reading from frame\n",
    "    ret,frame = cam.read()\n",
    "    if ret:\n",
    "        # if video is still left continue creating images\n",
    "        name = './data/frame' + str(currentframe) + '.jpg'\n",
    "        print ('Creating...' + name)\n",
    "        # writing the extracted images\n",
    "        # cv2.imwrite(name, frame)\n",
    "        # increasing counter so that it will\n",
    "        # show how many frames are created\n",
    "        currentframe += 1\n",
    "    else:\n",
    "        break\n",
    "    \n",
    "# this is not working?\n",
    " "
   ]
  },
  {
   "cell_type": "code",
   "execution_count": null,
   "metadata": {},
   "outputs": [
    {
     "name": "stdout",
     "output_type": "stream",
     "text": [
      "Setting up [LPIPS] perceptual loss: trunk [alex], v[0.1], spatial [off]\n"
     ]
    },
    {
     "name": "stderr",
     "output_type": "stream",
     "text": [
      "/usr/local/lib/python3.10/dist-packages/torchvision/models/_utils.py:208: UserWarning: The parameter 'pretrained' is deprecated since 0.13 and may be removed in the future, please use 'weights' instead.\n",
      "  warnings.warn(\n",
      "/usr/local/lib/python3.10/dist-packages/torchvision/models/_utils.py:223: UserWarning: Arguments other than a weight enum or `None` for 'weights' are deprecated since 0.13 and may be removed in the future. The current behavior is equivalent to passing `weights=AlexNet_Weights.IMAGENET1K_V1`. You can also use `weights=AlexNet_Weights.DEFAULT` to get the most up-to-date weights.\n",
      "  warnings.warn(msg)\n"
     ]
    },
    {
     "name": "stdout",
     "output_type": "stream",
     "text": [
      "Loading model from: /usr/local/lib/python3.10/dist-packages/lpips/weights/v0.1/alex.pth\n",
      "current_directory:  /home/bean/DragVideo/DragGAN/_PTI\n",
      "current_directory:  /home/bean/DragVideo/DragGAN/_PTI\n"
     ]
    },
    {
     "name": "stderr",
     "output_type": "stream",
     "text": [
      "100%|██████████| 450/450 [00:00<00:00, 2767502.64it/s]\n"
     ]
    },
    {
     "name": "stdout",
     "output_type": "stream",
     "text": [
      "Exporting large updated pickle based off new generator and ffhq.pkl\n",
      "/home/bean/DragVideo/Data_store/experiments/2023-08-15_11-36-30test/tuned_SG/stylegan3_RRCKPZOHVBYM.pkl\n",
      "pwd /home/bean/DragVideo/DragGAN/_facial-landmarks-recognition\n",
      "sg_tuned_pkl: /home/bean/DragVideo/Data_store/experiments/2023-08-15_11-36-30test/tuned_SG/stylegan3_RRCKPZOHVBYM.pkl\n",
      "Done!\n"
     ]
    },
    {
     "data": {
      "text/plain": [
       "0"
      ]
     },
     "execution_count": 3,
     "metadata": {},
     "output_type": "execute_result"
    }
   ],
   "source": [
    "\n",
    "\n",
    "from utils.align_data import pre_process_images\n",
    "from scripts.run_pti import run_PTI\n",
    "\n",
    "from run_utils_2 import load_generators,export_updated_pickle\n",
    "from configs import paths_config\n",
    "\n",
    "use_multi_id_training = True\n",
    "model_id = run_PTI(use_wandb=False, use_multi_id_training=use_multi_id_training)\n",
    "\n",
    "\n",
    "generator_type =paths_config.multi_id_model_type if use_multi_id_training else \"__\"\n",
    "old_G, new_G = load_generators(model_id, generator_type)\n",
    "sg_tuned_pkl = export_updated_pickle(new_G,model_id,name = lazy_config[\"model_name\"])\n",
    "\n",
    "print(sg_tuned_pkl) # 'QBUXQCXZGWET'\n",
    "\n",
    "\n",
    "\n",
    "#get landmarks\n",
    "landmark_path = f\"{DRAGVIDEO_ROOT_PATH}DragVideo/DragGAN/_facial-landmarks-recognition\"\n",
    "os.chdir(landmark_path)\n",
    "print(\"pwd\",os.getcwd())\n",
    "import sys\n",
    "sys.path.append(landmark_path)\n",
    "\n",
    "from main import landmarks, dict_landmarks,show_landmarks,get_landmarks_dir\n",
    "\n",
    "# to store landmarks\n",
    "landmarks_dir =  os.path.join(Experiment_path,'landmarks')\n",
    "processed_images_dir =  os.path.join(Experiment_path,'aligned')\n",
    "\n",
    "# generate landmarks for all images in processed_images_dir\n",
    "get_landmarks_dir(processed_images_dir,landmarks_dir)\n",
    "\n",
    "\n",
    "# clean all data from gpu\n",
    "import torch\n",
    "torch.cuda.empty_cache()\n",
    "\n",
    "\n",
    "\n",
    "os.chdir(env_config[\"DragGAN_dir\"])\n",
    "import subprocess\n",
    "\n",
    "print(f\"sg_tuned_pkl: {sg_tuned_pkl}\")\n",
    "\n",
    "subprocess.call(['python', 'run_dragvideo.py', '--Experiment_path', Experiment_path, '--N_STEPS', lazy_config[\"N_STEPS_in_draggan\"], '--CHECKPOINT_PATH', sg_tuned_pkl])\n"
   ]
  },
  {
   "cell_type": "code",
   "execution_count": 27,
   "metadata": {},
   "outputs": [
    {
     "name": "stderr",
     "output_type": "stream",
     "text": [
      "100%|██████████| 1/1 [00:00<00:00,  1.17it/s]\n"
     ]
    }
   ],
   "source": [
    "from utils.align_data import pre_process_images\n",
    "\n",
    "raw_path = \"/home/bean/DragVideo/Data_store/delete/raw\"\n",
    "processed_path = \"/home/bean/DragVideo/Data_store/delete/processed\"\n",
    "pre_process_images(raw_path, save_output_path = processed_path)"
   ]
  },
  {
   "cell_type": "code",
   "execution_count": null,
   "metadata": {},
   "outputs": [],
   "source": []
  }
 ],
 "metadata": {
  "kernelspec": {
   "display_name": "Python 3 (ipykernel)",
   "language": "python",
   "name": "python3"
  },
  "language_info": {
   "codemirror_mode": {
    "name": "ipython",
    "version": 3
   },
   "file_extension": ".py",
   "mimetype": "text/x-python",
   "name": "python",
   "nbconvert_exporter": "python",
   "pygments_lexer": "ipython3",
   "version": "3.9.17"
  },
  "orig_nbformat": 4
 },
 "nbformat": 4,
 "nbformat_minor": 2
}
