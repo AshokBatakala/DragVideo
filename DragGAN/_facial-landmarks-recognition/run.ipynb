{
 "cells": [
  {
   "cell_type": "code",
   "execution_count": 1,
   "metadata": {},
   "outputs": [],
   "source": [
    "# taken from \n",
    "# https://github.com/italojs/facial-landmarks-recognition.git"
   ]
  },
  {
   "cell_type": "code",
   "execution_count": 2,
   "metadata": {},
   "outputs": [],
   "source": [
    "# Run in conda env : face_landmarks\n",
    "# !pip install numpy opencv-python dlib imutils matplotlib"
   ]
  },
  {
   "cell_type": "code",
   "execution_count": 4,
   "metadata": {},
   "outputs": [],
   "source": [
    "from main import landmarks, dict_landmarks,show_landmarks,get_landmarks_dir\n"
   ]
  },
  {
   "cell_type": "code",
   "execution_count": 5,
   "metadata": {},
   "outputs": [],
   "source": [
    "# image_path = \"/media/HDD_4T/ASHOK/facial-landmarks-recognition/245.jpg\"\n",
    "# shapes = landmarks(image_path)\n",
    "# shape = shapes[0]\n"
   ]
  },
  {
   "cell_type": "code",
   "execution_count": 6,
   "metadata": {},
   "outputs": [],
   "source": [
    "# show_landmarks(image_path, shape)"
   ]
  },
  {
   "cell_type": "code",
   "execution_count": 7,
   "metadata": {},
   "outputs": [],
   "source": [
    "# show_landmarks(image_path, shape[dict_landmarks['nose']])#[4:6])"
   ]
  },
  {
   "cell_type": "code",
   "execution_count": 8,
   "metadata": {},
   "outputs": [],
   "source": [
    "base_dir = \"/home/bean/DragVideo/\"\n",
    "\n",
    "landmarks_dir = base_dir+\"DragGAN/PTI_results/landmarks\"\n",
    "\n",
    "processed_images_dir = base_dir+\"PTI/data/processed_images\""
   ]
  },
  {
   "cell_type": "code",
   "execution_count": 9,
   "metadata": {},
   "outputs": [],
   "source": [
    "#load an image from processed_images\n",
    "import os\n",
    "image_names= os.listdir(processed_images_dir)"
   ]
  },
  {
   "cell_type": "code",
   "execution_count": 11,
   "metadata": {},
   "outputs": [
    {
     "name": "stdout",
     "output_type": "stream",
     "text": [
      "landmark_path:  /home/bean/DragVideo/DragGAN/PTI_results/landmarks/043.pkl\n",
      "landmark_path:  /home/bean/DragVideo/DragGAN/PTI_results/landmarks/120.pkl\n",
      "landmark_path:  /home/bean/DragVideo/DragGAN/PTI_results/landmarks/118.pkl\n",
      "landmark_path:  /home/bean/DragVideo/DragGAN/PTI_results/landmarks/028.pkl\n",
      "landmark_path:  /home/bean/DragVideo/DragGAN/PTI_results/landmarks/084.pkl\n",
      "landmark_path:  /home/bean/DragVideo/DragGAN/PTI_results/landmarks/119.pkl\n",
      "landmark_path:  /home/bean/DragVideo/DragGAN/PTI_results/landmarks/096.pkl\n",
      "landmark_path:  /home/bean/DragVideo/DragGAN/PTI_results/landmarks/079.pkl\n",
      "landmark_path:  /home/bean/DragVideo/DragGAN/PTI_results/landmarks/055.pkl\n",
      "landmark_path:  /home/bean/DragVideo/DragGAN/PTI_results/landmarks/112.pkl\n",
      "landmark_path:  /home/bean/DragVideo/DragGAN/PTI_results/landmarks/063.pkl\n",
      "landmark_path:  /home/bean/DragVideo/DragGAN/PTI_results/landmarks/001.pkl\n",
      "landmark_path:  /home/bean/DragVideo/DragGAN/PTI_results/landmarks/052.pkl\n",
      "landmark_path:  /home/bean/DragVideo/DragGAN/PTI_results/landmarks/061.pkl\n",
      "landmark_path:  /home/bean/DragVideo/DragGAN/PTI_results/landmarks/102.pkl\n",
      "landmark_path:  /home/bean/DragVideo/DragGAN/PTI_results/landmarks/041.pkl\n",
      "landmark_path:  /home/bean/DragVideo/DragGAN/PTI_results/landmarks/074.pkl\n",
      "landmark_path:  /home/bean/DragVideo/DragGAN/PTI_results/landmarks/088.pkl\n",
      "landmark_path:  /home/bean/DragVideo/DragGAN/PTI_results/landmarks/075.pkl\n",
      "landmark_path:  /home/bean/DragVideo/DragGAN/PTI_results/landmarks/036.pkl\n",
      "landmark_path:  /home/bean/DragVideo/DragGAN/PTI_results/landmarks/067.pkl\n",
      "landmark_path:  /home/bean/DragVideo/DragGAN/PTI_results/landmarks/054.pkl\n",
      "landmark_path:  /home/bean/DragVideo/DragGAN/PTI_results/landmarks/009.pkl\n",
      "landmark_path:  /home/bean/DragVideo/DragGAN/PTI_results/landmarks/012.pkl\n",
      "landmark_path:  /home/bean/DragVideo/DragGAN/PTI_results/landmarks/025.pkl\n",
      "landmark_path:  /home/bean/DragVideo/DragGAN/PTI_results/landmarks/027.pkl\n",
      "landmark_path:  /home/bean/DragVideo/DragGAN/PTI_results/landmarks/035.pkl\n",
      "landmark_path:  /home/bean/DragVideo/DragGAN/PTI_results/landmarks/081.pkl\n",
      "landmark_path:  /home/bean/DragVideo/DragGAN/PTI_results/landmarks/034.pkl\n",
      "landmark_path:  /home/bean/DragVideo/DragGAN/PTI_results/landmarks/065.pkl\n",
      "landmark_path:  /home/bean/DragVideo/DragGAN/PTI_results/landmarks/018.pkl\n",
      "landmark_path:  /home/bean/DragVideo/DragGAN/PTI_results/landmarks/064.pkl\n",
      "landmark_path:  /home/bean/DragVideo/DragGAN/PTI_results/landmarks/069.pkl\n",
      "landmark_path:  /home/bean/DragVideo/DragGAN/PTI_results/landmarks/072.pkl\n",
      "landmark_path:  /home/bean/DragVideo/DragGAN/PTI_results/landmarks/026.pkl\n",
      "landmark_path:  /home/bean/DragVideo/DragGAN/PTI_results/landmarks/076.pkl\n",
      "landmark_path:  /home/bean/DragVideo/DragGAN/PTI_results/landmarks/005.pkl\n",
      "landmark_path:  /home/bean/DragVideo/DragGAN/PTI_results/landmarks/091.pkl\n",
      "landmark_path:  /home/bean/DragVideo/DragGAN/PTI_results/landmarks/030.pkl\n",
      "landmark_path:  /home/bean/DragVideo/DragGAN/PTI_results/landmarks/077.pkl\n",
      "landmark_path:  /home/bean/DragVideo/DragGAN/PTI_results/landmarks/087.pkl\n",
      "landmark_path:  /home/bean/DragVideo/DragGAN/PTI_results/landmarks/019.pkl\n",
      "landmark_path:  /home/bean/DragVideo/DragGAN/PTI_results/landmarks/095.pkl\n",
      "landmark_path:  /home/bean/DragVideo/DragGAN/PTI_results/landmarks/104.pkl\n",
      "landmark_path:  /home/bean/DragVideo/DragGAN/PTI_results/landmarks/099.pkl\n",
      "landmark_path:  /home/bean/DragVideo/DragGAN/PTI_results/landmarks/051.pkl\n",
      "landmark_path:  /home/bean/DragVideo/DragGAN/PTI_results/landmarks/068.pkl\n",
      "landmark_path:  /home/bean/DragVideo/DragGAN/PTI_results/landmarks/004.pkl\n",
      "landmark_path:  /home/bean/DragVideo/DragGAN/PTI_results/landmarks/060.pkl\n",
      "landmark_path:  /home/bean/DragVideo/DragGAN/PTI_results/landmarks/089.pkl\n",
      "landmark_path:  /home/bean/DragVideo/DragGAN/PTI_results/landmarks/046.pkl\n",
      "landmark_path:  /home/bean/DragVideo/DragGAN/PTI_results/landmarks/042.pkl\n",
      "landmark_path:  /home/bean/DragVideo/DragGAN/PTI_results/landmarks/038.pkl\n",
      "landmark_path:  /home/bean/DragVideo/DragGAN/PTI_results/landmarks/010.pkl\n",
      "landmark_path:  /home/bean/DragVideo/DragGAN/PTI_results/landmarks/022.pkl\n",
      "landmark_path:  /home/bean/DragVideo/DragGAN/PTI_results/landmarks/031.pkl\n",
      "landmark_path:  /home/bean/DragVideo/DragGAN/PTI_results/landmarks/070.pkl\n",
      "landmark_path:  /home/bean/DragVideo/DragGAN/PTI_results/landmarks/109.pkl\n",
      "landmark_path:  /home/bean/DragVideo/DragGAN/PTI_results/landmarks/059.pkl\n",
      "landmark_path:  /home/bean/DragVideo/DragGAN/PTI_results/landmarks/050.pkl\n",
      "landmark_path:  /home/bean/DragVideo/DragGAN/PTI_results/landmarks/083.pkl\n",
      "landmark_path:  /home/bean/DragVideo/DragGAN/PTI_results/landmarks/045.pkl\n",
      "landmark_path:  /home/bean/DragVideo/DragGAN/PTI_results/landmarks/024.pkl\n",
      "landmark_path:  /home/bean/DragVideo/DragGAN/PTI_results/landmarks/057.pkl\n",
      "landmark_path:  /home/bean/DragVideo/DragGAN/PTI_results/landmarks/117.pkl\n",
      "landmark_path:  /home/bean/DragVideo/DragGAN/PTI_results/landmarks/113.pkl\n",
      "landmark_path:  /home/bean/DragVideo/DragGAN/PTI_results/landmarks/093.pkl\n",
      "landmark_path:  /home/bean/DragVideo/DragGAN/PTI_results/landmarks/017.pkl\n",
      "landmark_path:  /home/bean/DragVideo/DragGAN/PTI_results/landmarks/053.pkl\n",
      "landmark_path:  /home/bean/DragVideo/DragGAN/PTI_results/landmarks/108.pkl\n",
      "landmark_path:  /home/bean/DragVideo/DragGAN/PTI_results/landmarks/090.pkl\n",
      "landmark_path:  /home/bean/DragVideo/DragGAN/PTI_results/landmarks/029.pkl\n",
      "landmark_path:  /home/bean/DragVideo/DragGAN/PTI_results/landmarks/040.pkl\n",
      "landmark_path:  /home/bean/DragVideo/DragGAN/PTI_results/landmarks/056.pkl\n",
      "landmark_path:  /home/bean/DragVideo/DragGAN/PTI_results/landmarks/039.pkl\n",
      "landmark_path:  /home/bean/DragVideo/DragGAN/PTI_results/landmarks/106.pkl\n",
      "landmark_path:  /home/bean/DragVideo/DragGAN/PTI_results/landmarks/015.pkl\n",
      "landmark_path:  /home/bean/DragVideo/DragGAN/PTI_results/landmarks/007.pkl\n",
      "landmark_path:  /home/bean/DragVideo/DragGAN/PTI_results/landmarks/049.pkl\n",
      "landmark_path:  /home/bean/DragVideo/DragGAN/PTI_results/landmarks/014.pkl\n",
      "landmark_path:  /home/bean/DragVideo/DragGAN/PTI_results/landmarks/103.pkl\n",
      "landmark_path:  /home/bean/DragVideo/DragGAN/PTI_results/landmarks/020.pkl\n",
      "landmark_path:  /home/bean/DragVideo/DragGAN/PTI_results/landmarks/032.pkl\n",
      "landmark_path:  /home/bean/DragVideo/DragGAN/PTI_results/landmarks/111.pkl\n",
      "landmark_path:  /home/bean/DragVideo/DragGAN/PTI_results/landmarks/098.pkl\n",
      "landmark_path:  /home/bean/DragVideo/DragGAN/PTI_results/landmarks/013.pkl\n",
      "landmark_path:  /home/bean/DragVideo/DragGAN/PTI_results/landmarks/100.pkl\n",
      "landmark_path:  /home/bean/DragVideo/DragGAN/PTI_results/landmarks/110.pkl\n",
      "landmark_path:  /home/bean/DragVideo/DragGAN/PTI_results/landmarks/097.pkl\n",
      "landmark_path:  /home/bean/DragVideo/DragGAN/PTI_results/landmarks/105.pkl\n",
      "landmark_path:  /home/bean/DragVideo/DragGAN/PTI_results/landmarks/021.pkl\n",
      "landmark_path:  /home/bean/DragVideo/DragGAN/PTI_results/landmarks/086.pkl\n",
      "landmark_path:  /home/bean/DragVideo/DragGAN/PTI_results/landmarks/062.pkl\n",
      "landmark_path:  /home/bean/DragVideo/DragGAN/PTI_results/landmarks/033.pkl\n",
      "landmark_path:  /home/bean/DragVideo/DragGAN/PTI_results/landmarks/116.pkl\n",
      "landmark_path:  /home/bean/DragVideo/DragGAN/PTI_results/landmarks/071.pkl\n",
      "landmark_path:  /home/bean/DragVideo/DragGAN/PTI_results/landmarks/016.pkl\n",
      "landmark_path:  /home/bean/DragVideo/DragGAN/PTI_results/landmarks/047.pkl\n",
      "landmark_path:  /home/bean/DragVideo/DragGAN/PTI_results/landmarks/002.pkl\n",
      "landmark_path:  /home/bean/DragVideo/DragGAN/PTI_results/landmarks/023.pkl\n",
      "landmark_path:  /home/bean/DragVideo/DragGAN/PTI_results/landmarks/107.pkl\n",
      "landmark_path:  /home/bean/DragVideo/DragGAN/PTI_results/landmarks/101.pkl\n",
      "landmark_path:  /home/bean/DragVideo/DragGAN/PTI_results/landmarks/078.pkl\n",
      "landmark_path:  /home/bean/DragVideo/DragGAN/PTI_results/landmarks/008.pkl\n",
      "landmark_path:  /home/bean/DragVideo/DragGAN/PTI_results/landmarks/000.pkl\n",
      "landmark_path:  /home/bean/DragVideo/DragGAN/PTI_results/landmarks/006.pkl\n",
      "landmark_path:  /home/bean/DragVideo/DragGAN/PTI_results/landmarks/037.pkl\n",
      "landmark_path:  /home/bean/DragVideo/DragGAN/PTI_results/landmarks/048.pkl\n",
      "landmark_path:  /home/bean/DragVideo/DragGAN/PTI_results/landmarks/011.pkl\n",
      "landmark_path:  /home/bean/DragVideo/DragGAN/PTI_results/landmarks/058.pkl\n",
      "landmark_path:  /home/bean/DragVideo/DragGAN/PTI_results/landmarks/080.pkl\n",
      "landmark_path:  /home/bean/DragVideo/DragGAN/PTI_results/landmarks/044.pkl\n",
      "landmark_path:  /home/bean/DragVideo/DragGAN/PTI_results/landmarks/066.pkl\n",
      "landmark_path:  /home/bean/DragVideo/DragGAN/PTI_results/landmarks/114.pkl\n",
      "landmark_path:  /home/bean/DragVideo/DragGAN/PTI_results/landmarks/085.pkl\n",
      "landmark_path:  /home/bean/DragVideo/DragGAN/PTI_results/landmarks/073.pkl\n",
      "landmark_path:  /home/bean/DragVideo/DragGAN/PTI_results/landmarks/094.pkl\n",
      "landmark_path:  /home/bean/DragVideo/DragGAN/PTI_results/landmarks/115.pkl\n",
      "landmark_path:  /home/bean/DragVideo/DragGAN/PTI_results/landmarks/082.pkl\n",
      "landmark_path:  /home/bean/DragVideo/DragGAN/PTI_results/landmarks/092.pkl\n",
      "landmark_path:  /home/bean/DragVideo/DragGAN/PTI_results/landmarks/003.pkl\n"
     ]
    }
   ],
   "source": [
    "get_landmarks_dir(processed_images_dir,landmarks_dir)\n"
   ]
  },
  {
   "cell_type": "code",
   "execution_count": null,
   "metadata": {},
   "outputs": [],
   "source": [
    "path = \"/home/bean/DragVideo/DragGAN/PTI_results/landmarks/043.pkl\"\n"
   ]
  },
  {
   "cell_type": "markdown",
   "metadata": {},
   "source": [
    "# combine photos"
   ]
  },
  {
   "cell_type": "code",
   "execution_count": 6,
   "metadata": {},
   "outputs": [],
   "source": [
    "import matplotlib.pyplot as plt\n",
    "import cv2\n",
    "import os\n",
    "\n",
    "# combine photos next to each other horizontally\n",
    "def hconcat_resize_min(im_list, interpolation=cv2.INTER_CUBIC):\n",
    "    h_min = min(im.shape[0] for im in im_list)\n",
    "    im_list_resize = [cv2.resize(im, (int(im.shape[1] * h_min / im.shape[0]), h_min), interpolation=interpolation)\n",
    "                      for im in im_list]\n",
    "    return cv2.hconcat(im_list_resize)\n",
    "\n",
    "def get_images_from_dir(dir_path):\n",
    "    image_names= os.listdir(dir_path)\n",
    "    # remove any text files\n",
    "    image_names = [image_name for image_name in image_names if image_name.split('.')[-1] in ['jpg','png']]\n",
    "    images = []\n",
    "    names_list = []\n",
    "    for image_name in image_names:\n",
    "        image_path = os.path.join(dir_path,image_name)\n",
    "        image = cv2.imread(image_path)\n",
    "        images.append(image)\n",
    "        names_list.append(image_name.split('.')[0])\n",
    "    return images,names_list\n",
    "\n",
    "def show_image(combined_image,names_list):\n",
    "    plt.imshow(combined_image[:,:,::-1])\n",
    "    # get name by combining all the names\n",
    "    name = '  '.join(names_list)\n",
    "    # plt.title(name)\n",
    "    print(name\t)\n",
    "    plt.axis('off')\n",
    "    plt.show()\n",
    "\n",
    "def full_pipeline(dir_path):\n",
    "    images,names_list = get_images_from_dir(dir_path)\n",
    "    combined_image = hconcat_resize_min(images)\n",
    "    # show_image(combined_image,names_list)\n",
    "    name = '='.join(names_list)\n",
    "    save_dir = \"combined_images\"\n",
    "    #make dir if not exists\n",
    "    if not os.path.exists(save_dir):\n",
    "        os.makedirs(save_dir)\n",
    "        \n",
    "    cv2.imwrite(os.path.join(save_dir,name+'.jpg'),combined_image)\n",
    "    # return combined_image,names_list"
   ]
  },
  {
   "cell_type": "code",
   "execution_count": 8,
   "metadata": {},
   "outputs": [
    {
     "name": "stdout",
     "output_type": "stream",
     "text": [
      "10\n",
      "11\n",
      "1st_try\n",
      "2nd_try\n",
      "3rd_try\n",
      "4th_try\n",
      "5th_try\n",
      "6th_try\n",
      "7th_try\n",
      "8th_try\n",
      "9th_try\n"
     ]
    }
   ],
   "source": [
    "parent_dir= \"/home/bean/DragVideo/DragGAN/_facial-landmarks-recognition/extreme_deform\"\n",
    "sub_dirs = os.listdir(parent_dir)\n",
    "for sub_dir in sub_dirs:\n",
    "    dir_path = os.path.join(parent_dir,sub_dir)\n",
    "    print(sub_dir)\n",
    "    full_pipeline(dir_path)"
   ]
  },
  {
   "cell_type": "code",
   "execution_count": 15,
   "metadata": {},
   "outputs": [],
   "source": [
    "import matplotlib.pyplot as plt\n",
    "\n",
    "def show_image(combined_image,names_list):\n",
    "    plt.imshow(combined_image[:,:,::-1])\n",
    "    # get name by combining all the names\n",
    "    name = '  '.join(names_list)\n",
    "    plt.title(name)\n",
    "    plt.axis('off')\n",
    "    plt.show()\n"
   ]
  },
  {
   "cell_type": "code",
   "execution_count": null,
   "metadata": {},
   "outputs": [],
   "source": []
  }
 ],
 "metadata": {
  "kernelspec": {
   "display_name": "Python 3",
   "language": "python",
   "name": "python3"
  },
  "language_info": {
   "codemirror_mode": {
    "name": "ipython",
    "version": 3
   },
   "file_extension": ".py",
   "mimetype": "text/x-python",
   "name": "python",
   "nbconvert_exporter": "python",
   "pygments_lexer": "ipython3",
   "version": "3.9.17"
  },
  "orig_nbformat": 4
 },
 "nbformat": 4,
 "nbformat_minor": 2
}
